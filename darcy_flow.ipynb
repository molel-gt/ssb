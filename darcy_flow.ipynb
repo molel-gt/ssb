{
 "cells": [
  {
   "cell_type": "code",
   "execution_count": 1,
   "id": "38b8cbe9-ce27-4f5a-84cf-fea63c0a2738",
   "metadata": {},
   "outputs": [],
   "source": [
    "import matplotlib.pyplot as plt\n",
    "import numpy as np\n",
    "import scipy.special as sp\n",
    "import sympy\n",
    "\n",
    "import mpmath\n",
    "\n",
    "from matplotlib import rc\n",
    "\n",
    "import utils\n",
    "\n",
    "mpmath.mp.dps = 25"
   ]
  },
  {
   "cell_type": "code",
   "execution_count": 2,
   "id": "d94ebddc-6db0-424d-b215-1f29132b87e9",
   "metadata": {},
   "outputs": [],
   "source": [
    "labelsize = 14\n",
    "figsize = (5, 4.5)\n",
    "ext = \"eps\"\n",
    "rc('font', **{'family': 'serif', 'serif': ['Computer Modern']})\n",
    "rc('text', usetex=True)\n",
    "params = {\n",
    "    'figure.figsize': figsize,\n",
    "    'font.size' : 12,\n",
    "    'axes.labelsize': labelsize,\n",
    "    'legend.fontsize': 12,\n",
    "}\n",
    "plt.rcParams.update(params)\n",
    "workdir = 'figures/conduit_flow'\n",
    "utils.make_dir_if_missing(workdir)"
   ]
  },
  {
   "cell_type": "code",
   "execution_count": 3,
   "id": "72b535b5-5364-4593-a95c-ba11903e89a6",
   "metadata": {},
   "outputs": [],
   "source": [
    "def get_schwarz_christoffel_parameters(s_over_w, h_over_w):\n",
    "    t = h_over_w\n",
    "    s = s_over_w\n",
    "    # imaginary quarter period\n",
    "    K1 = 1 + s/2\n",
    "\n",
    "    # real quarter period                                                            \n",
    "    K2 = t\n",
    "\n",
    "    # rectangle length = 2(w + s/2)\n",
    "    Krat = 2*K2/K1\n",
    "\n",
    "    # elliptic nome\n",
    "    q = np.exp(-np.pi*Krat)\n",
    "\n",
    "    # inverse elliptic nome - solve for k\n",
    "    k = float(mpmath.kfrom(q=q))\n",
    "\n",
    "    # solve for dimensions\n",
    "    K = mpmath.ellipk(k**2)\n",
    "\n",
    "    # L = 2 * K\n",
    "    # h = mpmath.ellipk(1 - k**2)\n",
    "    # s = s_over_w / h_over_w * h\n",
    "    # b = 1/k\n",
    "    # u = 0.5 * s\n",
    "    # a = mpmath.ellipfun('sn', u=u, q=q)\n",
    "    # A = 2e-5/(0.5*(L - s))\n",
    "\n",
    "    Cf = K1/2/K\n",
    "    z1 = -K1/2 + K2*1j;\n",
    "    z2 =  -K1/2 #+ 1\n",
    "    z3 =  K1/2 - 1\n",
    "    z4 = K1/2 #+ K2*1j\n",
    "    # print(z1, z2, z3, z4)\n",
    "\n",
    "    za = mpmath.ellipfun('sn', u=z1/Cf, q=q)\n",
    "    zb = mpmath.ellipfun('sn', u=z2/Cf, q=q)\n",
    "    zc = mpmath.ellipfun('sn', u=z3/Cf, q=q)\n",
    "    zd = mpmath.ellipfun('sn', u=z4/Cf, q=q)\n",
    "    Dv = np.real((zc - za)/(zc - zb) / ((zd - za)/(zd - zb)))\n",
    "    m2 = float(np.real((np.sqrt(Dv) - np.sqrt(Dv - 1)) ** 4))\n",
    "\n",
    "    Krat2 = mpmath.ellipk(1 - m2)/sp.ellipk(m2)\n",
    "    resist = 4/Krat2\n",
    "\n",
    "    return resist"
   ]
  },
  {
   "cell_type": "code",
   "execution_count": 4,
   "id": "dec8a258-b2f4-4bcb-8081-9f63aa999cec",
   "metadata": {},
   "outputs": [
    {
     "data": {
      "text/plain": [
       "mpf('0.5036208563974017960483497496')"
      ]
     },
     "execution_count": 4,
     "metadata": {},
     "output_type": "execute_result"
    }
   ],
   "source": [
    "get_schwarz_christoffel_parameters(s_over_w=0.01, h_over_w=10)"
   ]
  },
  {
   "cell_type": "code",
   "execution_count": 5,
   "id": "4da4dd61-1d61-471c-916f-84a787a6667a",
   "metadata": {},
   "outputs": [],
   "source": [
    "h_over_ws = [0.01, 0.1, 1.0, 2.0, 10]\n",
    "s_over_ws = np.arange(0.01, 10.01, step=0.01)"
   ]
  },
  {
   "cell_type": "code",
   "execution_count": 6,
   "id": "c240d9eb-5c2d-431d-b047-68706915a7d6",
   "metadata": {},
   "outputs": [],
   "source": [
    "def get_chi_im_max(a):\n",
    "    x = sympy.Symbol('x', real=True)\n",
    "    integ = sympy.Integral(1/((x**2 - 1) * (x**2 - a**2)) ** 0.5, (x, -1, a)).evalf()\n",
    "    re = sympy.re(integ)\n",
    "    im = sympy.im(integ)\n",
    "\n",
    "    return re\n",
    "\n",
    "\n",
    "def Rtilde(a, b, A=1, prefactor=1):\n",
    "    \"\"\"\n",
    "    Dimensionless flow rate\n",
    "    \"\"\"\n",
    "    chi_im_max = get_chi_im_max(a)\n",
    "    x = sympy.Symbol('x', real=True)\n",
    "    integ = (1/A) * sympy.Integral(((b**2 - x**2) ** 0.5) / ((x**2 - a ** 2) ** 0.5), (x, a, 1)).evalf()\n",
    "    re = sympy.re(integ)\n",
    "    im = sympy.im(integ)\n",
    "    r_non_dim = prefactor * chi_im_max / re\n",
    "    if not r_non_dim.is_real:\n",
    "        return np.nan\n",
    "    return r_non_dim"
   ]
  },
  {
   "cell_type": "code",
   "execution_count": 7,
   "id": "742b38ca-eb2a-4b13-8937-1c6a1b60ea79",
   "metadata": {},
   "outputs": [
    {
     "name": "stderr",
     "output_type": "stream",
     "text": [
      "The PostScript backend does not support transparency; partially transparent artists will be rendered opaque.\n"
     ]
    },
    {
     "data": {
      "image/png": "[encoded data removed]",
      "text/plain": [
       "<Figure size 500x450 with 1 Axes>"
      ]
     },
     "metadata": {},
     "output_type": "display_data"
    }
   ],
   "source": [
    "fig, ax = plt.subplots()\n",
    "for t_over_w in h_over_ws:\n",
    "    rtildes = []\n",
    "    for s_over_w in s_over_ws:\n",
    "        try:\n",
    "            rtilde = get_schwarz_christoffel_parameters(s_over_w=s_over_w, h_over_w=t_over_w)\n",
    "        except Exception as e:\n",
    "            rtilde = np.nan\n",
    "        rtildes.append(rtilde)\n",
    "    ax.plot(s_over_ws, rtildes, label=f'{t_over_w}')\n",
    "ax.legend(title=r'$\\frac{t}{w}$');\n",
    "ax.set_box_aspect(1);\n",
    "ax.set_xlabel(r'$\\frac{s}{w}$');\n",
    "ax.set_ylabel(r'$\\tilde{R}$');\n",
    "ax.minorticks_on();\n",
    "ax.tick_params(axis=\"both\", which=\"both\", direction=\"in\")\n",
    "ax.semilogx();\n",
    "ax.semilogy();\n",
    "plt.tight_layout();\n",
    "plt.savefig(f'{workdir}/rtilde-new.{ext}', format=ext);"
   ]
  },
  {
   "cell_type": "code",
   "execution_count": null,
   "id": "a01fe6e4-b30f-4bfe-b06a-c7a7572fc56b",
   "metadata": {},
   "outputs": [],
   "source": []
  }
 ],
 "metadata": {
  "kernelspec": {
   "display_name": "Python [conda env:fea-env] *",
   "language": "python",
   "name": "conda-env-fea-env-py"
  },
  "language_info": {
   "codemirror_mode": {
    "name": "ipython",
    "version": 3
   },
   "file_extension": ".py",
   "mimetype": "text/x-python",
   "name": "python",
   "nbconvert_exporter": "python",
   "pygments_lexer": "ipython3",
   "version": "3.12.3"
  }
 },
 "nbformat": 4,
 "nbformat_minor": 5
}
