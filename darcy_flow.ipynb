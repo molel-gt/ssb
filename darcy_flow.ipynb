{
 "cells": [
  {
   "cell_type": "code",
   "execution_count": 4,
   "id": "38b8cbe9-ce27-4f5a-84cf-fea63c0a2738",
   "metadata": {},
   "outputs": [],
   "source": [
    "import json\n",
    "import os\n",
    "\n",
    "import matplotlib.pyplot as plt\n",
    "import numpy as np\n",
    "import pandas as pd\n",
    "import scipy.special as sp\n",
    "import sympy\n",
    "\n",
    "import mpmath\n",
    "\n",
    "from matplotlib import rc\n",
    "\n",
    "import utils\n",
    "\n",
    "mpmath.mp.dps = 1700\n",
    "# mpmath.mp.prec = 256"
   ]
  },
  {
   "cell_type": "code",
   "execution_count": 5,
   "id": "d94ebddc-6db0-424d-b215-1f29132b87e9",
   "metadata": {},
   "outputs": [],
   "source": [
    "labelsize = 14\n",
    "figsize = (5, 4.5)\n",
    "ext = \"eps\"\n",
    "rc('font', **{'family': 'serif', 'serif': ['Computer Modern']})\n",
    "rc('text', usetex=True)\n",
    "params = {\n",
    "    'figure.figsize': figsize,\n",
    "    'font.size' : 12,\n",
    "    'axes.labelsize': labelsize,\n",
    "    'legend.fontsize': 12,\n",
    "}\n",
    "plt.rcParams.update(params)\n",
    "workdir = 'figures/conduit_flow'\n",
    "utils.make_dir_if_missing(workdir)"
   ]
  },
  {
   "cell_type": "code",
   "execution_count": 6,
   "id": "ecd7d599-e017-4533-9f9d-0e2a9be73b34",
   "metadata": {},
   "outputs": [
    {
     "name": "stderr",
     "output_type": "stream",
     "text": [
      "The PostScript backend does not support transparency; partially transparent artists will be rendered opaque.\n"
     ]
    },
    {
     "data": {
      "image/png": "[encoded data removed]",
      "text/plain": [
       "<Figure size 500x450 with 1 Axes>"
      ]
     },
     "metadata": {},
     "output_type": "display_data"
    }
   ],
   "source": [
    "sim_jsons = !find output/conduit_flow -name simulation.json\n",
    "rows = []\n",
    "for f in sim_jsons:\n",
    "    with open(f, \"r\") as fp:\n",
    "        data = json.load(fp)\n",
    "    rows.append(data)\n",
    "df = pd.DataFrame(rows)\n",
    "df.head()\n",
    "df.sort_values(by=['h/w', 's/w'], inplace=True)\n",
    "\n",
    "fig, ax = plt.subplots()\n",
    "for h_w in [0.01, 0.1, 1.0, 2.0, 10.0]:\n",
    "    df_seg = df[np.isclose(df['h/w'], h_w)]\n",
    "    # h_w = df_seg['h/w'].to_numpy()[0]\n",
    "    ax.plot(df_seg['s/w'], df_seg['rtilde in'], label=h_w)\n",
    "\n",
    "ax.legend(title=r'$\\frac{t}{w}$');\n",
    "ax.set_box_aspect(1);\n",
    "ax.set_xlabel(r'$\\frac{s}{w}$');\n",
    "ax.set_ylabel(r'$\\tilde{R}$');\n",
    "ax.minorticks_on();\n",
    "ax.tick_params(axis=\"both\", which=\"both\", direction=\"in\")\n",
    "ax.semilogx();\n",
    "ax.semilogy();\n",
    "plt.tight_layout();\n",
    "plt.savefig(f'{workdir}/rtilde-fea.{ext}', format=ext);"
   ]
  },
  {
   "cell_type": "code",
   "execution_count": 12,
   "id": "72b535b5-5364-4593-a95c-ba11903e89a6",
   "metadata": {},
   "outputs": [],
   "source": [
    "def get_schwarz_christoffel_parameters(s_over_w, h_over_w):\n",
    "    t = h_over_w\n",
    "    s = s_over_w\n",
    "    # imaginary quarter period\n",
    "    K1 = 1 + s/2\n",
    "\n",
    "    # real quarter period                                                            \n",
    "    K2 = t\n",
    "\n",
    "    # rectangle length = 2(w + s/2)\n",
    "    Krat = 2*K2/K1\n",
    "\n",
    "    # elliptic nome\n",
    "    q = np.exp(-np.pi*Krat)\n",
    "\n",
    "    # inverse elliptic nome - solve for k\n",
    "    k = float(mpmath.kfrom(q=q))\n",
    "\n",
    "    # solve for dimensions\n",
    "    K = mpmath.ellipk(k**2)\n",
    "\n",
    "    Cf = K1/2/K\n",
    "    z1 = -K1/2 + K2*1j;\n",
    "    z2 =  -K1/2\n",
    "    z3 =  K1/2 - 1\n",
    "    z4 = K1/2\n",
    "\n",
    "    za = mpmath.ellipfun('sn', u=z1/Cf, q=q)\n",
    "    zb = mpmath.ellipfun('sn', u=z2/Cf, q=q)\n",
    "    zc = mpmath.ellipfun('sn', u=z3/Cf, q=q)\n",
    "    zd = mpmath.ellipfun('sn', u=z4/Cf, q=q)\n",
    "    Dv = np.real((zc - za)/(zc - zb) / ((zd - za)/(zd - zb)))\n",
    "    m2 = float(np.real((np.sqrt(Dv) - np.sqrt(Dv - 1)) ** 4))\n",
    "\n",
    "    Krat2 = mpmath.ellipk(1 - m2)/sp.ellipk(m2)\n",
    "\n",
    "    resist = 4/Krat2\n",
    "\n",
    "    return resist"
   ]
  },
  {
   "cell_type": "code",
   "execution_count": 7,
   "id": "2b4be89a-7613-45cc-b839-f64182a0f3da",
   "metadata": {},
   "outputs": [],
   "source": [
    "def dimensionless_resistance(s_w, h_w):\n",
    "    Krat = h_w / (s_w + 2.0)\n",
    "    # print(Krat)\n",
    "    q = np.exp(-np.pi*Krat)\n",
    "    # k = mpmath.kfrom(q=q)\n",
    "    k = mpmath.jtheta(n=2, z=0, q=q)**2/mpmath.jtheta(n=3, z=0, q=q) ** 2\n",
    "\n",
    "    K = mpmath.ellipk(k**2)\n",
    "\n",
    "    # correction factor\n",
    "    Cf = (s_w + 2.0)/K\n",
    "\n",
    "    K_re = s_w + 2\n",
    "    K_im = h_w\n",
    "\n",
    "    z1 = 0.0\n",
    "    z2 = 1.0\n",
    "    z3 = 1.0 + s_w\n",
    "    z4 = K_re\n",
    "\n",
    "    za = mpmath.ellipfun('sn', u=z1/Cf, q=q)\n",
    "    zb = mpmath.ellipfun('sn', u=z2/Cf, q=q)\n",
    "    zc = mpmath.ellipfun('sn', u=z3/Cf, q=q)\n",
    "    zd = mpmath.ellipfun('sn', u=z4/Cf, q=q)\n",
    "\n",
    "    l2 = (zd**2 - zc**2)*(za**2 - zb**2)/((za**2 - zc**2)*(zd**2 - zb**2))\n",
    "    resistance = mpmath.ellipk(1 - l2)/mpmath.ellipk(l2)\n",
    "\n",
    "    return float(resistance)"
   ]
  },
  {
   "cell_type": "code",
   "execution_count": 8,
   "id": "1a2faea0-8555-4b4b-8400-7567a39764ca",
   "metadata": {},
   "outputs": [],
   "source": [
    "def non_dimensional_resistance(s_w, h_w):\n",
    "    Krat = h_w / (s_w + 2.0)\n",
    "    # print(Krat)\n",
    "    q = np.exp(-np.pi*Krat)\n",
    "    # k = mpmath.kfrom(q=q)\n",
    "    k = mpmath.jtheta(n=2, z=0, q=q)**2/mpmath.jtheta(n=3, z=0, q=q) ** 2\n",
    "\n",
    "    K = mpmath.ellipk(k**2)\n",
    "\n",
    "    # correction factor\n",
    "    Cf = (s_w + 2.0)/K\n",
    "\n",
    "    K_re = s_w + 2\n",
    "    K_im = h_w\n",
    "\n",
    "    z1 = 0.0\n",
    "    z2 = 1.0\n",
    "    z3 = 1.0 + s_w\n",
    "    z4 = K_re\n",
    "\n",
    "    za = abs(float(mpmath.ellipfun('sn', u=z1/Cf, q=q)))\n",
    "    zb = float(mpmath.ellipfun('sn', u=z2/Cf, q=q))\n",
    "    zc = float(mpmath.ellipfun('sn', u=z3/Cf, q=q))\n",
    "    zd = float(mpmath.ellipfun('sn', u=z4/Cf, q=q))\n",
    "    print(f\"t1: {za}, t2: {zb}, t3: {zc}, t4: {zd}\")\n",
    "\n",
    "    x = sympy.Symbol('x')\n",
    "    Xi_re = sympy.im(sympy.Integral(1/((x-za)*(x-zb)*(x-zc)*(x-zd))**0.5, (x, za, zb)).evalf())\n",
    "    Xi_im = sympy.re(sympy.Integral(1/((x-za)*(x-zb)*(x-zc)*(x-zd))**0.5, (x, zb, zc)).evalf())\n",
    "\n",
    "    return abs(Xi_im/Xi_re)"
   ]
  },
  {
   "cell_type": "code",
   "execution_count": 49,
   "id": "e606584e-1e02-48fb-93cb-6868bfc7326f",
   "metadata": {},
   "outputs": [
    {
     "data": {
      "text/plain": [
       "0.517585463511848"
      ]
     },
     "execution_count": 49,
     "metadata": {},
     "output_type": "execute_result"
    }
   ],
   "source": [
    "dimensionless_resistance(s_w=0.01, h_w=1)"
   ]
  },
  {
   "cell_type": "code",
   "execution_count": 11,
   "id": "41f36fb0-9d4a-4f19-8a82-63fa48c9590e",
   "metadata": {},
   "outputs": [
    {
     "name": "stdout",
     "output_type": "stream",
     "text": [
      "t1: 0.0, t2: 0.9236752136382036, t3: 0.926147520961329, t4: 1.0\n"
     ]
    },
    {
     "data": {
      "text/latex": [
       "$\\displaystyle 0.514343028823238$"
      ],
      "text/plain": [
       "0.514343028823238"
      ]
     },
     "execution_count": 11,
     "metadata": {},
     "output_type": "execute_result"
    }
   ],
   "source": [
    "non_dimensional_resistance(s_w=0.01, h_w=1)"
   ]
  },
  {
   "cell_type": "code",
   "execution_count": 18,
   "id": "ef40b156-2414-4f11-b664-7d7523cfa1af",
   "metadata": {},
   "outputs": [
    {
     "data": {
      "text/plain": [
       "(-23.1782626933117*I, -23.1782626933117*I, 11.9215778365386)"
      ]
     },
     "execution_count": 18,
     "metadata": {},
     "output_type": "execute_result"
    }
   ],
   "source": [
    "x = sympy.Symbol('x')\n",
    "t1 = 0\n",
    "t2 = 0.9236752136382036\n",
    "t3 = 0.926147520961329\n",
    "t4 = 1.0\n",
    "integ = sympy.Integral(1/((x-0)*(x-t2)*(x-t3)*(x-t4))**0.5, (x, t1, t2))\n",
    "integ1 = sympy.Integral(1/((x-0)*(x-t2)*(x-t3)*(x-t4))**0.5, (x, t3, t4))\n",
    "integ2 = sympy.Integral(1/((x-0)*(x-t2)*(x-t3)*(x-t4))**0.5, (x, t2, t3))\n",
    "integ.evalf(), integ1.evalf(), integ2.evalf()"
   ]
  },
  {
   "cell_type": "code",
   "execution_count": 8,
   "id": "4da4dd61-1d61-471c-916f-84a787a6667a",
   "metadata": {},
   "outputs": [],
   "source": [
    "h_over_ws = [0.01, 0.1, 1.0, 2.0, 10]\n",
    "s_over_ws = np.arange(0.01, 10.01, step=0.01)"
   ]
  },
  {
   "cell_type": "code",
   "execution_count": 9,
   "id": "742b38ca-eb2a-4b13-8937-1c6a1b60ea79",
   "metadata": {},
   "outputs": [
    {
     "name": "stderr",
     "output_type": "stream",
     "text": [
      "The PostScript backend does not support transparency; partially transparent artists will be rendered opaque.\n"
     ]
    },
    {
     "data": {
      "image/png": "[encoded data removed]",
      "text/plain": [
       "<Figure size 500x450 with 1 Axes>"
      ]
     },
     "metadata": {},
     "output_type": "display_data"
    }
   ],
   "source": [
    "fig, ax = plt.subplots()\n",
    "for t_over_w in h_over_ws:\n",
    "    rtildes = []\n",
    "    for s_over_w in s_over_ws:\n",
    "        try:\n",
    "            # rtilde = get_schwarz_christoffel_parameters(s_over_w=s_over_w, h_over_w=t_over_w)\n",
    "            rtilde = dimensionless_resistance(s_w=s_over_w, h_w=t_over_w)\n",
    "        except Exception as e:\n",
    "            rtilde = np.nan\n",
    "        rtildes.append(rtilde)\n",
    "    ax.plot(s_over_ws, rtildes, label=f'{t_over_w}')\n",
    "ax.legend(title=r'$\\frac{t}{w}$');\n",
    "ax.set_box_aspect(1);\n",
    "ax.set_xlabel(r'$\\frac{s}{w}$');\n",
    "ax.set_ylabel(r'$\\tilde{R}$');\n",
    "ax.minorticks_on();\n",
    "ax.tick_params(axis=\"both\", which=\"both\", direction=\"in\")\n",
    "ax.semilogx();\n",
    "ax.semilogy();\n",
    "plt.tight_layout();\n",
    "plt.savefig(f'{workdir}/rtilde-new.{ext}', format=ext);"
   ]
  },
  {
   "cell_type": "code",
   "execution_count": null,
   "id": "a01fe6e4-b30f-4bfe-b06a-c7a7572fc56b",
   "metadata": {},
   "outputs": [],
   "source": []
  }
 ],
 "metadata": {
  "kernelspec": {
   "display_name": "Python [conda env:fea-env] *",
   "language": "python",
   "name": "conda-env-fea-env-py"
  },
  "language_info": {
   "codemirror_mode": {
    "name": "ipython",
    "version": 3
   },
   "file_extension": ".py",
   "mimetype": "text/x-python",
   "name": "python",
   "nbconvert_exporter": "python",
   "pygments_lexer": "ipython3",
   "version": "3.12.4"
  }
 },
 "nbformat": 4,
 "nbformat_minor": 5
}
