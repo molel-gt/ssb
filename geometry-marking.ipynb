{
 "cells": [
  {
   "cell_type": "code",
   "execution_count": 57,
   "id": "416ac23a",
   "metadata": {},
   "outputs": [],
   "source": [
    "import os\n",
    "\n",
    "import h5py\n",
    "import matplotlib.pyplot as plt\n",
    "import meshio\n",
    "import numpy as np\n",
    "import warnings\n",
    "\n",
    "from dolfinx import cpp, fem, io, mesh, nls, plot\n",
    "from mpi4py import MPI\n",
    "from petsc4py import PETSc\n",
    "\n",
    "import commons, geometry, grapher\n",
    "warnings.simplefilter('ignore')"
   ]
  },
  {
   "cell_type": "markdown",
   "id": "0c9fed67",
   "metadata": {},
   "source": [
    "### Irregular Surface"
   ]
  },
  {
   "cell_type": "code",
   "execution_count": 12,
   "id": "ea13dc35",
   "metadata": {},
   "outputs": [],
   "source": [
    "img = np.asarray(plt.imread('data/current_constriction/test11.tif')[:, :, 0], dtype=np.uint8)"
   ]
  },
  {
   "cell_type": "code",
   "execution_count": 38,
   "id": "b22efc47",
   "metadata": {},
   "outputs": [],
   "source": [
    "coords = np.asarray(np.argwhere(img == 1), dtype=np.int32)"
   ]
  },
  {
   "cell_type": "code",
   "execution_count": 52,
   "id": "973ec64d",
   "metadata": {},
   "outputs": [],
   "source": [
    "def mesh_surface(coords, xmax=470, ymax=470):\n",
    "    points = {}\n",
    "    new_points = {}\n",
    "    count = 0\n",
    "    for row in coords:\n",
    "        points[(row[0], row[1])] = count\n",
    "        count += 1\n",
    "    points_set = set(points.keys())\n",
    "    no_full_neighbors = set()\n",
    "    triangles = []\n",
    "    for (x0, y0) in points_set:\n",
    "        p0 = points[(x0, y0)]\n",
    "        neighbors = [\n",
    "            (int(x0 + 1), y0),\n",
    "            (int(x0 + 1), int(y0 + 1)),\n",
    "            (x0, int(y0 + 1))\n",
    "        ]\n",
    "        neighbor_points = [p0]\n",
    "        for p in neighbors:\n",
    "            v = points.get(p)\n",
    "            neighbor_points.append(v)\n",
    "\n",
    "        midpoint = (x0 + 0.5, y0 + 0.5)\n",
    "        if midpoint[0] > xmax or midpoint[1] > ymax:\n",
    "            continue\n",
    "        points[midpoint] = count\n",
    "        p2 = count\n",
    "        count += 1\n",
    "        for i in range(4):\n",
    "            p0 = neighbor_points[i]\n",
    "            if i == 3:\n",
    "                p1 = neighbor_points[0]\n",
    "            else:\n",
    "                p1 = neighbor_points[i + 1]\n",
    "            if not p0 is None and not p1 is None:\n",
    "                triangles.append(\n",
    "                    (p0, p1, p2)\n",
    "                )\n",
    "                \n",
    "\n",
    "    return triangles, points"
   ]
  },
  {
   "cell_type": "code",
   "execution_count": 53,
   "id": "459c2588",
   "metadata": {},
   "outputs": [],
   "source": [
    "triangles, points = mesh_surface(coords)"
   ]
  },
  {
   "cell_type": "code",
   "execution_count": 58,
   "id": "0392face",
   "metadata": {},
   "outputs": [
    {
     "name": "stdout",
     "output_type": "stream",
     "text": [
      "(155249, 2)\n"
     ]
    },
    {
     "ename": "ValueError",
     "evalue": "Incompatible cell data. Cell block 0 ('triangle') has length 298271, but corresponding cell data item has length 155249.",
     "output_type": "error",
     "traceback": [
      "\u001b[0;31m---------------------------------------------------------------------------\u001b[0m",
      "\u001b[0;31mValueError\u001b[0m                                Traceback (most recent call last)",
      "Cell \u001b[0;32mIn [58], line 10\u001b[0m\n\u001b[1;32m      8\u001b[0m     new_points[v, :] \u001b[38;5;241m=\u001b[39m k\n\u001b[1;32m      9\u001b[0m cell_data \u001b[38;5;241m=\u001b[39m np\u001b[38;5;241m.\u001b[39mzeros((max_row_idx \u001b[38;5;241m+\u001b[39m\u001b[38;5;241m1\u001b[39m, ), dtype\u001b[38;5;241m=\u001b[39mnp\u001b[38;5;241m.\u001b[39mint32)\n\u001b[0;32m---> 10\u001b[0m out_mesh \u001b[38;5;241m=\u001b[39m meshio\u001b[38;5;241m.\u001b[39mMesh(points\u001b[38;5;241m=\u001b[39mnew_points, cells\u001b[38;5;241m=\u001b[39m{cell_type: cells}, cell_data\u001b[38;5;241m=\u001b[39m{\u001b[38;5;124m\"\u001b[39m\u001b[38;5;124mname_to_read\u001b[39m\u001b[38;5;124m\"\u001b[39m: [cell_data]})\n",
      "File \u001b[0;32m~/.conda/envs/fenicsx-env/lib/python3.10/site-packages/meshio/_mesh.py:182\u001b[0m, in \u001b[0;36mMesh.__init__\u001b[0;34m(self, points, cells, point_data, cell_data, field_data, point_sets, cell_sets, gmsh_periodic, info)\u001b[0m\n\u001b[1;32m    180\u001b[0m data[k] \u001b[38;5;241m=\u001b[39m np\u001b[38;5;241m.\u001b[39masarray(data[k])\n\u001b[1;32m    181\u001b[0m \u001b[38;5;28;01mif\u001b[39;00m \u001b[38;5;28mlen\u001b[39m(data[k]) \u001b[38;5;241m!=\u001b[39m \u001b[38;5;28mlen\u001b[39m(\u001b[38;5;28mself\u001b[39m\u001b[38;5;241m.\u001b[39mcells[k]):\n\u001b[0;32m--> 182\u001b[0m     \u001b[38;5;28;01mraise\u001b[39;00m \u001b[38;5;167;01mValueError\u001b[39;00m(\n\u001b[1;32m    183\u001b[0m         \u001b[38;5;124m\"\u001b[39m\u001b[38;5;124mIncompatible cell data. \u001b[39m\u001b[38;5;124m\"\u001b[39m\n\u001b[1;32m    184\u001b[0m         \u001b[38;5;241m+\u001b[39m \u001b[38;5;124mf\u001b[39m\u001b[38;5;124m\"\u001b[39m\u001b[38;5;124mCell block \u001b[39m\u001b[38;5;132;01m{\u001b[39;00mk\u001b[38;5;132;01m}\u001b[39;00m\u001b[38;5;124m (\u001b[39m\u001b[38;5;124m'\u001b[39m\u001b[38;5;132;01m{\u001b[39;00m\u001b[38;5;28mself\u001b[39m\u001b[38;5;241m.\u001b[39mcells[k]\u001b[38;5;241m.\u001b[39mtype\u001b[38;5;132;01m}\u001b[39;00m\u001b[38;5;124m'\u001b[39m\u001b[38;5;124m) \u001b[39m\u001b[38;5;124m\"\u001b[39m\n\u001b[1;32m    185\u001b[0m         \u001b[38;5;241m+\u001b[39m \u001b[38;5;124mf\u001b[39m\u001b[38;5;124m\"\u001b[39m\u001b[38;5;124mhas length \u001b[39m\u001b[38;5;132;01m{\u001b[39;00m\u001b[38;5;28mlen\u001b[39m(\u001b[38;5;28mself\u001b[39m\u001b[38;5;241m.\u001b[39mcells[k])\u001b[38;5;132;01m}\u001b[39;00m\u001b[38;5;124m, but \u001b[39m\u001b[38;5;124m\"\u001b[39m\n\u001b[1;32m    186\u001b[0m         \u001b[38;5;241m+\u001b[39m \u001b[38;5;124mf\u001b[39m\u001b[38;5;124m\"\u001b[39m\u001b[38;5;124mcorresponding cell data item has length \u001b[39m\u001b[38;5;132;01m{\u001b[39;00m\u001b[38;5;28mlen\u001b[39m(data[k])\u001b[38;5;132;01m}\u001b[39;00m\u001b[38;5;124m.\u001b[39m\u001b[38;5;124m\"\u001b[39m\n\u001b[1;32m    187\u001b[0m     )\n",
      "\u001b[0;31mValueError\u001b[0m: Incompatible cell data. Cell block 0 ('triangle') has length 298271, but corresponding cell data item has length 155249."
     ]
    }
   ],
   "source": [
    "cell_types = commons.CellTypes()\n",
    "cell_type = cell_types.triangle\n",
    "cells = np.asarray(triangles, dtype=np.int32)\n",
    "max_row_idx = max(points.values())\n",
    "new_points = np.zeros((max_row_idx +1, 2))\n",
    "print(new_points.shape)\n",
    "for k, v in points.items():\n",
    "    new_points[v, :] = k\n",
    "cell_data = np.zeros((max_row_idx +1, ), dtype=np.int32)\n",
    "out_mesh = meshio.Mesh(points=new_points, cells={cell_type: cells}, cell_data={\"name_to_read\": [cell_data]})"
   ]
  },
  {
   "cell_type": "code",
   "execution_count": 22,
   "id": "e9739d48",
   "metadata": {},
   "outputs": [
    {
     "data": {
      "text/plain": [
       "(array([[0, 2],\n",
       "        [1, 0],\n",
       "        [1, 1],\n",
       "        [1, 2]]),\n",
       " (2, 3))"
      ]
     },
     "execution_count": 22,
     "metadata": {},
     "output_type": "execute_result"
    }
   ],
   "source": [
    "np.argwhere(x>1), x.shape"
   ]
  },
  {
   "cell_type": "code",
   "execution_count": 2,
   "id": "2bbdc9f2",
   "metadata": {},
   "outputs": [],
   "source": [
    "outdir = 'mesh/study_4/26-26-7.25/0.5'\n",
    "outdir = 'mesh/1/051-051-051_000-000-000'\n",
    "tria_meshname = f'{outdir}/tria.xdmf'\n",
    "tetr_meshname = f'{outdir}/tetr.xdmf'\n",
    "\n",
    "with io.XDMFFile(MPI.COMM_WORLD, f\"{tetr_meshname}\", \"r\") as infile3:\n",
    "    domain = infile3.read_mesh(cpp.mesh.GhostMode.none, 'Grid')\n",
    "    ct = infile3.read_meshtags(domain, name=\"Grid\")\n",
    "domain.topology.create_connectivity(domain.topology.dim, domain.topology.dim - 1)\n",
    "# with io.XDMFFile(MPI.COMM_WORLD, f\"{tria_meshname}\", \"r\") as infile3:\n",
    "#     surf = infile3.read_mesh(cpp.mesh.GhostMode.none, 'Grid')\n",
    "#     ft = infile3.read_meshtags(domain, name=\"Grid\")"
   ]
  },
  {
   "cell_type": "code",
   "execution_count": 4,
   "id": "a0f73a8e",
   "metadata": {},
   "outputs": [],
   "source": [
    "surfaces = mesh.locate_entities_boundary(domain, 2, lambda x: np.isreal(x[1]))"
   ]
  },
  {
   "cell_type": "code",
   "execution_count": 5,
   "id": "7b6c2675",
   "metadata": {},
   "outputs": [],
   "source": [
    "news = mesh.locate_entities_boundary(domain, 0, lambda x: np.isreal(x[1]))"
   ]
  },
  {
   "cell_type": "code",
   "execution_count": 6,
   "id": "d8b090da",
   "metadata": {},
   "outputs": [
    {
     "data": {
      "text/plain": [
       "((1517852,), (955465,), (1517852,))"
      ]
     },
     "execution_count": 6,
     "metadata": {},
     "output_type": "execute_result"
    }
   ],
   "source": [
    "(surfaces.shape, news.shape, mesh.exterior_facet_indices(domain.topology).shape)"
   ]
  },
  {
   "cell_type": "code",
   "execution_count": null,
   "id": "d695b703",
   "metadata": {},
   "outputs": [],
   "source": [
    "domain.find"
   ]
  },
  {
   "cell_type": "code",
   "execution_count": 7,
   "id": "4ebc78da",
   "metadata": {},
   "outputs": [],
   "source": [
    "data3 = h5py.File(tetr_meshname.replace(\".xdmf\", \".h5\"), \"r\")\n",
    "# data2 = h5py.File(tria_meshname.replace(\".xdmf\", \".h5\"), \"r\")"
   ]
  },
  {
   "cell_type": "code",
   "execution_count": 46,
   "id": "30fcb1fd",
   "metadata": {},
   "outputs": [
    {
     "data": {
      "text/plain": [
       "(<KeysViewHDF5 ['data0', 'data1', 'data2']>,\n",
       " <KeysViewHDF5 ['data0', 'data1', 'data2']>)"
      ]
     },
     "execution_count": 46,
     "metadata": {},
     "output_type": "execute_result"
    }
   ],
   "source": [
    "data2.keys(), data3.keys()"
   ]
  },
  {
   "cell_type": "code",
   "execution_count": 43,
   "id": "9cac3b54",
   "metadata": {},
   "outputs": [
    {
     "data": {
      "text/plain": [
       "((565884, 3), (565884, 3))"
      ]
     },
     "execution_count": 43,
     "metadata": {},
     "output_type": "execute_result"
    }
   ],
   "source": [
    "data2['data0'].shape, data3['data0'].shape"
   ]
  },
  {
   "cell_type": "code",
   "execution_count": 44,
   "id": "47595727",
   "metadata": {},
   "outputs": [
    {
     "data": {
      "text/plain": [
       "((739098, 3), (2248586, 4))"
      ]
     },
     "execution_count": 44,
     "metadata": {},
     "output_type": "execute_result"
    }
   ],
   "source": [
    "data2['data1'].shape, data3['data1'].shape"
   ]
  },
  {
   "cell_type": "code",
   "execution_count": 45,
   "id": "2f0d61c7",
   "metadata": {},
   "outputs": [
    {
     "data": {
      "text/plain": [
       "((739098,), (2248586,))"
      ]
     },
     "execution_count": 45,
     "metadata": {},
     "output_type": "execute_result"
    }
   ],
   "source": [
    "data2['data2'].shape, data3['data2'].shape "
   ]
  },
  {
   "cell_type": "code",
   "execution_count": 8,
   "id": "d668cc36",
   "metadata": {},
   "outputs": [
    {
     "data": {
      "text/plain": [
       "11875687"
      ]
     },
     "execution_count": 8,
     "metadata": {},
     "output_type": "execute_result"
    }
   ],
   "source": [
    "np.max(surfaces)"
   ]
  },
  {
   "cell_type": "code",
   "execution_count": 9,
   "id": "35ac94e2",
   "metadata": {},
   "outputs": [
    {
     "data": {
      "text/plain": [
       "962544"
      ]
     },
     "execution_count": 9,
     "metadata": {},
     "output_type": "execute_result"
    }
   ],
   "source": [
    "np.max(news)"
   ]
  },
  {
   "cell_type": "code",
   "execution_count": 10,
   "id": "10d3482a",
   "metadata": {},
   "outputs": [
    {
     "data": {
      "text/plain": [
       "<KeysViewHDF5 ['data0', 'data1', 'data2']>"
      ]
     },
     "execution_count": 10,
     "metadata": {},
     "output_type": "execute_result"
    }
   ],
   "source": [
    "data3.keys()"
   ]
  },
  {
   "cell_type": "code",
   "execution_count": 11,
   "id": "5975a8c1",
   "metadata": {},
   "outputs": [
    {
     "data": {
      "text/plain": [
       "((962545, 3), (5558381, 4), (5558381,))"
      ]
     },
     "execution_count": 11,
     "metadata": {},
     "output_type": "execute_result"
    }
   ],
   "source": [
    "data3['data0'].shape, data3['data1'].shape, data3['data2'].shape"
   ]
  },
  {
   "cell_type": "code",
   "execution_count": 15,
   "id": "98efa2d6",
   "metadata": {},
   "outputs": [
    {
     "data": {
      "text/plain": [
       "array([121901, 121906, 121907, 121904])"
      ]
     },
     "execution_count": 15,
     "metadata": {},
     "output_type": "execute_result"
    }
   ],
   "source": [
    "data3['data1'][0, :]"
   ]
  },
  {
   "cell_type": "code",
   "execution_count": 18,
   "id": "7faf2331",
   "metadata": {},
   "outputs": [
    {
     "data": {
      "text/plain": [
       "(1517852,)"
      ]
     },
     "execution_count": 18,
     "metadata": {},
     "output_type": "execute_result"
    }
   ],
   "source": []
  },
  {
   "cell_type": "code",
   "execution_count": null,
   "id": "27512968",
   "metadata": {},
   "outputs": [],
   "source": []
  }
 ],
 "metadata": {
  "kernelspec": {
   "display_name": "fenicsx-env",
   "language": "python",
   "name": "fenicsx-env"
  },
  "language_info": {
   "codemirror_mode": {
    "name": "ipython",
    "version": 3
   },
   "file_extension": ".py",
   "mimetype": "text/x-python",
   "name": "python",
   "nbconvert_exporter": "python",
   "pygments_lexer": "ipython3",
   "version": "3.10.11"
  }
 },
 "nbformat": 4,
 "nbformat_minor": 5
}
