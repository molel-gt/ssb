{
 "cells": [
  {
   "cell_type": "code",
   "execution_count": 1,
   "id": "f9c6de9f-0e9c-4b38-8d29-c02d36aa67fc",
   "metadata": {},
   "outputs": [],
   "source": [
    "import os\n",
    "\n",
    "import dolfinx\n",
    "import gmsh\n",
    "import matplotlib.pyplot as plt\n",
    "import meshio\n",
    "import numpy as np\n",
    "import pyvista\n",
    "import pyvista as pv\n",
    "import pyvistaqt as pvqt\n",
    "import ufl\n",
    "import warnings\n",
    "\n",
    "from dolfinx import cpp, default_real_type, default_scalar_type, fem, io, la, mesh, nls, plot\n",
    "from dolfinx.fem import petsc\n",
    "from dolfinx.io import gmshio, VTXWriter\n",
    "from dolfinx.nls import petsc as petsc_nls\n",
    "from dolfinx.geometry import bb_tree, compute_collisions_points, compute_colliding_cells\n",
    "from IPython.display import Image\n",
    "\n",
    "from mpi4py import MPI\n",
    "from petsc4py import PETSc\n",
    "from ufl import (Circumradius, FacetNormal, SpatialCoordinate, TrialFunction, TestFunction,\n",
    "                 dot, div, dx, ds, dS, grad, inner, grad, avg, jump)\n",
    "\n",
    "import utils"
   ]
  },
  {
   "cell_type": "code",
   "execution_count": 2,
   "id": "a8384f01-c9fa-4886-9c05-2d091d4fda18",
   "metadata": {},
   "outputs": [
    {
     "name": "stdout",
     "output_type": "stream",
     "text": [
      "Info    : Meshing 1D...\n",
      "Info    : Meshing curve 1 (Line)\n",
      "Info    : Done meshing 1D (Wall 7.6726e-05s, CPU 7.2e-05s)\n",
      "Info    : 6 nodes 7 elements\n",
      "Info    : Writing 'output/poisson_nernst_planck/mesh.msh'...\n",
      "Info    : Done writing 'output/poisson_nernst_planck/mesh.msh'\n"
     ]
    }
   ],
   "source": [
    "class Markers:\n",
    "    def __init__(self):\n",
    "        pass\n",
    "    @property\n",
    "    def left(self):\n",
    "        return 1\n",
    "    \n",
    "    @property\n",
    "    def right(self):\n",
    "        return 2\n",
    "    \n",
    "    @property\n",
    "    def domain(self):\n",
    "        return 1\n",
    "\n",
    "workdir = \"output/poisson_nernst_planck\"\n",
    "utils.make_dir_if_missing(workdir)\n",
    "output_meshfile = os.path.join(workdir, \"mesh.msh\")\n",
    "point_0 = (0, 0, 0)\n",
    "point_1 = (150e-6, 0, 0)\n",
    "markers = Markers()\n",
    "gmsh.initialize()\n",
    "gmsh.model.add('interval')\n",
    "p0 = gmsh.model.occ.addPoint(*point_0)\n",
    "p1 = gmsh.model.occ.addPoint(*point_1)\n",
    "interval = gmsh.model.occ.addLine(p0, p1)\n",
    "gmsh.model.occ.synchronize()\n",
    "gmsh.model.addPhysicalGroup(0, [p0], markers.left, \"left\")\n",
    "gmsh.model.addPhysicalGroup(0, [p1], markers.right, \"right\")\n",
    "gmsh.model.addPhysicalGroup(1, [interval], markers.domain, \"interval\")\n",
    "gmsh.model.occ.synchronize()\n",
    "gmsh.model.mesh.generate(1)\n",
    "gmsh.write(output_meshfile)\n",
    "gmsh.finalize()"
   ]
  },
  {
   "cell_type": "code",
   "execution_count": 3,
   "id": "bb0ff4a5-d01a-4910-b254-2fa344ca036c",
   "metadata": {},
   "outputs": [],
   "source": [
    "D_n = 1e-10\n",
    "D_p = 1e-10\n",
    "faraday_const = 96485\n",
    "R = 8.3145\n",
    "T = 298"
   ]
  },
  {
   "cell_type": "code",
   "execution_count": 4,
   "id": "f4b80b25-e755-401c-9ea5-4e4923bcf585",
   "metadata": {},
   "outputs": [
    {
     "name": "stdout",
     "output_type": "stream",
     "text": [
      "Info    : Reading 'output/poisson_nernst_planck/mesh.msh'...\n",
      "Info    : 3 entities\n",
      "Info    : 6 nodes\n",
      "Info    : 7 elements\n",
      "Info    : Done reading 'output/poisson_nernst_planck/mesh.msh'\n"
     ]
    }
   ],
   "source": [
    "comm = MPI.COMM_WORLD\n",
    "partitioner = mesh.create_cell_partitioner(mesh.GhostMode.shared_facet)\n",
    "domain, ct, ft = gmshio.read_from_msh(output_meshfile, comm, partitioner=partitioner)\n",
    "tdim = domain.topology.dim\n",
    "fdim = tdim - 1\n",
    "domain.topology.create_connectivity(tdim, fdim)"
   ]
  },
  {
   "cell_type": "code",
   "execution_count": 5,
   "id": "553d6812-9d6e-4aeb-8798-8cfab5e0995c",
   "metadata": {},
   "outputs": [],
   "source": [
    "V = dolfinx.fem.functionspace(domain, (\"CG\", 1, (3,), ))\n",
    "u_t = dolfinx.fem.Function(V) # previous step.\n",
    "u = dolfinx.fem.Function(V) # current step.\n",
    "u_t_n, u_t_p, phi_t = ufl.split(u_t)\n",
    "u_n, u_p, phi = ufl.split(u)\n",
    "v_n, v_p, v_phi = ufl.TestFunction(V)"
   ]
  }
 ],
 "metadata": {
  "kernelspec": {
   "display_name": "FEA",
   "language": "python",
   "name": "fea-env"
  },
  "language_info": {
   "codemirror_mode": {
    "name": "ipython",
    "version": 3
   },
   "file_extension": ".py",
   "mimetype": "text/x-python",
   "name": "python",
   "nbconvert_exporter": "python",
   "pygments_lexer": "ipython3",
   "version": "3.12.2"
  }
 },
 "nbformat": 4,
 "nbformat_minor": 5
}
