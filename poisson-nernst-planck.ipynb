{
 "cells": [
  {
   "cell_type": "code",
   "execution_count": 1,
   "id": "f9c6de9f-0e9c-4b38-8d29-c02d36aa67fc",
   "metadata": {},
   "outputs": [],
   "source": [
    "import os\n",
    "\n",
    "import dolfinx\n",
    "import gmsh\n",
    "import matplotlib.pyplot as plt\n",
    "import meshio\n",
    "import numpy as np\n",
    "import pyvista\n",
    "import pyvista as pv\n",
    "import pyvistaqt as pvqt\n",
    "import ufl\n",
    "import warnings\n",
    "\n",
    "from dolfinx import cpp, default_real_type, default_scalar_type, fem, io, la, mesh, nls, plot\n",
    "from dolfinx.fem import petsc\n",
    "from dolfinx.io import gmshio, VTXWriter\n",
    "from dolfinx.nls import petsc as petsc_nls\n",
    "from dolfinx.geometry import bb_tree, compute_collisions_points, compute_colliding_cells\n",
    "from IPython.display import Image\n",
    "\n",
    "from mpi4py import MPI\n",
    "from petsc4py import PETSc\n",
    "from ufl import (Circumradius, FacetNormal, SpatialCoordinate, TrialFunction, TestFunction,\n",
    "                 dot, div, dx, ds, dS, grad, inner, grad, avg, jump)\n",
    "\n",
    "import utils"
   ]
  },
  {
   "cell_type": "code",
   "execution_count": 2,
   "id": "a8384f01-c9fa-4886-9c05-2d091d4fda18",
   "metadata": {},
   "outputs": [
    {
     "name": "stdout",
     "output_type": "stream",
     "text": [
      "Info    : Meshing 1D...\n",
      "Info    : Meshing curve 1 (Line)\n",
      "Info    : Done meshing 1D (Wall 7.774e-05s, CPU 7.3e-05s)\n",
      "Info    : 6 nodes 7 elements\n",
      "Info    : Writing 'output/poisson_nernst_planck/mesh.msh'...\n",
      "Info    : Done writing 'output/poisson_nernst_planck/mesh.msh'\n"
     ]
    }
   ],
   "source": [
    "class Markers:\n",
    "    def __init__(self):\n",
    "        pass\n",
    "    @property\n",
    "    def left(self):\n",
    "        return 1\n",
    "    \n",
    "    @property\n",
    "    def right(self):\n",
    "        return 2\n",
    "    \n",
    "    @property\n",
    "    def domain(self):\n",
    "        return 1\n",
    "\n",
    "workdir = \"output/poisson_nernst_planck\"\n",
    "utils.make_dir_if_missing(workdir)\n",
    "output_meshfile = os.path.join(workdir, \"mesh.msh\")\n",
    "point_0 = (0, 0, 0)\n",
    "point_1 = (150e-6, 0, 0)\n",
    "markers = Markers()\n",
    "gmsh.initialize()\n",
    "gmsh.model.add('interval')\n",
    "p0 = gmsh.model.occ.addPoint(*point_0)\n",
    "p1 = gmsh.model.occ.addPoint(*point_1)\n",
    "interval = gmsh.model.occ.addLine(p0, p1)\n",
    "gmsh.model.occ.synchronize()\n",
    "gmsh.model.addPhysicalGroup(0, [p0], markers.left, \"left\")\n",
    "gmsh.model.addPhysicalGroup(0, [p1], markers.right, \"right\")\n",
    "gmsh.model.addPhysicalGroup(1, [interval], markers.domain, \"interval\")\n",
    "gmsh.model.occ.synchronize()\n",
    "gmsh.model.mesh.generate(1)\n",
    "gmsh.write(output_meshfile)\n",
    "gmsh.finalize()"
   ]
  },
  {
   "cell_type": "code",
   "execution_count": 3,
   "id": "bb0ff4a5-d01a-4910-b254-2fa344ca036c",
   "metadata": {},
   "outputs": [],
   "source": [
    "D_n = 1e-10\n",
    "D_p = 1e-10\n",
    "faraday_const = 96485\n",
    "R = 8.3145\n",
    "T = 298"
   ]
  },
  {
   "cell_type": "code",
   "execution_count": 4,
   "id": "f4b80b25-e755-401c-9ea5-4e4923bcf585",
   "metadata": {},
   "outputs": [
    {
     "name": "stdout",
     "output_type": "stream",
     "text": [
      "Info    : Reading 'output/poisson_nernst_planck/mesh.msh'...\n",
      "Info    : 3 entities\n",
      "Info    : 6 nodes\n",
      "Info    : 7 elements\n",
      "Info    : Done reading 'output/poisson_nernst_planck/mesh.msh'\n"
     ]
    }
   ],
   "source": [
    "comm = MPI.COMM_WORLD\n",
    "partitioner = mesh.create_cell_partitioner(mesh.GhostMode.shared_facet)\n",
    "domain, ct, ft = gmshio.read_from_msh(output_meshfile, comm, partitioner=partitioner)\n",
    "tdim = domain.topology.dim\n",
    "fdim = tdim - 1\n",
    "domain.topology.create_connectivity(tdim, fdim)"
   ]
  },
  {
   "cell_type": "code",
   "execution_count": 5,
   "id": "553d6812-9d6e-4aeb-8798-8cfab5e0995c",
   "metadata": {},
   "outputs": [],
   "source": [
    "V = dolfinx.fem.functionspace(domain, (\"CG\", 1, (3,), ))\n",
    "u_t = dolfinx.fem.Function(V) # previous step.\n",
    "u = dolfinx.fem.Function(V) # current step.\n",
    "u_t_n, u_t_p, phi_t = ufl.split(u_t)\n",
    "u_n, u_p, phi = ufl.split(u)\n",
    "v_n, v_p, v_phi = ufl.TestFunction(V)"
   ]
  },
  {
   "cell_type": "code",
   "execution_count": 6,
   "id": "ce5cb19a-2e9e-470d-8b0e-6103e8531c80",
   "metadata": {},
   "outputs": [],
   "source": [
    "# initial concentrations\n",
    "u_t.sub(0).interpolate(lambda x: 1e04 + x[0] - x[0])\n",
    "u_t.sub(1).interpolate(lambda x: 1e04 + x[0] - x[0])\n",
    "# initial potential \n",
    "u_t.sub(2).interpolate(lambda x: x[0] / 150e-6)\n",
    "u_t.x.scatter_forward()"
   ]
  },
  {
   "cell_type": "markdown",
   "id": "8a49c42a-5611-4189-b6b7-678a35d46736",
   "metadata": {},
   "source": [
    "## Poisson-Nernst-Planck Equation\n",
    "The flux of species $i$ is given by the Nernst-Planck equation\n",
    "$$\\pmb{N}_i = -z_i u_i F \\nabla \\phi - D_i \\nabla c_i + c_i \\pmb{v}$$\n",
    "Material balance is given by\n",
    "$$\\dfrac{\\partial c_i}{\\partial t} = -\\nabla \\cdot \\pmb{N}_i + \\mathcal{R}_i$$\n",
    "where $\\mathcal{R}_i$ is the homogeneous reaction.\n",
    "\n",
    "The relationship between diffusivity $D_i$ and mobility $u_i$ is given by the Nernst-Einstein relationship\n",
    "$$D_i = R T u_i$$\n",
    "\n",
    "To solve the Nernst-Planck equation for two charged species, we need three test functions and three trial functions---one for +ve species, one for -ve species and one for potential.\n",
    "\n",
    "An additional equation that has to be included is the charge conservation equation in the form of Poisson equation, to give the pair of equations called the Poisson-Nernst-Planck equation.\n",
    "$$\\nabla \\cdot (-\\kappa\\nabla\\phi)=0$$\n",
    "\n",
    "In battery systems, one can ignore the advection term $c_i\\pmb{v}$ if the system is not driven by bulk flow. Such battery systems include Li-ion batteries.\n",
    "### Boundary and Initial Conditions\n",
    "- initial concentration of both +ve and -ve species must be given\n",
    "- initial potential gradient must be provided\n",
    "- normal flux of -ve species is zero on the external boundary $\\partial \\Omega$\n",
    "- normal flux of +ve species, assumed to be Li$^+$, is zero on insulated boundary and non-zero on the boundaries where charge transfer occurs at\n",
    "- normal gradient of potential is zero on the insulated boundaries\n",
    "- normal gradient of potential and normal flux of Li$^+$ are coupled at the charge transfer boundaries"
   ]
  },
  {
   "cell_type": "code",
   "execution_count": null,
   "id": "fbe96f8d-0c98-4ae1-9ecf-644f6b763c9f",
   "metadata": {},
   "outputs": [],
   "source": []
  }
 ],
 "metadata": {
  "kernelspec": {
   "display_name": "FEA",
   "language": "python",
   "name": "fea-env"
  },
  "language_info": {
   "codemirror_mode": {
    "name": "ipython",
    "version": 3
   },
   "file_extension": ".py",
   "mimetype": "text/x-python",
   "name": "python",
   "nbconvert_exporter": "python",
   "pygments_lexer": "ipython3",
   "version": "3.12.2"
  }
 },
 "nbformat": 4,
 "nbformat_minor": 5
}
