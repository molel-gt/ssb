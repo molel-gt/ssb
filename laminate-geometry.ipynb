{
 "cells": [
  {
   "cell_type": "code",
   "execution_count": null,
   "metadata": {},
   "outputs": [],
   "source": [
    "import gmsh\n",
    "import meshio\n",
    "import numpy as np\n",
    "\n",
    "from collections import OrderedDict\n",
    "\n",
    "import commons, geometry"
   ]
  },
  {
   "cell_type": "code",
   "execution_count": null,
   "metadata": {},
   "outputs": [],
   "source": [
    "markers = commons.SurfaceMarkers()\n",
    "\n",
    "W = 1000\n",
    "L = 100\n",
    "La = 25  # anode\n",
    "Ls = 25  # separator\n",
    "Lc = 75  # cathode\n",
    "eps_se = 0.3\n",
    "eps_am = 0.7\n",
    "\n",
    "# meshing\n",
    "resolution = 0.1\n",
    "L_coating = L - resolution"
   ]
  },
  {
   "cell_type": "code",
   "execution_count": null,
   "metadata": {},
   "outputs": [],
   "source": [
    "se_points = [\n",
    "    (0, 0, 0),  # bottom left\n",
    "    (0, W, 0),  # top left\n",
    "]\n",
    "am_points = [\n",
    "    (L, W, 0), # top right\n",
    "]"
   ]
  },
  {
   "cell_type": "code",
   "execution_count": null,
   "metadata": {},
   "outputs": [],
   "source": [
    "points1 = np.arange(eps_se, W, 1)\n",
    "points2 = np.arange(0, W, 1)\n",
    "serrated = sorted(list(points1) + list(points2) + [W], reverse=True)"
   ]
  },
  {
   "cell_type": "code",
   "execution_count": null,
   "metadata": {},
   "outputs": [],
   "source": [
    "gmsh.initialize()\n",
    "gmsh.model.add(\"AM/SE\")\n",
    "gmsh.option.setNumber(\"Mesh.MeshSizeMax\", resolution)"
   ]
  },
  {
   "cell_type": "code",
   "execution_count": null,
   "metadata": {},
   "outputs": [],
   "source": [
    "serrated_points = []\n",
    "for i in range(1, len(serrated)):\n",
    "    p = serrated[i]\n",
    "    if i % 2 == 1:\n",
    "        if i == 1:\n",
    "            line_points = [(L_coating, serrated[i - 1], 0), (L_coating, p, 0), (Ls, p, 0)]\n",
    "        else:\n",
    "            line_points = [(L_coating, p, 0), (Ls, p, 0)]\n",
    "    if i % 2 == 0:\n",
    "        line_points = [(Ls, p, 0), (L_coating, p, 0)]\n",
    "    serrated_points += line_points\n",
    "\n",
    "se_points = se_points + serrated_points[:-1]\n",
    "am_points = serrated_points + list(reversed(am_points))\n",
    "points = []\n",
    "for p in se_points:\n",
    "    tag = gmsh.model.occ.addPoint(*p, meshSize=resolution)\n",
    "    points.append(tag)\n",
    "tag = gmsh.model.occ.addPoint(*serrated_points[-1], meshSize=resolution)\n",
    "points.append(tag)\n",
    "tag = gmsh.model.occ.addPoint(*(L, W, 0), meshSize=resolution)\n",
    "points.append(tag)"
   ]
  },
  {
   "cell_type": "code",
   "execution_count": null,
   "metadata": {},
   "outputs": [],
   "source": [
    "se_lines = []\n",
    "points_se = points[:-2]\n",
    "for i in range(-1, len(points_se) - 1):\n",
    "    line = gmsh.model.occ.addLine(points_se[i], points_se[i + 1])\n",
    "    se_lines.append(line)\n",
    "se_loop = gmsh.model.occ.addCurveLoop(se_lines)\n",
    "se_channel = gmsh.model.occ.addPlaneSurface((1, se_loop))\n",
    "print(se_channel)\n",
    "gmsh.model.addPhysicalGroup(2, [se_channel], 1)"
   ]
  },
  {
   "cell_type": "code",
   "execution_count": null,
   "metadata": {},
   "outputs": [],
   "source": [
    "am_lines = []\n",
    "points_am = points[2:]\n",
    "for i in range(-1, len(points_am) - 1):\n",
    "        line = gmsh.model.occ.addLine(points_am[i], points_am[i + 1])\n",
    "        am_lines.append(line)\n",
    "am_loop = gmsh.model.occ.addCurveLoop(am_lines)\n",
    "am_channel = gmsh.model.occ.addPlaneSurface((2, am_loop))\n",
    "gmsh.model.addPhysicalGroup(2, [am_channel], 2)"
   ]
  },
  {
   "cell_type": "code",
   "execution_count": null,
   "metadata": {},
   "outputs": [],
   "source": [
    "gmsh.model.occ.synchronize()"
   ]
  },
  {
   "cell_type": "code",
   "execution_count": null,
   "metadata": {},
   "outputs": [],
   "source": [
    "gmsh.model.mesh.generate(2)\n",
    "gmsh.write(\"mesh/laminate/mesh.msh\")\n",
    "gmsh.finalize()"
   ]
  },
  {
   "cell_type": "code",
   "execution_count": null,
   "metadata": {},
   "outputs": [],
   "source": [
    "mesh_from_file = meshio.read(f\"mesh/laminate/mesh.msh\")\n",
    "\n",
    "triangle_mesh = geometry.create_mesh(mesh_from_file, \"triangle\")\n",
    "meshio.write(\"mesh/laminate/tria.xdmf\", triangle_mesh)\n",
    "line_mesh = geometry.create_mesh(mesh_from_file, \"line\")\n",
    "meshio.write(\"mesh/laminate/line.xdmf\", line_mesh)"
   ]
  }
 ],
 "metadata": {
  "kernelspec": {
   "display_name": "Python 3 (ipykernel)",
   "language": "python",
   "name": "python3"
  },
  "language_info": {
   "codemirror_mode": {
    "name": "ipython",
    "version": 3
   },
   "file_extension": ".py",
   "mimetype": "text/x-python",
   "name": "python",
   "nbconvert_exporter": "python",
   "pygments_lexer": "ipython3",
   "version": "3.9.12"
  },
  "vscode": {
   "interpreter": {
    "hash": "3d597f4c481aa0f25dceb95d2a0067e73c0966dcbd003d741d821a7208527ecf"
   }
  }
 },
 "nbformat": 4,
 "nbformat_minor": 2
}
