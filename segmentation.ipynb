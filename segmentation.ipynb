{
 "cells": [
  {
   "cell_type": "code",
   "execution_count": 1,
   "id": "1351c430",
   "metadata": {},
   "outputs": [],
   "source": [
    "import datetime\n",
    "import itertools\n",
    "import json\n",
    "import os\n",
    "import time\n",
    "\n",
    "import alphashape\n",
    "import argparse\n",
    "import cv2\n",
    "import hdbscan\n",
    "import igraph as ig\n",
    "\n",
    "from collections import namedtuple, defaultdict\n",
    "from matplotlib.path import Path\n",
    "import matplotlib.pyplot as plt\n",
    "import metis\n",
    "import networkx as nx\n",
    "import numpy as np\n",
    "import scipy\n",
    "\n",
    "\n",
    "import pickle\n",
    "import warnings\n",
    "\n",
    "from concavehull import concavehull\n",
    "from matplotlib.colors import LinearSegmentedColormap\n",
    "from matplotlib import patches\n",
    "from matplotlib.widgets import CheckButtons, Button, Slider, LassoSelector, RadioButtons, TextBox, RectangleSelector\n",
    "from mpl_toolkits.axes_grid1.inset_locator import inset_axes\n",
    "\n",
    "from skimage import filters\n",
    "from sklearn.ensemble import RandomForestClassifier\n",
    "\n",
    "from hulls import ConcaveHull\n",
    "\n",
    "import geometry, segmentation as seg, grapher\n",
    "\n",
    "\n",
    "warnings.simplefilter(\"ignore\")\n"
   ]
  },
  {
   "cell_type": "code",
   "execution_count": 2,
   "id": "be73e81f",
   "metadata": {},
   "outputs": [],
   "source": [
    "def points_inside_polygon(polygon, points_arr):\n",
    "    path = Path(polygon)\n",
    "    containing = path.contains_points(points_arr)\n",
    "\n",
    "    return points_arr[containing]"
   ]
  },
  {
   "cell_type": "code",
   "execution_count": 3,
   "id": "51d86ca0",
   "metadata": {},
   "outputs": [],
   "source": [
    "indir = 'unsegmented'\n",
    "img_id = 0\n",
    "img = np.asarray(plt.imread(f'{indir}/{str(img_id).zfill(3)}.tif'))\n",
    "NX, NY = img.shape"
   ]
  },
  {
   "cell_type": "code",
   "execution_count": 4,
   "id": "ef24283f",
   "metadata": {},
   "outputs": [],
   "source": [
    "img_01 = seg.neighborhood_average(img, d=(5, 5))\n",
    "img_1 = filters.meijering(img_01)"
   ]
  },
  {
   "cell_type": "code",
   "execution_count": 5,
   "id": "fd9790c7",
   "metadata": {},
   "outputs": [],
   "source": [
    "img_trial = img * (1 - img_1 / np.max(img_1))\n",
    "img_trial_edges = filters.meijering(img_trial)"
   ]
  },
  {
   "cell_type": "markdown",
   "id": "3e1c1e75",
   "metadata": {},
   "source": [
    "### Obtain Clusters"
   ]
  },
  {
   "cell_type": "code",
   "execution_count": 6,
   "id": "c9ac2e2c",
   "metadata": {},
   "outputs": [],
   "source": [
    "def get_raw_clusters(condition='less_than', threshold=0.2):\n",
    "    if condition not in ['less_than', 'greater_than']:\n",
    "        raise ValueError(f'Unsupported condition {condition}')\n",
    "    if condition == 'less_than':\n",
    "        features = seg.build_features_matrix(img_trial_edges < threshold, img_trial, 0.05)\n",
    "    else:\n",
    "        features = seg.build_features_matrix(img_trial_edges > threshold, img_trial, 0.05)\n",
    "    clusters_0 = seg.get_clustering_results(features[:, :3], **seg.hdbscan_kwargs)\n",
    "    clusters = -1 * np.ones(img.shape, dtype=np.int32)\n",
    "    for i in range(features.shape[0]):\n",
    "        x, y = [int(v) for v in features[i, :2]]\n",
    "        clusters[x, y] = clusters_0[i]\n",
    "    \n",
    "    return clusters"
   ]
  },
  {
   "cell_type": "code",
   "execution_count": 7,
   "id": "b329065a",
   "metadata": {},
   "outputs": [],
   "source": [
    "levels = {\n",
    "    0: ('less_than', 0.2, lambda size: size >= 0.05),\n",
    "    1: ('greater_than', 0.05, lambda size: False),\n",
    "}\n",
    "\n",
    "points = {}\n",
    "points_arr = np.zeros((NX * NY, 2), dtype=np.int32)\n",
    "counter = 0\n",
    "for ix in range(NX):\n",
    "    for iy in range(NY):\n",
    "        idx = int((NX - 1) * iy + ix)\n",
    "        points[ix, iy] = idx\n",
    "        points_arr[counter, :] = (ix, iy)\n",
    "        counter += 1"
   ]
  },
  {
   "cell_type": "markdown",
   "id": "064c88d1",
   "metadata": {},
   "source": [
    "### Obtain Polygons Bounding Clusters"
   ]
  },
  {
   "cell_type": "code",
   "execution_count": 8,
   "id": "b791f64f",
   "metadata": {},
   "outputs": [],
   "source": [
    "edges = defaultdict(list)\n",
    "\n",
    "for level, (condition, threshold, size_check) in levels.items():\n",
    "    clusters = get_raw_clusters(condition=condition, threshold=threshold)\n",
    "    for v in np.unique(clusters):\n",
    "        if v < 0:\n",
    "            continue\n",
    "        coords = np.where(np.isclose(clusters, v))\n",
    "        if coords[0].shape[0] < 5:\n",
    "                continue\n",
    "        size = coords[0].shape[0] / 500 ** 2\n",
    "        if size <= 0:\n",
    "            continue\n",
    "        arr = []\n",
    "        for idx in range(coords[0].shape[0]):\n",
    "            c = (coords[1][idx], coords[0][idx])\n",
    "            arr.append(c)\n",
    "        points_view = {}\n",
    "        for i in range(len(arr)):\n",
    "            coord = arr[i]\n",
    "            idx = int(points[coord])\n",
    "            points_view[idx] = coord\n",
    "        graph = grapher.PixelGraph(points=points_view)\n",
    "        graph.build_graph()\n",
    "        graph.get_graph_pieces()\n",
    "        if size_check(size):\n",
    "            continue\n",
    "        if size < 0.05:\n",
    "            hull = []\n",
    "            try:\n",
    "                alpha_shape = alphashape.alphashape(arr, 0.2)\n",
    "                exterior = alpha_shape.exterior\n",
    "                for c in exterior.coords:\n",
    "                    hull.append((c[0], c[1]))\n",
    "            except scipy.spatial._qhull.QhullError as e1:\n",
    "                pass\n",
    "            except AttributeError as e2:\n",
    "                pass\n",
    "            if len(hull) == 0:\n",
    "                continue\n",
    "            hull_ids = []\n",
    "            for i in range(len(hull)):\n",
    "                idx = points[hull[i]]\n",
    "                hull_ids.append(idx)\n",
    "            edges[level].append(hull_ids)\n",
    "\n",
    "        else:\n",
    "            for p in graph.pieces:\n",
    "                if len(p) < 5:\n",
    "                    continue\n",
    "                arr2 = []\n",
    "                for c in p:\n",
    "                    arr2.append(points_view[int(c)])\n",
    "                hull = []\n",
    "                try:\n",
    "                    alpha_shape = alphashape.alphashape(arr2, 0.2)\n",
    "                    exterior = alpha_shape.exterior\n",
    "                    for c in exterior.coords:\n",
    "                        hull.append((c[0], c[1]))\n",
    "                except scipy.spatial._qhull.QhullError as e1:\n",
    "                    pass\n",
    "                except AttributeError as e2:\n",
    "                    pass\n",
    "                if len(hull) == 0:\n",
    "                    continue\n",
    "                hull_ids = []\n",
    "                for i in range(len(hull)):\n",
    "                    idx = points[hull[i]]\n",
    "                    hull_ids.append(idx)\n",
    "                edges[level].append(hull_ids)"
   ]
  },
  {
   "cell_type": "code",
   "execution_count": 9,
   "id": "7a53571f",
   "metadata": {},
   "outputs": [],
   "source": [
    "with open(f'segmented/{str(img_id).zfill(3)}.json', 'w') as f:\n",
    "    json.dump(edges, f)"
   ]
  },
  {
   "cell_type": "code",
   "execution_count": 10,
   "id": "7548899e",
   "metadata": {},
   "outputs": [
    {
     "name": "stdout",
     "output_type": "stream",
     "text": [
      "[[169 500]\n",
      " [170 500]]\n"
     ]
    }
   ],
   "source": [
    "print(points_inside_polygon(hull, points_arr))"
   ]
  }
 ],
 "metadata": {
  "kernelspec": {
   "display_name": "Python [conda env:.conda-fenicsx] *",
   "language": "python",
   "name": "conda-env-.conda-fenicsx-py"
  },
  "language_info": {
   "codemirror_mode": {
    "name": "ipython",
    "version": 3
   },
   "file_extension": ".py",
   "mimetype": "text/x-python",
   "name": "python",
   "nbconvert_exporter": "python",
   "pygments_lexer": "ipython3",
   "version": "3.10.9"
  }
 },
 "nbformat": 4,
 "nbformat_minor": 5
}
