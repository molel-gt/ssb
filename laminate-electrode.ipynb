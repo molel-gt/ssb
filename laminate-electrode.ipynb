{
 "cells": [
  {
   "cell_type": "code",
   "execution_count": 1,
   "id": "d62bf728",
   "metadata": {
    "tags": []
   },
   "outputs": [],
   "source": [
    "import os\n",
    "\n",
    "import gmsh\n",
    "import matplotlib.pyplot as plt\n",
    "import meshio\n",
    "import numpy as np\n",
    "import pandas as pd\n",
    "\n",
    "import commons, geometry, utils"
   ]
  },
  {
   "cell_type": "code",
   "execution_count": 3,
   "id": "ddcae343",
   "metadata": {
    "tags": []
   },
   "outputs": [],
   "source": [
    "Lsep = 50\n",
    "Lx = 470\n",
    "Ly = 470\n",
    "Lcat = 60\n",
    "Rp = 6\n",
    "eps_se = 0.5\n",
    "eps_am = 1 - eps_se\n",
    "markers = commons.SurfaceMarkers()\n",
    "phases = commons.Phases()\n",
    "CELL_TYPES = commons.CellTypes()\n",
    "start_zpos = 50\n",
    "scale = (800/470) * 1e-6\n",
    "scale_factor = [scale, scale, scale]\n",
    "outdir = \"mesh/laminate/\"\n",
    "utils.make_dir_if_missing(outdir)\n",
    "msh_path = os.path.join(outdir, 'laminate.msh')\n",
    "tetr_path = os.path.join(outdir, 'tetr.xdmf')\n",
    "tria_path = os.path.join(outdir, 'tria.xdmf')"
   ]
  },
  {
   "cell_type": "markdown",
   "id": "4de01c07",
   "metadata": {},
   "source": [
    "## Build Laminate Geometry of Cylindrical SE Strands"
   ]
  },
  {
   "cell_type": "code",
   "execution_count": 4,
   "id": "d06f3735",
   "metadata": {
    "tags": []
   },
   "outputs": [],
   "source": [
    "df = 470 * pd.read_csv('data/laminate.csv')"
   ]
  },
  {
   "cell_type": "code",
   "execution_count": 13,
   "id": "4b5f2e0f",
   "metadata": {
    "tags": []
   },
   "outputs": [
    {
     "name": "stdout",
     "output_type": "stream",
     "text": [
      "([(3, 3)], [[], []])\n",
      "([(3, 4)], [[], []])\n",
      "([(3, 5)], [[], []])\n",
      "([(3, 6)], [[], []])\n",
      "([(3, 7)], [[], []])\n",
      "([(3, 8)], [[], []])\n",
      "([(3, 9)], [[], []])\n",
      "([(3, 10)], [[], []])\n",
      "([(3, 11)], [[], []])\n",
      "([(3, 12)], [[], []])\n",
      "([(3, 13)], [[], []])\n",
      "([(3, 14)], [[], []])\n",
      "([(3, 15)], [[], []])\n",
      "([(3, 16)], [[], []])\n",
      "([(3, 17)], [[], []])\n",
      "([(3, 18)], [[], []])\n",
      "([(3, 19)], [[], []])\n",
      "([(3, 20)], [[], []])\n",
      "([(3, 21)], [[], []])\n",
      "([(3, 22)], [[], []])\n",
      "([(3, 23)], [[], []])\n",
      "([(3, 24)], [[], []])\n",
      "([(3, 25)], [[], []])\n",
      "([(3, 26)], [[], []])\n",
      "([(3, 27)], [[], []])\n",
      "([(3, 28)], [[], []])\n",
      "([(3, 29)], [[], []])\n",
      "([(3, 30)], [[], []])\n",
      "([(3, 31)], [[], []])\n",
      "([(3, 32)], [[], []])\n",
      "([(3, 33)], [[], []])\n",
      "([(3, 34)], [[], []])\n",
      "([(3, 35)], [[], []])\n",
      "([(3, 36)], [[], []])\n",
      "([(3, 37)], [[], []])\n",
      "([(3, 38)], [[], []])\n",
      "([(3, 39)], [[], []])\n",
      "([(3, 40)], [[], []])\n",
      "([(3, 41)], [[], []])\n",
      "([(3, 42)], [[], []])\n",
      "([(3, 43)], [[], []])\n",
      "([(3, 44)], [[], []])\n",
      "([(3, 45)], [[], []])\n",
      "([(3, 46)], [[], []])\n",
      "([(3, 47)], [[], []])\n",
      "([(3, 48)], [[], []])\n",
      "([(3, 49)], [[], []])\n",
      "([(3, 50)], [[], []])\n",
      "([(3, 51)], [[], []])\n",
      "([(3, 52)], [[], []])\n",
      "([(3, 53)], [[], []])\n",
      "([(3, 54)], [[], []])\n",
      "([(3, 55)], [[], []])\n",
      "([(3, 56)], [[], []])\n",
      "([(3, 57)], [[], []])\n",
      "([(3, 58)], [[], []])\n",
      "([(3, 59)], [[], []])\n",
      "([(3, 60)], [[], []])\n",
      "([(3, 61)], [[], []])\n",
      "([(3, 62)], [[], []])\n",
      "([(3, 63)], [[], []])\n",
      "([(3, 64)], [[], []])\n",
      "([(3, 65)], [[], []])\n",
      "([(3, 66)], [[], []])\n",
      "([(3, 67)], [[], []])\n",
      "([(3, 68)], [[], []])\n",
      "([(3, 69)], [[], []])\n",
      "([(3, 70)], [[], []])\n",
      "([(3, 71)], [[], []])\n",
      "([(3, 72)], [[], []])\n",
      "([(3, 73)], [[], []])\n",
      "([(3, 74)], [[], []])\n",
      "([(3, 75)], [[], []])\n",
      "([(3, 76)], [[], []])\n",
      "([(3, 77)], [[], []])\n",
      "([(3, 78)], [[], []])\n",
      "([(3, 79)], [[], []])\n",
      "([(3, 80)], [[], []])\n",
      "([(3, 81)], [[], []])\n",
      "([(3, 82)], [[], []])\n",
      "([(3, 83)], [[], []])\n",
      "([(3, 84)], [[], []])\n",
      "([(3, 85)], [[], []])\n",
      "([(3, 86)], [[], []])\n",
      "([(3, 87)], [[], []])\n",
      "([(3, 88)], [[], []])\n",
      "([(3, 89)], [[], []])\n",
      "([(3, 90)], [[], []])\n",
      "([(3, 91)], [[], []])\n",
      "([(3, 92)], [[], []])\n",
      "([(3, 93)], [[], []])\n",
      "([(3, 94)], [[], []])\n",
      "([(3, 95)], [[], []])\n",
      "([(3, 96)], [[], []])\n",
      "([(3, 97)], [[], []])\n",
      "([(3, 98)], [[], []])\n",
      "([(3, 99)], [[], []])\n"
     ]
    },
    {
     "name": "stderr",
     "output_type": "stream",
     "text": [
      "Warning : ------------------------------\n",
      "Warning : Mesh generation error summary\n",
      "Warning :     2 warnings\n",
      "Warning :     0 errors\n",
      "Warning : Check the full log for details\n",
      "Warning : ------------------------------\n"
     ]
    }
   ],
   "source": [
    "gmsh.initialize()\n",
    "gmsh.model.add('laminate')\n",
    "gmsh.option.setNumber('General.Verbosity', 1)\n",
    "box_se = gmsh.model.occ.addBox(0, 0, 0, Lx, Ly, Lsep + Lcat)\n",
    "gmsh.model.occ.synchronize()\n",
    "box_am = gmsh.model.occ.addBox(0, 0, Lsep + Lcat, Lx, Ly, Rp)\n",
    "gmsh.model.occ.synchronize()\n",
    "cylinders = []\n",
    "spheres = []\n",
    "\n",
    "for idx in range(df.shape[0]):\n",
    "    x, y, _ = df.loc[idx, :]\n",
    "    if (x + Rp >= 470) or (y + Rp >= 470):\n",
    "        continue\n",
    "    if (x - Rp <= 0) or (y - Rp <= 0):\n",
    "        continue\n",
    "    cyl = gmsh.model.occ.addCylinder(x, y, Lsep, 0, 0, Lcat, Rp)\n",
    "    # cylinders.append(cyl)\n",
    "    gmsh.model.occ.synchronize()\n",
    "    sphere = gmsh.model.occ.addSphere(x, y, Lsep, Rp)\n",
    "    rod = gmsh.model.occ.fuse([(3, sphere)], [(3, cyl)], removeTool=True, removeObject=True)\n",
    "    print(rod)\n",
    "    cylinders.append(rod[0][0][1])\n",
    "    gmsh.model.occ.synchronize()\n",
    "\n",
    "se_phase = gmsh.model.occ.cut([(3, box_se)], [(3, c) for c in cylinders], removeTool=False)\n",
    "gmsh.model.occ.synchronize()\n",
    "union = gmsh.model.occ.fuse([(3, box_am)], [(3, c) for c in cylinders])\n",
    "gmsh.model.occ.synchronize()\n",
    "\n",
    "vols = gmsh.model.occ.getEntities(3)\n",
    "se_vol = gmsh.model.addPhysicalGroup(3, [vols[0][1]], phases.electrolyte)\n",
    "am_vol = gmsh.model.addPhysicalGroup(3, [vols[1][1]], phases.active_material)\n",
    "gmsh.model.occ.synchronize()\n",
    "\n",
    "right = []\n",
    "left = []\n",
    "insulated = []\n",
    "interface = []\n",
    "for surf in gmsh.model.occ.getEntities(2):\n",
    "    com = gmsh.model.occ.getCenterOfMass(surf[0], surf[1])\n",
    "    if np.isclose(com[2], Lsep + Lcat + Rp):\n",
    "        right.append(surf[1])\n",
    "    elif np.isclose(com[2], Lsep + Lcat + 0.5 * Rp):\n",
    "        if np.isclose(com[1], 235) or np.isclose(com[0], 235):\n",
    "            insulated.append(surf[1])\n",
    "        else:\n",
    "            interface.append(surf[1])\n",
    "    elif np.isclose(com[2], 0.5 * (Lsep + Lcat)):\n",
    "        if np.isclose(com[1], 235) or np.isclose(com[0], 235):\n",
    "            insulated.append(surf[1])\n",
    "        else:\n",
    "            interface.append(surf[1])\n",
    "    elif np.isclose(com[2], 0):\n",
    "        left.append(surf[1])\n",
    "    else:\n",
    "        interface.append(surf[1])\n",
    "\n",
    "gmsh.model.addPhysicalGroup(2, left, markers.left_cc)\n",
    "gmsh.model.addPhysicalGroup(2, right, markers.right_cc)\n",
    "gmsh.model.addPhysicalGroup(2, insulated, markers.insulated)\n",
    "gmsh.model.addPhysicalGroup(2, interface, markers.am_se_interface)\n",
    "gmsh.model.occ.synchronize()\n",
    "gmsh.model.mesh.generate(3)\n",
    "gmsh.write(msh_path)\n",
    "gmsh.finalize()"
   ]
  },
  {
   "cell_type": "code",
   "execution_count": 15,
   "id": "7646f000",
   "metadata": {
    "tags": []
   },
   "outputs": [
    {
     "name": "stdout",
     "output_type": "stream",
     "text": [
      "\n"
     ]
    }
   ],
   "source": [
    "msh = meshio.read(msh_path)\n",
    "tetr_unscaled = geometry.create_mesh(msh, CELL_TYPES.tetra)\n",
    "tetr_unscaled.write(tetr_path)\n",
    "tetr_scaled = geometry.scale_mesh(tetr_unscaled, CELL_TYPES.tetra, scale_factor=scale_factor)\n",
    "tetr_scaled.write(tetr_path)\n",
    "tria_unscaled = geometry.create_mesh(msh, CELL_TYPES.triangle)\n",
    "tria_unscaled.write(tria_path)\n",
    "tria_scaled = geometry.scale_mesh(tria_unscaled, CELL_TYPES.triangle, scale_factor=scale_factor)\n",
    "tria_scaled.write(tria_path)"
   ]
  },
  {
   "cell_type": "code",
   "execution_count": null,
   "id": "3690d0e0-ee5c-41f6-b2b3-fd8156ef895b",
   "metadata": {},
   "outputs": [],
   "source": []
  }
 ],
 "metadata": {
  "kernelspec": {
   "display_name": "Python [conda env:.conda-fenicsx-env] *",
   "language": "python",
   "name": "conda-env-.conda-fenicsx-env-py"
  },
  "language_info": {
   "codemirror_mode": {
    "name": "ipython",
    "version": 3
   },
   "file_extension": ".py",
   "mimetype": "text/x-python",
   "name": "python",
   "nbconvert_exporter": "python",
   "pygments_lexer": "ipython3",
   "version": "3.10.12"
  }
 },
 "nbformat": 4,
 "nbformat_minor": 5
}
