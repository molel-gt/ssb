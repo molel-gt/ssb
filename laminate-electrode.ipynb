{
 "cells": [
  {
   "cell_type": "code",
   "execution_count": 1,
   "id": "d62bf728",
   "metadata": {
    "tags": []
   },
   "outputs": [],
   "source": [
    "import os\n",
    "\n",
    "import gmsh\n",
    "import matplotlib.pyplot as plt\n",
    "import meshio\n",
    "import numpy as np\n",
    "import pandas as pd\n",
    "\n",
    "import commons, geometry, utils"
   ]
  },
  {
   "cell_type": "code",
   "execution_count": 3,
   "id": "ddcae343",
   "metadata": {
    "tags": []
   },
   "outputs": [],
   "source": [
    "Lstart = 50\n",
    "Lx = 470\n",
    "Ly = 470\n",
    "Lz = 60\n",
    "Rp = 6\n",
    "eps_se = 0.5\n",
    "eps_am = 1 - eps_se\n",
    "markers = commons.SurfaceMarkers()\n",
    "phases = commons.Phases()\n",
    "CELL_TYPES = commons.CellTypes()\n",
    "start_zpos = 50\n",
    "scale = (800/470) * 1e-6\n",
    "scale_factor = [scale, scale, scale]\n",
    "outdir = \"mesh/laminate/\"\n",
    "utils.make_dir_if_missing(outdir)\n",
    "msh_path = os.path.join(outdir, 'laminate.msh')\n",
    "tetr_path = os.path.join(outdir, 'tetr.xdmf')\n",
    "tria_path = os.path.join(outdir, 'tria.xdmf')"
   ]
  },
  {
   "cell_type": "markdown",
   "id": "4de01c07",
   "metadata": {},
   "source": [
    "## Build Laminate Geometry of Cylindrical SE Strands"
   ]
  },
  {
   "cell_type": "code",
   "execution_count": 4,
   "id": "d06f3735",
   "metadata": {
    "tags": []
   },
   "outputs": [],
   "source": [
    "df = 470 * pd.read_csv('data/laminate.csv')"
   ]
  },
  {
   "cell_type": "code",
   "execution_count": null,
   "id": "4b5f2e0f",
   "metadata": {
    "tags": []
   },
   "outputs": [],
   "source": [
    "gmsh.initialize()\n",
    "gmsh.model.add('laminate')\n",
    "gmsh.option.setNumber('General.Verbosity', 1)\n",
    "box_se = gmsh.model.occ.addBox(0, 0, Lstart, Lx, Ly, Lz)\n",
    "gmsh.model.occ.synchronize()\n",
    "box_am = gmsh.model.occ.addBox(0, 0, Lstart + Lz, Lx, Ly, Rp)\n",
    "gmsh.model.occ.synchronize()\n",
    "cylinders = []\n",
    "\n",
    "for idx in range(df.shape[0]):\n",
    "    x, y, _ = df.loc[idx, :]\n",
    "    if (x + Rp >= 470) or (y + Rp >= 470):\n",
    "        continue\n",
    "    if (x - Rp <= 0) or (y - Rp <= 0):\n",
    "        continue\n",
    "    cyl = gmsh.model.occ.addCylinder(x, y, Lstart + Rp, x, y, Lstart + Lz + Rp, Rp)\n",
    "    cylinders.append(cyl)\n",
    "    gmsh.model.occ.synchronize()\n",
    "\n",
    "se_phase = gmsh.model.occ.cut([(3, box_se)], [(3, c) for c in cylinders], removeTool=False)\n",
    "gmsh.model.occ.synchronize()\n",
    "union = gmsh.model.occ.fuse([(3, box_am)], [(3, c) for c in cylinders])\n",
    "gmsh.model.occ.synchronize()\n",
    "\n",
    "vols = gmsh.model.occ.getEntities(3)\n",
    "se_vol = gmsh.model.addPhysicalGroup(3, [vols[0][1]], phases.electrolyte)\n",
    "am_vol = gmsh.model.addPhysicalGroup(3, [vols[1][1]], phases.active_material)\n",
    "gmsh.model.occ.synchronize()\n",
    "\n",
    "right = []\n",
    "left = []\n",
    "insulated = []\n",
    "interface = []\n",
    "for surf in gmsh.model.occ.getEntities(2):\n",
    "    com = gmsh.model.occ.getCenterOfMass(surf[0], surf[1])\n",
    "    if np.isclose(com[2], Lstart + Lz + Rp):\n",
    "        right.append(surf[1])\n",
    "    elif np.isclose(com[2], Lstart + Lz + 0.5 * Rp):\n",
    "        if np.isclose(com[1], 235) or np.isclose(com[0], 235):\n",
    "            insulated.append(surf[1])\n",
    "        else:\n",
    "            interface.append(surf[1])\n",
    "    elif np.isclose(com[2], Lstart):\n",
    "        left.append(surf[1])\n",
    "    else:\n",
    "        interface.append(surf[1])\n",
    "\n",
    "gmsh.model.addPhysicalGroup(2, left, markers.left_cc)\n",
    "gmsh.model.addPhysicalGroup(2, right, markers.right_cc)\n",
    "gmsh.model.addPhysicalGroup(2, insulated, markers.insulated)\n",
    "gmsh.model.addPhysicalGroup(2, interface, markers.am_se_interface)\n",
    "gmsh.model.occ.synchronize()\n",
    "gmsh.model.mesh.generate(3)\n",
    "gmsh.write(msh_path)\n",
    "gmsh.finalize()"
   ]
  },
  {
   "cell_type": "code",
   "execution_count": 32,
   "id": "7646f000",
   "metadata": {
    "tags": []
   },
   "outputs": [
    {
     "name": "stdout",
     "output_type": "stream",
     "text": [
      "\n",
      "$Element section not found.\n"
     ]
    },
    {
     "data": {
      "text/html": [
       "<pre style=\"white-space:pre;overflow-x:auto;line-height:normal;font-family:Menlo,'DejaVu Sans Mono',consolas,'Courier New',monospace\"><span style=\"color: #800000; text-decoration-color: #800000; font-weight: bold\">Error:</span><span style=\"color: #800000; text-decoration-color: #800000\"> Couldn't read file mesh/laminate/laminate.msh as either of ansys, gmsh</span>\n",
       "</pre>\n"
      ],
      "text/plain": [
       "\u001b[1;31mError:\u001b[0m\u001b[31m Couldn't read file mesh/laminate/laminate.msh as either of ansys, gmsh\u001b[0m\n"
      ]
     },
     "metadata": {},
     "output_type": "display_data"
    },
    {
     "ename": "SystemExit",
     "evalue": "1",
     "output_type": "error",
     "traceback": [
      "An exception has occurred, use %tb to see the full traceback.\n",
      "\u001b[0;31mSystemExit\u001b[0m\u001b[0;31m:\u001b[0m 1\n"
     ]
    }
   ],
   "source": [
    "msh = meshio.read(msh_path)\n",
    "tetr_unscaled = geometry.create_mesh(msh, CELL_TYPES.tetra)\n",
    "tetr_unscaled.write(tetr_path)\n",
    "tetr_scaled = geometry.scale_mesh(tetr_unscaled, CELL_TYPES.tetra, scale_factor=scale_factor)\n",
    "tetr_scaled.write(tetr_path)\n",
    "tria_unscaled = geometry.create_mesh(msh, CELL_TYPES.triangle)\n",
    "tria_unscaled.write(tria_path)\n",
    "tria_scaled = geometry.scale_mesh(tria_unscaled, CELL_TYPES.triangle, scale_factor=scale_factor)\n",
    "tria_scaled.write(tria_path)"
   ]
  },
  {
   "cell_type": "code",
   "execution_count": null,
   "id": "a52d9f36",
   "metadata": {},
   "outputs": [],
   "source": []
  },
  {
   "cell_type": "code",
   "execution_count": null,
   "id": "3690d0e0-ee5c-41f6-b2b3-fd8156ef895b",
   "metadata": {},
   "outputs": [],
   "source": []
  }
 ],
 "metadata": {
  "kernelspec": {
   "display_name": "Python [conda env:.conda-fenicsx-env] *",
   "language": "python",
   "name": "conda-env-.conda-fenicsx-env-py"
  },
  "language_info": {
   "codemirror_mode": {
    "name": "ipython",
    "version": 3
   },
   "file_extension": ".py",
   "mimetype": "text/x-python",
   "name": "python",
   "nbconvert_exporter": "python",
   "pygments_lexer": "ipython3",
   "version": "3.10.12"
  }
 },
 "nbformat": 4,
 "nbformat_minor": 5
}
