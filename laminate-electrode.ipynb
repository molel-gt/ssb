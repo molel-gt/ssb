{
 "cells": [
  {
   "cell_type": "code",
   "execution_count": 95,
   "id": "d62bf728",
   "metadata": {
    "tags": []
   },
   "outputs": [],
   "source": [
    "import os\n",
    "\n",
    "import gmsh\n",
    "import matplotlib.pyplot as plt\n",
    "import meshio\n",
    "import numpy as np\n",
    "import pandas as pd\n",
    "\n",
    "import commons, geometry, utils"
   ]
  },
  {
   "cell_type": "code",
   "execution_count": 96,
   "id": "ddcae343",
   "metadata": {
    "tags": []
   },
   "outputs": [],
   "source": [
    "Lsep = 50\n",
    "Lx = 470\n",
    "Ly = 470\n",
    "Lcat = 60\n",
    "Rp = 6\n",
    "eps_se = 0.5\n",
    "eps_am = 1 - eps_se\n",
    "markers = commons.SurfaceMarkers()\n",
    "phases = commons.Phases()\n",
    "CELL_TYPES = commons.CellTypes()\n",
    "start_zpos = 50\n",
    "scale = (800/470) * 1e-6\n",
    "scale_factor = [scale, scale, scale]\n",
    "outdir = \"mesh/laminate/\"\n",
    "utils.make_dir_if_missing(outdir)\n",
    "msh_path = os.path.join(outdir, 'laminate.msh')\n",
    "tetr_path = os.path.join(outdir, 'tetr.xdmf')\n",
    "tria_path = os.path.join(outdir, 'tria.xdmf')"
   ]
  },
  {
   "cell_type": "markdown",
   "id": "4de01c07",
   "metadata": {},
   "source": [
    "## Build Laminate Geometry of Cylindrical SE Strands"
   ]
  },
  {
   "cell_type": "code",
   "execution_count": 97,
   "id": "d06f3735",
   "metadata": {
    "tags": []
   },
   "outputs": [],
   "source": [
    "df = 470 * pd.read_csv('data/laminate.csv')"
   ]
  },
  {
   "cell_type": "code",
   "execution_count": 105,
   "id": "4b5f2e0f",
   "metadata": {
    "tags": []
   },
   "outputs": [
    {
     "name": "stderr",
     "output_type": "stream",
     "text": [
      "Error   : The 1D mesh seems not to be forming a closed loop (2 boundary nodes are considered once)\n"
     ]
    },
    {
     "ename": "Exception",
     "evalue": "The 1D mesh seems not to be forming a closed loop (2 boundary nodes are considered once)",
     "output_type": "error",
     "traceback": [
      "\u001b[0;31m---------------------------------------------------------------------------\u001b[0m",
      "\u001b[0;31mException\u001b[0m                                 Traceback (most recent call last)",
      "Cell \u001b[0;32mIn[105], line 69\u001b[0m\n\u001b[1;32m     67\u001b[0m gmsh\u001b[38;5;241m.\u001b[39mmodel\u001b[38;5;241m.\u001b[39maddPhysicalGroup(\u001b[38;5;241m2\u001b[39m, interface, markers\u001b[38;5;241m.\u001b[39mam_se_interface)\n\u001b[1;32m     68\u001b[0m gmsh\u001b[38;5;241m.\u001b[39mmodel\u001b[38;5;241m.\u001b[39mocc\u001b[38;5;241m.\u001b[39msynchronize()\n\u001b[0;32m---> 69\u001b[0m \u001b[43mgmsh\u001b[49m\u001b[38;5;241;43m.\u001b[39;49m\u001b[43mmodel\u001b[49m\u001b[38;5;241;43m.\u001b[39;49m\u001b[43mmesh\u001b[49m\u001b[38;5;241;43m.\u001b[39;49m\u001b[43mgenerate\u001b[49m\u001b[43m(\u001b[49m\u001b[38;5;241;43m3\u001b[39;49m\u001b[43m)\u001b[49m\n\u001b[1;32m     70\u001b[0m gmsh\u001b[38;5;241m.\u001b[39mwrite(msh_path)\n\u001b[1;32m     71\u001b[0m gmsh\u001b[38;5;241m.\u001b[39mfinalize()\n",
      "File \u001b[0;32m~/.conda/envs/fenicsx-env/lib/python3.10/site-packages/gmsh.py:2006\u001b[0m, in \u001b[0;36mmodel.mesh.generate\u001b[0;34m(dim)\u001b[0m\n\u001b[1;32m   2002\u001b[0m lib\u001b[38;5;241m.\u001b[39mgmshModelMeshGenerate(\n\u001b[1;32m   2003\u001b[0m     c_int(dim),\n\u001b[1;32m   2004\u001b[0m     byref(ierr))\n\u001b[1;32m   2005\u001b[0m \u001b[38;5;28;01mif\u001b[39;00m ierr\u001b[38;5;241m.\u001b[39mvalue \u001b[38;5;241m!=\u001b[39m \u001b[38;5;241m0\u001b[39m:\n\u001b[0;32m-> 2006\u001b[0m     \u001b[38;5;28;01mraise\u001b[39;00m \u001b[38;5;167;01mException\u001b[39;00m(logger\u001b[38;5;241m.\u001b[39mgetLastError())\n",
      "\u001b[0;31mException\u001b[0m: The 1D mesh seems not to be forming a closed loop (2 boundary nodes are considered once)"
     ]
    }
   ],
   "source": [
    "gmsh.initialize()\n",
    "gmsh.model.add('laminate')\n",
    "gmsh.option.setNumber('General.Verbosity', 1)\n",
    "box_se = gmsh.model.occ.addBox(0, 0, 0, Lx, Ly, Lsep + Lcat)\n",
    "gmsh.model.occ.synchronize()\n",
    "box_am = gmsh.model.occ.addBox(0, 0, Lsep + Lcat, Lx, Ly, Rp)\n",
    "gmsh.model.occ.synchronize()\n",
    "cylinders = []\n",
    "spheres = []\n",
    "\n",
    "for idx in range(df.shape[0]):\n",
    "    x, y, _ = df.loc[idx, :]\n",
    "    if (x + 2 * Rp >= 470) or (y + 2 * Rp >= 470):\n",
    "        continue\n",
    "    if (x - 2 * Rp <= 0) or (y - 2 * Rp <= 0):\n",
    "        continue\n",
    "    cyl = gmsh.model.occ.addCylinder(x, y, Lsep, 0, 0, Lcat, Rp)\n",
    "    gmsh.model.occ.synchronize()\n",
    "    sphere = gmsh.model.occ.addSphere(x, y, Lsep, Rp)\n",
    "    rod = gmsh.model.occ.fuse([(3, sphere)], [(3, cyl)], removeTool=True, removeObject=False)\n",
    "    gmsh.model.occ.synchronize()\n",
    "    # box = gmsh.model.occ.addBox(x - 2 * Rp, y - 2 * Rp, Lsep + Lcat - Rp, 4 * Rp, 4 * Rp, Rp)\n",
    "    # torus = gmsh.model.occ.addTorus(x, y, Lsep + Lcat - Rp, 3 * Rp, Rp)\n",
    "    # stem_cover = gmsh.model.occ.cut([(3, box)], [(3, torus)], removeObject=False)\n",
    "    # gmsh.model.occ.synchronize()\n",
    "    # rod = gmsh.model.occ.fuse([(3, rod[0][0][1])], [(3, stem_cover[0][0][1])], removeObject=False)\n",
    "    # gmsh.model.occ.synchronize()\n",
    "    cylinders.append(rod[0][0][1])\n",
    "    gmsh.model.occ.synchronize()\n",
    "\n",
    "se_phase = gmsh.model.occ.cut([(3, box_se)], [(3, c) for c in cylinders], removeTool=False)\n",
    "gmsh.model.occ.synchronize()\n",
    "union = gmsh.model.occ.fuse([(3, box_am)], [(3, c) for c in cylinders])\n",
    "gmsh.model.occ.synchronize()\n",
    "\n",
    "vols = gmsh.model.occ.getEntities(3)\n",
    "se_vol = gmsh.model.addPhysicalGroup(3, [vols[0][1]], phases.electrolyte)\n",
    "am_vol = gmsh.model.addPhysicalGroup(3, [vols[1][1]], phases.active_material)\n",
    "gmsh.model.occ.synchronize()\n",
    "\n",
    "right = []\n",
    "left = []\n",
    "insulated = []\n",
    "interface = []\n",
    "for surf in gmsh.model.occ.getEntities(2):\n",
    "    com = gmsh.model.occ.getCenterOfMass(surf[0], surf[1])\n",
    "    if np.isclose(com[2], Lsep + Lcat + Rp):\n",
    "        right.append(surf[1])\n",
    "    elif np.isclose(com[2], Lsep + Lcat + 0.5 * Rp):\n",
    "        if np.isclose(com[1], 235) or np.isclose(com[0], 235):\n",
    "            insulated.append(surf[1])\n",
    "        else:\n",
    "            interface.append(surf[1])\n",
    "    elif np.isclose(com[2], 0.5 * (Lsep + Lcat)):\n",
    "        if np.isclose(com[1], 235) or np.isclose(com[0], 235):\n",
    "            insulated.append(surf[1])\n",
    "        else:\n",
    "            interface.append(surf[1])\n",
    "    elif np.isclose(com[2], 0):\n",
    "        left.append(surf[1])\n",
    "    else:\n",
    "        interface.append(surf[1])\n",
    "\n",
    "gmsh.model.addPhysicalGroup(2, left, markers.left_cc)\n",
    "gmsh.model.addPhysicalGroup(2, right, markers.right_cc)\n",
    "gmsh.model.addPhysicalGroup(2, insulated, markers.insulated)\n",
    "gmsh.model.addPhysicalGroup(2, interface, markers.am_se_interface)\n",
    "gmsh.model.occ.synchronize()\n",
    "gmsh.model.mesh.generate(3)\n",
    "gmsh.write(msh_path)\n",
    "gmsh.finalize()"
   ]
  },
  {
   "cell_type": "code",
   "execution_count": 99,
   "id": "7646f000",
   "metadata": {
    "tags": []
   },
   "outputs": [
    {
     "name": "stdout",
     "output_type": "stream",
     "text": [
      "\n"
     ]
    }
   ],
   "source": [
    "msh = meshio.read(msh_path)\n",
    "tetr_unscaled = geometry.create_mesh(msh, CELL_TYPES.tetra)\n",
    "tetr_unscaled.write(tetr_path)\n",
    "tetr_scaled = geometry.scale_mesh(tetr_unscaled, CELL_TYPES.tetra, scale_factor=scale_factor)\n",
    "tetr_scaled.write(tetr_path)\n",
    "tria_unscaled = geometry.create_mesh(msh, CELL_TYPES.triangle)\n",
    "tria_unscaled.write(tria_path)\n",
    "tria_scaled = geometry.scale_mesh(tria_unscaled, CELL_TYPES.triangle, scale_factor=scale_factor)\n",
    "tria_scaled.write(tria_path)"
   ]
  },
  {
   "cell_type": "code",
   "execution_count": 102,
   "id": "e4da09cc-81dc-40b6-8568-dafbb0ea1c3b",
   "metadata": {},
   "outputs": [
    {
     "name": "stderr",
     "output_type": "stream",
     "text": [
      "Error   : Gmsh has not been initialized\n",
      "Error   : Gmsh has not been initialized\n"
     ]
    },
    {
     "ename": "Exception",
     "evalue": "Could not get last error",
     "output_type": "error",
     "traceback": [
      "\u001b[0;31m---------------------------------------------------------------------------\u001b[0m",
      "\u001b[0;31mException\u001b[0m                                 Traceback (most recent call last)",
      "Cell \u001b[0;32mIn[102], line 1\u001b[0m\n\u001b[0;32m----> 1\u001b[0m \u001b[43mgmsh\u001b[49m\u001b[38;5;241;43m.\u001b[39;49m\u001b[43mfinalize\u001b[49m\u001b[43m(\u001b[49m\u001b[43m)\u001b[49m\n",
      "File \u001b[0;32m~/.conda/envs/fenicsx-env/lib/python3.10/site-packages/gmsh.py:318\u001b[0m, in \u001b[0;36mfinalize\u001b[0;34m()\u001b[0m\n\u001b[1;32m    316\u001b[0m     signal\u001b[38;5;241m.\u001b[39msignal(signal\u001b[38;5;241m.\u001b[39mSIGINT, oldsig)\n\u001b[1;32m    317\u001b[0m \u001b[38;5;28;01mif\u001b[39;00m ierr\u001b[38;5;241m.\u001b[39mvalue \u001b[38;5;241m!=\u001b[39m \u001b[38;5;241m0\u001b[39m:\n\u001b[0;32m--> 318\u001b[0m     \u001b[38;5;28;01mraise\u001b[39;00m \u001b[38;5;167;01mException\u001b[39;00m(\u001b[43mlogger\u001b[49m\u001b[38;5;241;43m.\u001b[39;49m\u001b[43mgetLastError\u001b[49m\u001b[43m(\u001b[49m\u001b[43m)\u001b[49m)\n",
      "File \u001b[0;32m~/.conda/envs/fenicsx-env/lib/python3.10/site-packages/gmsh.py:10614\u001b[0m, in \u001b[0;36mlogger.getLastError\u001b[0;34m()\u001b[0m\n\u001b[1;32m  10610\u001b[0m lib\u001b[38;5;241m.\u001b[39mgmshLoggerGetLastError(\n\u001b[1;32m  10611\u001b[0m     byref(api_error_),\n\u001b[1;32m  10612\u001b[0m     byref(ierr))\n\u001b[1;32m  10613\u001b[0m \u001b[38;5;28;01mif\u001b[39;00m ierr\u001b[38;5;241m.\u001b[39mvalue \u001b[38;5;241m!=\u001b[39m \u001b[38;5;241m0\u001b[39m:\n\u001b[0;32m> 10614\u001b[0m     \u001b[38;5;28;01mraise\u001b[39;00m \u001b[38;5;167;01mException\u001b[39;00m(\u001b[38;5;124m'\u001b[39m\u001b[38;5;124mCould not get last error\u001b[39m\u001b[38;5;124m'\u001b[39m)\n\u001b[1;32m  10615\u001b[0m \u001b[38;5;28;01mreturn\u001b[39;00m _ostring(api_error_)\n",
      "\u001b[0;31mException\u001b[0m: Could not get last error"
     ]
    }
   ],
   "source": [
    "gmsh.finalize()"
   ]
  },
  {
   "cell_type": "code",
   "execution_count": null,
   "id": "4716d47f-4279-499c-bc57-31aa3b0b9b9b",
   "metadata": {},
   "outputs": [],
   "source": []
  }
 ],
 "metadata": {
  "kernelspec": {
   "display_name": "Python [conda env:.conda-fenicsx-env] *",
   "language": "python",
   "name": "conda-env-.conda-fenicsx-env-py"
  },
  "language_info": {
   "codemirror_mode": {
    "name": "ipython",
    "version": 3
   },
   "file_extension": ".py",
   "mimetype": "text/x-python",
   "name": "python",
   "nbconvert_exporter": "python",
   "pygments_lexer": "ipython3",
   "version": "3.10.12"
  }
 },
 "nbformat": 4,
 "nbformat_minor": 5
}
