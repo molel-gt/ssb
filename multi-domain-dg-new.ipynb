{
 "cells": [
  {
   "cell_type": "markdown",
   "id": "68456400-eed5-464b-bd8b-f11d544891b4",
   "metadata": {},
   "source": [
    "# Solving Full Cell Simulation Using the Discontinuous Galerkin Method with Interior Penalty\n",
    "Author: E Leshinka Molel\n",
    "\n",
    "In this notebook we set to solve the full cell simulation equations for a solid-state battery. The full-cell is simplified to include three domains\n",
    "- negative electrode\n",
    "- solid electrolyte (SE) separator\n",
    "- positive electrode\n",
    "\n",
    "At the interface between negative electrode and SE, and the interface between SE and positive electrode, we have charge transfer reactions. For simplicity, linear kinetics are assumed.\n",
    "\n",
    "Phase 1 is the solid active material and phase 2 is the SE.\n",
    "\n",
    "Current flowing due to charge transfer reaction is given by linear kinetics expression:\n",
    "$$i = \\frac{F i_{o}}{RT}(\\phi_1 - \\phi_2 - U)$$\n",
    "\n",
    "The above expression can be written twice, once for -ve electrode and once for +ve electrode.\n",
    "\n",
    "In our case, for simplicity, infinite kinetics are assumed at the negative electrode and SE separator."
   ]
  },
  {
   "cell_type": "markdown",
   "id": "c72a20cd-de1f-4d32-aa7b-4123e3da2460",
   "metadata": {},
   "source": [
    "## Setting Up Variational Formulation\n",
    "$$\\nabla \\cdot (-\\kappa \\nabla u) = f$$\n",
    "$$u(x=0,y) = u_0$$\n",
    "$$u(x=L_x,y) = u_{L_x}$$\n",
    "$$-\\kappa \\nabla u \\cdot \\hat{n}|_{y=0,y=L_y} = 0$$\n",
    "\n",
    "The total domain is indicated by $\\Omega$ and the external boundary of the domain by $\\partial \\Omega$.\n",
    "\n",
    "Because of the internal discontinuity in $u$, we use Discontinuous Lagrange elements. We solve the partial differential equation for each element $K_i$ then sum over all the $N$ elements. This involves multiplying by a test function $v$ and integrating over the element $K_i$.\n",
    "\n",
    "$$\\sum_i^N \\int_{K_i} -\\nabla \\cdot(\\kappa u_i) v \\mathrm{dx} = \\sum_i^N \\int_{K_i} f_i v_i \\mathrm{dx}$$\n",
    "Integrating the LHS by parts, we obtain:\n",
    "$$\\sum_i^N \\int_{K_i} -\\kappa \\nabla u_i \\cdot \\nabla v_i \\mathrm{dx} + \\sum_i^N \\int_{\\partial K_i} \\kappa \\hat{n_i} \\cdot \\nabla u_i \\cdot v_i \\mathrm{ds} = \\sum_i^N \\int_{K_i} f_i v_i \\mathrm{dx}$$\n",
    "\n",
    "We can split the second term on the LHS to have the parts of the external boundary: $\\bigcup \\partial \\Omega_i = \\partial \\Omega$ for $i=1,...,N$. Also $\\partial \\Omega_i \\bigcup \\partial \\hat{K_i} = \\partial K_i$.\n",
    "\n",
    "Therefore, we have:\n",
    "$$\\int_{\\Omega} -\\kappa \\nabla u \\cdot \\nabla v \\mathrm{dx} + \\int_{\\partial \\Omega} \\kappa \\hat{n} \\cdot \\nabla u \\cdot v \\mathrm{ds} + \\sum_i^N \\int_{\\partial \\hat{K_i}} \\kappa \\hat{n_i} \\cdot \\nabla u_i \\cdot v_i \\mathrm{ds} = \\int_{\\Omega} f v \\mathrm{dx}$$\n",
    "\n",
    "The second term on the LHS can be used to set the Neumann boundary conditions where we have those. Below, we expound further on the third term on the LHS.\n",
    "\n",
    "We note that for the third term, we have an integral for each side of the integral facet, say between cell $i$ and $j$. We can therefore write this integral as a jump integral (noting that $n_i=-n_j$) over the set of all internal facets $E_j, j=0,\\dots,N_{internal}$\n",
    "\n",
    "\\begin{align}\n",
    "\\sum_i^N \\int_{\\partial \\hat{K_i}} \\kappa \\hat{n_i} \\cdot \\nabla u_i \\cdot v_i \\mathrm{ds} = -\\sum_j^{N_{internal}} \\int_{E_j} \\kappa \\hat{n_j} \\cdot [\\nabla u_j \\cdot v_j] \\mathrm{ds}\n",
    "\\end{align}\n",
    "\n",
    "We can further expand the RHS of above using the relation $[a \\cdot b] = \\langle a\\rangle \\cdot [b] + [a] \\cdot \\langle b \\rangle$. Where $\\langle \\text{value} \\rangle$ denotes average of the value across the shared internal boundary. Therefore, we can rewrite our expression above into:\n",
    "\n",
    "\\begin{align}\n",
    "\\sum_i^N \\int_{\\partial \\hat{K_i}} \\kappa \\hat{n_i} \\cdot \\nabla u_i \\cdot v_i \\mathrm{ds} = -\\sum_j^{N_{internal}} \\int_{E_j} \\kappa \\hat{n_j} \\cdot [\\nabla u_j] \\cdot \\langle v_j\\rangle \\mathrm{ds} -\\sum_j^{N_{internal}} \\int_{E_j} \\kappa \\hat{n_j} \\cdot \\langle \\nabla u_j\\rangle \\cdot [v_j] \\mathrm{ds}\n",
    "\\end{align}\n",
    "\n",
    "Because we want our solution to be conservative, we enforce that the jump of the gradient in normal direction is zero by removing the term involving $[\\nabla u]$ from the RHS of the above expression.\n",
    "\n",
    "To maintain symmetry when $u$ and $v$ are switched, we add a term $-\\sum_j^{N_{internal}} \\int_{E_j} \\kappa \\hat{n_j} \\cdot \\langle \\nabla v_j\\rangle \\cdot [u_j] \\mathrm{ds}$ to the RHS. We also add another term to the RHS for coercivity: $\\int_{E_j}\\frac{\\gamma}{\\langle h \\rangle}[u][v]~\\mathrm{d}s$ where $h$ is the diameter of the circumscribed circle.\n",
    "\n",
    "We use Nitsche's method to impose Dirichlet and Neumann boundary conditions on the exterior boundary $\\partial \\Omega$."
   ]
  },
  {
   "cell_type": "code",
   "execution_count": 1,
   "id": "3519e4c8-0dd1-4fad-b2fd-78b4fe1fa600",
   "metadata": {},
   "outputs": [],
   "source": [
    "import os\n",
    "\n",
    "import dolfinx\n",
    "import gmsh\n",
    "import matplotlib.pyplot as plt\n",
    "import meshio\n",
    "import numpy as np\n",
    "import ufl\n",
    "import warnings\n",
    "\n",
    "from basix.ufl import element\n",
    "from dolfinx import cpp, default_scalar_type, fem, graph, io, mesh, nls, plot\n",
    "from dolfinx.fem import petsc\n",
    "from dolfinx.graph import partitioner_parmetis\n",
    "from dolfinx.io import gmshio, VTXWriter\n",
    "from dolfinx.nls import petsc as petsc_nls\n",
    "from dolfinx.geometry import bb_tree, compute_collisions_points, compute_colliding_cells\n",
    "from mpi4py import MPI\n",
    "from petsc4py import PETSc\n",
    "from ufl import (Circumradius, FacetNormal, SpatialCoordinate, TrialFunction, TestFunction,\n",
    "                 dot, div, dx, ds, dS, grad, inner, grad, avg, jump)\n",
    "\n",
    "import commons, geometry, utils\n",
    "\n",
    "warnings.simplefilter('ignore')"
   ]
  },
  {
   "cell_type": "code",
   "execution_count": 2,
   "id": "d2c29962-feed-4b9f-a883-9eaf22bbdc51",
   "metadata": {},
   "outputs": [],
   "source": [
    "!rm -r ~/.cache/fenics"
   ]
  },
  {
   "cell_type": "code",
   "execution_count": 3,
   "id": "ba0b3c95-e149-4247-82ed-b480255a3129",
   "metadata": {},
   "outputs": [],
   "source": [
    "Wa = 1e1\n",
    "encoding = io.XDMFFile.Encoding.HDF5\n",
    "comm = MPI.COMM_WORLD\n",
    "micron = 1e-6\n",
    "markers = commons.Markers()\n",
    "LX = 150 * micron\n",
    "LY = 40 * micron\n",
    "\n",
    "# workdir = \"output/subdomains_dg/150-40-0/20-55-20/1e-07/\"\n",
    "workdir = \"output/lmb_3dcc_structured/150-40-0/20-55-20/5e-07/\"\n",
    "utils.make_dir_if_missing(workdir)\n",
    "output_meshfile = os.path.join(workdir, 'mesh.msh')\n",
    "potential_resultsfile = os.path.join(workdir, \"potential.bp\")\n",
    "concentration_resultsfile = os.path.join(workdir, \"concentration.bp\")\n",
    "current_resultsfile = os.path.join(workdir, \"current.bp\")\n",
    "\n",
    "R = 8.3145\n",
    "T = 298\n",
    "faraday_const = 96485\n",
    "kappa_elec = 0.1\n",
    "kappa_pos_am = 0.2\n",
    "i0 = kappa_elec * R * T / faraday_const / Wa / LX\n",
    "\n",
    "def ocv(sod, L=1, k=2):\n",
    "    return 2.5 + (1/k) * np.log((L - sod) / sod)\n",
    "\n",
    "u_ocv = ocv(0.975)\n",
    "u_ocv = 0"
   ]
  },
  {
   "cell_type": "code",
   "execution_count": 4,
   "id": "8d57e3ad-4e66-4dd4-b264-c47dae52bab4",
   "metadata": {},
   "outputs": [
    {
     "name": "stdout",
     "output_type": "stream",
     "text": [
      "Info    : Reading 'output/lmb_3dcc_structured/150-40-0/20-55-20/5e-07/mesh.msh'...\n",
      "Info    : 77 entities\n",
      "Info    : 25382 nodes\n",
      "Info    : 50802 elements\n",
      "Info    : Done reading 'output/lmb_3dcc_structured/150-40-0/20-55-20/5e-07/mesh.msh'\n"
     ]
    }
   ],
   "source": [
    "partitioner = mesh.create_cell_partitioner(mesh.GhostMode.shared_facet)\n",
    "domain, ct, ft = gmshio.read_from_msh(output_meshfile, comm, partitioner=partitioner)\n",
    "\n",
    "tdim = domain.topology.dim\n",
    "fdim = tdim - 1\n",
    "domain.topology.create_connectivity(tdim, fdim)\n",
    "\n",
    "ft_imap = domain.topology.index_map(fdim)\n",
    "num_facets = ft_imap.size_local + ft_imap.num_ghosts\n",
    "indices = np.arange(0, num_facets)\n",
    "values = np.zeros(indices.shape, dtype=np.intc)  # all facets are tagged with zero\n",
    "\n",
    "values[ft.indices] = ft.values\n",
    "meshtags = mesh.meshtags(domain, fdim, indices, values)\n",
    "domaintags = mesh.meshtags(domain, domain.topology.dim, ct.indices, ct.values)\n",
    "\n",
    "dx = ufl.Measure(\"dx\", domain=domain, subdomain_data=domaintags)\n",
    "ds = ufl.Measure(\"ds\", domain=domain, subdomain_data=meshtags)\n",
    "dS = ufl.Measure(\"dS\", domain=domain, subdomain_data=meshtags)"
   ]
  },
  {
   "cell_type": "code",
   "execution_count": 5,
   "id": "f628643c-837c-4cf1-a26f-abe79a284ee1",
   "metadata": {},
   "outputs": [
    {
     "name": "stdout",
     "output_type": "stream",
     "text": [
      "Electrolyte Area: 3.70e-09\n",
      "Positive AM Area: 1.70e-09\n",
      "Positive Capacity: 1.221 [mA.h]\n",
      "Lithium concentration in NMC622: 26793.083525916143 [mol/m3]\n"
     ]
    }
   ],
   "source": [
    "nmc_622_density = 2.597e3\n",
    "area_electrolyte = fem.assemble_scalar(fem.form(1.0 * dx(markers.electrolyte)))\n",
    "area_positive_am = fem.assemble_scalar(fem.form(1.0 * dx(markers.positive_am)))\n",
    "print(f\"Electrolyte Area: {area_electrolyte:.2e}\")\n",
    "print(f\"Positive AM Area: {area_positive_am:.2e}\")\n",
    "# assume 1 meter\n",
    "positive_capacity = utils.nmc_capacity(nmc_622_density, area_positive_am * 1)\n",
    "print(f\"Positive Capacity: {positive_capacity * 1000:.3f} [mA.h]\")\n",
    "c_li = utils.lithium_concentration_nmc(nmc_622_density)\n",
    "print(f\"Lithium concentration in NMC622: {c_li} [mol/m3]\")"
   ]
  },
  {
   "cell_type": "markdown",
   "id": "73b22c20-0181-470b-9dac-a90ba61ce8fa",
   "metadata": {},
   "source": [
    "### Function Spaces"
   ]
  },
  {
   "cell_type": "code",
   "execution_count": 6,
   "id": "48640b77-72cc-4afc-983f-4b5eb3c4df7f",
   "metadata": {},
   "outputs": [],
   "source": [
    "V = fem.functionspace(domain, (\"DG\", 1))\n",
    "V_CG = fem.functionspace(domain, (\"CG\", 1))\n",
    "W = fem.functionspace(domain, (\"DG\", 1, (3,)))\n",
    "Q = fem.functionspace(domain, (\"DG\", 0))\n",
    "u = fem.Function(V, name='potential', dtype=np.float64)\n",
    "u_cg = fem.Function(V_CG, name='potential', dtype=np.float64)\n",
    "v = ufl.TestFunction(V)\n",
    "n = ufl.FacetNormal(domain)\n",
    "x = ufl.SpatialCoordinate(domain)\n",
    "\n",
    "h = ufl.CellDiameter(domain)\n",
    "h_avg = avg(h)"
   ]
  },
  {
   "cell_type": "code",
   "execution_count": 7,
   "id": "2b00790b-eaab-40ad-8895-011abe31fb61",
   "metadata": {},
   "outputs": [],
   "source": [
    "f = fem.Constant(domain, PETSc.ScalarType(0))\n",
    "g = fem.Constant(domain, PETSc.ScalarType(0))\n",
    "voltage = 1e-3\n",
    "u_left = fem.Function(V)\n",
    "with u_left.vector.localForm() as u0_loc:\n",
    "    u0_loc.set(0)\n",
    "u_right = fem.Function(V)\n",
    "with u_right.vector.localForm() as u1_loc:\n",
    "    u1_loc.set(voltage)"
   ]
  },
  {
   "cell_type": "markdown",
   "id": "f74cf817-89fa-4686-8933-ab7cc72fc0be",
   "metadata": {},
   "source": [
    "#### $\\kappa$ varying in each domain"
   ]
  },
  {
   "cell_type": "code",
   "execution_count": 8,
   "id": "cf5770e9-1ce0-438a-94c6-fb15f4318475",
   "metadata": {},
   "outputs": [],
   "source": [
    "kappa = fem.Function(Q)\n",
    "cells_electrolyte = ct.find(markers.electrolyte)\n",
    "cells_pos_am = ct.find(markers.positive_am)\n",
    "kappa.x.array[cells_electrolyte] = np.full_like(cells_electrolyte, kappa_elec, dtype=default_scalar_type)\n",
    "kappa.x.array[cells_pos_am] = np.full_like(cells_pos_am, kappa_pos_am, dtype=default_scalar_type)"
   ]
  },
  {
   "cell_type": "markdown",
   "id": "ae3660a7-6e7a-4b41-ad39-050367798eac",
   "metadata": {},
   "source": [
    "### variational formulation"
   ]
  },
  {
   "cell_type": "code",
   "execution_count": 9,
   "id": "5e4220b5-3f63-48aa-9911-f39e118c2483",
   "metadata": {},
   "outputs": [],
   "source": [
    "alpha = 15\n",
    "gamma = 15\n",
    "\n",
    "F = kappa * inner(grad(u), grad(v)) * dx - f * v * dx - kappa * inner(grad(u), n) * v * ds\n",
    "\n",
    "# Add DG/IP terms\n",
    "F += - avg(kappa) * inner(jump(u, n), avg(grad(v))) * dS(0)\n",
    "# F += - inner(jump(kappa * u, n), avg(grad(v))) * dS(0) #\n",
    "F += - inner(avg(kappa * grad(u)), jump(v, n)) * dS(0)\n",
    "# F += + avg(u) * inner(jump(kappa, n), avg(grad(v))) * dS(0) #\n",
    "\n",
    "F += alpha / h_avg * avg(kappa) * inner(jump(v, n), jump(u, n)) * dS(0)\n",
    "\n",
    "# Internal boundary\n",
    "F += + avg(kappa) * dot(avg(grad(v)), u_ocv * n(\"+\") -(R * T / i0 / faraday_const) * (kappa * grad(u))('-')) * dS(markers.electrolyte_v_positive_am)\n",
    "F += -2 * alpha / h_avg * avg(kappa) * dot(jump(v, n), u_ocv * n(\"+\") - (R * T / i0 / faraday_const) * (kappa * grad(u))('-')) * dS(markers.electrolyte_v_positive_am)\n",
    "\n",
    "# Symmetry\n",
    "F += - avg(kappa) * inner(jump(u, n), avg(grad(v))) * dS(markers.electrolyte_v_positive_am)\n",
    "\n",
    "\n",
    "# Coercivity\n",
    "F += 2 * alpha / h_avg * avg(kappa) * inner(jump(u, n), jump(v, n)) * dS(markers.electrolyte_v_positive_am)\n",
    "\n",
    "# Nitsche Dirichlet BC terms on left and right boundaries\n",
    "F += - kappa * (u - u_left) * inner(n, grad(v)) * ds(markers.left)\n",
    "F += -gamma / h * (u - u_left) * v * ds(markers.left)\n",
    "F += - kappa * (u - u_right) * inner(n, grad(v)) * ds(markers.right) \n",
    "F +=  -gamma / h * (u - u_right) * v * ds(markers.right)\n",
    "\n",
    "# Nitsche Neumann BC terms on insulated boundary\n",
    "F += -g * v * ds(markers.insulated_electrolyte) + gamma * h * g * inner(grad(v), n) * ds(markers.insulated_electrolyte)\n",
    "F += - gamma * h * inner(inner(grad(u), n), inner(grad(v), n)) * ds(markers.insulated_electrolyte)\n",
    "F += -g * v * ds(markers.insulated_positive_am) + gamma * h * g * inner(grad(v), n) * ds(markers.insulated_positive_am)\n",
    "F += - gamma * h * inner(inner(grad(u), n), inner(grad(v), n)) * ds(markers.insulated_positive_am)"
   ]
  },
  {
   "cell_type": "markdown",
   "id": "f316a76c-fcc6-466d-b39f-24a5110922c7",
   "metadata": {},
   "source": [
    "### variational problem solution"
   ]
  },
  {
   "cell_type": "code",
   "execution_count": 10,
   "id": "6636264d-a1e9-4fe4-b2bb-c1a153c64b51",
   "metadata": {},
   "outputs": [
    {
     "name": "stdout",
     "output_type": "stream",
     "text": [
      "Converged in 1 iterations\n",
      "-3.121527975118231e-07\n",
      "Superficial current density at charge xfer area:  0.6475931991820332\n",
      "Positive Overpotential               : 0.0001 V\n",
      "Current at left boundary             : 2.59e-05 A\n",
      "Current at interface                 : 3.12e-07 A\n",
      "Current at right boundary            : 3.34e-05 A\n",
      "Current at insulated electrolyte     : 3.86e-09 A\n",
      "Current at insulated positive am     : 2.29e-09 A\n",
      "Float precision                      : 2.22e-16\n"
     ]
    }
   ],
   "source": [
    "problem = petsc.NonlinearProblem(F, u)\n",
    "solver = petsc_nls.NewtonSolver(comm, problem)\n",
    "solver.convergence_criterion = \"residual\"\n",
    "solver.maximum_iterations = 25\n",
    "# solver.atol = 1e-12\n",
    "# solver.rtol = 1e-11\n",
    "\n",
    "ksp = solver.krylov_solver\n",
    "opts = PETSc.Options()\n",
    "option_prefix = ksp.getOptionsPrefix()\n",
    "opts[f\"{option_prefix}ksp_type\"] = \"preonly\"\n",
    "opts[f\"{option_prefix}pc_type\"] = \"lu\"\n",
    "ksp.setFromOptions()\n",
    "n_iters, converged = solver.solve(u)\n",
    "if not converged:\n",
    "    print(f\"Not converged in {n_iters} iterations\")\n",
    "else:\n",
    "    print(f\"Converged in {n_iters} iterations\")\n",
    "\n",
    "u_cg.interpolate(u)\n",
    "with VTXWriter(comm, potential_resultsfile, [u], engine=\"BP4\") as vtx:\n",
    "    vtx.write(0.0)\n",
    "\n",
    "current_expr = fem.Expression(-kappa * grad(u), W.element.interpolation_points())\n",
    "current_h = fem.Function(W, name='current_density')\n",
    "current_h.interpolate(current_expr)\n",
    "\n",
    "with VTXWriter(comm, current_resultsfile, [current_h], engine=\"BP4\") as vtx:\n",
    "    vtx.write(0.0)\n",
    "\n",
    "# results summary\n",
    "I_left = fem.assemble_scalar(fem.form(inner(current_h, n) * ds(markers.left)))\n",
    "I_right = fem.assemble_scalar(fem.form(inner(current_h, n) * ds(markers.right)))\n",
    "I_interface = fem.assemble_scalar(fem.form(inner(current_h(\"-\"), n(\"-\")) * dS(markers.electrolyte_v_positive_am)))\n",
    "area_pos_xfer = fem.assemble_scalar(fem.form(1.0 * dS(markers.electrolyte_v_positive_am)))\n",
    "eta_pos = fem.assemble_scalar(fem.form((u(\"+\") - u(\"-\") - u_ocv) * dS(markers.electrolyte_v_positive_am))) / area_pos_xfer\n",
    "I_pos_charge_transfer = eta_pos * i0 * faraday_const / (R * T) * area_pos_xfer\n",
    "I_insulated_sse = fem.assemble_scalar(fem.form(np.abs(inner(current_h, n)) * ds(markers.insulated_electrolyte)))\n",
    "I_insulated_pos_am = fem.assemble_scalar(fem.form(np.abs(inner(current_h, n)) * ds(markers.insulated_positive_am)))\n",
    "print(I_interface)\n",
    "print(\"Superficial current density at charge xfer area: \", I_left/area_pos_xfer)\n",
    "print(f\"Positive Overpotential               : {eta_pos:.4f} V\")\n",
    "print(f\"Current at left boundary             : {I_left:.2e} A\")\n",
    "print(f\"Current at interface                 : {I_pos_charge_transfer:.2e} A\")\n",
    "print(f\"Current at right boundary            : {abs(I_right):.2e} A\")\n",
    "print(f\"Current at insulated electrolyte     : {I_insulated_sse:.2e} A\")\n",
    "print(f\"Current at insulated positive am     : {I_insulated_pos_am:.2e} A\")\n",
    "print(f\"Float precision                      : {np.finfo(float).eps:.2e}\")"
   ]
  },
  {
   "cell_type": "code",
   "execution_count": 11,
   "id": "80f3d579-0e90-4bf6-baa4-6029bd9911d4",
   "metadata": {},
   "outputs": [
    {
     "name": "stdout",
     "output_type": "stream",
     "text": [
      "Left - avg potential  : -1.169e-09, stdev potential  : 1.532e-08\n",
      "Right - avg potential : 1.000e-03, stdev potential  : 1.133e-09\n"
     ]
    }
   ],
   "source": [
    "area_left = fem.assemble_scalar(fem.form(1.0 * ds(markers.left)))\n",
    "area_right = fem.assemble_scalar(fem.form(1.0 * ds(markers.right)))\n",
    "u_avg_right = fem.assemble_scalar(fem.form(u * ds(markers.right))) / area_right\n",
    "u_avg_left = fem.assemble_scalar(fem.form(u * ds(markers.left))) / area_left\n",
    "u_stdev_right = np.sqrt(fem.assemble_scalar(fem.form((u - u_avg_right) ** 2 * ds(markers.right))) / area_right)\n",
    "u_stdev_left = np.sqrt(fem.assemble_scalar(fem.form((u - u_avg_left) ** 2 * ds(markers.left))) / area_left)\n",
    "print(f\"Left - avg potential  : {u_avg_left:.3e}, stdev potential  : {u_stdev_left:.3e}\")\n",
    "print(f\"Right - avg potential : {u_avg_right:.3e}, stdev potential  : {u_stdev_right:.3e}\")"
   ]
  },
  {
   "cell_type": "markdown",
   "id": "d2646976-6364-4eda-a054-360c4dd2063b",
   "metadata": {},
   "source": [
    "## results summary visualizations"
   ]
  },
  {
   "cell_type": "code",
   "execution_count": 12,
   "id": "147210cf-6ff6-4bab-a1e7-082f7a264f69",
   "metadata": {},
   "outputs": [
    {
     "data": {
      "image/png": "[encoded data removed]",
      "text/plain": [
       "<Figure size 640x480 with 1 Axes>"
      ]
     },
     "metadata": {},
     "output_type": "display_data"
    }
   ],
   "source": [
    "bb_trees = bb_tree(domain, domain.topology.dim)\n",
    "n_points = 10000\n",
    "tol = 1e-14  # Avoid hitting the outside of the domain\n",
    "x = np.linspace(tol, LX - tol, n_points)\n",
    "\n",
    "y_pos = [0.125, 0.5, 0.875]\n",
    "points = np.zeros((3, n_points))\n",
    "points[0] = x\n",
    "fig, ax = plt.subplots()\n",
    "for pos in y_pos:\n",
    "    y = np.ones(n_points) * pos * LY  # midline\n",
    "    points[1] = y\n",
    "    u_values = []\n",
    "    cells = []\n",
    "    points_on_proc = []\n",
    "    # Find cells whose bounding-box collide with the the points\n",
    "    cell_candidates = compute_collisions_points(bb_trees, points.T)\n",
    "    # Choose one of the cells that contains the point\n",
    "    colliding_cells = compute_colliding_cells(domain, cell_candidates, points.T)\n",
    "    for i, point in enumerate(points.T):\n",
    "        if len(colliding_cells.links(i)) > 0:\n",
    "            points_on_proc.append(point)\n",
    "            cells.append(colliding_cells.links(i)[0])\n",
    "    points_on_proc = np.array(points_on_proc, dtype=np.float64)\n",
    "    u_values = u.eval(points_on_proc, cells)\n",
    "\n",
    "    ax.plot(points_on_proc[:, 0] / micron, u_values, linewidth=2, label=f'{pos:.3f}' + r'$L_y$')\n",
    "ax.axhline(y=10/11, color='k', linestyle='--', linewidth=0.5)\n",
    "ax.axvline(x=100, color='k', linestyle='--', linewidth=0.5)\n",
    "# ax.grid(True)\n",
    "ax.legend()\n",
    "ax.set_xlim([0, LX / micron])\n",
    "ax.set_ylim([0, voltage])\n",
    "ax.set_ylabel(r'$\\phi$ [V]', rotation=0, labelpad=30, fontsize='xx-large')\n",
    "ax.set_xlabel(r'[$\\mu$m]')\n",
    "ax.set_title('Potential Across Midline')\n",
    "ax.set_box_aspect(1)\n",
    "ax.minorticks_on();\n",
    "plt.tight_layout()\n",
    "plt.show()"
   ]
  },
  {
   "cell_type": "code",
   "execution_count": 13,
   "id": "b22ed79f-2c28-409c-9691-fc58baf48754",
   "metadata": {},
   "outputs": [
    {
     "data": {
      "image/png": "[encoded data removed]",
      "text/plain": [
       "<Figure size 640x480 with 1 Axes>"
      ]
     },
     "metadata": {},
     "output_type": "display_data"
    }
   ],
   "source": [
    "bb_trees = bb_tree(domain, domain.topology.dim)\n",
    "x = np.linspace(tol, LX - tol, n_points)\n",
    "points = np.zeros((3, n_points))\n",
    "points[0] = x\n",
    "fig, ax = plt.subplots()\n",
    "for pos in y_pos:\n",
    "    y = np.ones(n_points) * pos * LY  # midline\n",
    "    points[1] = y\n",
    "    u_values = []\n",
    "    cells = []\n",
    "    points_on_proc = []\n",
    "    # Find cells whose bounding-box collide with the the points\n",
    "    cell_candidates = compute_collisions_points(bb_trees, points.T)\n",
    "    # Choose one of the cells that contains the point\n",
    "    colliding_cells = compute_colliding_cells(domain, cell_candidates, points.T)\n",
    "    for i, point in enumerate(points.T):\n",
    "        if len(colliding_cells.links(i)) > 0:\n",
    "            points_on_proc.append(point)\n",
    "            cells.append(colliding_cells.links(i)[0])\n",
    "    points_on_proc = np.array(points_on_proc, dtype=np.float64)\n",
    "    current_values = current_h.eval(points_on_proc, cells)\n",
    "    \n",
    "    ax.plot(points_on_proc[:, 0] / micron, -current_values[:,0], label=f'{pos:.3f}' + r'$L_y$', linewidth=2)\n",
    "ax.grid(True)\n",
    "ax.legend()\n",
    "ax.set_xlim([0, LX / micron])\n",
    "# ax.set_ylim([0, voltage])\n",
    "ax.set_ylabel(r'$i_x$ [Am$^{-2}$]', rotation=90, labelpad=0, fontsize='xx-large')\n",
    "ax.set_xlabel(r'[$\\mu$m]')\n",
    "ax.set_title('Current Density Across Midline')\n",
    "plt.tight_layout()\n",
    "plt.show()"
   ]
  },
  {
   "cell_type": "code",
   "execution_count": 14,
   "id": "4501d3c9-d587-4301-9821-aa3e377c5384",
   "metadata": {},
   "outputs": [
    {
     "name": "stdout",
     "output_type": "stream",
     "text": [
      "Info    : Reading 'output/lmb_3dcc_structured/150-40-0/20-55-20/5e-07/mesh.msh'...\n",
      "Info    : 77 entities\n",
      "Info    : 25382 nodes\n",
      "Info    : 50802 elements\n",
      "Info    : Done reading 'output/lmb_3dcc_structured/150-40-0/20-55-20/5e-07/mesh.msh'\n"
     ]
    }
   ],
   "source": [
    "full_mesh, cell_tags, facet_tags = dolfinx.io.gmshio.read_from_msh(output_meshfile, comm, 0)\n",
    "\n",
    "# Create submesh for pe\n",
    "pam_domain, entity_map, vertex_map, geom_map = dolfinx.mesh.create_submesh(full_mesh, full_mesh.topology.dim, cell_tags.indices[(cell_tags.values == markers.positive_am)])\n",
    "\n",
    "# Transfer facet tags from parent mesh to submesh\n",
    "tdim = full_mesh.topology.dim\n",
    "fdim = tdim - 1\n",
    "c_to_f = full_mesh.topology.connectivity(tdim, fdim)\n",
    "f_map = full_mesh.topology.index_map(fdim)\n",
    "all_facets = f_map.size_local + f_map.num_ghosts\n",
    "all_values = np.zeros(all_facets, dtype=np.int32)\n",
    "all_values[facet_tags.indices] = facet_tags.values\n",
    "\n",
    "pam_domain.topology.create_entities(fdim)\n",
    "subf_map = pam_domain.topology.index_map(fdim)\n",
    "pam_domain.topology.create_connectivity(tdim, fdim)\n",
    "c_to_f_sub = pam_domain.topology.connectivity(tdim, fdim)\n",
    "num_sub_facets = subf_map.size_local + subf_map.num_ghosts\n",
    "sub_values = np.empty(num_sub_facets, dtype=np.int32)\n",
    "for i, entity in enumerate(entity_map):\n",
    "    parent_facets = c_to_f.links(entity)\n",
    "    child_facets = c_to_f_sub.links(i)\n",
    "    for child, parent in zip(child_facets, parent_facets):\n",
    "        sub_values[child] = all_values[parent]\n",
    "sub_meshtag = dolfinx.mesh.meshtags(pam_domain, pam_domain.topology.dim - 1, np.arange(\n",
    "    num_sub_facets, dtype=np.int32), sub_values)\n",
    "pam_domain.topology.create_connectivity(pam_domain.topology.dim - 1, pam_domain.topology.dim)\n",
    "\n",
    "with dolfinx.io.XDMFFile(comm, \"submesh.xdmf\", \"w\", encoding=encoding) as xdmf:\n",
    "    xdmf.write_mesh(pam_domain)\n",
    "    xdmf.write_meshtags(sub_meshtag, x=pam_domain.geometry)"
   ]
  },
  {
   "cell_type": "code",
   "execution_count": 15,
   "id": "2759a7e8-015d-49e4-9e85-89aa9231d55d",
   "metadata": {},
   "outputs": [
    {
     "ename": "AttributeError",
     "evalue": "'dolfinx.cpp.mesh.Mesh_float64' object has no attribute '_cpp_object'",
     "output_type": "error",
     "traceback": [
      "\u001b[0;31m---------------------------------------------------------------------------\u001b[0m",
      "\u001b[0;31mAttributeError\u001b[0m                            Traceback (most recent call last)",
      "Cell \u001b[0;32mIn[15], line 23\u001b[0m\n\u001b[1;32m     20\u001b[0m potential \u001b[38;5;241m=\u001b[39m fem\u001b[38;5;241m.\u001b[39mFunction(Q, dtype\u001b[38;5;241m=\u001b[39mnp\u001b[38;5;241m.\u001b[39mfloat64)\n\u001b[1;32m     21\u001b[0m padding \u001b[38;5;241m=\u001b[39m \u001b[38;5;241m1e-14\u001b[39m\n\u001b[1;32m     22\u001b[0m u1_2_u2_nmm_data \u001b[38;5;241m=\u001b[39m \\\n\u001b[0;32m---> 23\u001b[0m         \u001b[43mfem\u001b[49m\u001b[38;5;241;43m.\u001b[39;49m\u001b[43mcreate_nonmatching_meshes_interpolation_data\u001b[49m\u001b[43m(\u001b[49m\n\u001b[1;32m     24\u001b[0m \u001b[43m            \u001b[49m\u001b[43mpotential\u001b[49m\u001b[38;5;241;43m.\u001b[39;49m\u001b[43mfunction_space\u001b[49m\u001b[38;5;241;43m.\u001b[39;49m\u001b[43mmesh\u001b[49m\u001b[38;5;241;43m.\u001b[39;49m\u001b[43m_cpp_object\u001b[49m\u001b[43m,\u001b[49m\n\u001b[1;32m     25\u001b[0m \u001b[43m            \u001b[49m\u001b[43mpotential\u001b[49m\u001b[38;5;241;43m.\u001b[39;49m\u001b[43mfunction_space\u001b[49m\u001b[38;5;241;43m.\u001b[39;49m\u001b[43melement\u001b[49m\u001b[43m,\u001b[49m\n\u001b[1;32m     26\u001b[0m \u001b[43m            \u001b[49m\u001b[43mu_cg\u001b[49m\u001b[38;5;241;43m.\u001b[39;49m\u001b[43mfunction_space\u001b[49m\u001b[38;5;241;43m.\u001b[39;49m\u001b[43mmesh\u001b[49m\u001b[38;5;241;43m.\u001b[39;49m\u001b[43m_cpp_object\u001b[49m\u001b[43m,\u001b[49m\u001b[43m \u001b[49m\u001b[43mpadding\u001b[49m\u001b[38;5;241;43m=\u001b[39;49m\u001b[43mpadding\u001b[49m\u001b[43m)\u001b[49m\n\u001b[1;32m     28\u001b[0m potential\u001b[38;5;241m.\u001b[39minterpolate(u_cg, nmm_interpolation_data\u001b[38;5;241m=\u001b[39mu1_2_u2_nmm_data)\n\u001b[1;32m     29\u001b[0m potential\u001b[38;5;241m.\u001b[39mx\u001b[38;5;241m.\u001b[39mscatter_forward()\n",
      "File \u001b[0;32m~/miniforge3/envs/fea-env/lib/python3.12/site-packages/dolfinx/fem/__init__.py:94\u001b[0m, in \u001b[0;36mcreate_nonmatching_meshes_interpolation_data\u001b[0;34m(mesh_to, element, mesh_from, cells, padding)\u001b[0m\n\u001b[1;32m     79\u001b[0m \u001b[38;5;250m\u001b[39m\u001b[38;5;124;03m\"\"\"Generate data needed to interpolate discrete functions across different meshes.\u001b[39;00m\n\u001b[1;32m     80\u001b[0m \n\u001b[1;32m     81\u001b[0m \u001b[38;5;124;03mArgs:\u001b[39;00m\n\u001b[0;32m   (...)\u001b[0m\n\u001b[1;32m     89\u001b[0m \u001b[38;5;124;03m    Data needed to interpolation functions defined on function spaces on the meshes.\u001b[39;00m\n\u001b[1;32m     90\u001b[0m \u001b[38;5;124;03m\"\"\"\u001b[39;00m\n\u001b[1;32m     91\u001b[0m \u001b[38;5;28;01mif\u001b[39;00m cells \u001b[38;5;129;01mis\u001b[39;00m \u001b[38;5;28;01mNone\u001b[39;00m:\n\u001b[1;32m     92\u001b[0m     \u001b[38;5;28;01mreturn\u001b[39;00m PointOwnershipData(\n\u001b[1;32m     93\u001b[0m         \u001b[38;5;241m*\u001b[39m_create_nonmatching_meshes_interpolation_data(\n\u001b[0;32m---> 94\u001b[0m             \u001b[43mmesh_to\u001b[49m\u001b[38;5;241;43m.\u001b[39;49m\u001b[43m_cpp_object\u001b[49m, element, mesh_from\u001b[38;5;241m.\u001b[39m_cpp_object, padding\n\u001b[1;32m     95\u001b[0m         )\n\u001b[1;32m     96\u001b[0m     )\n\u001b[1;32m     97\u001b[0m \u001b[38;5;28;01melse\u001b[39;00m:\n\u001b[1;32m     98\u001b[0m     \u001b[38;5;28;01mreturn\u001b[39;00m PointOwnershipData(\n\u001b[1;32m     99\u001b[0m         \u001b[38;5;241m*\u001b[39m_create_nonmatching_meshes_interpolation_data(\n\u001b[1;32m    100\u001b[0m             mesh_to, element, mesh_from\u001b[38;5;241m.\u001b[39m_cpp_object, cells, padding\n\u001b[1;32m    101\u001b[0m         )\n\u001b[1;32m    102\u001b[0m     )\n",
      "\u001b[0;31mAttributeError\u001b[0m: 'dolfinx.cpp.mesh.Mesh_float64' object has no attribute '_cpp_object'"
     ]
    }
   ],
   "source": [
    "c_init = c_li  # mol/m3\n",
    "t = 0 # Start time\n",
    "eps = 1e-8\n",
    "dt = 1e-2\n",
    "T = 500 * dt\n",
    "\n",
    "dx = ufl.Measure(\"dx\", domain=pam_domain)\n",
    "ds = ufl.Measure(\"ds\", domain=pam_domain, subdomain_data=sub_meshtag)\n",
    "dS = ufl.Measure(\"dS\", domain=pam_domain, subdomain_data=sub_meshtag)\n",
    "n = ufl.FacetNormal(pam_domain)\n",
    "tdim = pam_domain.topology.dim\n",
    "fdim = tdim - 1\n",
    "\n",
    "Q = fem.functionspace(pam_domain, (\"CG\", 1))\n",
    "c_n = fem.Function(Q, dtype=np.float64)\n",
    "c_n.name = \"c_n\"\n",
    "c_n.interpolate(lambda x:  x[0] - x[0] + c_init)\n",
    "c_n.x.scatter_forward()\n",
    "\n",
    "potential = fem.Function(Q, dtype=np.float64)\n",
    "padding = 1e-14\n",
    "u1_2_u2_nmm_data = \\\n",
    "        fem.create_nonmatching_meshes_interpolation_data(\n",
    "            potential.function_space.mesh._cpp_object,\n",
    "            potential.function_space.element,\n",
    "            u_cg.function_space.mesh._cpp_object, padding=padding)\n",
    "\n",
    "potential.interpolate(u_cg, nmm_interpolation_data=u1_2_u2_nmm_data)\n",
    "potential.x.scatter_forward()\n",
    "\n",
    "ch = fem.Function(Q, dtype=np.float64)\n",
    "ch.name = \"concentration\"\n",
    "ch.interpolate(lambda x: x[0] - x[0] + c_init)\n",
    "ch.x.scatter_forward()\n",
    "\n",
    "c = ufl.TrialFunction(Q)\n",
    "q = ufl.TestFunction(Q)\n",
    "\n",
    "f = fem.Constant(pam_domain, PETSc.ScalarType(0))\n",
    "g = fem.Constant(pam_domain, PETSc.ScalarType(0))\n",
    "g_middle = fem.Constant(pam_domain, PETSc.ScalarType(0))\n",
    "D_bulk = 1e-9\n",
    "D = fem.Constant(pam_domain, D_bulk)\n",
    "\n",
    "a = c * q * dx + dt * ufl.inner(D * ufl.grad(c), ufl.grad(q)) * dx\n",
    "L = (\n",
    "    (c_n + dt * f) * q * dx \n",
    "    + dt * ufl.inner(g, q) * ds(markers.insulated_positive_am) \n",
    "    + dt * ufl.inner(g, q) * ds(markers.right)\n",
    "    + dt * ufl.inner(ufl.grad(potential) / 96485, n) * q * ds(markers.electrolyte_v_positive_am)\n",
    ")\n",
    "\n",
    "bilinear_form = fem.form(a)\n",
    "linear_form = fem.form(L)\n",
    "\n",
    "A = petsc.assemble_matrix(bilinear_form, bcs=[])\n",
    "A.assemble()\n",
    "b = fem.petsc.create_vector(linear_form)\n",
    "\n",
    "solver = PETSc.KSP().create(comm)\n",
    "solver.setOperators(A)\n",
    "solver.setType(PETSc.KSP.Type.PREONLY)\n",
    "solver.getPC().setType(PETSc.PC.Type.LU)\n",
    "solver.setTolerances(atol=1e-3, rtol=1e-3)\n",
    "\n",
    "c_vtx = VTXWriter(comm, concentration_resultsfile, [ch], engine=\"BP4\")\n",
    "c_vtx.write(0.0)\n",
    "\n",
    "while t < T:\n",
    "    t += dt\n",
    "\n",
    "    A = fem.petsc.assemble_matrix(bilinear_form, bcs=[])\n",
    "    A.assemble()\n",
    "    solver.setOperators(A)\n",
    "\n",
    "    # Update the right hand side reusing the initial vector\n",
    "    with b.localForm() as loc_b:\n",
    "        loc_b.set(0)\n",
    "    fem.petsc.assemble_vector(b, linear_form)\n",
    "\n",
    "    # Apply Dirichlet boundary condition to the vector\n",
    "    fem.petsc.apply_lifting(b, [bilinear_form], [[]])\n",
    "    b.ghostUpdate(addv=PETSc.InsertMode.ADD_VALUES, mode=PETSc.ScatterMode.REVERSE)\n",
    "    fem.petsc.set_bc(b, [])\n",
    "\n",
    "    # Solve linear problem\n",
    "    solver.solve(b, ch.vector)\n",
    "    ch.x.scatter_forward()\n",
    "    # c_avg = fem.assemble_scalar(fem.form(ch * dx)) / fem.assemble_scalar(fem.form(1 * dx))\n",
    "    # print(f\"time: {t}s, average concentration: {c_avg}\")\n",
    "\n",
    "    # Update solution at previous time step (c_n)\n",
    "    if np.any(ch.x.array < 0):\n",
    "        print(f\"Lithium depletion at {t:.2e} seconds\")\n",
    "        break\n",
    "    if np.any(ch.x.array == np.inf):\n",
    "        print(f\"diverged at {t:.2e} seconds\")\n",
    "        break\n",
    "    c_n.x.array[:] = ch.x.array\n",
    "    c_vtx.write(t)\n",
    "c_vtx.close()"
   ]
  },
  {
   "cell_type": "code",
   "execution_count": null,
   "id": "d47b456d-eacc-41a9-a25a-6d7d2b37d72a",
   "metadata": {},
   "outputs": [],
   "source": []
  }
 ],
 "metadata": {
  "kernelspec": {
   "display_name": "FEA",
   "language": "python",
   "name": "fea-env"
  },
  "language_info": {
   "codemirror_mode": {
    "name": "ipython",
    "version": 3
   },
   "file_extension": ".py",
   "mimetype": "text/x-python",
   "name": "python",
   "nbconvert_exporter": "python",
   "pygments_lexer": "ipython3",
   "version": "3.12.2"
  }
 },
 "nbformat": 4,
 "nbformat_minor": 5
}
