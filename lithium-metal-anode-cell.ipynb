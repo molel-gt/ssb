{
 "cells": [
  {
   "cell_type": "code",
   "execution_count": 28,
   "metadata": {},
   "outputs": [],
   "source": [
    "import pybamm\n",
    "import numpy as np"
   ]
  },
  {
   "cell_type": "code",
   "execution_count": 29,
   "metadata": {},
   "outputs": [],
   "source": [
    "parameters = {\n",
    "    \"Lithium counter electrode exchange-current density [A.m-2]\": 12.6,\n",
    "    \"Lithium counter electrode conductivity [S.m-1]\": 1.0776e7,\n",
    "    \"Lithium counter electrode thickness [m]\": 150e-6,\n",
    "    \"Separator thickness [m]\": 50e-6,\n",
    "    \"Cation transference number\": 1,\n",
    "    \"Electrolyte conductivity [S.m-1]\": 0.10,\n",
    "    \"Positive electrode conductivity [S.m-1]\": 0.18,\n",
    "    \"Separator porosity\": 1,\n",
    "    \"Positive eletrode active material volume fraction\": 0.70,\n",
    "    \"Positive electrode porosity\": 0.30,\n",
    "    \"Positive electrode thickness [m]\": 100e-6,\n",
    "    \"Current function [A]\": 1e-3,\n",
    "    \"Electrode height [m]\": 1e-2,\n",
    "    \"Electrode width [m]\": 1e-2,\n",
    "    'Typical plated lithium concentration [mol.m-3]': 0,\n",
    "    'Exchange-current density for plating [A.m-2]': 1.0,\n",
    "    }\n",
    "pybamm.set_logging_level(\"INFO\")\n",
    "\n",
    "options = {\n",
    "    'working electrode': 'positive',\n",
    "}\n",
    "chemistry = pybamm.parameter_sets.Chen2020\n",
    "params = pybamm.ParameterValues(chemistry=chemistry)\n",
    "params.update(parameters, check_already_exists=False)"
   ]
  },
  {
   "cell_type": "code",
   "execution_count": 30,
   "metadata": {},
   "outputs": [
    {
     "name": "stderr",
     "output_type": "stream",
     "text": [
      "2022-02-05 10:59:10,797 - [INFO] parameter_values.process_model(415): Start setting parameters for Half Cell\n",
      "2022-02-05 10:59:10,859 - [INFO] parameter_values.process_model(506): Finish setting parameters for Half Cell\n",
      "2022-02-05 10:59:10,862 - [INFO] discretisation.process_model(137): Start discretising Half Cell\n",
      "2022-02-05 10:59:10,976 - [INFO] discretisation.process_model(244): Finish discretising Half Cell\n",
      "2022-02-05 10:59:10,977 - [INFO] base_solver.solve(820): Start solving Half Cell with CasADi solver with 'safe' mode\n",
      "2022-02-05 10:59:10,978 - [INFO] base_solver.set_up(111): Start solver set-up\n",
      "2022-02-05 10:59:11,010 - [INFO] base_solver.set_up(683): Finish solver set-up\n",
      "2022-02-05 10:59:13,927 - [INFO] base_solver.solve(1093): Finish solving Half Cell (the solver successfully reached the end of the integration interval)\n",
      "2022-02-05 10:59:13,928 - [INFO] base_solver.solve(1094): Set-up time: 33.066 ms, Solve time: 2.916 s (of which integration time: 2.488 s), Total time: 2.950 s\n"
     ]
    },
    {
     "data": {
      "text/plain": [
       "<pybamm.solvers.solution.Solution at 0x7fc0d63f0be0>"
      ]
     },
     "execution_count": 30,
     "metadata": {},
     "output_type": "execute_result"
    }
   ],
   "source": [
    "t_eval = np.linspace(0, 3600, 1000)\n",
    "model = pybamm.lithium_ion.BasicDFNHalfCell(name='Half Cell', options=options)\n",
    "safe_solver = pybamm.CasadiSolver(atol=1e-3, rtol=1e-3, mode=\"safe\")\n",
    "sim = pybamm.Simulation(model=model, parameter_values=params,\n",
    "                        solver=safe_solver)\n",
    "sim.solve(t_eval)"
   ]
  },
  {
   "cell_type": "code",
   "execution_count": 31,
   "metadata": {},
   "outputs": [
    {
     "data": {
      "application/vnd.jupyter.widget-view+json": {
       "model_id": "bd414225c0d0421eb6aff53d70a0f8e2",
       "version_major": 2,
       "version_minor": 0
      },
      "text/plain": [
       "interactive(children=(FloatSlider(value=0.0, description='t', max=1.0, step=0.01), Output()), _dom_classes=('w…"
      ]
     },
     "metadata": {},
     "output_type": "display_data"
    },
    {
     "data": {
      "text/plain": [
       "<pybamm.plotting.quick_plot.QuickPlot at 0x7fc0d68bdd30>"
      ]
     },
     "execution_count": 31,
     "metadata": {},
     "output_type": "execute_result"
    }
   ],
   "source": [
    "sim.plot()"
   ]
  }
 ],
 "metadata": {
  "interpreter": {
   "hash": "916dbcbb3f70747c44a77c7bcd40155683ae19c65e1c03b4aa3499c5328201f1"
  },
  "kernelspec": {
   "display_name": "Python 3.8.10 64-bit",
   "language": "python",
   "name": "python3"
  },
  "language_info": {
   "codemirror_mode": {
    "name": "ipython",
    "version": 3
   },
   "file_extension": ".py",
   "mimetype": "text/x-python",
   "name": "python",
   "nbconvert_exporter": "python",
   "pygments_lexer": "ipython3",
   "version": "3.8.10"
  },
  "orig_nbformat": 4
 },
 "nbformat": 4,
 "nbformat_minor": 2
}
