{
 "cells": [
  {
   "cell_type": "code",
   "execution_count": 1,
   "id": "e6c6f058-f824-401d-852f-7bf2724d5df6",
   "metadata": {
    "editable": true,
    "slideshow": {
     "slide_type": ""
    },
    "tags": []
   },
   "outputs": [],
   "source": [
    "import argparse\n",
    "import os\n",
    "import sys\n",
    "\n",
    "import dolfinx\n",
    "import matplotlib.pyplot as plt\n",
    "import numpy as np\n",
    "import ufl\n",
    "\n",
    "from dolfinx import fem, mesh\n",
    "\n",
    "from dolfinx.cpp.mesh import cell_num_entities\n",
    "\n",
    "from dolfinx.fem.petsc import assemble_matrix_block, assemble_vector_block\n",
    "from dolfinx.geometry import bb_tree, compute_collisions_points, compute_colliding_cells\n",
    "from dolfinx.io import gmshio, VTXWriter\n",
    "from mpi4py import MPI\n",
    "from petsc4py import PETSc\n",
    "from ufl import div, dot, grad, inner\n",
    "\n",
    "import commons, solvers, utils\n",
    "\n",
    "LX = 75e-6\n",
    "Wa_p = 1e-3\n",
    "kappa_elec = 0.1  # S/m\n",
    "faraday_const = 96485\n",
    "R = 8.3145\n",
    "T = 298\n",
    "i0_p = kappa_elec * R * T / (faraday_const * Wa_p * LX)\n",
    "kr = 1\n",
    "voltage = 1"
   ]
  },
  {
   "cell_type": "code",
   "execution_count": 2,
   "id": "600c6ee3-ce2a-4950-95a2-fdd5eaffed11",
   "metadata": {},
   "outputs": [],
   "source": [
    "def compute_cell_boundary_facets(domain, ct, marker):\n",
    "    \"\"\"Compute the integration entities for integrals around the\n",
    "    boundaries of all cells in domain.\n",
    "\n",
    "    Parameters:\n",
    "        domain: The mesh.\n",
    "        ct: cell tags\n",
    "        marker: physical group label\n",
    "\n",
    "    Returns:\n",
    "        Facets to integrate over, identified by ``(cell, local facet\n",
    "        index)`` pairs.\n",
    "    \"\"\"\n",
    "    tdim = domain.topology.dim\n",
    "    fdim = tdim - 1\n",
    "    n_f = cell_num_entities(domain.topology.cell_type, fdim)\n",
    "\n",
    "    cells_1 = ct.find(marker)\n",
    "    perm = np.argsort(cells_1)\n",
    "    n_c = cells_1.shape[0]\n",
    "\n",
    "    return np.vstack((np.repeat(cells_1[perm], n_f), np.tile(np.arange(n_f), n_c))).T#.flatten()"
   ]
  },
  {
   "cell_type": "code",
   "execution_count": 3,
   "id": "55c2ec25-53b6-4a45-8c94-e4f8d7bf95ba",
   "metadata": {
    "editable": true,
    "slideshow": {
     "slide_type": ""
    },
    "tags": []
   },
   "outputs": [],
   "source": [
    "def compute_interface_cell_boundary_facets(domain, ct, ft, cell_marker, facet_marker):\n",
    "    \"\"\"\n",
    "    Compute integration entities for integrals around the boundaries of cells at the\n",
    "    location of prescribed flux expression\n",
    "\n",
    "    domain: the mesh\n",
    "    ct: cell tags\n",
    "    ft: facet tags\n",
    "    cell_marker: marker for subdomain\n",
    "    facet_marker: marker for interface\n",
    "    \"\"\"\n",
    "    f_to_c = domain.topology.connectivity(fdim, tdim)\n",
    "    c_to_f = domain.topology.connectivity(tdim, fdim)\n",
    "    ft_imap = domain.topology.index_map(fdim)\n",
    "    num_facets = ft_imap.size_local + ft_imap.num_ghosts\n",
    "    interface_facets = ft.find(facet_marker)\n",
    "\n",
    "    int_facet_domain = []\n",
    "    lcells = []\n",
    "    for f in interface_facets:\n",
    "        if f >= ft_imap.size_local or len(f_to_c.links(f)) != 2:\n",
    "            continue\n",
    "        c_0, c_1 = f_to_c.links(f)[0], f_to_c.links(f)[1]\n",
    "        subdomain_0, subdomain_1 = ct.values[[c_0, c_1]]\n",
    "        local_f_0 = np.where(c_to_f.links(c_0) == f)[0][0]\n",
    "        local_f_1 = np.where(c_to_f.links(c_1) == f)[0][0]\n",
    "        if subdomain_0 == cell_marker:\n",
    "            # lcells.append(c_0)\n",
    "            int_facet_domain.append([c_0, local_f_0])\n",
    "            continue\n",
    "        elif subdomain_1 == cell_marker:\n",
    "            # lcells.append(c_1)\n",
    "            int_facet_domain.append([c_1, local_f_1])\n",
    "            continue\n",
    "    # lcells = sorted(list(set(lcells)))\n",
    "\n",
    "    # for cid in lcells:\n",
    "    #     int_facet_domain.extend([[cid, idx] for idx in range(3)])\n",
    "\n",
    "    return int_facet_domain"
   ]
  },
  {
   "cell_type": "code",
   "execution_count": 4,
   "id": "53c7bc6a-8a63-4b4b-adc6-4d1304db23d1",
   "metadata": {
    "editable": true,
    "slideshow": {
     "slide_type": ""
    },
    "tags": []
   },
   "outputs": [],
   "source": [
    "def delete_numpy_rows(in_arr, to_delete):\n",
    "    out_arr = in_arr\n",
    "    for row in to_delete:\n",
    "        idx = np.where(np.all(out_arr == row, axis=1))[0][0]\n",
    "        out_arr = np.delete(out_arr, idx, axis=0)\n",
    "\n",
    "    return out_arr"
   ]
  },
  {
   "cell_type": "code",
   "execution_count": 5,
   "id": "ae381f40-7bf1-49f3-be97-df27db0f6bdf",
   "metadata": {
    "editable": true,
    "slideshow": {
     "slide_type": ""
    },
    "tags": []
   },
   "outputs": [],
   "source": [
    "markers = commons.Markers()\n",
    "mesh_folder = \"output/reaction_distribution/75-40-0/5.0\"\n",
    "comm = MPI.COMM_WORLD\n",
    "rank = comm.rank\n",
    "dtype = PETSc.ScalarType\n",
    "workdir = os.path.join(mesh_folder, \"hdg\")\n",
    "utils.make_dir_if_missing(workdir)\n",
    "output_meshfile = os.path.join(mesh_folder, 'mesh.msh')\n",
    "lines_h5file = os.path.join(mesh_folder, 'lines.h5')\n",
    "potential_resultsfile = os.path.join(workdir, \"potential.bp\")\n",
    "u_resultsfile = os.path.join(workdir, \"u.bp\")\n",
    "ubar_resultsfile = os.path.join(workdir, \"ubar.bp\")\n",
    "concentration_resultsfile = os.path.join(workdir, \"concentration.bp\")\n",
    "current_resultsfile = os.path.join(workdir, \"current.bp\")\n",
    "simulation_metafile = os.path.join(workdir, \"simulation.json\")"
   ]
  },
  {
   "cell_type": "code",
   "execution_count": 6,
   "id": "f6b2d40c-c584-4af4-9c57-28048be3c9ad",
   "metadata": {},
   "outputs": [
    {
     "name": "stdout",
     "output_type": "stream",
     "text": [
      "Info    : Reading 'output/reaction_distribution/75-40-0/5.0/mesh.msh'...\n",
      "Info    : 35 entities\n",
      "Info    : 3175 nodes\n",
      "Info    : 6468 elements\n",
      "Info    : Done reading 'output/reaction_distribution/75-40-0/5.0/mesh.msh'\n"
     ]
    }
   ],
   "source": [
    "partitioner = mesh.create_cell_partitioner(mesh.GhostMode.shared_facet)\n",
    "domain, ct, ft = gmshio.read_from_msh(output_meshfile, comm, partitioner=partitioner)\n",
    "tdim = domain.topology.dim\n",
    "fdim = tdim - 1\n",
    "domain.topology.create_connectivity(tdim, fdim)\n",
    "domain.topology.create_connectivity(tdim, tdim)\n",
    "domain.topology.create_connectivity(fdim, fdim)\n",
    "\n",
    "# tag internal facets as 0\n",
    "ft_imap = domain.topology.index_map(fdim)\n",
    "num_facets = ft_imap.size_local + ft_imap.num_ghosts\n",
    "indices = np.arange(0, num_facets)\n",
    "values = np.zeros(indices.shape, dtype=np.intc)\n",
    "values[ft.indices] = ft.values\n",
    "ft = mesh.meshtags(domain, fdim, indices, values)\n",
    "ct = mesh.meshtags(domain, tdim, ct.indices, ct.values)"
   ]
  },
  {
   "cell_type": "code",
   "execution_count": 7,
   "id": "3f6e0cca-d0f7-4f17-9856-f9a9c100c725",
   "metadata": {},
   "outputs": [],
   "source": [
    "phase1 = markers.electrolyte\n",
    "phase2 = markers.positive_am\n",
    "phase1_facets = compute_cell_boundary_facets(domain, ct, phase1)\n",
    "phase1_interface_facets = compute_interface_cell_boundary_facets(domain, ct, ft, markers.electrolyte, markers.electrolyte_v_positive_am)\n",
    "phase2_facets = compute_cell_boundary_facets(domain, ct, phase2)\n",
    "phase2_interface_facets = compute_interface_cell_boundary_facets(domain, ct, ft, markers.positive_am, markers.electrolyte_v_positive_am)"
   ]
  },
  {
   "cell_type": "code",
   "execution_count": 8,
   "id": "650e8d49-4857-493c-a64e-409d1d72e2e4",
   "metadata": {
    "editable": true,
    "slideshow": {
     "slide_type": ""
    },
    "tags": []
   },
   "outputs": [],
   "source": [
    "out_arr1 = delete_numpy_rows(phase1_facets, phase1_interface_facets)\n",
    "out_arr2 = delete_numpy_rows(phase2_facets, phase2_interface_facets)\n",
    "phase_1_facets = out_arr1.flatten()\n",
    "phase_1_interface_facets = np.array(phase1_interface_facets).flatten()\n",
    "phase_2_facets = out_arr2.flatten()\n",
    "phase_2_interface_facets = np.array(phase2_interface_facets).flatten()"
   ]
  },
  {
   "cell_type": "code",
   "execution_count": 9,
   "id": "5ea14000-c7eb-4dcb-92ac-0b0d1395d884",
   "metadata": {},
   "outputs": [],
   "source": [
    "# # Create the sub-mesh\n",
    "facet_mesh, facet_mesh_to_mesh, _, _ = mesh.create_submesh(domain, fdim, ft.indices)\n",
    "mesh_to_facet_mesh = np.full(num_facets, -1)\n",
    "mesh_to_facet_mesh[facet_mesh_to_mesh] = np.arange(len(facet_mesh_to_mesh))\n",
    "entity_maps = {facet_mesh: mesh_to_facet_mesh}"
   ]
  },
  {
   "cell_type": "code",
   "execution_count": 10,
   "id": "3c166659-c335-44b2-a4ab-7f71b7ca2e98",
   "metadata": {},
   "outputs": [],
   "source": [
    "# Create the sub-mesh\n",
    "# non_interface = np.array(sorted(set(ft.indices).difference(set(ft.find(markers.electrolyte_v_positive_am)))))\n",
    "# facet_mesh, facet_mesh_to_mesh, _, _ = mesh.create_submesh(domain, fdim, non_interface)\n",
    "# mesh_to_facet_mesh = np.full(num_facets, -1)\n",
    "# mesh_to_facet_mesh[facet_mesh_to_mesh] = np.arange(len(facet_mesh_to_mesh))\n",
    "# entity_maps = {facet_mesh: [v0 for v0 in mesh_to_facet_mesh if v0 != -1]}"
   ]
  },
  {
   "cell_type": "code",
   "execution_count": 11,
   "id": "85ecdf07-1dc7-4445-bf01-d882a2de1cdd",
   "metadata": {},
   "outputs": [],
   "source": [
    "# Create the sub-mesh\n",
    "# interface_mesh, interface_mesh_to_mesh, _, _ = mesh.create_submesh(domain, fdim, ft.find(markers.electrolyte_v_positive_am))\n",
    "# mesh_to_interface_mesh = np.full(num_facets, -1)\n",
    "# mesh_to_interface_mesh[interface_mesh_to_mesh] = np.arange(len(interface_mesh_to_mesh))\n",
    "# entity_maps[interface_mesh] = [v0 for v0 in mesh_to_interface_mesh if v0 != -1]"
   ]
  },
  {
   "cell_type": "code",
   "execution_count": 12,
   "id": "9bf6eda0-ad32-4590-8e1a-0340fa82fe1a",
   "metadata": {
    "editable": true,
    "slideshow": {
     "slide_type": ""
    },
    "tags": []
   },
   "outputs": [],
   "source": [
    "# properties\n",
    "Q = fem.functionspace(domain, ('DG', 0))\n",
    "kappa = fem.Function(Q)\n",
    "cells_elec = ct.find(markers.electrolyte)\n",
    "kappa.x.array[cells_elec] = np.full_like(cells_elec, kappa_elec, dtype=dtype)\n",
    "\n",
    "kappa_pos_am = kappa_elec / kr\n",
    "cells_pos_am = ct.find(markers.positive_am)\n",
    "kappa.x.array[cells_pos_am] = np.full_like(cells_pos_am, kappa_pos_am, dtype=dtype)\n",
    "\n",
    "# function spaces\n",
    "k = 3\n",
    "V = fem.functionspace(domain, (\"Discontinuous Lagrange\", k))\n",
    "W = fem.functionspace(domain, (\"Discontinuous Lagrange\", k))\n",
    "Vbar = fem.functionspace(facet_mesh, (\"Discontinuous Lagrange\", k))\n",
    "\n",
    "# Cell space\n",
    "u, v = fem.Function(V), ufl.TestFunction(V)\n",
    "\n",
    "# Facet space\n",
    "ubar, vbar = fem.Function(Vbar), ufl.TestFunction(Vbar)\n",
    "\n",
    "# Define integration measures\n",
    "# Cell\n",
    "dx_c = ufl.Measure(\"dx\", domain=domain, subdomain_data=ct)\n",
    "# Cell boundaries\n",
    "# We need to define an integration measure to integrate around the\n",
    "# boundary of each cell.\n",
    "\n",
    "ds_c = ufl.Measure(\"ds\", subdomain_data=[(phase1, phase_1_facets), (phase2, phase_2_facets), (29, phase_1_interface_facets), (30, phase_2_interface_facets)], domain=domain)\n",
    "# ds_c = ufl.Measure(\"ds\", subdomain_data=[(phase1, phase_1_facets), (phase2, phase_2_facets)], domain=domain)\n",
    "dS = ufl.Measure(\"dS\", domain=domain, subdomain_data=ft)\n",
    "ds = ufl.Measure(\"ds\", domain=domain, subdomain_data=ft)\n",
    "# Create a cell integral measure over the facet mesh\n",
    "dx_f = ufl.Measure(\"dx\", domain=facet_mesh, subdomain_data=ft)"
   ]
  },
  {
   "cell_type": "code",
   "execution_count": 13,
   "id": "031c82af-2e50-4be7-8fd1-353aea09d49a",
   "metadata": {},
   "outputs": [],
   "source": [
    "h = ufl.CellDiameter(domain)\n",
    "n = ufl.FacetNormal(domain)\n",
    "gamma = 16.0 * k**2 / h  # Scaled penalty parameter\n",
    "\n",
    "x = ufl.SpatialCoordinate(domain)"
   ]
  },
  {
   "cell_type": "code",
   "execution_count": 14,
   "id": "c9f2764c-e711-4a3a-a5d6-269b96af5d22",
   "metadata": {
    "editable": true,
    "slideshow": {
     "slide_type": ""
    },
    "tags": []
   },
   "outputs": [],
   "source": [
    "left_boundary = ft.find(markers.left)\n",
    "right_boundary = ft.find(markers.right)\n",
    "\n",
    "# Since the boundary condition is enforced in the facet space, we must\n",
    "# use the mesh_to_facet_mesh map to get the corresponding facets in\n",
    "# facet_mesh\n",
    "left_facet_mesh_boundary_facets = mesh_to_facet_mesh[left_boundary]\n",
    "right_facet_mesh_boundary_facets = mesh_to_facet_mesh[right_boundary]\n",
    "# Get the dofs and apply the bondary condition\n",
    "facet_mesh.topology.create_connectivity(fdim, fdim)\n",
    "left_dofs = fem.locate_dofs_topological(Vbar, fdim, left_facet_mesh_boundary_facets)\n",
    "right_dofs = fem.locate_dofs_topological(Vbar, fdim, right_facet_mesh_boundary_facets)\n",
    "left_bc = fem.dirichletbc(dtype(0.0), left_dofs, Vbar)\n",
    "right_bc = fem.dirichletbc(dtype(voltage), right_dofs, Vbar)\n",
    "bcs = [left_bc, right_bc]"
   ]
  },
  {
   "cell_type": "code",
   "execution_count": 15,
   "id": "55747144-8cf2-4719-8836-6b8f60295fd5",
   "metadata": {
    "editable": true,
    "slideshow": {
     "slide_type": ""
    },
    "tags": []
   },
   "outputs": [],
   "source": [
    "i_n = -kappa * inner(grad(u), n)\n",
    "jump_u = R * T / (i0_p * faraday_const) * i_n"
   ]
  },
  {
   "cell_type": "markdown",
   "id": "c54a5d17-6974-4feb-b46b-ffcf34b28583",
   "metadata": {},
   "source": [
    "The first equation is given by\n",
    "\\begin{equation}\n",
    "F_0 = \\sum_{K\\in\\mathcal{T}_h}\\int_{K}\\kappa \\nabla u \\cdot \\nabla v\\mathrm{dx} - \\sum_{K\\in\\mathcal{T}_h}\\int_{\\partial K} \\kappa \\nabla v \\cdot \\pmb{n} (u - \\bar{u}) \\mathrm{ds} + \\sum_{K\\in\\mathcal{T}_h}\\int_{\\partial K} \\kappa \\nabla u \\cdot \\pmb{n} v \\mathrm{ds} + \\sum_{K\\in\\mathcal{T}_h}\\int_{\\partial K} \\gamma \\kappa (u - \\bar{u}) v \\mathrm{ds}\n",
    "\\end{equation}\n",
    "The second equation is given by\n",
    "\\begin{equation}\n",
    "F_1 = \\sum_{K\\in\\mathcal{T}_h}\\int_{\\partial K} \\kappa \\nabla u \\cdot \\pmb{n} \\bar{v} \\mathrm{ds} - \\sum_{K\\in\\mathcal{T}_h}\\int_{\\partial K} \\gamma \\kappa (u - \\bar{u}) \\bar{v} \\mathrm{ds}\n",
    "\\end{equation}"
   ]
  },
  {
   "cell_type": "code",
   "execution_count": 16,
   "id": "5e22a174-cf5c-4189-ac25-21e42858ebca",
   "metadata": {
    "editable": true,
    "slideshow": {
     "slide_type": ""
    },
    "tags": []
   },
   "outputs": [],
   "source": [
    "F0 = kappa * inner(grad(u), grad(v)) * dx_c\n",
    "F0 += - kappa * inner(u - ubar, inner(grad(v), n)) * (ds_c(phase1) + ds_c(phase2))\n",
    "\n",
    "F0 += - kappa * inner(u - ubar, inner(grad(v), n)) * ds_c(29)\n",
    "F0 += - kappa * inner(u - ubar, inner(grad(v), n)) * ds_c(30)\n",
    "\n",
    "F0 += + kappa * inner(grad(u), n) * v * (ds_c(phase1) + ds_c(phase2))\n",
    "F0 += + kappa * inner(grad(u), n) * v * ds_c(29)\n",
    "F0 += + kappa * inner(grad(u), n) * v * ds_c(30)\n",
    "F0 += + gamma * kappa * inner(u - ubar, v) * (ds_c(phase1) + ds_c(phase2))\n",
    "F0 += + gamma * kappa * inner(u - ubar, v) * ds_c(29)\n",
    "F0 += + gamma * kappa * inner(u - ubar, v) * ds_c(30)\n",
    "\n",
    "F1 = kappa * inner(grad(u), n) * vbar * (ds_c(phase1) + ds_c(phase2))\n",
    "F1 += kappa * inner(grad(u), n) * vbar * ds_c(29)\n",
    "F1 += kappa * inner(grad(u), n) * vbar * ds_c(30)\n",
    "F1 += - gamma * kappa * inner(u - ubar, vbar) * (ds_c(phase1) + ds_c(phase2))\n",
    "F1 += - gamma * kappa * inner(u - ubar, vbar) * ds_c(29)\n",
    "F1 += - gamma * kappa * inner(u - ubar, vbar) * ds_c(30)"
   ]
  },
  {
   "cell_type": "code",
   "execution_count": 17,
   "id": "4dd1c251-3972-4060-bd1a-7911dc9917f8",
   "metadata": {},
   "outputs": [],
   "source": [
    "jac00 = ufl.derivative(F0, u)\n",
    "jac01 = ufl.derivative(F0, ubar)\n",
    "\n",
    "jac10 = ufl.derivative(F1, u)\n",
    "jac11 = ufl.derivative(F1, ubar)\n",
    "\n",
    "J00 = fem.form(jac00, entity_maps=entity_maps)\n",
    "J01 = fem.form(jac01, entity_maps=entity_maps)\n",
    "\n",
    "J10 = fem.form(jac10, entity_maps=entity_maps)\n",
    "J11 = fem.form(jac11, entity_maps=entity_maps)\n",
    "\n",
    "J = [[J00, J01], [J10, J11]]"
   ]
  },
  {
   "cell_type": "code",
   "execution_count": 18,
   "id": "b7568011-fb76-4d8a-b638-eb8d47bd1c34",
   "metadata": {},
   "outputs": [],
   "source": [
    "F = [\n",
    "        fem.form(F0, entity_maps=entity_maps),\n",
    "        fem.form(F1, entity_maps=entity_maps),\n",
    "        ]"
   ]
  },
  {
   "cell_type": "code",
   "execution_count": 19,
   "id": "0b72be6f-0b17-4535-935b-b5883905275c",
   "metadata": {
    "editable": true,
    "slideshow": {
     "slide_type": ""
    },
    "tags": []
   },
   "outputs": [
    {
     "name": "stdout",
     "output_type": "stream",
     "text": [
      "Iteration 0: Correction norm 50931.666712597886\n",
      "Iteration 1: Correction norm 6.347553031756117e-08\n",
      "Iteration 2: Correction norm 9.734856663430153e-10\n"
     ]
    }
   ],
   "source": [
    "solver = solvers.NewtonSolver(\n",
    "        F,\n",
    "        J,\n",
    "        [u, ubar],\n",
    "        bcs=bcs,\n",
    "        max_iterations=15,\n",
    "        petsc_options={\n",
    "        \"ksp_type\": \"preonly\",\n",
    "        \"pc_type\": \"lu\",\n",
    "        \"pc_factor_mat_solver_type\": \"superlu_dist\",\n",
    "        },\n",
    "        )\n",
    "solver.solve(1e-8)"
   ]
  },
  {
   "cell_type": "code",
   "execution_count": 20,
   "id": "efa66b3f-a38d-4f5e-9c5d-648f1dfb5bff",
   "metadata": {
    "editable": true,
    "slideshow": {
     "slide_type": ""
    },
    "tags": []
   },
   "outputs": [],
   "source": [
    "# Write to file\n",
    "with VTXWriter(domain.comm, u_resultsfile, u, \"bp5\") as f:\n",
    "    f.write(0.0)\n",
    "\n",
    "with VTXWriter(domain.comm, ubar_resultsfile, ubar, \"bp5\") as f:\n",
    "    f.write(0.0)"
   ]
  },
  {
   "cell_type": "code",
   "execution_count": 21,
   "id": "c13da672-a07e-4507-9445-bb394cd1cba2",
   "metadata": {
    "editable": true,
    "slideshow": {
     "slide_type": ""
    },
    "tags": []
   },
   "outputs": [
    {
     "name": "stdout",
     "output_type": "stream",
     "text": [
      "I_left       : 5.1579e-02 A\n",
      "I_middle     : 5.0312e-02 A\n",
      "I_right      : 5.1560e-02 A\n",
      "I_insulated  : 0.0000e+00 A\n"
     ]
    }
   ],
   "source": [
    "# interpolated functions\n",
    "W_DG = fem.functionspace(domain, ('DG', 1))\n",
    "u_dg = fem.Function(W_DG)\n",
    "u_dg.interpolate(u)\n",
    "W_CG = fem.functionspace(domain, ('CG', 1, (3,)))\n",
    "current_cg = fem.Function(W_CG)\n",
    "current_expr = fem.Expression(-grad(u_dg), W_CG.element.interpolation_points())\n",
    "current_cg.interpolate(current_expr)\n",
    "I_left = domain.comm.allreduce(fem.assemble_scalar(fem.form(inner(-kappa * grad(u_dg), n) * ds(markers.left))), op=MPI.SUM)\n",
    "I_middle = domain.comm.allreduce(fem.assemble_scalar(fem.form(inner(-(kappa * grad(u_dg))('+'), n('+')) * dS(markers.electrolyte_v_positive_am))), op=MPI.SUM)\n",
    "I_right = domain.comm.allreduce(fem.assemble_scalar(fem.form(inner(-kappa * grad(u_dg), n) * ds(markers.right))), op=MPI.SUM)\n",
    "I_insulated = domain.comm.allreduce(fem.assemble_scalar(fem.form(np.abs(inner(-kappa * grad(u_dg), n)) * ds(markers.insulated))), op=MPI.SUM)\n",
    "print(f\"I_left       : {np.abs(I_left):.4e} A\")\n",
    "print(f\"I_middle     : {np.abs(I_middle):.4e} A\")\n",
    "print(f\"I_right      : {np.abs(I_right):.4e} A\")\n",
    "print(f\"I_insulated  : {np.abs(I_insulated):.4e} A\")\n",
    "with VTXWriter(domain.comm, potential_resultsfile, u_dg, \"bp5\") as f:\n",
    "    f.write(0.0)\n",
    "\n",
    "with VTXWriter(domain.comm, current_resultsfile, current_cg, \"bp5\") as f:\n",
    "    f.write(0.0)"
   ]
  },
  {
   "cell_type": "code",
   "execution_count": 22,
   "id": "578837a9-101f-4dd0-a70c-abe0c3fe3afa",
   "metadata": {
    "editable": true,
    "slideshow": {
     "slide_type": ""
    },
    "tags": []
   },
   "outputs": [
    {
     "data": {
      "image/png": "[encoded data removed]",
      "text/plain": [
       "<Figure size 640x480 with 1 Axes>"
      ]
     },
     "metadata": {},
     "output_type": "display_data"
    }
   ],
   "source": [
    "bb_trees = bb_tree(domain, domain.topology.dim)\n",
    "n_points = 10000\n",
    "tol = 1e-8  # Avoid hitting the outside of the domain\n",
    "x = np.linspace(tol, 75e-6 - tol, n_points)\n",
    "y = np.ones(n_points) * 0.5 * 40e-6  # midline\n",
    "points = np.zeros((3, n_points))\n",
    "points[0] = x\n",
    "points[1] = y\n",
    "u_values = []\n",
    "cells = []\n",
    "points_on_proc = []\n",
    "# Find cells whose bounding-box collide with the the points\n",
    "cell_candidates = compute_collisions_points(bb_trees, points.T)\n",
    "# Choose one of the cells that contains the point\n",
    "colliding_cells = compute_colliding_cells(domain, cell_candidates, points.T)\n",
    "for i, point in enumerate(points.T):\n",
    "    if len(colliding_cells.links(i)) > 0:\n",
    "        points_on_proc.append(point)\n",
    "        cells.append(colliding_cells.links(i)[0])\n",
    "points_on_proc = np.array(points_on_proc, dtype=np.float64)\n",
    "u_values = u_dg.eval(points_on_proc, cells)\n",
    "fig, ax = plt.subplots()\n",
    "ax.plot((1/1e-6) * points_on_proc[:, 0], u_values, \"k\", linewidth=2)\n",
    "# ax.grid(True)\n",
    "ax.axvline(x=25, linestyle='--', color='red', linewidth=0.5)\n",
    "ax.set_xlim([0, 75])\n",
    "ax.set_ylim([0, voltage])\n",
    "ax.set_ylabel(r'$\\phi$ [V]', rotation=0, labelpad=30, fontsize='xx-large')\n",
    "ax.set_xlabel(r'x [$\\mu$m]')\n",
    "ax.set_title('Potential Across Midline')\n",
    "ax.set_box_aspect(1);\n",
    "ax.minorticks_on();\n",
    "plt.tight_layout()\n",
    "plt.show()"
   ]
  },
  {
   "cell_type": "code",
   "execution_count": null,
   "id": "d6a47e9a-42bc-43e9-868c-800da163c87b",
   "metadata": {
    "editable": true,
    "slideshow": {
     "slide_type": ""
    },
    "tags": []
   },
   "outputs": [],
   "source": []
  }
 ],
 "metadata": {
  "kernelspec": {
   "display_name": "Python 3 (ipykernel)",
   "language": "python",
   "name": "python3"
  },
  "language_info": {
   "codemirror_mode": {
    "name": "ipython",
    "version": 3
   },
   "file_extension": ".py",
   "mimetype": "text/x-python",
   "name": "python",
   "nbconvert_exporter": "python",
   "pygments_lexer": "ipython3",
   "version": "3.12.3"
  }
 },
 "nbformat": 4,
 "nbformat_minor": 5
}
