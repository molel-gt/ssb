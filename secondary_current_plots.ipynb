{
 "cells": [
  {
   "cell_type": "code",
   "execution_count": 1,
   "id": "d9cbeb3b-db04-4513-b1a3-15ed1274ebfc",
   "metadata": {},
   "outputs": [],
   "source": [
    "import json\n",
    "import os\n",
    "\n",
    "import matplotlib.pyplot as plt\n",
    "import numpy as np\n",
    "import pandas as pd\n",
    "import pyvista\n",
    "import viskex\n",
    "\n",
    "from dolfinx import fem, mesh, io, plot\n",
    "from mpi4py import MPI\n",
    "\n",
    "import commons, utils"
   ]
  },
  {
   "cell_type": "code",
   "execution_count": 2,
   "id": "4abd7a33-7d9d-4eaa-8bfb-88c74082bc79",
   "metadata": {},
   "outputs": [],
   "source": [
    "os.environ['VISKEX_PYVISTA_BACKEND'] = \"trame\"\n",
    "pyvista.global_theme.transparent_background = True\n",
    "pyvista.OFF_SCREEN = True"
   ]
  },
  {
   "cell_type": "code",
   "execution_count": 3,
   "id": "ebfaa6f0-42f8-4e9b-a6f2-a075b869e3a9",
   "metadata": {},
   "outputs": [],
   "source": [
    "markers = commons.Markers()"
   ]
  },
  {
   "cell_type": "code",
   "execution_count": 4,
   "id": "b7655c5f-6b6c-43c9-841b-23f01bc4703c",
   "metadata": {},
   "outputs": [
    {
     "name": "stdout",
     "output_type": "stream",
     "text": [
      "Info    : Reading 'output/reaction_distribution/40-40-75/unrefined/1.0/mesh.msh'...\n",
      "Info    : 22 entities\n",
      "Info    : 76418 nodes\n",
      "Info    : 470810 elements\n",
      "Info    : Done reading 'output/reaction_distribution/40-40-75/unrefined/1.0/mesh.msh'\n"
     ]
    }
   ],
   "source": [
    "comm = MPI.COMM_WORLD\n",
    "domain, ct, ft = io.gmshio.read_from_msh(\"output/reaction_distribution/40-40-75/unrefined/1.0/mesh.msh\", comm)"
   ]
  },
  {
   "cell_type": "code",
   "execution_count": 20,
   "id": "1e65267c-af01-4f7d-9dd5-bcd15b77495d",
   "metadata": {},
   "outputs": [],
   "source": [
    "pv_plotter = viskex.DolfinxPlotter.plot_mesh_tags(domain, ct, \"facets\", show_edges=False, opacity=1)\n",
    "plotter = pyvista.Plotter()\n",
    "clipped = plotter.add_mesh_clip_plane(pv_plotter.mesh, normal=[1, 0, 0], normal_rotation=0, implicit=False)\n",
    "plotter.remove_scalar_bar()\n",
    "plotter.hide_axes()\n",
    "plotter.view_zy()\n",
    "plotter.add_point_labels(points=np.array([[0, -15e-6, 2.5e-6],[0, 0, 30e-6]]), labels=[\"solid electrolyte\", \"positive active material\"], text_color=\"white\", show_points=False, shadow=False, fill_shape=False, render=False, shape_opacity=0)\n",
    "plotter.hide_axes_all()\n",
    "_ = plotter.screenshot(\"figures/secondary_current/cell_mesh.png\")"
   ]
  },
  {
   "cell_type": "code",
   "execution_count": 6,
   "id": "f67c0c44-7b37-45f7-aea6-d8a5e7319fae",
   "metadata": {},
   "outputs": [],
   "source": [
    "positive_am_domain, entity_map, vertex_map, geom_map = mesh.create_submesh(domain, domain.topology.dim, ct.indices[(ct.values == markers.positive_am)])\n",
    "tdim = domain.topology.dim\n",
    "fdim = tdim - 1\n",
    "c_to_f = domain.topology.connectivity(tdim, fdim)\n",
    "f_map = domain.topology.index_map(fdim)\n",
    "all_facets = f_map.size_local + f_map.num_ghosts\n",
    "all_values = np.zeros(all_facets, dtype=np.int32)\n",
    "all_values[ft.indices] = ft.values\n",
    "\n",
    "positive_am_domain.topology.create_entities(fdim)\n",
    "subf_map = positive_am_domain.topology.index_map(fdim)\n",
    "positive_am_domain.topology.create_connectivity(tdim, fdim)\n",
    "c_to_f_sub = positive_am_domain.topology.connectivity(tdim, fdim)\n",
    "num_sub_facets = subf_map.size_local + subf_map.num_ghosts\n",
    "sub_values = np.empty(num_sub_facets, dtype=np.int32)\n",
    "for i, entity in enumerate(entity_map):\n",
    "    parent_facets = c_to_f.links(entity)\n",
    "    child_facets = c_to_f_sub.links(i)\n",
    "    for child, parent in zip(child_facets, parent_facets):\n",
    "        sub_values[child] = all_values[parent]\n",
    "positive_am_ft = mesh.meshtags(positive_am_domain, positive_am_domain.topology.dim - 1, np.arange(\n",
    "    num_sub_facets, dtype=np.int32), sub_values)\n",
    "positive_am_domain.topology.create_connectivity(positive_am_domain.topology.dim - 1, positive_am_domain.topology.dim)"
   ]
  },
  {
   "cell_type": "code",
   "execution_count": 7,
   "id": "f2f46d5c-c99f-4334-8880-cd43a07acca6",
   "metadata": {},
   "outputs": [],
   "source": [
    "pv_plot = viskex.DolfinxPlotter.plot_mesh_tags(positive_am_domain, positive_am_ft, \"facets\", show_edges=False, opacity=1)\n",
    "pv_plot.remove_scalar_bar()\n",
    "pv_plot.hide_axes()\n",
    "_ = pv_plot.screenshot(\"figures/secondary_current/positive_am.png\")"
   ]
  },
  {
   "cell_type": "code",
   "execution_count": 8,
   "id": "4f77c518-6436-4884-9698-856e45638280",
   "metadata": {},
   "outputs": [],
   "source": [
    "electrolyte_domain, entity_map, vertex_map, geom_map = mesh.create_submesh(domain, domain.topology.dim, ct.indices[(ct.values == markers.electrolyte)])\n",
    "tdim = domain.topology.dim\n",
    "fdim = tdim - 1\n",
    "c_to_f = domain.topology.connectivity(tdim, fdim)\n",
    "f_map = domain.topology.index_map(fdim)\n",
    "all_facets = f_map.size_local + f_map.num_ghosts\n",
    "all_values = np.zeros(all_facets, dtype=np.int32)\n",
    "all_values[ft.indices] = ft.values\n",
    "\n",
    "electrolyte_domain.topology.create_entities(fdim)\n",
    "subf_map = electrolyte_domain.topology.index_map(fdim)\n",
    "electrolyte_domain.topology.create_connectivity(tdim, fdim)\n",
    "c_to_f_sub = electrolyte_domain.topology.connectivity(tdim, fdim)\n",
    "num_sub_facets = subf_map.size_local + subf_map.num_ghosts\n",
    "sub_values = np.empty(num_sub_facets, dtype=np.int32)\n",
    "for i, entity in enumerate(entity_map):\n",
    "    parent_facets = c_to_f.links(entity)\n",
    "    child_facets = c_to_f_sub.links(i)\n",
    "    for child, parent in zip(child_facets, parent_facets):\n",
    "        sub_values[child] = all_values[parent]\n",
    "electrolyte_ft = mesh.meshtags(electrolyte_domain, electrolyte_domain.topology.dim - 1, np.arange(\n",
    "    num_sub_facets, dtype=np.int32), sub_values)\n",
    "electrolyte_domain.topology.create_connectivity(electrolyte_domain.topology.dim - 1, electrolyte_domain.topology.dim)"
   ]
  },
  {
   "cell_type": "code",
   "execution_count": 23,
   "id": "5c516099-9556-4ba6-94b4-af5e5f7f0ba2",
   "metadata": {},
   "outputs": [],
   "source": [
    "pv_plotter_elec = viskex.DolfinxPlotter.plot_mesh_tags(electrolyte_domain, electrolyte_ft, \"facets\", show_edges=False, opacity=1)\n",
    "pv_plotter_elec.remove_scalar_bar()\n",
    "pv_plotter_elec.hide_axes()\n",
    "_ = pv_plotter_elec.screenshot(\"figures/secondary_current/electrolyte.png\")"
   ]
  },
  {
   "cell_type": "code",
   "execution_count": 10,
   "id": "a15d738b-45bf-4272-be74-bb69a66958fc",
   "metadata": {},
   "outputs": [],
   "source": [
    "def get_simulation_metafile_path(Wa_p, kr, gamma, resolution, kinetics=\"butler_volmer\"):\n",
    "    return os.path.join(\"output/reaction_distribution/40-40-75\", \"unrefined\", str(resolution), kinetics, f\"0.001-{Wa_p}-{kr}\", str(gamma), \"simulation.json\")"
   ]
  },
  {
   "cell_type": "code",
   "execution_count": 11,
   "id": "3ddc448b-54c2-414e-8916-57c052f4bb41",
   "metadata": {},
   "outputs": [],
   "source": [
    "def read_simulation_metafile(metafile_path):\n",
    "    with open(metafile_path, \"r\") as fp:\n",
    "        return json.load(fp)"
   ]
  },
  {
   "cell_type": "code",
   "execution_count": 12,
   "id": "ba8a1374-4890-4878-8895-d36070cb98d7",
   "metadata": {},
   "outputs": [
    {
     "name": "stdout",
     "output_type": "stream",
     "text": [
      "output/reaction_distribution/40-40-75/unrefined/1.0/butler_volmer/0.001-0.001-0.1/15/simulation.json\n",
      "output/reaction_distribution/40-40-75/unrefined/1.0/butler_volmer/0.001-0.001-1.0/15/simulation.json\n",
      "output/reaction_distribution/40-40-75/unrefined/1.0/butler_volmer/0.001-0.001-10.0/15/simulation.json\n",
      "output/reaction_distribution/40-40-75/unrefined/1.0/butler_volmer/0.001-0.01-0.1/15/simulation.json\n",
      "output/reaction_distribution/40-40-75/unrefined/1.0/butler_volmer/0.001-0.01-1.0/15/simulation.json\n",
      "output/reaction_distribution/40-40-75/unrefined/1.0/butler_volmer/0.001-0.01-10.0/15/simulation.json\n",
      "output/reaction_distribution/40-40-75/unrefined/1.0/butler_volmer/0.001-0.1-0.1/15/simulation.json\n",
      "output/reaction_distribution/40-40-75/unrefined/1.0/butler_volmer/0.001-0.1-1.0/15/simulation.json\n",
      "output/reaction_distribution/40-40-75/unrefined/1.0/butler_volmer/0.001-0.1-10.0/15/simulation.json\n",
      "output/reaction_distribution/40-40-75/unrefined/1.0/butler_volmer/0.001-1.0-0.1/15/simulation.json\n",
      "output/reaction_distribution/40-40-75/unrefined/1.0/butler_volmer/0.001-1.0-1.0/15/simulation.json\n",
      "output/reaction_distribution/40-40-75/unrefined/1.0/butler_volmer/0.001-1.0-10.0/15/simulation.json\n",
      "output/reaction_distribution/40-40-75/unrefined/1.0/butler_volmer/0.001-10.0-0.1/15/simulation.json\n",
      "output/reaction_distribution/40-40-75/unrefined/1.0/butler_volmer/0.001-10.0-1.0/15/simulation.json\n",
      "output/reaction_distribution/40-40-75/unrefined/1.0/butler_volmer/0.001-10.0-10.0/15/simulation.json\n",
      "output/reaction_distribution/40-40-75/unrefined/1.0/butler_volmer/0.001-100.0-0.1/15/simulation.json\n",
      "output/reaction_distribution/40-40-75/unrefined/1.0/butler_volmer/0.001-100.0-1.0/15/simulation.json\n",
      "output/reaction_distribution/40-40-75/unrefined/1.0/butler_volmer/0.001-100.0-10.0/15/simulation.json\n",
      "output/reaction_distribution/40-40-75/unrefined/1.0/butler_volmer/0.001-1000.0-0.1/15/simulation.json\n",
      "output/reaction_distribution/40-40-75/unrefined/1.0/butler_volmer/0.001-1000.0-1.0/15/simulation.json\n",
      "output/reaction_distribution/40-40-75/unrefined/1.0/butler_volmer/0.001-1000.0-10.0/15/simulation.json\n"
     ]
    }
   ],
   "source": [
    "df_rows = []\n",
    "wagner_nums = [0.001, 0.01, 0.1, 1.0, 10.0, 100.0, 1000.0]\n",
    "krs = [0.1, 1.0, 10.0]\n",
    "\n",
    "for Wa_p in wagner_nums:\n",
    "    for kr in krs:\n",
    "        sim_metafile = get_simulation_metafile_path(resolution=1.0, kr=kr, Wa_p=Wa_p, gamma=15)\n",
    "        try:\n",
    "            row_data = read_simulation_metafile(sim_metafile)\n",
    "        except FileNotFoundError:\n",
    "            print(sim_metafile)\n",
    "            continue\n",
    "        df_rows.append(row_data)\n",
    "\n",
    "df = pd.DataFrame(df_rows, dtype=float)"
   ]
  },
  {
   "cell_type": "code",
   "execution_count": 13,
   "id": "94852142-e18c-4827-b878-996b24bc313f",
   "metadata": {},
   "outputs": [
    {
     "data": {
      "text/plain": [
       "RangeIndex(start=0, stop=0, step=1)"
      ]
     },
     "execution_count": 13,
     "metadata": {},
     "output_type": "execute_result"
    }
   ],
   "source": [
    "# df.head()\n",
    "df.columns"
   ]
  },
  {
   "cell_type": "code",
   "execution_count": 14,
   "id": "3507b05b-ef62-471d-8b69-dfe23fc4317b",
   "metadata": {},
   "outputs": [],
   "source": [
    "utils.make_dir_if_missing(\"figures/secondary_current/\")"
   ]
  },
  {
   "cell_type": "markdown",
   "id": "e9b6aed5-bc1a-42aa-9090-d26a6a70fe63",
   "metadata": {},
   "source": [
    "### $\\frac{\\kappa}{\\sigma}$ = 0.01"
   ]
  },
  {
   "cell_type": "code",
   "execution_count": 15,
   "id": "265eaa0b-b543-4833-a7db-a4f074e2ca2c",
   "metadata": {},
   "outputs": [
    {
     "ename": "KeyError",
     "evalue": "'ionic to electronic conductivity ratio (kr)'",
     "output_type": "error",
     "traceback": [
      "\u001b[0;31m---------------------------------------------------------------------------\u001b[0m",
      "\u001b[0;31mKeyError\u001b[0m                                  Traceback (most recent call last)",
      "Cell \u001b[0;32mIn[15], line 1\u001b[0m\n\u001b[0;32m----> 1\u001b[0m df_001 \u001b[38;5;241m=\u001b[39m df[np\u001b[38;5;241m.\u001b[39misclose(\u001b[43mdf\u001b[49m\u001b[43m[\u001b[49m\u001b[38;5;124;43m\"\u001b[39;49m\u001b[38;5;124;43mionic to electronic conductivity ratio (kr)\u001b[39;49m\u001b[38;5;124;43m\"\u001b[39;49m\u001b[43m]\u001b[49m, \u001b[38;5;241m0.1\u001b[39m)]\n\u001b[1;32m      2\u001b[0m slope_001 \u001b[38;5;241m=\u001b[39m []\n\u001b[1;32m      3\u001b[0m x \u001b[38;5;241m=\u001b[39m df_001[\u001b[38;5;124m'\u001b[39m\u001b[38;5;124mPositive Wagner Number\u001b[39m\u001b[38;5;124m'\u001b[39m]\u001b[38;5;241m.\u001b[39mto_numpy()\n",
      "File \u001b[0;32m~/miniforge3/envs/fea-env/lib/python3.12/site-packages/pandas/core/frame.py:4102\u001b[0m, in \u001b[0;36mDataFrame.__getitem__\u001b[0;34m(self, key)\u001b[0m\n\u001b[1;32m   4100\u001b[0m \u001b[38;5;28;01mif\u001b[39;00m \u001b[38;5;28mself\u001b[39m\u001b[38;5;241m.\u001b[39mcolumns\u001b[38;5;241m.\u001b[39mnlevels \u001b[38;5;241m>\u001b[39m \u001b[38;5;241m1\u001b[39m:\n\u001b[1;32m   4101\u001b[0m     \u001b[38;5;28;01mreturn\u001b[39;00m \u001b[38;5;28mself\u001b[39m\u001b[38;5;241m.\u001b[39m_getitem_multilevel(key)\n\u001b[0;32m-> 4102\u001b[0m indexer \u001b[38;5;241m=\u001b[39m \u001b[38;5;28;43mself\u001b[39;49m\u001b[38;5;241;43m.\u001b[39;49m\u001b[43mcolumns\u001b[49m\u001b[38;5;241;43m.\u001b[39;49m\u001b[43mget_loc\u001b[49m\u001b[43m(\u001b[49m\u001b[43mkey\u001b[49m\u001b[43m)\u001b[49m\n\u001b[1;32m   4103\u001b[0m \u001b[38;5;28;01mif\u001b[39;00m is_integer(indexer):\n\u001b[1;32m   4104\u001b[0m     indexer \u001b[38;5;241m=\u001b[39m [indexer]\n",
      "File \u001b[0;32m~/miniforge3/envs/fea-env/lib/python3.12/site-packages/pandas/core/indexes/range.py:417\u001b[0m, in \u001b[0;36mRangeIndex.get_loc\u001b[0;34m(self, key)\u001b[0m\n\u001b[1;32m    415\u001b[0m         \u001b[38;5;28;01mraise\u001b[39;00m \u001b[38;5;167;01mKeyError\u001b[39;00m(key) \u001b[38;5;28;01mfrom\u001b[39;00m \u001b[38;5;21;01merr\u001b[39;00m\n\u001b[1;32m    416\u001b[0m \u001b[38;5;28;01mif\u001b[39;00m \u001b[38;5;28misinstance\u001b[39m(key, Hashable):\n\u001b[0;32m--> 417\u001b[0m     \u001b[38;5;28;01mraise\u001b[39;00m \u001b[38;5;167;01mKeyError\u001b[39;00m(key)\n\u001b[1;32m    418\u001b[0m \u001b[38;5;28mself\u001b[39m\u001b[38;5;241m.\u001b[39m_check_indexing_error(key)\n\u001b[1;32m    419\u001b[0m \u001b[38;5;28;01mraise\u001b[39;00m \u001b[38;5;167;01mKeyError\u001b[39;00m(key)\n",
      "\u001b[0;31mKeyError\u001b[0m: 'ionic to electronic conductivity ratio (kr)'"
     ]
    }
   ],
   "source": [
    "df_001 = df[np.isclose(df[\"ionic to electronic conductivity ratio (kr)\"], 0.1)]\n",
    "slope_001 = []\n",
    "x = df_001['Positive Wagner Number'].to_numpy()\n",
    "y = df_001['Total resistance [Ω.cm2]'].to_numpy()\n",
    "for i in range(len(wagner_nums) - 1):\n",
    "    slope_001.append((y[i+1] - y[i])/(x[i+1] - x[i]))\n",
    "fig, ax = plt.subplots(figsize=(5, 4.5))\n",
    "ax.plot(df_001['Positive Wagner Number'], df_001['Total resistance [Ω.cm2]'], 'x-')\n",
    "ax.set_box_aspect(1)\n",
    "ax.semilogx()\n",
    "ax.set_ylabel(r'R [$\\Omega\\mathrm{cm}^2$]', fontdict={'fontsize': 'xx-large'})\n",
    "ax.set_xlabel(r'$\\mathrm{Positive\\ Electrode\\ Wa}$', fontdict={'fontsize': 'xx-large'})\n",
    "ax.set_title(r'$\\frac{\\kappa}{\\sigma}$ = 0.1', fontdict={'fontsize': 'xx-large'})\n",
    "plt.tight_layout()\n",
    "plt.savefig(f'figures/secondary_current/resistance-kr0.1.png', bbox_inches=\"tight\", dpi=1200)"
   ]
  },
  {
   "cell_type": "markdown",
   "id": "71030cc4-4d87-40dc-906e-1c6a0ec8492a",
   "metadata": {},
   "source": [
    "### $\\frac{\\kappa}{\\sigma}$ = 1"
   ]
  },
  {
   "cell_type": "code",
   "execution_count": null,
   "id": "1e2ecf0c-a357-433c-a06e-a6a974bc83f2",
   "metadata": {},
   "outputs": [],
   "source": [
    "df_1 = df[np.isclose(df[\"ionic to electronic conductivity ratio (kr)\"], 1)]\n",
    "fig, ax = plt.subplots(figsize=(5, 4.5))\n",
    "slope_1 = []\n",
    "x = df_1['Positive Wagner Number'].to_numpy()\n",
    "y = df_1['Total resistance [Ω.cm2]'].to_numpy()\n",
    "for i in range(len(wagner_nums) - 1):\n",
    "    slope_1.append((y[i+1] - y[i])/(x[i+1] - x[i]))\n",
    "ax.plot(df_1['Positive Wagner Number'], df_1['Total resistance [Ω.cm2]'], 'x-')\n",
    "ax.set_box_aspect(1)\n",
    "ax.set_ylabel(r'R [$\\Omega\\mathrm{cm}^2$]', fontdict={'fontsize': 'xx-large'})\n",
    "ax.set_xlabel(r'$\\mathrm{Positive\\ Electrode\\ Wa}$', fontdict={'fontsize': 'xx-large'})\n",
    "ax.semilogx()\n",
    "ax.set_title(r'$\\frac{\\kappa}{\\sigma}$ = 1', fontdict={'fontsize': 'xx-large'})\n",
    "plt.tight_layout()\n",
    "plt.savefig(f'figures/secondary_current/resistance-kr1.png', bbox_inches=\"tight\", dpi=1200)"
   ]
  },
  {
   "cell_type": "markdown",
   "id": "c0b823fa-83fd-405d-ba2f-f8dc1056d833",
   "metadata": {},
   "source": [
    "### $\\frac{\\kappa}{\\sigma}$ = 100"
   ]
  },
  {
   "cell_type": "code",
   "execution_count": null,
   "id": "6afa16b4-f2ed-4db4-a67a-43c31cf1b707",
   "metadata": {},
   "outputs": [],
   "source": [
    "df_100 = df[np.isclose(df[\"ionic to electronic conductivity ratio (kr)\"], 10)]\n",
    "fig, ax = plt.subplots(figsize=(5, 4.5))\n",
    "slope_100 = []\n",
    "x = df_100['Positive Wagner Number'].to_numpy()\n",
    "y = df_100['Total resistance [Ω.cm2]'].to_numpy()\n",
    "for i in range(len(wagner_nums) - 1):\n",
    "    slope_100.append((y[i+1] - y[i])/(x[i+1] - x[i]))\n",
    "ax.plot(df_100['Positive Wagner Number'], df_100['Total resistance [Ω.cm2]'], 'x-')\n",
    "ax.set_box_aspect(1)\n",
    "ax.set_ylabel(r'R [$\\Omega\\mathrm{cm}^2$]', fontdict={'fontsize': 'xx-large'})\n",
    "ax.set_xlabel(r'$\\mathrm{Positive\\ Electrode\\ Wa}$', fontdict={'fontsize': 'xx-large'})\n",
    "ax.semilogx()\n",
    "ax.set_title(r'$\\frac{\\kappa}{\\sigma}$ = 10', fontdict={'fontsize': 'xx-large'})\n",
    "plt.tight_layout()\n",
    "plt.savefig(f'figures/secondary_current/resistance-kr10.png', bbox_inches=\"tight\", dpi=1200)"
   ]
  },
  {
   "cell_type": "code",
   "execution_count": null,
   "id": "8cf7bde1-6eac-4da0-b26c-42ea8fb6be2e",
   "metadata": {},
   "outputs": [],
   "source": [
    "fig, ax = plt.subplots(figsize=(5, 4.5))\n",
    "ax.plot(df_001['Positive Wagner Number'], df_001['stdev i positive charge transfer (normalized)'], 'x-', label=r'$\\frac{\\kappa}{\\sigma}$ = 0.1')\n",
    "ax.plot(df_1['Positive Wagner Number'], df_1['stdev i positive charge transfer (normalized)'], 'x-', label=r'$\\frac{\\kappa}{\\sigma}$ = 1')\n",
    "ax.plot(df_100['Positive Wagner Number'], df_100['stdev i positive charge transfer (normalized)'], 'x-', label=r'$\\frac{\\kappa}{\\sigma}$ = 10')\n",
    "ax.legend(prop={'size': 11})\n",
    "ax.semilogx()\n",
    "ax.set_box_aspect(1)\n",
    "ax.set_ylabel(r'$\\frac{\\sigma_{\\mathrm{i}}}{i_{\\mathrm{superficial}}}$', fontdict={'fontsize': 'xx-large'})\n",
    "ax.set_xlabel(r'$\\mathrm{Positive\\ Electrode\\ Wa}$', fontdict={'fontsize': 'xx-large'})\n",
    "plt.tight_layout()\n",
    "plt.savefig(f'figures/secondary_current/i-stdev-normalized.png', bbox_inches=\"tight\", dpi=1200)"
   ]
  },
  {
   "cell_type": "code",
   "execution_count": null,
   "id": "5dba4887-a7bb-4b03-ac07-a7b3be9580fe",
   "metadata": {},
   "outputs": [],
   "source": [
    "fig, ax = plt.subplots(figsize=(5, 4.5))\n",
    "ax.plot(df_001['Positive Wagner Number'], df_001['Current at insulated boundary [A]']/df_001['Current at right boundary [A]'], 'x-', label=r'$\\frac{\\kappa}{\\sigma}$ = 0.1')\n",
    "ax.plot(df_1['Positive Wagner Number'], df_1['Current at insulated boundary [A]']/df_1['Current at right boundary [A]'], 'x-', label=r'$\\frac{\\kappa}{\\sigma}$ = 1')\n",
    "ax.plot(df_100['Positive Wagner Number'], df_100['Current at insulated boundary [A]']/df_100['Current at right boundary [A]'], 'x-', label=r'$\\frac{\\kappa}{\\sigma}$ = 10')\n",
    "\n",
    "ax.semilogx()\n",
    "ax.semilogy()\n",
    "ax.set_ylim([1e-5, 1e-1])\n",
    "ax.set_box_aspect(1)\n",
    "ax.axhline(y=0.01, linestyle='--', label='1% mark')\n",
    "ax.legend(prop={'size': 11}, bbox_to_anchor=(1.1, 1.05))\n",
    "ax.set_ylabel(r'$\\frac{I_{\\mathrm{insulated}}}{I_{\\mathrm{positive\\ electrode}}}$', fontdict={'fontsize': 'xx-large'})\n",
    "ax.set_xlabel(r'$\\mathrm{Positive\\ Electrode\\ Wa}$', fontdict={'fontsize': 'xx-large'})\n",
    "plt.tight_layout()\n",
    "plt.savefig(f'figures/secondary_current/convergence.png', bbox_inches=\"tight\", dpi=1200)"
   ]
  },
  {
   "cell_type": "code",
   "execution_count": null,
   "id": "6990fdb8-3e14-40fc-9221-3f46fa8afe6a",
   "metadata": {},
   "outputs": [],
   "source": [
    "fig, ax = plt.subplots(figsize=(5, 4.5))\n",
    "ax.plot(x[1:], slope_001, label=r'K$_r$ = 0.1')\n",
    "ax.plot(x[1:], slope_1, label=r'K$_r$ = 1')\n",
    "ax.plot(x[1:], slope_100, label=r'K$_r$ = 10')\n",
    "ax.semilogx()\n",
    "ax.legend(prop={'size': 11})\n",
    "ax.set_ylim([0, 3])\n",
    "ax.set_xlim([1, 1e3]);\n",
    "ax.set_ylabel(r'$\\frac{\\mathrm{d}R_{\\mathrm{total}}}{\\mathrm{d}\\mathrm{Wa}}$', fontdict={'fontsize': 'xx-large'})\n",
    "ax.set_xlabel(r'$\\mathrm{Positive\\ Electrode\\ Wa}$', fontdict={'fontsize': 'xx-large'})\n",
    "ax.set_box_aspect(1);\n",
    "plt.tight_layout();\n",
    "plt.savefig(f'figures/secondary_current/kinetics-limited.png', bbox_inches=\"tight\", dpi=1200)"
   ]
  },
  {
   "cell_type": "code",
   "execution_count": null,
   "id": "ce2e9dc5-c25c-4a68-a7da-6c7857e9a04f",
   "metadata": {},
   "outputs": [],
   "source": []
  },
  {
   "cell_type": "code",
   "execution_count": null,
   "id": "8887f369-4d37-4289-a2ac-af608084d181",
   "metadata": {},
   "outputs": [],
   "source": []
  },
  {
   "cell_type": "code",
   "execution_count": null,
   "id": "9801366a-ddc3-48da-a31f-854e4d31f824",
   "metadata": {},
   "outputs": [],
   "source": [
    "# viskex.dolfinx.plot_mesh(domain, show_edges=False, opacity=0.5)"
   ]
  },
  {
   "cell_type": "code",
   "execution_count": null,
   "id": "2e388ec7-6392-454d-a936-1d4efc1fc681",
   "metadata": {},
   "outputs": [],
   "source": [
    "# viskex.dolfinx.plot_mesh_tags(domain, ct, show_edges=False, opacity=0.5)"
   ]
  },
  {
   "cell_type": "code",
   "execution_count": null,
   "id": "d901647b-cf28-4702-96b6-998c1ef7dc10",
   "metadata": {},
   "outputs": [],
   "source": [
    "# viskex.dolfinx.plot_mesh_tags(domain, ft, \"facets\", viskex.utils.values_in([12, 8]), show_edges=False, opacity=1)"
   ]
  },
  {
   "cell_type": "code",
   "execution_count": null,
   "id": "c3af86aa-0cc6-4caa-93ff-9d9703a96da1",
   "metadata": {},
   "outputs": [],
   "source": []
  }
 ],
 "metadata": {
  "kernelspec": {
   "display_name": "Python [conda env:fea-env] *",
   "language": "python",
   "name": "conda-env-fea-env-py"
  },
  "language_info": {
   "codemirror_mode": {
    "name": "ipython",
    "version": 3
   },
   "file_extension": ".py",
   "mimetype": "text/x-python",
   "name": "python",
   "nbconvert_exporter": "python",
   "pygments_lexer": "ipython3",
   "version": "3.12.4"
  }
 },
 "nbformat": 4,
 "nbformat_minor": 5
}
