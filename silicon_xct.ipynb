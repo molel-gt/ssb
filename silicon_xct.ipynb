{
 "cells": [
  {
   "cell_type": "code",
   "execution_count": 7,
   "id": "656cba75",
   "metadata": {},
   "outputs": [],
   "source": [
    "import os\n",
    "\n",
    "import matplotlib.pyplot as plt\n",
    "import numpy as np\n",
    "import tensorflow as tf\n",
    "import warnings\n",
    "\n",
    "from scipy import ndimage\n",
    "from skimage import filters\n",
    "\n",
    "from PIL import Image\n",
    "\n",
    "import utils\n",
    "\n",
    "warnings.simplefilter('ignore')"
   ]
  },
  {
   "cell_type": "markdown",
   "id": "e7afcfd6",
   "metadata": {},
   "source": [
    "### Silicon thickness\n",
    "Pristine thickness:           Average around 12 microns, but up to 25 microns in particularly thick locations (like in many of the areas that form horizontal, interfacial cracks)\\\n",
    "Lithiated thickness:          Average around 30 microns, but up to 45 microns in particularly thick locations\\\n",
    "De-lithiated thickness:        Average around 22 microns, but up to 40 microns in particularly thick locations\\\n",
    "Re-lithiated thickness:        Average around 25 microns, but up to 50 microns in particularly thick locations\n",
    "\n",
    "Vertical crack thicknesses (the cracks between each silicon conglomerate after de-lithiation)\\\n",
    "De-lithiated width:          Anywhere from 1 to 15 microns, hard to gather an average but I would say around 3-5 microns\\\n",
    "De-lithiated height:          Same as de-lithiated silicon thicknesses (22 to 40 microns tall)\\\n",
    "Re-lithiated width:          Thinner even where not close up, average around 2-3 microns\\\n",
    "Re-lithiated height:          Cracks close up closer to SSE first, anywhere from 5 to 20 microns tall remaining\n",
    "\n",
    "Horizontal crack thicknesses (the cracks between certain silicon conglomerates and the solid-state electrolyte (SSE) after de-lithiation)\\\n",
    "De-lithiated width:          Unique to each crack, but can be anywhere from 20 to 50 microns wide\\\n",
    "De-lithiated height:          Very thin, 1-3 microns\\\n",
    "Re-lithiated width:          If the crack still exists, similar dimensions to after de-lithiation\\\n",
    "Re-lithiated height:          If the crack still exists, similar dimensions to after de-lithiation but slightly thinner due to compression from counter electrode (so 1-2 microns max)"
   ]
  },
  {
   "cell_type": "code",
   "execution_count": 3,
   "id": "c0cf9873",
   "metadata": {},
   "outputs": [],
   "source": [
    "data_dir = '/home/molel/OneDrive/PhD/Data/silicon_xct'"
   ]
  },
  {
   "cell_type": "code",
   "execution_count": 4,
   "id": "c6937b0b",
   "metadata": {},
   "outputs": [],
   "source": [
    "subfolders = ['horizonal-cross-sections', 'vertical-cross-sections', 'segmented-crack-volumes']"
   ]
  },
  {
   "cell_type": "code",
   "execution_count": 5,
   "id": "56468d49",
   "metadata": {},
   "outputs": [],
   "source": [
    "ignore_phase = 255\n",
    "silicon_phase = 2\n",
    "void_phase = 0\n",
    "ycom = 965\n",
    "xcom = 520\n",
    "px_thresh = 254"
   ]
  },
  {
   "cell_type": "code",
   "execution_count": 18,
   "id": "3044e408",
   "metadata": {},
   "outputs": [],
   "source": [
    "delith_data_path = os.path.join(data_dir, 'segmented-crack-volumes', 'De-lith segmented crack volume (top down).gif')\n",
    "utils.make_dir_if_missing('crack-volumes/delithiated')\n",
    "\n",
    "with tf.io.gfile.GFile(delith_data_path, 'rb') as f:\n",
    "    video = tf.io.decode_gif(f.read())\n",
    "    data_delith = np.array(video)\n",
    "    # remove scale\n",
    "    data_delith[:, :, 1600:, :] = 255\n",
    "    \n",
    "\n",
    "for i in range(data_delith.shape[0]):\n",
    "    arr = np.copy(data_delith[i, :, :, 0])\n",
    "    coords_si = np.where(arr > px_thresh)\n",
    "    coords_void = np.where(np.less_equal(arr, px_thresh))\n",
    "    seg = np.zeros(arr.shape, dtype=np.uint8)\n",
    "    seg[coords_void] = void_phase\n",
    "    seg[coords_si] = silicon_phase\n",
    "    coords = np.asarray(np.where(arr > -1)).T\n",
    "    for x, y in coords:\n",
    "        if ((x - xcom) ** 2 + (y - ycom) ** 2) ** 0.5 > xcom:\n",
    "            seg[x, y] = ignore_phase\n",
    "    img = Image.fromarray(seg[:, 425:1500])\n",
    "    img.save(os.path.join('crack-volumes/delithiated', str(i).zfill(3) + \".tif\"))"
   ]
  },
  {
   "cell_type": "code",
   "execution_count": 19,
   "id": "95cbb745",
   "metadata": {},
   "outputs": [],
   "source": [
    "lith_data_path = os.path.join(data_dir, 'segmented-crack-volumes', 'Re-lith segmented crack volume (top-down).gif')\n",
    "utils.make_dir_if_missing('crack-volumes/lithiated')\n",
    "with tf.io.gfile.GFile(lith_data_path, 'rb') as f:\n",
    "    video = tf.io.decode_gif(f.read())\n",
    "    data_lith = np.array(video)\n",
    "    # remove scale\n",
    "    data_lith[:, :, 1600:, :] = 255\n",
    "\n",
    "for i in range(data_lith.shape[0]):\n",
    "    arr = np.copy(data_lith[i, :, :, 0])\n",
    "    coords_si = np.where(arr > px_thresh)\n",
    "    coords_void = np.where(np.less_equal(arr, px_thresh))\n",
    "    seg = np.zeros(arr.shape, dtype=np.uint8)\n",
    "    seg[coords_void] = void_phase\n",
    "    seg[coords_si] = silicon_phase\n",
    "    coords = np.asarray(np.where(arr > -1)).T\n",
    "    for x, y in coords:\n",
    "        if ((x - xcom) ** 2 + (y - ycom) ** 2) ** 0.5 > xcom:\n",
    "            seg[x, y] = ignore_phase\n",
    "    img = Image.fromarray(seg[:, 425:1500])\n",
    "    img.save(os.path.join('crack-volumes/lithiated', str(i).zfill(3) + \".tif\"))"
   ]
  },
  {
   "cell_type": "code",
   "execution_count": null,
   "id": "01dadfb2",
   "metadata": {},
   "outputs": [],
   "source": []
  }
 ],
 "metadata": {
  "kernelspec": {
   "display_name": "fenicsx-env",
   "language": "python",
   "name": "fenicsx-env"
  },
  "language_info": {
   "codemirror_mode": {
    "name": "ipython",
    "version": 3
   },
   "file_extension": ".py",
   "mimetype": "text/x-python",
   "name": "python",
   "nbconvert_exporter": "python",
   "pygments_lexer": "ipython3",
   "version": "3.10.11"
  }
 },
 "nbformat": 4,
 "nbformat_minor": 5
}
