{
 "cells": [
  {
   "cell_type": "code",
   "execution_count": 1,
   "id": "4df2b4ac-bcc2-40d9-875b-6b9c9a3216d6",
   "metadata": {},
   "outputs": [],
   "source": [
    "import matplotlib.pyplot as plt\n",
    "import numpy as np\n",
    "import pandas as pd\n",
    "\n",
    "from scipy.stats.qmc import PoissonDisk"
   ]
  },
  {
   "cell_type": "code",
   "execution_count": 2,
   "id": "f3feadaa-878a-475f-b44e-93e2df602444",
   "metadata": {},
   "outputs": [],
   "source": [
    "vol_fracs = [0.1, 0.2, 0.3, 0.4, 0.5, 0.6, 0.7]"
   ]
  },
  {
   "cell_type": "code",
   "execution_count": 5,
   "id": "f7d54017-27fb-42ea-985d-7171fa7ff5fa",
   "metadata": {},
   "outputs": [],
   "source": [
    "def n_circles(radius, volfrac, lx=470, ly=470):\n",
    "    return int(volfrac * lx * ly / (np.pi * radius ** 2))"
   ]
  },
  {
   "cell_type": "code",
   "execution_count": 9,
   "id": "db4a2cd1-e208-41c1-b4ae-402c7bb2a24d",
   "metadata": {},
   "outputs": [],
   "source": [
    "for volfrac in vol_fracs:\n",
    "    N = n_circles(6, volfrac)\n",
    "    rng = np.random.default_rng()\n",
    "    radius = 6/470\n",
    "    engine = PoissonDisk(d=2, radius=radius, seed=rng)\n",
    "    samples = engine.random(N)\n",
    "    df = pd.DataFrame(samples, columns=['x', 'y'])\n",
    "    df.to_csv(f'centers/{volfrac}.csv', index=False)"
   ]
  },
  {
   "cell_type": "code",
   "execution_count": null,
   "id": "d0ad0d37-b61f-4e6b-86ce-63866d177fb3",
   "metadata": {},
   "outputs": [],
   "source": []
  }
 ],
 "metadata": {
  "kernelspec": {
   "display_name": "FEA",
   "language": "python",
   "name": "fea-env"
  },
  "language_info": {
   "codemirror_mode": {
    "name": "ipython",
    "version": 3
   },
   "file_extension": ".py",
   "mimetype": "text/x-python",
   "name": "python",
   "nbconvert_exporter": "python",
   "pygments_lexer": "ipython3",
   "version": "3.12.3"
  }
 },
 "nbformat": 4,
 "nbformat_minor": 5
}
