{
 "cells": [
  {
   "cell_type": "code",
   "execution_count": 1,
   "id": "d28abb87-fd5d-4ca3-9bd2-4c6c9a7987a8",
   "metadata": {},
   "outputs": [],
   "source": [
    "import os\n",
    "\n",
    "import matplotlib.pyplot as plt\n",
    "import numpy as np\n",
    "import pandas as pd"
   ]
  },
  {
   "cell_type": "code",
   "execution_count": 2,
   "id": "67f5673b-dfd2-47b4-ae3c-1a98144b0beb",
   "metadata": {},
   "outputs": [],
   "source": [
    "data_folder = \"/home/molel/OneDrive/PhD/Potentiostat/Gavin\""
   ]
  },
  {
   "cell_type": "code",
   "execution_count": 3,
   "id": "ea6fee01-90e8-4da9-9a34-ee85db97e91d",
   "metadata": {},
   "outputs": [],
   "source": [
    "datafile1 = os.path.join(data_folder, \"Test 6 -0.2to0.6 scanrate20mVs electrode 3.xlsx\")\n",
    "datafile2 = os.path.join(data_folder, \"Test 7 -0.2to0.6 scanrate20mVs electrode 5.xlsx\")\n",
    "nu = 20e-3  # V/s"
   ]
  },
  {
   "cell_type": "code",
   "execution_count": null,
   "id": "c59bb049-95ed-469a-91e5-a43f4cc0b45d",
   "metadata": {},
   "outputs": [],
   "source": [
    "df1 = pd.read_excel(datafile1, sheet_name='Sheet1')\n",
    "df2 = pd.read_excel(datafile2, sheet_name='Sheet1')"
   ]
  },
  {
   "cell_type": "code",
   "execution_count": null,
   "id": "4bc748f2-cd84-4a56-b5a1-874dbcef4858",
   "metadata": {},
   "outputs": [],
   "source": [
    "cycle2 = df1[df1['Scan']==2]\n",
    "cycle20 = df1[df1['Scan']==20]\n",
    "fig, ax = plt.subplots()\n",
    "ax.plot(cycle2['Potential applied (V)'], cycle2['WE(1).Current (A)'], label='2')\n",
    "ax.plot(cycle20['Potential applied (V)'], cycle20['WE(1).Current (A)'], label='50')\n",
    "ax.set_xlabel('potential [V]')\n",
    "ax.set_ylabel('current [A]')\n",
    "ax.legend()\n",
    "ax.set_title('Electrode 3')\n",
    "plt.tight_layout()"
   ]
  },
  {
   "cell_type": "code",
   "execution_count": null,
   "id": "60deeae1-6418-4c0d-89dd-98ad6e724792",
   "metadata": {},
   "outputs": [],
   "source": [
    "cycle2 = df2[df2['Scan']==2]\n",
    "cycle20 = df2[df2['Scan']==20]\n",
    "fig, ax = plt.subplots()\n",
    "ax.plot(cycle2['Potential applied (V)'], cycle2['WE(1).Current (A)'], label='2')\n",
    "ax.plot(cycle20['Potential applied (V)'], cycle20['WE(1).Current (A)'], label='50')\n",
    "ax.set_xlabel('potential [V]')\n",
    "ax.set_ylabel('current [A]')\n",
    "ax.legend()\n",
    "ax.set_title('Electrode 5')\n",
    "plt.tight_layout()"
   ]
  },
  {
   "cell_type": "markdown",
   "id": "5589377e-7e66-4bd5-8981-caf5eaf6aabe",
   "metadata": {},
   "source": [
    "Capacitance is defined by\n",
    "\\begin{equation}\n",
    "C = \\frac{Q}{V}\n",
    "\\end{equation}\n",
    "where $Q = I t$ is charge stored. Recall that the current is a function of the potential, $I=I(V)$ although we may just write the current as $I$ to simplify the notation.\n",
    "Therefore, capacitance can also be written as\n",
    "\\begin{equation}\n",
    "C = \\frac{I}{\\nu}\n",
    "\\end{equation}\n",
    "where $\\nu = \\frac{V}{t}$ is the voltage scan rate.\n",
    "\n",
    "Area under the classic voltammogram is equivalently given by\n",
    "\\begin{equation}\n",
    "\\mathrm{Area}\\equiv \\int_{V_{\\mathrm{min}}}^{V_{\\mathrm{max}}}I(V)\\mathrm{dV} = C\\nu \\int_{V_{\\mathrm{min}}}^{V_{\\mathrm{max}}}\\mathrm{dV}\n",
    "\\end{equation}\n",
    "\n",
    "Therefore, capacitance is given by\n",
    "\\begin{equation}\n",
    "C = \\frac{\\mathrm{Area}}{\\nu({V_{\\mathrm{max}}} - {V_{\\mathrm{min}}})}\n",
    "\\end{equation}"
   ]
  },
  {
   "cell_type": "code",
   "execution_count": null,
   "id": "bcc74e46-cc9f-4cb2-83bf-08ca4bd62da7",
   "metadata": {},
   "outputs": [],
   "source": [
    "def area_under_curve(data):\n",
    " return np.trapz(y=data['WE(1).Current (A)'], x=data['Potential applied (V)'])\n",
    "\n",
    "def cv_capacitance(data, scanrate=nu):\n",
    "    V_min = np.min(data['Potential applied (V)'])\n",
    "    V_max = np.max(data['Potential applied (V)'])\n",
    "    Area = area_under_curve(data)\n",
    "    return Area / (nu * (V_max - V_min))"
   ]
  },
  {
   "cell_type": "code",
   "execution_count": null,
   "id": "5b4c2170-3a7f-4be8-9d58-db426ad18c06",
   "metadata": {},
   "outputs": [],
   "source": [
    "cycles = list(range(2, 21))\n",
    "capacitance = []\n",
    "for cycle in cycles:\n",
    "    data = df1[df1['Scan']==cycle]\n",
    "    capacitance.append(cv_capacitance(data))\n",
    "\n",
    "fig, ax = plt.subplots()\n",
    "ax.plot(cycles, capacitance)\n",
    "ax.set_xlabel('cycle')\n",
    "ax.set_ylabel('capacitance [F]')\n",
    "ax.set_title('Electrode 3')\n",
    "plt.tight_layout()"
   ]
  },
  {
   "cell_type": "code",
   "execution_count": null,
   "id": "38b244a3-eb04-4ffc-95a7-5422ccfb0c8e",
   "metadata": {},
   "outputs": [],
   "source": [
    "cycles = list(range(2, 21))\n",
    "capacitance = []\n",
    "for cycle in cycles:\n",
    "    data = df2[df2['Scan']==cycle]\n",
    "    capacitance.append(cv_capacitance(data))\n",
    "\n",
    "fig, ax = plt.subplots()\n",
    "ax.plot(cycles, capacitance)\n",
    "ax.set_xlabel('cycle')\n",
    "ax.set_ylabel('capacitance [F]')\n",
    "ax.set_title('Electrode 5')\n",
    "plt.tight_layout()"
   ]
  }
 ],
 "metadata": {
  "kernelspec": {
   "display_name": "Python [conda env:.conda-fea-env] *",
   "language": "python",
   "name": "conda-env-.conda-fea-env-py"
  },
  "language_info": {
   "codemirror_mode": {
    "name": "ipython",
    "version": 3
   },
   "file_extension": ".py",
   "mimetype": "text/x-python",
   "name": "python",
   "nbconvert_exporter": "python",
   "pygments_lexer": "ipython3",
   "version": "3.11.6"
  }
 },
 "nbformat": 4,
 "nbformat_minor": 5
}
