{
 "cells": [
  {
   "cell_type": "markdown",
   "id": "18215fa2",
   "metadata": {
    "id": "18215fa2"
   },
   "source": [
    "# Tutorial 03: weak imposition of Dirichlet BCs by a Lagrange multiplier (interface problem)\n",
    "\n",
    "In this tutorial we solve the problem\n",
    "\n",
    "$$\\begin{cases}\n",
    "-\\Delta u = f, & \\text{in } \\Omega,\\\\\n",
    " u   = g, & \\text{on } \\partial\\Omega,\n",
    "\\end{cases}$$\n",
    "\n",
    "where $\\Omega$ is a ball in 2D, using a domain decomposition approach for $\\Omega = \\Omega_1 \\cup \\Omega_2$, and introducing a lagrange multiplier to handle the continuity of the solution across\n",
    "the interface $\\Gamma$ between $\\Omega_1$ and $\\Omega_2$.\n",
    "\n",
    "The resulting weak formulation is:\n",
    "$$\n",
    "\\text{find }u_1 \\in V(\\Omega_1), u_2 \\in V(\\Omega_2), \\lambda \\in E(\\Gamma)\n",
    "$$\n",
    "s.t.\n",
    "$$\n",
    "\\int_{\\Omega_1} \\nabla u_1 \\cdot \\nabla v_1 dx +\n",
    "\\int_{\\Omega_2} \\nabla u_2 \\cdot \\nabla v_2 dx +\n",
    "\\int_{\\Gamma} \\lambda (v_1 - v_2) ds = 0,\n",
    "\\qquad \\forall v_1 \\in V(\\Omega_1), v_2 \\in V(\\Omega_2)\n",
    "$$\n",
    "and\n",
    "$$\n",
    "\\int_{\\Gamma} \\eta  (u_1 - u_2) ds = 0,\n",
    "\\qquad \\forall \\eta \\in E(\\Gamma)\n",
    "$$\n",
    "where boundary conditions on $\\partial\\Omega$ are embedded in $V(\\Omega_i) \\subset H^1(\\Omega_i)$, $i = 1, 2$, and $E(\\Gamma) \\subset L^2(\\Gamma)$.\n",
    "\n",
    "This example is a prototypical case of problems containing interface restricted variables (the Lagrange multiplier, in this case)."
   ]
  },
  {
   "cell_type": "code",
   "execution_count": 1,
   "id": "gmsh_install",
   "metadata": {
    "id": "gmsh_install"
   },
   "outputs": [],
   "source": [
    "import gmsh"
   ]
  },
  {
   "cell_type": "code",
   "execution_count": 2,
   "id": "fenicsx_install",
   "metadata": {
    "id": "fenicsx_install"
   },
   "outputs": [],
   "source": [
    "import dolfinx"
   ]
  },
  {
   "cell_type": "code",
   "execution_count": 3,
   "id": "viskex_install",
   "metadata": {
    "id": "viskex_install"
   },
   "outputs": [],
   "source": [
    "import viskex"
   ]
  },
  {
   "cell_type": "code",
   "execution_count": 4,
   "id": "multiphenicsx_install",
   "metadata": {
    "id": "multiphenicsx_install"
   },
   "outputs": [],
   "source": [
    "import multiphenicsx"
   ]
  },
  {
   "cell_type": "code",
   "execution_count": 5,
   "id": "cfd8e555",
   "metadata": {
    "id": "cfd8e555"
   },
   "outputs": [],
   "source": [
    "import dolfinx.fem\n",
    "import dolfinx.fem.petsc\n",
    "import dolfinx.io\n",
    "import gmsh\n",
    "import mpi4py.MPI\n",
    "import numpy as np\n",
    "import petsc4py.PETSc\n",
    "import ufl\n",
    "import viskex"
   ]
  },
  {
   "cell_type": "code",
   "execution_count": 6,
   "id": "cd776df7",
   "metadata": {
    "id": "cd776df7"
   },
   "outputs": [],
   "source": [
    "import multiphenicsx.fem\n",
    "import multiphenicsx.fem.petsc"
   ]
  },
  {
   "cell_type": "markdown",
   "id": "41282b79",
   "metadata": {
    "id": "41282b79"
   },
   "source": [
    "### Geometrical parameters"
   ]
  },
  {
   "cell_type": "code",
   "execution_count": 7,
   "id": "df239c5f",
   "metadata": {
    "id": "df239c5f"
   },
   "outputs": [],
   "source": [
    "r = 3\n",
    "mesh_size = 1. / 4."
   ]
  },
  {
   "cell_type": "markdown",
   "id": "4aa03a00",
   "metadata": {
    "id": "4aa03a00"
   },
   "source": [
    "### Mesh"
   ]
  },
  {
   "cell_type": "code",
   "execution_count": 8,
   "id": "3e34f01c",
   "metadata": {
    "id": "3e34f01c"
   },
   "outputs": [],
   "source": [
    "gmsh.initialize()\n",
    "gmsh.model.add(\"mesh\")"
   ]
  },
  {
   "cell_type": "code",
   "execution_count": 9,
   "id": "f1751133",
   "metadata": {
    "id": "f1751133"
   },
   "outputs": [],
   "source": [
    "p0 = gmsh.model.geo.addPoint(0.0, 0.0, 0.0, mesh_size)\n",
    "p1 = gmsh.model.geo.addPoint(0.0, +r, 0.0, mesh_size)\n",
    "p2 = gmsh.model.geo.addPoint(0.0, -r, 0.0, mesh_size)\n",
    "c0 = gmsh.model.geo.addCircleArc(p1, p0, p2)\n",
    "c1 = gmsh.model.geo.addCircleArc(p2, p0, p1)\n",
    "l0 = gmsh.model.geo.addLine(p2, p1)\n",
    "line_loop_left = gmsh.model.geo.addCurveLoop([c0, l0])\n",
    "line_loop_right = gmsh.model.geo.addCurveLoop([c1, -l0])\n",
    "semicircle_left = gmsh.model.geo.addPlaneSurface([line_loop_left])\n",
    "semicircle_right = gmsh.model.geo.addPlaneSurface([line_loop_right])"
   ]
  },
  {
   "cell_type": "code",
   "execution_count": 10,
   "id": "970792ad",
   "metadata": {
    "id": "970792ad"
   },
   "outputs": [
    {
     "name": "stdout",
     "output_type": "stream",
     "text": [
      "Info    : Meshing 1D...\n",
      "Info    : [  0%] Meshing curve 1 (Circle)\n",
      "Info    : [ 40%] Meshing curve 2 (Circle)\n",
      "Info    : [ 70%] Meshing curve 3 (Line)\n",
      "Info    : Done meshing 1D (Wall 0.000312996s, CPU 0.000371s)\n",
      "Info    : Meshing 2D...\n",
      "Info    : [  0%] Meshing surface 1 (Plane, Frontal-Delaunay)\n",
      "Info    : [ 60%] Meshing surface 2 (Plane, Frontal-Delaunay)\n",
      "Info    : Done meshing 2D (Wall 0.0117815s, CPU 0.01223s)\n",
      "Info    : 589 nodes 1201 elements\n"
     ]
    }
   ],
   "source": [
    "gmsh.model.geo.synchronize()\n",
    "gmsh.model.addPhysicalGroup(1, [c0, c1], 1)\n",
    "gmsh.model.addPhysicalGroup(1, [l0], 2)\n",
    "gmsh.model.addPhysicalGroup(2, [semicircle_left], 1)\n",
    "gmsh.model.addPhysicalGroup(2, [semicircle_right], 2)\n",
    "gmsh.model.mesh.generate(2)"
   ]
  },
  {
   "cell_type": "code",
   "execution_count": 11,
   "id": "950bee0e",
   "metadata": {
    "id": "950bee0e"
   },
   "outputs": [],
   "source": [
    "partitioner = dolfinx.mesh.create_cell_partitioner(dolfinx.mesh.GhostMode.shared_facet)\n",
    "domain, ct, ft = dolfinx.io.gmshio.model_to_mesh(\n",
    "    gmsh.model, comm=mpi4py.MPI.COMM_WORLD, rank=0, gdim=2, partitioner=partitioner)\n",
    "gmsh.finalize()"
   ]
  },
  {
   "cell_type": "code",
   "execution_count": 12,
   "id": "0caef08d-fd6f-48e7-9ec6-74247edbc244",
   "metadata": {
    "id": "0caef08d-fd6f-48e7-9ec6-74247edbc244"
   },
   "outputs": [],
   "source": [
    "# Create connectivities required by the rest of the code\n",
    "domain.topology.create_connectivity(domain.topology.dim - 1, domain.topology.dim)\n",
    "domain.topology.create_connectivity(domain.topology.dim, domain.topology.dim)"
   ]
  },
  {
   "cell_type": "code",
   "execution_count": 13,
   "id": "5d38a7eb",
   "metadata": {
    "id": "5d38a7eb"
   },
   "outputs": [],
   "source": [
    "cells_Omega1 = ct.find(1)\n",
    "cells_Omega2 = ct.find(2)\n",
    "facets_partial_Omega = ft.find(1)\n",
    "facets_Gamma = ft.find(2)"
   ]
  },
  {
   "cell_type": "code",
   "execution_count": 14,
   "id": "a82d6ea1",
   "metadata": {
    "id": "a82d6ea1"
   },
   "outputs": [],
   "source": [
    "# Define associated measures\n",
    "dx = ufl.Measure(\"dx\")(subdomain_data=ct)\n",
    "dS = ufl.Measure(\"dS\")(subdomain_data=ft)\n",
    "dS = dS(2)  # restrict to the interface, which has facet ID equal to 2"
   ]
  },
  {
   "cell_type": "code",
   "execution_count": 15,
   "id": "7f65f333",
   "metadata": {
    "id": "7f65f333"
   },
   "outputs": [
    {
     "data": {
      "application/vnd.jupyter.widget-view+json": {
       "model_id": "933f2ae5de504a75bc6bf9c313d94800",
       "version_major": 2,
       "version_minor": 0
      },
      "text/plain": [
       "Widget(value='<iframe src=\"http://localhost:36215/index.html?ui=P_0x78082c763d10_0&reconnect=auto\" class=\"pyvi…"
      ]
     },
     "metadata": {},
     "output_type": "display_data"
    }
   ],
   "source": [
    "viskex.dolfinx.plot_mesh(domain)"
   ]
  },
  {
   "cell_type": "code",
   "execution_count": 16,
   "id": "fbcbe1e6",
   "metadata": {
    "id": "fbcbe1e6"
   },
   "outputs": [
    {
     "data": {
      "application/vnd.jupyter.widget-view+json": {
       "model_id": "02ff6ed879444fe8a2ea28c0de84ffc8",
       "version_major": 2,
       "version_minor": 0
      },
      "text/plain": [
       "Widget(value='<iframe src=\"http://localhost:36215/index.html?ui=P_0x78082c9e3470_1&reconnect=auto\" class=\"pyvi…"
      ]
     },
     "metadata": {},
     "output_type": "display_data"
    }
   ],
   "source": [
    "viskex.dolfinx.plot_mesh_tags(domain, ct, \"subdomains\")"
   ]
  },
  {
   "cell_type": "code",
   "execution_count": 17,
   "id": "35e6b52c",
   "metadata": {
    "id": "35e6b52c"
   },
   "outputs": [
    {
     "data": {
      "application/vnd.jupyter.widget-view+json": {
       "model_id": "0a05734a6529466395975070091bdf6d",
       "version_major": 2,
       "version_minor": 0
      },
      "text/plain": [
       "Widget(value='<iframe src=\"http://localhost:36215/index.html?ui=P_0x78082c7617f0_2&reconnect=auto\" class=\"pyvi…"
      ]
     },
     "metadata": {},
     "output_type": "display_data"
    }
   ],
   "source": [
    "viskex.dolfinx.plot_mesh_tags(domain, ft, \"boundaries and interfaces\")"
   ]
  },
  {
   "cell_type": "markdown",
   "id": "0292f97f",
   "metadata": {
    "id": "0292f97f"
   },
   "source": [
    "### With domain decomposition"
   ]
  },
  {
   "cell_type": "code",
   "execution_count": 18,
   "id": "ad602386",
   "metadata": {
    "id": "ad602386"
   },
   "outputs": [],
   "source": [
    "# Define function spaces\n",
    "V = dolfinx.fem.functionspace(domain, (\"Lagrange\", 2))\n",
    "V1 = V.clone()\n",
    "V2 = V.clone()\n",
    "M = V.clone()"
   ]
  },
  {
   "cell_type": "code",
   "execution_count": 19,
   "id": "2229e249",
   "metadata": {
    "id": "2229e249"
   },
   "outputs": [],
   "source": [
    "# Define restrictions\n",
    "dofs_V1_Omega1 = dolfinx.fem.locate_dofs_topological(V1, ct.dim, cells_Omega1)\n",
    "dofs_V2_Omega2 = dolfinx.fem.locate_dofs_topological(V2, ct.dim, cells_Omega2)\n",
    "dofs_M_Gamma = dolfinx.fem.locate_dofs_topological(M, ft.dim, facets_Gamma)\n",
    "restriction_V1_Omega1 = multiphenicsx.fem.DofMapRestriction(V1.dofmap, dofs_V1_Omega1)\n",
    "restriction_V2_Omega2 = multiphenicsx.fem.DofMapRestriction(V2.dofmap, dofs_V2_Omega2)\n",
    "restriction_M_Gamma = multiphenicsx.fem.DofMapRestriction(M.dofmap, dofs_M_Gamma)\n",
    "restriction = [restriction_V1_Omega1, restriction_V2_Omega2, restriction_M_Gamma]"
   ]
  },
  {
   "cell_type": "code",
   "execution_count": 20,
   "id": "76f66b48",
   "metadata": {
    "id": "76f66b48"
   },
   "outputs": [],
   "source": [
    "# Define trial and test functions\n",
    "(u1, u2, l) = (ufl.TrialFunction(V1), ufl.TrialFunction(V2), ufl.TrialFunction(M))\n",
    "(v1, v2, m) = (ufl.TestFunction(V1), ufl.TestFunction(V2), ufl.TestFunction(M))"
   ]
  },
  {
   "cell_type": "code",
   "execution_count": 21,
   "id": "e8ec8974",
   "metadata": {
    "id": "e8ec8974"
   },
   "outputs": [],
   "source": [
    "# Define problem block forms\n",
    "zero = dolfinx.fem.Constant(domain, petsc4py.PETSc.ScalarType(0))\n",
    "a = [\n",
    "    [ufl.inner(ufl.grad(u1), ufl.grad(v1)) * dx(1), None, ufl.inner(l(\"-\"), v1(\"-\")) * dS],\n",
    "    [None, ufl.inner(ufl.grad(u2), ufl.grad(v2)) * dx(2), - ufl.inner(l(\"+\"), v2(\"+\")) * dS],\n",
    "    [ufl.inner(u1(\"-\"), m(\"-\")) * dS, - ufl.inner(u2(\"+\"), m(\"+\")) * dS, None]\n",
    "]\n",
    "f = [\n",
    "    ufl.inner(1, v1) * dx(1),\n",
    "    ufl.inner(1, v2) * dx(2),\n",
    "    ufl.inner(zero, m(\"-\")) * dS\n",
    "]\n",
    "a_cpp = dolfinx.fem.form(a)\n",
    "f_cpp = dolfinx.fem.form(f)"
   ]
  },
  {
   "cell_type": "code",
   "execution_count": 22,
   "id": "8d88bf47",
   "metadata": {
    "id": "8d88bf47"
   },
   "outputs": [],
   "source": [
    "# Define boundary conditions\n",
    "dofs_V1_partial_Omega = dolfinx.fem.locate_dofs_topological(\n",
    "    V1, ft.dim, facets_partial_Omega)\n",
    "dofs_V2_partial_Omega = dolfinx.fem.locate_dofs_topological(\n",
    "    V2, ft.dim, facets_partial_Omega)\n",
    "bc1 = dolfinx.fem.dirichletbc(zero, dofs_V1_partial_Omega, V1)\n",
    "bc2 = dolfinx.fem.dirichletbc(zero, dofs_V2_partial_Omega, V2)\n",
    "bcs = [bc1, bc2]"
   ]
  },
  {
   "cell_type": "code",
   "execution_count": 23,
   "id": "29a6958f",
   "metadata": {
    "id": "29a6958f"
   },
   "outputs": [],
   "source": [
    "# Assemble the block linear system\n",
    "A = multiphenicsx.fem.petsc.assemble_matrix_block(a_cpp, bcs=bcs, restriction=(restriction, restriction))\n",
    "A.assemble()\n",
    "F = multiphenicsx.fem.petsc.assemble_vector_block(f_cpp, a_cpp, bcs=bcs, restriction=restriction)"
   ]
  },
  {
   "cell_type": "code",
   "execution_count": 24,
   "id": "8990374e",
   "metadata": {
    "id": "8990374e"
   },
   "outputs": [
    {
     "data": {
      "text/plain": [
       "<petsc4py.PETSc.KSP at 0x7808227e82c0>"
      ]
     },
     "execution_count": 24,
     "metadata": {},
     "output_type": "execute_result"
    }
   ],
   "source": [
    "# Solve\n",
    "u1u2l = multiphenicsx.fem.petsc.create_vector_block(f_cpp, restriction=restriction)\n",
    "ksp = petsc4py.PETSc.KSP()\n",
    "ksp.create(domain.comm)\n",
    "ksp.setOperators(A)\n",
    "ksp.setType(\"preonly\")\n",
    "ksp.getPC().setType(\"lu\")\n",
    "ksp.getPC().setFactorSolverType(\"mumps\")\n",
    "ksp.getPC().setFactorSetUpSolverType()\n",
    "ksp.getPC().getFactorMatrix().setMumpsIcntl(icntl=7, ival=4)\n",
    "ksp.setFromOptions()\n",
    "ksp.solve(F, u1u2l)\n",
    "u1u2l.ghostUpdate(addv=petsc4py.PETSc.InsertMode.INSERT, mode=petsc4py.PETSc.ScatterMode.FORWARD)\n",
    "ksp.destroy()"
   ]
  },
  {
   "cell_type": "code",
   "execution_count": 25,
   "id": "88816060",
   "metadata": {
    "id": "88816060"
   },
   "outputs": [
    {
     "data": {
      "text/plain": [
       "<petsc4py.PETSc.Vec at 0x7808227e8270>"
      ]
     },
     "execution_count": 25,
     "metadata": {},
     "output_type": "execute_result"
    }
   ],
   "source": [
    "# Split the block solution in components\n",
    "(u1, u2, l) = (dolfinx.fem.Function(V1), dolfinx.fem.Function(V2), dolfinx.fem.Function(M))\n",
    "with multiphenicsx.fem.petsc.BlockVecSubVectorWrapper(\n",
    "        u1u2l, [V1.dofmap, V2.dofmap, M.dofmap], restriction) as u1u2l_wrapper:\n",
    "    for u1u2l_wrapper_local, component in zip(u1u2l_wrapper, (u1, u2, l)):\n",
    "        with component.x.petsc_vec.localForm() as component_local:\n",
    "            component_local[:] = u1u2l_wrapper_local\n",
    "u1u2l.destroy()"
   ]
  },
  {
   "cell_type": "code",
   "execution_count": 26,
   "id": "de3cd7ad",
   "metadata": {
    "id": "de3cd7ad"
   },
   "outputs": [
    {
     "data": {
      "application/vnd.jupyter.widget-view+json": {
       "model_id": "6ba67d225e32424b9f41768c7298d51f",
       "version_major": 2,
       "version_minor": 0
      },
      "text/plain": [
       "Widget(value='<iframe src=\"http://localhost:36215/index.html?ui=P_0x78082277c1a0_3&reconnect=auto\" class=\"pyvi…"
      ]
     },
     "metadata": {},
     "output_type": "display_data"
    }
   ],
   "source": [
    "viskex.dolfinx.plot_scalar_field(u1, \"u1\")"
   ]
  },
  {
   "cell_type": "code",
   "execution_count": 27,
   "id": "1c7b65ff",
   "metadata": {
    "id": "1c7b65ff"
   },
   "outputs": [
    {
     "data": {
      "application/vnd.jupyter.widget-view+json": {
       "model_id": "ab0a981ba2b24221adbb83ed777bb861",
       "version_major": 2,
       "version_minor": 0
      },
      "text/plain": [
       "Widget(value='<iframe src=\"http://localhost:36215/index.html?ui=P_0x780822781eb0_4&reconnect=auto\" class=\"pyvi…"
      ]
     },
     "metadata": {},
     "output_type": "display_data"
    }
   ],
   "source": [
    "viskex.dolfinx.plot_scalar_field(u2, \"u2\")"
   ]
  },
  {
   "cell_type": "code",
   "execution_count": 28,
   "id": "9439d8c2",
   "metadata": {
    "id": "9439d8c2"
   },
   "outputs": [
    {
     "data": {
      "application/vnd.jupyter.widget-view+json": {
       "model_id": "bb0d4c238cbe405284994fca0c23c361",
       "version_major": 2,
       "version_minor": 0
      },
      "text/plain": [
       "Widget(value='<iframe src=\"http://localhost:36215/index.html?ui=P_0x780822783a40_5&reconnect=auto\" class=\"pyvi…"
      ]
     },
     "metadata": {},
     "output_type": "display_data"
    }
   ],
   "source": [
    "viskex.dolfinx.plot_scalar_field(l, \"l\")"
   ]
  },
  {
   "cell_type": "markdown",
   "id": "e52653df",
   "metadata": {
    "id": "e52653df"
   },
   "source": [
    "### Without domain decomposition"
   ]
  },
  {
   "cell_type": "code",
   "execution_count": 29,
   "id": "e02cb9ca",
   "metadata": {
    "id": "e02cb9ca"
   },
   "outputs": [],
   "source": [
    "# Define trial and test functions\n",
    "u = ufl.TrialFunction(V)\n",
    "v = ufl.TestFunction(V)"
   ]
  },
  {
   "cell_type": "code",
   "execution_count": 30,
   "id": "ef710299",
   "metadata": {
    "id": "ef710299"
   },
   "outputs": [],
   "source": [
    "# Define problem forms\n",
    "a_ex = ufl.inner(ufl.grad(u), ufl.grad(v)) * dx\n",
    "f_ex = ufl.inner(1, v) * dx"
   ]
  },
  {
   "cell_type": "code",
   "execution_count": 31,
   "id": "d5d85faf",
   "metadata": {
    "id": "d5d85faf"
   },
   "outputs": [],
   "source": [
    "# Define Dirichlet BC object on Gamma\n",
    "dofs_V_partial_Omega = dolfinx.fem.locate_dofs_topological(\n",
    "    V, ft.dim, facets_partial_Omega)\n",
    "bc_ex = dolfinx.fem.dirichletbc(zero, dofs_V_partial_Omega, V)"
   ]
  },
  {
   "cell_type": "code",
   "execution_count": 32,
   "id": "ee02817d",
   "metadata": {
    "id": "ee02817d"
   },
   "outputs": [],
   "source": [
    "# Solve\n",
    "u_ex = dolfinx.fem.Function(V)\n",
    "problem_ex = dolfinx.fem.petsc.LinearProblem(\n",
    "    a_ex, f_ex, bcs=[bc_ex], u=u_ex,\n",
    "    petsc_options={\n",
    "        \"ksp_type\": \"preonly\", \"pc_type\": \"lu\", \"pc_factor_mat_solver_type\": \"mumps\",\n",
    "        \"mat_mumps_icntl_7\": 4\n",
    "    })\n",
    "problem_ex.solve()\n",
    "u_ex.x.petsc_vec.ghostUpdate(addv=petsc4py.PETSc.InsertMode.INSERT, mode=petsc4py.PETSc.ScatterMode.FORWARD)"
   ]
  },
  {
   "cell_type": "code",
   "execution_count": 33,
   "id": "98d7eb35",
   "metadata": {
    "id": "98d7eb35"
   },
   "outputs": [
    {
     "data": {
      "application/vnd.jupyter.widget-view+json": {
       "model_id": "f997fe337bd14aba9ea329daf98b6b3d",
       "version_major": 2,
       "version_minor": 0
      },
      "text/plain": [
       "Widget(value='<iframe src=\"http://localhost:36215/index.html?ui=P_0x7808226e2870_6&reconnect=auto\" class=\"pyvi…"
      ]
     },
     "metadata": {},
     "output_type": "display_data"
    }
   ],
   "source": [
    "viskex.dolfinx.plot_scalar_field(u_ex, \"u\")"
   ]
  },
  {
   "cell_type": "markdown",
   "id": "105ecd14",
   "metadata": {
    "id": "105ecd14"
   },
   "source": [
    "### Comparison and error computation"
   ]
  },
  {
   "cell_type": "code",
   "execution_count": 34,
   "id": "9fe214a4",
   "metadata": {
    "id": "9fe214a4"
   },
   "outputs": [
    {
     "name": "stdout",
     "output_type": "stream",
     "text": [
      "Relative error on subdomain 1 2.3225042905392797e-15\n",
      "Relative error on subdomain 2 2.72893980576033e-15\n"
     ]
    }
   ],
   "source": [
    "u_ex1_norm = np.sqrt(domain.comm.allreduce(\n",
    "    dolfinx.fem.assemble_scalar(dolfinx.fem.form(ufl.inner(u_ex, u_ex) * dx(1))), op=mpi4py.MPI.SUM))\n",
    "u_ex2_norm = np.sqrt(domain.comm.allreduce(\n",
    "    dolfinx.fem.assemble_scalar(dolfinx.fem.form(ufl.inner(u_ex, u_ex) * dx(2))), op=mpi4py.MPI.SUM))\n",
    "err1_norm = np.sqrt(domain.comm.allreduce(\n",
    "    dolfinx.fem.assemble_scalar(dolfinx.fem.form(ufl.inner(u_ex - u1, u_ex - u1) * dx(1))), op=mpi4py.MPI.SUM))\n",
    "err2_norm = np.sqrt(domain.comm.allreduce(\n",
    "    dolfinx.fem.assemble_scalar(dolfinx.fem.form(ufl.inner(u_ex - u2, u_ex - u2) * dx(2))), op=mpi4py.MPI.SUM))\n",
    "print(\"Relative error on subdomain 1\", err1_norm / u_ex1_norm)\n",
    "print(\"Relative error on subdomain 2\", err2_norm / u_ex2_norm)\n",
    "assert np.isclose(err1_norm / u_ex1_norm, 0., atol=1.e-10)\n",
    "assert np.isclose(err2_norm / u_ex2_norm, 0., atol=1.e-10)"
   ]
  }
 ],
 "metadata": {
  "colab": {
   "provenance": []
  },
  "kernelspec": {
   "display_name": "FEA",
   "language": "python",
   "name": "fea-env"
  },
  "language_info": {
   "codemirror_mode": {
    "name": "ipython",
    "version": 3
   },
   "file_extension": ".py",
   "mimetype": "text/x-python",
   "name": "python",
   "nbconvert_exporter": "python",
   "pygments_lexer": "ipython3",
   "version": "3.12.3"
  }
 },
 "nbformat": 4,
 "nbformat_minor": 5
}
