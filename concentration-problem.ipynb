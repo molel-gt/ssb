{
 "cells": [
  {
   "cell_type": "code",
   "execution_count": 1,
   "id": "50bb6f0a-ce89-46c6-8414-c6ed3994b5a2",
   "metadata": {},
   "outputs": [],
   "source": [
    "import argparse\n",
    "import itertools\n",
    "import json\n",
    "import math\n",
    "import os\n",
    "import sys\n",
    "import timeit\n",
    "\n",
    "import dolfinx\n",
    "import gmsh\n",
    "import h5py\n",
    "import matplotlib.pyplot as plt\n",
    "import meshio\n",
    "import multiphenicsx\n",
    "import multiphenicsx.fem\n",
    "import multiphenicsx.fem.petsc\n",
    "import numpy as np\n",
    "import petsc4py\n",
    "import pyvista\n",
    "import pyvista as pv\n",
    "import pyvistaqt as pvqt\n",
    "import subprocess\n",
    "import ufl\n",
    "import viskex\n",
    "import warnings\n",
    "\n",
    "from basix.ufl import element, mixed_element\n",
    "from dolfinx import cpp, default_real_type, default_scalar_type, fem, io, la, mesh, nls, plot\n",
    "from dolfinx.fem import petsc\n",
    "from dolfinx.io import gmshio, VTXWriter, XDMFFile\n",
    "from dolfinx.nls import petsc as petsc_nls\n",
    "from dolfinx.geometry import bb_tree, compute_collisions_points, compute_colliding_cells\n",
    "from IPython.display import Image\n",
    "\n",
    "from mpi4py import MPI\n",
    "from petsc4py import PETSc\n",
    "from ufl import (Circumradius, FacetNormal, SpatialCoordinate, TrialFunction, TestFunction,\n",
    "                 dot, div, dx, ds, dS, grad, inner, grad, avg, jump)\n",
    "\n",
    "import commons, configs, geometry, utils\n",
    "\n",
    "warnings.simplefilter(\"ignore\")"
   ]
  },
  {
   "cell_type": "code",
   "execution_count": 2,
   "id": "d5653813-9c0e-42cd-bf73-0eb080b2e2f6",
   "metadata": {},
   "outputs": [],
   "source": [
    "def arctanh(y):\n",
    "    return 0.5 * ufl.ln((1 + y) / (1 - y))\n",
    "\n",
    "def ocv(c, cmax=35000):\n",
    "    xi = 2 * (c - 0.5 * cmax) / cmax\n",
    "    return -0.5 * arctanh(xi) + 3.25"
   ]
  },
  {
   "cell_type": "code",
   "execution_count": 3,
   "id": "9c0b6a11-39be-46b2-a79f-23ac2b7a6835",
   "metadata": {},
   "outputs": [
    {
     "name": "stdout",
     "output_type": "stream",
     "text": [
      "Info    : Reading 'output/tertiary_current/150-40-0/20-55-20/5.0e-06/mesh.msh'...\n",
      "Info    : 55 entities\n",
      "Info    : 5106 nodes\n",
      "Info    : 10380 elements\n",
      "Info    : Done reading 'output/tertiary_current/150-40-0/20-55-20/5.0e-06/mesh.msh'\n"
     ]
    }
   ],
   "source": [
    "comm = MPI.COMM_WORLD\n",
    "encoding = io.XDMFFile.Encoding.HDF5\n",
    "micron = 1e-6\n",
    "dimensions = \"150-40-0\"\n",
    "mesh_folder = \"output/tertiary_current/150-40-0/20-55-20/5.0e-06/\"\n",
    "LX, LY, LZ = [float(vv) * micron for vv in dimensions.split(\"-\")]\n",
    "workdir = os.path.join(mesh_folder, \"tertiary\")\n",
    "utils.make_dir_if_missing(workdir)\n",
    "output_meshfile = os.path.join(mesh_folder, 'mesh.msh')\n",
    "lines_h5file = os.path.join(mesh_folder, 'lines.h5')\n",
    "potential_resultsfile = os.path.join(workdir, \"potential.bp\")\n",
    "concentration_resultsfile = os.path.join(workdir, \"concentration.bp\")\n",
    "concentration_xdmf_file = os.path.join(workdir, \"concentration.xdmf\")\n",
    "# current_dist_file = os.path.join(workdir, f\"current-y-positions-{str(args.Wa_p)}-{str(args.kr)}.png\")\n",
    "# reaction_dist_file = os.path.join(workdir, f\"reaction-dist-{str(args.Wa_p)}-{str(args.kr)}.png\")\n",
    "current_resultsfile = os.path.join(workdir, \"current.bp\")\n",
    "simulation_metafile = os.path.join(workdir, \"simulation.json\")\n",
    "\n",
    "markers = commons.Markers()\n",
    "\n",
    "# ### Read input geometry\n",
    "partitioner = mesh.create_cell_partitioner(mesh.GhostMode.shared_facet)\n",
    "domain, ct, ft = gmshio.read_from_msh(output_meshfile, comm, partitioner=partitioner)\n",
    "tdim = domain.topology.dim\n",
    "fdim = tdim - 1\n",
    "domain.topology.create_connectivity(tdim, fdim)\n",
    "domain.topology.create_connectivity(domain.topology.dim, domain.topology.dim)\n",
    "\n",
    "x = SpatialCoordinate(domain)\n",
    "\n",
    "# tag internal facets as 0\n",
    "ft_imap = domain.topology.index_map(fdim)\n",
    "num_facets = ft_imap.size_local + ft_imap.num_ghosts\n",
    "indices = np.arange(0, num_facets)\n",
    "values = np.zeros(indices.shape, dtype=np.intc)\n",
    "\n",
    "values[ft.indices] = ft.values\n",
    "\n",
    "ft = mesh.meshtags(domain, fdim, indices, values)\n",
    "ct = mesh.meshtags(domain, tdim, ct.indices, ct.values)\n",
    "\n",
    "dx = ufl.Measure(\"dx\", domain=domain, subdomain_data=ct, metadata={\"quadrature_degree\": 4})\n",
    "ds = ufl.Measure(\"ds\", domain=domain, subdomain_data=ft, metadata={\"quadrature_degree\": 4})\n",
    "\n",
    "f_to_c = domain.topology.connectivity(fdim, tdim)\n",
    "c_to_f = domain.topology.connectivity(tdim, fdim)\n",
    "charge_xfer_facets = ft.find(markers.electrolyte_v_positive_am)\n",
    "\n",
    "other_internal_facets = ft.find(0)\n",
    "int_facet_domain = []\n",
    "for f in charge_xfer_facets:\n",
    "    if f >= ft_imap.size_local or len(f_to_c.links(f)) != 2:\n",
    "        continue\n",
    "    c_0, c_1 = f_to_c.links(f)[0], f_to_c.links(f)[1]\n",
    "    subdomain_0, subdomain_1 = ct.values[[c_0, c_1]]\n",
    "    local_f_0 = np.where(c_to_f.links(c_0) == f)[0][0]\n",
    "    local_f_1 = np.where(c_to_f.links(c_1) == f)[0][0]\n",
    "    if subdomain_0 > subdomain_1:\n",
    "        int_facet_domain.append(c_0)\n",
    "        int_facet_domain.append(local_f_0)\n",
    "        int_facet_domain.append(c_1)\n",
    "        int_facet_domain.append(local_f_1)\n",
    "    else:\n",
    "        int_facet_domain.append(c_1)\n",
    "        int_facet_domain.append(local_f_1)\n",
    "        int_facet_domain.append(c_0)\n",
    "        int_facet_domain.append(local_f_0)\n",
    "\n",
    "other_internal_facet_domains = []\n",
    "for f in other_internal_facets:\n",
    "    if f >= ft_imap.size_local or len(f_to_c.links(f)) != 2:\n",
    "        continue\n",
    "    c_0, c_1 = f_to_c.links(f)[0], f_to_c.links(f)[1]\n",
    "    subdomain_0, subdomain_1 = ct.values[[c_0, c_1]]\n",
    "    local_f_0 = np.where(c_to_f.links(c_0) == f)[0][0]\n",
    "    local_f_1 = np.where(c_to_f.links(c_1) == f)[0][0]\n",
    "    other_internal_facet_domains.append(c_0)\n",
    "    other_internal_facet_domains.append(local_f_0)\n",
    "    other_internal_facet_domains.append(c_1)\n",
    "    other_internal_facet_domains.append(local_f_1)\n",
    "int_facet_domains = [(markers.electrolyte_v_positive_am, int_facet_domain)]#, (0, other_internal_facet_domains)]\n",
    "\n",
    "dS = ufl.Measure(\"dS\", domain=domain, subdomain_data=int_facet_domains)"
   ]
  },
  {
   "cell_type": "code",
   "execution_count": 4,
   "id": "222c451f-86c3-4176-9c96-6274e7880936",
   "metadata": {},
   "outputs": [],
   "source": [
    "# viskex.dolfinx.plot_mesh(domain)"
   ]
  },
  {
   "cell_type": "code",
   "execution_count": 5,
   "id": "b5c50e94-65dc-432e-a00e-50edc10d8701",
   "metadata": {},
   "outputs": [
    {
     "data": {
      "application/vnd.jupyter.widget-view+json": {
       "model_id": "05f516c73d7746ffa7f8c5e7a77f180f",
       "version_major": 2,
       "version_minor": 0
      },
      "text/plain": [
       "Widget(value='<iframe src=\"http://localhost:45407/index.html?ui=P_0x71949ff6cc80_0&reconnect=auto\" class=\"pyvi…"
      ]
     },
     "metadata": {},
     "output_type": "display_data"
    }
   ],
   "source": [
    "viskex.dolfinx.plot_mesh_tags(domain, ct, \"subdomains\")"
   ]
  },
  {
   "cell_type": "code",
   "execution_count": 6,
   "id": "fdf58bdd-6374-4eb4-877b-407e2d680355",
   "metadata": {},
   "outputs": [
    {
     "data": {
      "application/vnd.jupyter.widget-view+json": {
       "model_id": "50f61e162d9a4b70940e5b0f31f9d811",
       "version_major": 2,
       "version_minor": 0
      },
      "text/plain": [
       "Widget(value='<iframe src=\"http://localhost:45407/index.html?ui=P_0x7194a7b00bc0_1&reconnect=auto\" class=\"pyvi…"
      ]
     },
     "metadata": {},
     "output_type": "display_data"
    }
   ],
   "source": [
    "viskex.dolfinx.plot_mesh_tags(domain, ft, \"boundaries and interfaces\")"
   ]
  },
  {
   "cell_type": "code",
   "execution_count": 7,
   "id": "f18995eb-7c93-4085-8477-45e0f434e6a7",
   "metadata": {},
   "outputs": [
    {
     "data": {
      "text/plain": [
       "((170,), (360,))"
      ]
     },
     "execution_count": 7,
     "metadata": {},
     "output_type": "execute_result"
    }
   ],
   "source": [
    "cells_Omega1 = ct.find(markers.electrolyte)\n",
    "cells_Omega2 = ct.find(markers.positive_am)\n",
    "facets_partial_Omega = np.hstack([ft.find(marker) for marker in [markers.left, markers.right, markers.insulated_electrolyte, markers.insulated_positive_am]])\n",
    "facets_partial_Omega.sort()\n",
    "facets_Gamma = ft.find(markers.electrolyte_v_positive_am)\n",
    "facets_Gamma.shape, facets_partial_Omega.shape"
   ]
  },
  {
   "cell_type": "code",
   "execution_count": 8,
   "id": "055f4820-ee76-4e9f-a77b-e5f46421796b",
   "metadata": {},
   "outputs": [],
   "source": [
    "# Define function spaces\n",
    "V = dolfinx.fem.functionspace(domain, (\"Lagrange\", 2))\n",
    "\n",
    "V1 = V.clone()\n",
    "V2 = V.clone()\n",
    "M = V.clone()"
   ]
  },
  {
   "cell_type": "code",
   "execution_count": 9,
   "id": "f4e4712a-6265-4db0-b1a3-fe09287ba085",
   "metadata": {},
   "outputs": [],
   "source": [
    "# Define restrictions\n",
    "dofs_V1_Omega1 = dolfinx.fem.locate_dofs_topological(V1, ct.dim, cells_Omega1)\n",
    "dofs_V2_Omega2 = dolfinx.fem.locate_dofs_topological(V2, ct.dim, cells_Omega2)\n",
    "dofs_M_Gamma = dolfinx.fem.locate_dofs_topological(M, ft.dim, facets_Gamma)\n",
    "\n",
    "restriction_V1_Omega1 = multiphenicsx.fem.DofMapRestriction(V1.dofmap, dofs_V1_Omega1)\n",
    "restriction_V2_Omega2 = multiphenicsx.fem.DofMapRestriction(V2.dofmap, dofs_V2_Omega2)\n",
    "\n",
    "restriction_M_Gamma = multiphenicsx.fem.DofMapRestriction(M.dofmap, dofs_M_Gamma)\n",
    "restriction = [restriction_V1_Omega1, restriction_V2_Omega2, restriction_M_Gamma]"
   ]
  },
  {
   "cell_type": "code",
   "execution_count": 10,
   "id": "7b26ff91-abcc-4d7f-bf86-a14fca81e365",
   "metadata": {},
   "outputs": [],
   "source": [
    "# Define trial and test functions\n",
    "(u1, u2, l) = (ufl.TrialFunction(V1), ufl.TrialFunction(V2), ufl.TrialFunction(M))\n",
    "(v1, v2, m) = (ufl.TestFunction(V1), ufl.TestFunction(V2), ufl.TestFunction(M))"
   ]
  },
  {
   "cell_type": "code",
   "execution_count": 11,
   "id": "2fa78436-888e-4f27-8481-7c457252c477",
   "metadata": {},
   "outputs": [],
   "source": [
    "# Define problem block forms\n",
    "zero = dolfinx.fem.Constant(domain, petsc4py.PETSc.ScalarType(0))\n",
    "Vcell = dolfinx.fem.Constant(domain, petsc4py.PETSc.ScalarType(1))\n",
    "a = [\n",
    "    [ufl.inner(ufl.grad(u1), ufl.grad(v1)) * dx(markers.electrolyte), None, ufl.inner(l(\"-\"), v1(\"-\")) * dS(markers.electrolyte_v_positive_am)],\n",
    "    [None, ufl.inner(ufl.grad(u2), ufl.grad(v2)) * dx(markers.positive_am), - ufl.inner(l(\"+\"), v2(\"+\")) * dS(markers.electrolyte_v_positive_am)],\n",
    "    [ufl.inner(u1(\"-\"), m(\"-\")) * dS(markers.electrolyte_v_positive_am), - ufl.inner(u2(\"+\"), m(\"+\")) * dS(markers.electrolyte_v_positive_am), None],\n",
    "]\n",
    "f = [\n",
    "    ufl.inner(zero, v1) * dx(markers.electrolyte),\n",
    "    ufl.inner(zero, v2) * dx(markers.positive_am),\n",
    "    ufl.inner(zero, v1) * ds(markers.insulated_electrolyte) + ufl.inner(zero, v1) * ds(markers.insulated_positive_am)\n",
    "]\n",
    "a_cpp = dolfinx.fem.form(a)\n",
    "f_cpp = dolfinx.fem.form(f)"
   ]
  },
  {
   "cell_type": "code",
   "execution_count": 12,
   "id": "388d78ba-f76a-4d88-b55f-ed95b0e6a8f5",
   "metadata": {},
   "outputs": [],
   "source": [
    "# Define boundary conditions\n",
    "left_dofs = fem.locate_dofs_topological(V1, ft.dim, ft.find(markers.left))\n",
    "right_dofs = fem.locate_dofs_topological(V2, ft.dim, ft.find(markers.right))\n",
    "dofs_V1_partial_Omega = dolfinx.fem.locate_dofs_topological(\n",
    "    V1, ft.dim, facets_partial_Omega)\n",
    "dofs_V2_partial_Omega = dolfinx.fem.locate_dofs_topological(\n",
    "    V2, ft.dim, facets_partial_Omega)\n",
    "bc_left = fem.dirichletbc(zero, left_dofs, V1)\n",
    "bc_right = fem.dirichletbc(Vcell, right_dofs, V2)\n",
    "bcs = [bc_left, bc_right]"
   ]
  },
  {
   "cell_type": "code",
   "execution_count": 13,
   "id": "0cda4ce6-c5aa-4808-8682-b0baf423606d",
   "metadata": {},
   "outputs": [],
   "source": [
    "# Assemble the block linear system\n",
    "A = multiphenicsx.fem.petsc.assemble_matrix_block(a_cpp, bcs=bcs, restriction=(restriction, restriction))\n",
    "A.assemble()\n",
    "F = multiphenicsx.fem.petsc.assemble_vector_block(f_cpp, a_cpp, bcs=bcs, restriction=restriction)"
   ]
  },
  {
   "cell_type": "code",
   "execution_count": 14,
   "id": "f849697b-c3c6-41b0-8d94-bd626e0eab53",
   "metadata": {},
   "outputs": [
    {
     "data": {
      "text/plain": [
       "<petsc4py.PETSc.KSP at 0x71949f3f4590>"
      ]
     },
     "execution_count": 14,
     "metadata": {},
     "output_type": "execute_result"
    }
   ],
   "source": [
    "# Solve\n",
    "u1u2l = multiphenicsx.fem.petsc.create_vector_block(f_cpp, restriction=restriction)\n",
    "ksp = petsc4py.PETSc.KSP()\n",
    "ksp.create(domain.comm)\n",
    "ksp.setOperators(A)\n",
    "ksp.setType(\"preonly\")\n",
    "ksp.getPC().setType(\"lu\")\n",
    "ksp.getPC().setFactorSolverType(\"mumps\")\n",
    "ksp.getPC().setFactorSetUpSolverType()\n",
    "ksp.getPC().getFactorMatrix().setMumpsIcntl(icntl=7, ival=4)\n",
    "ksp.setFromOptions()\n",
    "ksp.solve(F, u1u2l)\n",
    "u1u2l.ghostUpdate(addv=petsc4py.PETSc.InsertMode.INSERT, mode=petsc4py.PETSc.ScatterMode.FORWARD)\n",
    "ksp.destroy()"
   ]
  },
  {
   "cell_type": "code",
   "execution_count": 15,
   "id": "1c761377-05c0-4dc2-bdac-85fc9b749b60",
   "metadata": {},
   "outputs": [
    {
     "data": {
      "text/plain": [
       "<petsc4py.PETSc.Vec at 0x71949f3165c0>"
      ]
     },
     "execution_count": 15,
     "metadata": {},
     "output_type": "execute_result"
    }
   ],
   "source": [
    "# Split the block solution in components\n",
    "(u1, u2, l) = (dolfinx.fem.Function(V1), dolfinx.fem.Function(V2), dolfinx.fem.Function(M))\n",
    "with multiphenicsx.fem.petsc.BlockVecSubVectorWrapper(\n",
    "        u1u2l, [V1.dofmap, V2.dofmap, M.dofmap], restriction) as u1u2l_wrapper:\n",
    "    for u1u2l_wrapper_local, component in zip(u1u2l_wrapper, (u1, u2, l)):\n",
    "        with component.x.petsc_vec.localForm() as component_local:\n",
    "            component_local[:] = u1u2l_wrapper_local\n",
    "u1u2l.destroy()"
   ]
  },
  {
   "cell_type": "code",
   "execution_count": 17,
   "id": "054d4b51-c491-4fa6-80c5-d3396387d9ab",
   "metadata": {},
   "outputs": [],
   "source": [
    "with VTXWriter(comm, potential_resultsfile, [u1], engine=\"BP5\") as fp:\n",
    "    fp.write(0.0)"
   ]
  },
  {
   "cell_type": "code",
   "execution_count": 19,
   "id": "244a6f34-69aa-45e8-9579-d10286a5dd4c",
   "metadata": {},
   "outputs": [
    {
     "data": {
      "application/vnd.jupyter.widget-view+json": {
       "model_id": "b59772fea3c7469bbe580f1ecb308418",
       "version_major": 2,
       "version_minor": 0
      },
      "text/plain": [
       "Widget(value='<iframe src=\"http://localhost:45407/index.html?ui=P_0x71949f8e4a10_3&reconnect=auto\" class=\"pyvi…"
      ]
     },
     "metadata": {},
     "output_type": "display_data"
    }
   ],
   "source": [
    "viskex.dolfinx.plot_scalar_field(u1, \"u1\", show_edges=False)"
   ]
  },
  {
   "cell_type": "code",
   "execution_count": 20,
   "id": "620a48f6-958e-4eb2-b48f-5a15254738bc",
   "metadata": {},
   "outputs": [
    {
     "data": {
      "application/vnd.jupyter.widget-view+json": {
       "model_id": "34e5d34bffc24c8b8fdc1c5fb460d8e0",
       "version_major": 2,
       "version_minor": 0
      },
      "text/plain": [
       "Widget(value='<iframe src=\"http://localhost:45407/index.html?ui=P_0x71949f2e8110_4&reconnect=auto\" class=\"pyvi…"
      ]
     },
     "metadata": {},
     "output_type": "display_data"
    }
   ],
   "source": [
    "viskex.dolfinx.plot_scalar_field(u2, \"u2\", show_edges=False)"
   ]
  },
  {
   "cell_type": "code",
   "execution_count": null,
   "id": "e9efe78c-58cb-45f2-9a0c-7d1e2049402d",
   "metadata": {},
   "outputs": [],
   "source": []
  }
 ],
 "metadata": {
  "kernelspec": {
   "display_name": "FEA",
   "language": "python",
   "name": "fea-env"
  },
  "language_info": {
   "codemirror_mode": {
    "name": "ipython",
    "version": 3
   },
   "file_extension": ".py",
   "mimetype": "text/x-python",
   "name": "python",
   "nbconvert_exporter": "python",
   "pygments_lexer": "ipython3",
   "version": "3.12.3"
  }
 },
 "nbformat": 4,
 "nbformat_minor": 5
}
