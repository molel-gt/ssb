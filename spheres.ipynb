{
 "cells": [
  {
   "cell_type": "code",
   "execution_count": 27,
   "metadata": {},
   "outputs": [
    {
     "name": "stderr",
     "output_type": "stream",
     "text": [
      "Warning : Gmsh has aleady been initialized\n"
     ]
    }
   ],
   "source": [
    "import warnings\n",
    "warnings.filterwarnings(\"ignore\")\n",
    "import gmsh\n",
    "import meshio\n",
    "import numpy as np\n",
    "gmsh.initialize()"
   ]
  },
  {
   "cell_type": "code",
   "execution_count": 28,
   "metadata": {},
   "outputs": [],
   "source": [
    "def read_spheres_position_file(spheres_position_path):\n",
    "    \"\"\"\n",
    "    Reads file input that contains the centers of spheres. The path is assumed to have\n",
    "    been generated using code from Skoge et al.\n",
    "    \"\"\"\n",
    "    centers = []\n",
    "    radius = 0\n",
    "    n = 0\n",
    "    with open(spheres_position_path) as fp:\n",
    "        for i, row in enumerate(fp.readlines()):\n",
    "            if i < 2:\n",
    "                continue\n",
    "            if i == 2:\n",
    "                n = int(row)\n",
    "            if i == 3:\n",
    "                radius = float(row)\n",
    "            if i < 6:\n",
    "                continue\n",
    "            x, y, z, _ = row.split(' ')\n",
    "            centers.append((float(x), float(y), float(z)))\n",
    "    return centers, float(radius)/2, n\n"
   ]
  },
  {
   "cell_type": "code",
   "execution_count": 29,
   "metadata": {},
   "outputs": [],
   "source": [
    "gmsh.model.add(\"3D\")\n",
    "Lx, Ly, Lz = 1, 1, 1\n",
    "resolution = 0.025\n",
    "channel = gmsh.model.occ.addBox(0, 0, 0, Lx, Ly, Lz)"
   ]
  },
  {
   "cell_type": "code",
   "execution_count": 30,
   "metadata": {},
   "outputs": [],
   "source": [
    "spheres_ = []\n",
    "centers, r, n_spheres = read_spheres_position_file(\"/home/leshinka/spheres/write.dat\")\n",
    "for center in centers:\n",
    "    x, y, z = center\n",
    "    sphere = gmsh.model.occ.addSphere(*center, r)\n",
    "    spheres_.append(sphere)\n",
    "channel = gmsh.model.occ.cut([(3, channel)], [(3, sphere) for sphere in spheres_])"
   ]
  },
  {
   "cell_type": "code",
   "execution_count": 31,
   "metadata": {},
   "outputs": [],
   "source": [
    "gmsh.model.occ.synchronize()\n",
    "volumes = gmsh.model.getEntities(dim=3)"
   ]
  },
  {
   "cell_type": "code",
   "execution_count": 32,
   "metadata": {},
   "outputs": [],
   "source": [
    "marker = 11\n",
    "gmsh.model.addPhysicalGroup(volumes[0][0], [volumes[0][1]], marker)\n",
    "gmsh.model.setPhysicalName(volumes[0][0], marker, \"conductor\")"
   ]
  },
  {
   "cell_type": "code",
   "execution_count": 33,
   "metadata": {},
   "outputs": [],
   "source": [
    "surfaces = gmsh.model.occ.getEntities(dim=2)\n",
    "left_marker = 1\n",
    "right_marker = 3\n",
    "sphere_marker = 5\n",
    "spheres = []\n",
    "walls = []\n",
    "for surface in surfaces:\n",
    "    com = gmsh.model.occ.getCenterOfMass(surface[0], surface[1])\n",
    "    if np.allclose(com, [0, Ly/2, Lz/2]):\n",
    "        gmsh.model.addPhysicalGroup(surface[0], [surface[1]], left_marker)\n",
    "        left = surface[1]\n",
    "        gmsh.model.setPhysicalName(surface[0], left_marker, \"left\")\n",
    "    elif np.allclose(com, [Lx, Ly/2, Lz/2]):\n",
    "        gmsh.model.addPhysicalGroup(surface[0], [surface[1]], right_marker)\n",
    "        gmsh.model.setPhysicalName(surface[0], right_marker, \"right\")\n",
    "        right = surface[1]\n",
    "    elif np.isclose(com[2], 0) or np.isclose(com[1], Ly) or np.isclose(com[2], Lz) or np.isclose(com[1], 0):\n",
    "        walls.append(surface[1])\n",
    "    else:\n",
    "        spheres.append(surface[1])\n",
    "gmsh.model.addPhysicalGroup(2, spheres, sphere_marker)\n",
    "gmsh.model.setPhysicalName(2, sphere_marker, \"sphere\")\n",
    "\n",
    "gmsh.model.mesh.field.add(\"Distance\", 1)\n",
    "gmsh.model.mesh.field.setNumbers(1, \"FacesList\", spheres)\n",
    "\n",
    "gmsh.model.mesh.field.add(\"Threshold\", 2)\n",
    "gmsh.model.mesh.field.setNumber(2, \"IField\", 1)\n",
    "gmsh.model.mesh.field.setNumber(2, \"LcMin\", resolution)\n",
    "gmsh.model.mesh.field.setNumber(2, \"LcMax\", 20*resolution)\n",
    "gmsh.model.mesh.field.setNumber(2, \"DistMin\", 0.5*r)\n",
    "gmsh.model.mesh.field.setNumber(2, \"DistMax\", r)\n",
    "\n",
    "gmsh.model.mesh.field.add(\"Min\", 5)\n",
    "gmsh.model.mesh.field.setNumbers(5, \"FieldsList\", [2])\n",
    "gmsh.model.mesh.field.setAsBackgroundMesh(5)"
   ]
  },
  {
   "cell_type": "code",
   "execution_count": 34,
   "metadata": {},
   "outputs": [
    {
     "name": "stdout",
     "output_type": "stream",
     "text": [
      "Info    : Meshing 1D...\n",
      "Info    : [ 10%] Meshing curve 17 (Circle)\n",
      "Info    : [ 20%] Meshing curve 19 (Line)\n",
      "Info    : [ 20%] Meshing curve 20 (Circle)\n",
      "Info    : [ 20%] Meshing curve 21 (Line)\n",
      "Info    : [ 30%] Meshing curve 22 (Line)\n",
      "Info    : [ 30%] Meshing curve 23 (Line)\n",
      "Info    : [ 40%] Meshing curve 24 (Circle)\n",
      "Info    : [ 40%] Meshing curve 25 (Circle)\n",
      "Info    : [ 40%] Meshing curve 26 (Line)\n",
      "Info    : [ 50%] Meshing curve 27 (Line)\n",
      "Info    : [ 50%] Meshing curve 28 (Line)\n",
      "Info    : [ 60%] Meshing curve 29 (Circle)\n",
      "Info    : [ 60%] Meshing curve 30 (Circle)\n",
      "Info    : [ 70%] Meshing curve 32 (Line)\n",
      "Info    : [ 70%] Meshing curve 33 (Line)\n",
      "Info    : [ 80%] Meshing curve 34 (Line)\n",
      "Info    : [ 80%] Meshing curve 35 (Line)\n",
      "Info    : [ 80%] Meshing curve 36 (Circle)\n",
      "Info    : [ 90%] Meshing curve 37 (Line)\n",
      "Info    : [ 90%] Meshing curve 38 (Circle)\n",
      "Info    : [100%] Meshing curve 39 (Circle)\n",
      "Info    : Done meshing 1D (Wall 0.0233518s, CPU 0.026117s)\n",
      "Info    : Meshing 2D...\n",
      "Info    : [  0%] Meshing surface 8 (Sphere, Frontal-Delaunay)\n",
      "Info    : [ 20%] Meshing surface 9 (Plane, Frontal-Delaunay)\n",
      "Info    : [ 30%] Meshing surface 10 (Plane, Frontal-Delaunay)\n",
      "Info    : [ 40%] Meshing surface 11 (Sphere, Frontal-Delaunay)\n",
      "Info    : [ 50%] Meshing surface 12 (Plane, Frontal-Delaunay)\n",
      "Info    : [ 60%] Meshing surface 13 (Plane, Frontal-Delaunay)\n",
      "Info    : [ 70%] Meshing surface 14 (Plane, Frontal-Delaunay)\n",
      "Info    : [ 80%] Meshing surface 15 (Plane, Frontal-Delaunay)\n",
      "Info    : [ 90%] Meshing surface 16 (Sphere, Frontal-Delaunay)\n",
      "Info    : Done meshing 2D (Wall 0.493517s, CPU 0.497003s)\n",
      "Info    : Meshing 3D...\n",
      "Info    : 3D Meshing 1 volume with 1 connected component\n",
      "Info    : Tetrahedrizing 10719 nodes...\n",
      "Info    : Done tetrahedrizing 10727 nodes (Wall 0.126194s, CPU 0.124008s)\n",
      "Info    : Reconstructing mesh...\n",
      "Info    :  - Creating surface mesh\n",
      "Info    :  - Identifying boundary edges\n",
      "Info    :  - Recovering boundary\n",
      "Info    : Done reconstructing mesh (Wall 0.328928s, CPU 0.326239s)\n",
      "Info    : Found void region\n",
      "Info    : Found volume 1\n",
      "Info    : It. 0 - 0 nodes created - worst tet radius 11.0789 (nodes removed 0 0)\n",
      "Info    : It. 500 - 496 nodes created - worst tet radius 2.85455 (nodes removed 0 4)\n",
      "Info    : It. 1000 - 996 nodes created - worst tet radius 2.36378 (nodes removed 0 4)\n",
      "Info    : It. 1500 - 1496 nodes created - worst tet radius 2.11631 (nodes removed 0 4)\n",
      "Info    : It. 2000 - 1995 nodes created - worst tet radius 2.15613 (nodes removed 0 5)\n",
      "Info    : It. 2500 - 2495 nodes created - worst tet radius 1.83324 (nodes removed 0 5)\n",
      "Info    : It. 3000 - 2994 nodes created - worst tet radius 1.73698 (nodes removed 0 6)\n",
      "Info    : It. 3500 - 3493 nodes created - worst tet radius 1.66299 (nodes removed 0 7)\n",
      "Info    : It. 4000 - 3990 nodes created - worst tet radius 1.60256 (nodes removed 0 10)\n",
      "Info    : It. 4500 - 4490 nodes created - worst tet radius 1.54847 (nodes removed 0 10)\n",
      "Info    : It. 5000 - 4987 nodes created - worst tet radius 1.5023 (nodes removed 0 13)\n",
      "Info    : It. 5500 - 5484 nodes created - worst tet radius 1.46046 (nodes removed 0 16)\n",
      "Info    : It. 6000 - 5984 nodes created - worst tet radius 1.42122 (nodes removed 0 16)\n",
      "Info    : It. 6500 - 6481 nodes created - worst tet radius 1.38824 (nodes removed 0 19)\n",
      "Info    : It. 7000 - 6976 nodes created - worst tet radius 1.35521 (nodes removed 0 24)\n",
      "Info    : It. 7500 - 7475 nodes created - worst tet radius 1.32787 (nodes removed 0 25)\n",
      "Info    : It. 8000 - 7972 nodes created - worst tet radius 1.3036 (nodes removed 0 28)\n",
      "Info    : It. 8500 - 8472 nodes created - worst tet radius 1.28076 (nodes removed 0 28)\n",
      "Info    : It. 9000 - 8970 nodes created - worst tet radius 1.25862 (nodes removed 0 30)\n",
      "Info    : It. 9500 - 9469 nodes created - worst tet radius 1.23829 (nodes removed 0 31)\n",
      "Info    : It. 10000 - 9969 nodes created - worst tet radius 1.21982 (nodes removed 0 31)\n",
      "Info    : It. 10500 - 10458 nodes created - worst tet radius 1.20192 (nodes removed 0 42)\n",
      "Info    : It. 11000 - 10955 nodes created - worst tet radius 1.18362 (nodes removed 0 45)\n",
      "Info    : It. 11500 - 11454 nodes created - worst tet radius 1.16798 (nodes removed 0 46)\n",
      "Info    : It. 12000 - 11950 nodes created - worst tet radius 1.15397 (nodes removed 0 50)\n",
      "Info    : It. 12500 - 12450 nodes created - worst tet radius 1.13978 (nodes removed 0 50)\n",
      "Info    : It. 13000 - 12947 nodes created - worst tet radius 1.12768 (nodes removed 0 53)\n",
      "Info    : It. 13500 - 13440 nodes created - worst tet radius 1.11369 (nodes removed 0 60)\n",
      "Info    : It. 14000 - 13937 nodes created - worst tet radius 1.10182 (nodes removed 0 63)\n",
      "Info    : It. 14500 - 14435 nodes created - worst tet radius 1.08965 (nodes removed 0 65)\n",
      "Info    : It. 15000 - 14929 nodes created - worst tet radius 1.07826 (nodes removed 0 71)\n",
      "Info    : It. 15500 - 15412 nodes created - worst tet radius 1.06805 (nodes removed 0 88)\n",
      "Info    : It. 16000 - 15903 nodes created - worst tet radius 1.08519 (nodes removed 0 97)\n",
      "Info    : It. 16500 - 16403 nodes created - worst tet radius 1.04802 (nodes removed 0 97)\n",
      "Info    : It. 17000 - 16899 nodes created - worst tet radius 1.03864 (nodes removed 0 101)\n",
      "Info    : It. 17500 - 17396 nodes created - worst tet radius 1.02925 (nodes removed 0 104)\n",
      "Info    : It. 18000 - 17890 nodes created - worst tet radius 1.0206 (nodes removed 0 110)\n",
      "Info    : It. 18500 - 18388 nodes created - worst tet radius 1.03414 (nodes removed 0 112)\n",
      "Info    : It. 19000 - 18887 nodes created - worst tet radius 1.00308 (nodes removed 0 113)\n",
      "Info    : 3D refinement terminated (29812 nodes total):\n",
      "Info    :  - 5 Delaunay cavities modified for star shapeness\n",
      "Info    :  - 122 nodes could not be inserted\n",
      "Info    :  - 155185 tetrahedra created in 1.61689 sec. (95977 tets/s)\n",
      "Info    : Done meshing 3D (Wall 2.63058s, CPU 2.65066s)\n",
      "Info    : Optimizing mesh...\n",
      "Info    : Optimizing volume 1\n",
      "Info    : Optimization starts (volume = 0.750775) with worst = 1.56223e-06 / average = 0.770695:\n",
      "Info    : 0.00 < quality < 0.10 :       369 elements\n",
      "Info    : 0.10 < quality < 0.20 :      1114 elements\n",
      "Info    : 0.20 < quality < 0.30 :      1939 elements\n",
      "Info    : 0.30 < quality < 0.40 :      3033 elements\n",
      "Info    : 0.40 < quality < 0.50 :      4737 elements\n",
      "Info    : 0.50 < quality < 0.60 :      8021 elements\n",
      "Info    : 0.60 < quality < 0.70 :     16851 elements\n",
      "Info    : 0.70 < quality < 0.80 :     36247 elements\n",
      "Info    : 0.80 < quality < 0.90 :     55359 elements\n",
      "Info    : 0.90 < quality < 1.00 :     27515 elements\n",
      "Info    : 3206 edge swaps, 209 node relocations (volume = 0.750775): worst = 0.00162812 / average = 0.783114 (Wall 0.112135s, CPU 0.112618s)\n",
      "Info    : 3267 edge swaps, 272 node relocations (volume = 0.750775): worst = 0.00162812 / average = 0.783249 (Wall 0.156623s, CPU 0.157564s)\n",
      "Info    : No ill-shaped tets in the mesh :-)\n",
      "Info    : 0.00 < quality < 0.10 :        17 elements\n",
      "Info    : 0.10 < quality < 0.20 :        37 elements\n",
      "Info    : 0.20 < quality < 0.30 :        87 elements\n",
      "Info    : 0.30 < quality < 0.40 :      3053 elements\n",
      "Info    : 0.40 < quality < 0.50 :      4587 elements\n",
      "Info    : 0.50 < quality < 0.60 :      7846 elements\n",
      "Info    : 0.60 < quality < 0.70 :     16884 elements\n",
      "Info    : 0.70 < quality < 0.80 :     36639 elements\n",
      "Info    : 0.80 < quality < 0.90 :     55760 elements\n",
      "Info    : 0.90 < quality < 1.00 :     27379 elements\n",
      "Info    : Done optimizing mesh (Wall 0.447804s, CPU 0.450432s)\n",
      "Info    : 29812 nodes 174323 elements\n"
     ]
    }
   ],
   "source": [
    "gmsh.model.occ.synchronize()\n",
    "gmsh.model.mesh.generate(3)"
   ]
  },
  {
   "cell_type": "code",
   "execution_count": 35,
   "metadata": {},
   "outputs": [
    {
     "name": "stdout",
     "output_type": "stream",
     "text": [
      "Info    : Writing 'spheres.msh'...\n",
      "Info    : Done writing 'spheres.msh'\n"
     ]
    }
   ],
   "source": [
    "gmsh.write(\"spheres.msh\")"
   ]
  },
  {
   "cell_type": "code",
   "execution_count": 36,
   "metadata": {},
   "outputs": [],
   "source": [
    "def create_mesh(mesh, cell_type, prune_z=False):\n",
    "    cells = mesh.get_cells_type(cell_type)\n",
    "    cell_data = mesh.get_cell_data(\"gmsh:physical\", cell_type)\n",
    "    points = mesh.points[:,:2] if prune_z else mesh.points\n",
    "    out_mesh = meshio.Mesh(points=points, cells={cell_type: cells}, cell_data={\"name_to_read\":[cell_data]})\n",
    "    return out_mesh"
   ]
  },
  {
   "cell_type": "code",
   "execution_count": 37,
   "metadata": {},
   "outputs": [],
   "source": [
    "mesh_3d = meshio.read(\"spheres.msh\")\n",
    "tetrahedral_mesh = create_mesh(mesh_3d, \"tetra\")\n",
    "meshio.write(\"mesh/mesh_tetr.xdmf\", tetrahedral_mesh)"
   ]
  },
  {
   "cell_type": "code",
   "execution_count": 38,
   "metadata": {},
   "outputs": [
    {
     "name": "stdout",
     "output_type": "stream",
     "text": [
      "done loading tetrahedral mesh\n",
      "done loading tetrahedral mesh\n",
      "setting problem..\n",
      "setting problem..\n",
      "solving problem..\n",
      "solving problem..\n"
     ]
    }
   ],
   "source": [
    "cmd_3d = 'mpirun -n 2 python3 transport.py --working_dir=/home/leshinka/dev/ssb/ --grid_info=2-1-1'\n",
    "!{cmd_3d}"
   ]
  }
 ],
 "metadata": {
  "interpreter": {
   "hash": "916dbcbb3f70747c44a77c7bcd40155683ae19c65e1c03b4aa3499c5328201f1"
  },
  "kernelspec": {
   "display_name": "Python 3.8.10 64-bit",
   "language": "python",
   "name": "python3"
  },
  "language_info": {
   "codemirror_mode": {
    "name": "ipython",
    "version": 3
   },
   "file_extension": ".py",
   "mimetype": "text/x-python",
   "name": "python",
   "nbconvert_exporter": "python",
   "pygments_lexer": "ipython3",
   "version": "3.8.10"
  },
  "orig_nbformat": 4
 },
 "nbformat": 4,
 "nbformat_minor": 2
}
