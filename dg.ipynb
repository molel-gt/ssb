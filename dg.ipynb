{
 "cells": [
  {
   "cell_type": "markdown",
   "id": "sorted-rugby",
   "metadata": {},
   "source": [
    "# Solving the Poisson problem using the Discontinuous Galerkin method\n",
    "Author: Jørgen S. Dokken\n",
    "\n",
    "In this section, we will go through how to solve the Poisson problem from the [Fundamentals](fundamentals.ipynb) tutorial using Discontinuous Galerkin (DG) method.\n",
    "As opposed to using Continuous Lagrangian finite elements, we will now use finite elements that only span the element they are defined on. \n",
    "\n",
    "We start by importing the required modules and creating the mesh and function space for our solution"
   ]
  },
  {
   "cell_type": "code",
   "execution_count": 1,
   "id": "imposed-christopher",
   "metadata": {},
   "outputs": [],
   "source": [
    "import dolfinx\n",
    "import numpy\n",
    "from mpi4py import MPI\n",
    "from petsc4py import PETSc\n",
    "from ufl import (Circumradius, FacetNormal, SpatialCoordinate, TrialFunction, TestFunction,\n",
    "                 div, dx, ds, dS, grad, inner, grad, avg, jump)\n",
    "\n",
    "N = 8   \n",
    "mesh = dolfinx.UnitSquareMesh(MPI.COMM_WORLD, N, N)\n",
    "V = dolfinx.FunctionSpace(mesh, (\"DG\", 1))"
   ]
  },
  {
   "cell_type": "markdown",
   "id": "7a104652",
   "metadata": {},
   "source": [
    "We start by comparing this function space to our standard finite element space."
   ]
  },
  {
   "cell_type": "code",
   "execution_count": 2,
   "id": "35e6db98",
   "metadata": {},
   "outputs": [
    {
     "name": "stdout",
     "output_type": "stream",
     "text": [
      "Num DG dofs: 384\n",
      "Num CG dofs: 81\n"
     ]
    }
   ],
   "source": [
    "V_CG = dolfinx.FunctionSpace(mesh, (\"CG\", 1))\n",
    "print(f\"Num DG dofs: {V.dofmap.index_map.size_local}\")\n",
    "print(f\"Num CG dofs: {V_CG.dofmap.index_map.size_local}\")"
   ]
  },
  {
   "cell_type": "markdown",
   "id": "5cac763e",
   "metadata": {},
   "source": [
    "We note that we have alot of extra degrees of freedom using the discontinuous function space. This is because element in the mesh has its own degrees of freedom equal to the number of vertices, while the CG function space has as many dofs as there are unique vertices in the mesh."
   ]
  },
  {
   "cell_type": "code",
   "execution_count": 3,
   "id": "c88ad903",
   "metadata": {},
   "outputs": [
    {
     "name": "stdout",
     "output_type": "stream",
     "text": [
      "Num cells: 128\n",
      "Num vertices: 81\n",
      "Num vertices per cell: 3\n"
     ]
    }
   ],
   "source": [
    "print(f\"Num cells: {mesh.topology.index_map(mesh.topology.dim).size_local}\")\n",
    "print(f\"Num vertices: {mesh.topology.index_map(0).size_local}\")\n",
    "cell_to_vertex = mesh.topology.connectivity(mesh.topology.dim, 0)\n",
    "print(f\"Num vertices per cell: {cell_to_vertex.links(0).size}\")"
   ]
  },
  {
   "cell_type": "markdown",
   "id": "surrounded-carrier",
   "metadata": {},
   "source": [
    "Next, we create a function containing the exact solution (which will also be used in the Dirichlet boundary condition) and the corresponding source function for the right hand side."
   ]
  },
  {
   "cell_type": "code",
   "execution_count": 48,
   "id": "quality-andorra",
   "metadata": {},
   "outputs": [],
   "source": [
    "uD = dolfinx.Function(V)\n",
    "a = 0.8\n",
    "c = 1\n",
    "uD.interpolate(lambda x: 1 + a * x[0]**2 + c * x[1]**2)\n",
    "dolfinx.cpp.la.scatter_forward(uD.x)\n",
    "x = SpatialCoordinate(mesh)\n",
    "f = -div(grad(1 + a * x[0]**2 + c * x[1]**2))"
   ]
  },
  {
   "cell_type": "markdown",
   "id": "distinguished-obligation",
   "metadata": {},
   "source": [
    "As in the [Nitsche tutorial](nitsche.ipynb) we have another look at the variational formulation.\n",
    "We start by dividing the integral over the computational domain $\\Omega$ into an integral over each cell $K$.\n",
    "\\begin{align}\n",
    "    \\int_{\\Omega} -\\nabla^2 u \\cdot v~\\mathrm{d}x = \\sum_{i=1}^{\\text{num cells}} \\int_{K_i}\\nabla^2 u \\cdot v ~\\mathrm{d}x\n",
    "\\end{align}\n",
    "Using integration by parts, we obtain\n",
    "\\begin{align}\n",
    "    \\int_{\\Omega} -\\nabla^2 u \\cdot v~\\mathrm{d}x =\\sum_{i=1}^{\\text{num cells}}\\left( \\int_{K_i}\\nabla u \\cdot \\nabla v ~\\mathrm{d}x\n",
    "    - \\int_{\\partial K_i} (n \\cdot \\nabla u ) \\cdot v ~\\mathrm{d}s \\right)\n",
    "\\end{align}\n",
    "We now split the boundary $\\partial K_i$ into two parts, the part where $\\partial K_i \\subset \\partial \\Omega$, and where $\\partial K_i$ is an internal boundary (denoted $\\partial\\hat K_i)$. We now use the restriction $u_i$ to mean the function belonging to the cell $K_i$, and use that the volume integral is equal to then integral over the whole domain $\\Omega$.\n",
    "\\begin{align}\n",
    "    \\int_{\\Omega} -\\nabla^2 u \\cdot v~\\mathrm{d}x =&\\int_{Omega}\\nabla u \\cdot \\nabla v ~\\mathrm{d}x - \\int_{\\partial \\Omega} (n\\cdot \\nabla u ) \\cdot v ~\\mathrm{d}s \\\\\n",
    "    -&\\sum_{i=1}^{\\text{num cells}}\\left(\\int_{\\partial \\hat K_i} (n_i \\cdot \\nabla u_i ) \\cdot v_i ~\\mathrm{d}s \\right) \n",
    " \\end{align}\n",
    " We note that for the last term, we have an integral for each side of the interal facet, say between cell $i$ and $j$. We can therefore write this integral as a jump integral (noting that $n_i=-n_j$) over the set of all interal facets $E_j, j=0,\\dots,\\text{num internal facets}$\n",
    "\\begin{align}\n",
    " -\\sum_{i=1}^{\\text{num cells}}\\int_{\\partial \\hat K_i} (n_i \\cdot \\nabla u_i ) \\cdot v_i ~\\mathrm{d}s &=\n",
    " \\sum_{j=1}^{\\text{num internal facets}} \\int_{E_j} n_j\\cdot[\\nabla u\\cdot v]~\\mathrm{d}s,\n",
    " \\end{align}\n",
    " where $[u]= u_{j,1}-u_{j,2}$ where $u_{j,1}$ and $u_{j,2}$ is the restriction to each cell connected to the facet $E_j$. We then use that $[uv]=\\langle u \\rangle [v] +[u] \\langle v \\rangle$ where $\\langle u \\rangle= 0.5(u_{j,1}+u_{j,2})$ is the average of the two functions at the edge.\n",
    " Thus, we can write \n",
    "\\begin{align}\n",
    "  \\sum_{j=1}^{\\text{num internal facets}} \\int_{E_j} n_j\\cdot[\\nabla u\\cdot v]~\\mathrm{d}s=\\sum_{j=1}^{\\text{num internal facets}} \\int_{E_j}n_j \\cdot ([\\nabla u]\\cdot\\langle v \\rangle +\\langle\\nabla u\\rangle \\cdot [v])~\\mathrm{d}s.\n",
    "\\end{align}\n",
    "In the setting of continuous finite elements, we would have that $[u]=[v]=0$. However, as we will be using discontinuous finite elements, this is no longer guaranteed. However, we enforce that the jump of the gradient in normal direction is $0$ over each internal facet by removing the integral from the variational form, i.e.\n",
    "\\begin{align}\n",
    " \\sum_{j=1}^{\\text{num internal facets}} \\int_{E_j} n_j\\cdot[\\nabla u\\cdot v]~\\mathrm{d}s=\\sum_{j=1}^{\\text{num internal facets}} \\int_{E_j}n_j \\cdot \\langle\\nabla u\\rangle \\cdot [v]~\\mathrm{d}s.\n",
    "\\end{align}\n",
    "    As in the [Nitsche tutorial](nitsche.ipynb) we add one term for symmetry, $\\int_{E_j}n_j \\cdot \\langle\\nabla u\\rangle \\cdot [v]~\\mathrm{d}s$ and one term for coercivity $\\int_{E_j}\\frac{\\gamma}{\\langle h \\rangle}[u][v]~\\mathrm{d}s$ where $h$ is the diameter of the circumscribed circle. See {}`arnoldanalysis` for more details.\n",
    "\n",
    "To impose the exterior boundary condition, we use Nitsche's method, as described in [Nitsche](nitsche.ipynb). \n",
    "This means that we arrive at:"
   ]
  },
  {
   "cell_type": "code",
   "execution_count": 61,
   "id": "4b7634d9",
   "metadata": {},
   "outputs": [],
   "source": [
    "u = TrialFunction(V)\n",
    "v = TestFunction(V)\n",
    "n = FacetNormal(mesh)\n",
    "h = 2 * Circumradius(mesh)\n",
    "alpha = 10\n",
    "gamma = 10\n",
    "h_avg = avg(h)\n",
    "\n",
    "a = inner(grad(u), grad(v)) * dx - inner(n, grad(u)) * v * ds\n",
    "# Add DG/IP terms\n",
    "a += - inner(avg(grad(v)), jump(u, n))*dS - inner(jump(v, n), avg(grad(u)))*dS\n",
    "a += + gamma/h_avg*inner(jump(v, n), jump(u, n))*dS\n",
    "\n",
    "# Add Nitsche terms\n",
    "a += - inner(n, grad(v)) * u * ds + alpha / h * inner(u, v) * ds\n",
    "L = inner(f, v) * dx \n",
    "L += - inner(n, grad(v)) * uD * ds + alpha / h * inner(uD, v) * ds"
   ]
  },
  {
   "cell_type": "markdown",
   "id": "7bd8383e",
   "metadata": {},
   "source": [
    "We note that in DOLFINx, we use `dS` to integrate over internal facets, while `ds` is used for exterior facets."
   ]
  },
  {
   "cell_type": "markdown",
   "id": "971dc391",
   "metadata": {},
   "source": [
    "As we now have the variational form, we can solve the linear problem"
   ]
  },
  {
   "cell_type": "code",
   "execution_count": 62,
   "id": "6187fc89",
   "metadata": {},
   "outputs": [],
   "source": [
    "problem = dolfinx.fem.LinearProblem(a, L)\n",
    "uh = problem.solve()"
   ]
  },
  {
   "cell_type": "markdown",
   "id": "fac3387f",
   "metadata": {},
   "source": [
    "We compute the error of the computation by comparing it to the analytical solution"
   ]
  },
  {
   "cell_type": "code",
   "execution_count": 63,
   "id": "4851b7a4",
   "metadata": {},
   "outputs": [
    {
     "name": "stdout",
     "output_type": "stream",
     "text": [
      "$L^2$-error: 9.92e-04\n"
     ]
    }
   ],
   "source": [
    "error_form = inner(uh-uD, uh-uD) * dx\n",
    "errorL2 = numpy.sqrt(dolfinx.fem.assemble_scalar(error_form))\n",
    "print(fr\"$L^2$-error: {errorL2:.2e}\")"
   ]
  },
  {
   "cell_type": "markdown",
   "id": "c5c43d69",
   "metadata": {},
   "source": [
    "We observe that the $L^2$-error is of the same magnitude as in the first tutorial.\n",
    "As in the previous tutorial, we also compute the error at the mesh vertices"
   ]
  },
  {
   "cell_type": "code",
   "execution_count": 64,
   "id": "b3413383",
   "metadata": {},
   "outputs": [
    {
     "name": "stdout",
     "output_type": "stream",
     "text": [
      "Error_max : 3.31e-03\n"
     ]
    }
   ],
   "source": [
    "u_vertex_values = uh.compute_point_values()\n",
    "u_ex_vertex_values = uD.compute_point_values()\n",
    "error_max = numpy.max(numpy.abs(u_vertex_values - u_ex_vertex_values))\n",
    "print(f\"Error_max : {error_max:.2e}\")"
   ]
  },
  {
   "cell_type": "markdown",
   "id": "f5ba8c79",
   "metadata": {},
   "source": [
    "We observe that as we weakly impose the boundary condition, we no longer fullfill the equation to machine precision at the mesh vertices. We also plot the solution using `pyvista`, where we visualize each degree of freedom. This implies that at each vertex of the mesh there are as many degrees of freedom as there are number of cells using this vertex."
   ]
  },
  {
   "cell_type": "code",
   "execution_count": 68,
   "id": "b12d508e",
   "metadata": {},
   "outputs": [
    {
     "data": {
      "application/vnd.jupyter.widget-view+json": {
       "model_id": "d7ff43bfdf594e8b847031414df1550a",
       "version_major": 2,
       "version_minor": 0
      },
      "text/plain": [
       "ViewInteractiveWidget(height=768, layout=Layout(height='auto', width='100%'), width=1024)"
      ]
     },
     "metadata": {},
     "output_type": "display_data"
    }
   ],
   "source": [
    "import dolfinx.plot\n",
    "import pyvista\n",
    "pyvista.start_xvfb()\n",
    "# We create a mesh consisting of the degrees of freedom for visualization\n",
    "topology, cell_types = dolfinx.plot.create_vtk_topology(V)\n",
    "num_dofs_local = V.dofmap.index_map.size_local\n",
    "grid = pyvista.UnstructuredGrid(topology, cell_types, V.tabulate_dof_coordinates()[:num_dofs_local])\n",
    "# To make this function work in parallel, we only consider dofs owned by the current process\n",
    "grid.point_arrays[\"u\"] = uh.vector.array.real\n",
    "grid.set_active_scalars(\"u\")\n",
    "warped = grid.warp_by_scalar(\"u\", factor=1)\n",
    "\n",
    "# Create plotter\n",
    "plotter = pyvista.Plotter()\n",
    "pyvista.start_xvfb(wait=0.05)\n",
    "plotter = pyvista.Plotter()\n",
    "plotter.add_mesh(warped, show_edges=True, show_scalar_bar=True)\n",
    "if not pyvista.OFF_SCREEN:\n",
    "    plotter.show()\n",
    "else:\n",
    "    figure = plotter.screenshot(\"DG.png\")"
   ]
  },
  {
   "cell_type": "markdown",
   "id": "choice-dealer",
   "metadata": {},
   "source": [
    "```{bibliography}\n",
    "   :filter: cited and ({\"chapter1/dg\"} >= docnames)\n",
    "```"
   ]
  },
  {
   "cell_type": "code",
   "execution_count": null,
   "id": "96927f74",
   "metadata": {},
   "outputs": [],
   "source": []
  }
 ],
 "metadata": {
  "kernelspec": {
   "display_name": "Python 3",
   "language": "python",
   "name": "python3"
  },
  "language_info": {
   "codemirror_mode": {
    "name": "ipython",
    "version": 3
   },
   "file_extension": ".py",
   "mimetype": "text/x-python",
   "name": "python",
   "nbconvert_exporter": "python",
   "pygments_lexer": "ipython3",
   "version": "3.8.5"
  }
 },
 "nbformat": 4,
 "nbformat_minor": 5
}
