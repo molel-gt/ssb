{
 "cells": [
  {
   "cell_type": "code",
   "execution_count": 1,
   "id": "f77ee1e9-bf9f-46cb-914e-ba83f72a1f8e",
   "metadata": {},
   "outputs": [
    {
     "name": "stderr",
     "output_type": "stream",
     "text": [
      "--------------------------------------------------------------------------\n",
      "WARNING: There was an error initializing an OpenFabrics device.\n",
      "\n",
      "  Local host:   atl1-1-03-004-2-1\n",
      "  Local device: mlx5_0\n",
      "--------------------------------------------------------------------------\n"
     ]
    }
   ],
   "source": [
    "import os\n",
    "\n",
    "import dolfinx\n",
    "import gmsh\n",
    "import matplotlib.pyplot as plt\n",
    "import meshio\n",
    "import numpy as np\n",
    "import pyvista\n",
    "import pyvista as pv\n",
    "import pyvistaqt as pvqt\n",
    "import ufl\n",
    "import warnings\n",
    "\n",
    "from dolfinx import cpp, default_scalar_type, fem, io, mesh, nls, plot\n",
    "from dolfinx.fem import petsc\n",
    "from dolfinx.io import gmshio, VTXWriter\n",
    "from dolfinx.nls import petsc as petsc_nls\n",
    "from dolfinx.geometry import bb_tree, compute_collisions_points, compute_colliding_cells\n",
    "from IPython.display import Image\n",
    "\n",
    "from mpi4py import MPI\n",
    "from petsc4py import PETSc\n",
    "from ufl import (Circumradius, FacetNormal, SpatialCoordinate, TrialFunction, TestFunction,\n",
    "                 dot, div, dx, ds, dS, grad, inner, grad, avg, jump)\n",
    "\n",
    "import commons, configs, geometry, utils\n",
    "\n",
    "warnings.simplefilter('ignore')"
   ]
  },
  {
   "cell_type": "code",
   "execution_count": 2,
   "id": "6dc3e051-9558-417d-93f8-4d5068855716",
   "metadata": {},
   "outputs": [],
   "source": [
    "# !rm -r ~/.cache/fenics"
   ]
  },
  {
   "cell_type": "code",
   "execution_count": 3,
   "id": "de849df5-43b3-44a8-bc9c-4529d6f7e458",
   "metadata": {},
   "outputs": [],
   "source": [
    "comm = MPI.COMM_WORLD\n",
    "encoding = io.XDMFFile.Encoding.HDF5\n",
    "micron = 1e-6\n",
    "resolution = 1 * micron\n",
    "name_of_study = \"lithium_metal_3d_cc_2d\"\n",
    "dimensions = '100-100-45'\n",
    "workdir = os.path.join(configs.get_configs()['LOCAL_PATHS']['data_dir'], name_of_study, dimensions, str(resolution))\n",
    "utils.make_dir_if_missing(workdir)\n",
    "output_meshfile = os.path.join(workdir, 'mesh.msh')\n",
    "tetr_meshfile = os.path.join(workdir, \"tetr.xdmf\")\n",
    "tria_meshfile = os.path.join(workdir, \"tria.xdmf\")\n",
    "line_meshfile = os.path.join(workdir, \"line.xdmf\")\n",
    "potential_resultsfile = os.path.join(workdir, \"potential.bp\")\n",
    "potential_dg_resultsfile = os.path.join(workdir, \"potential_dg.bp\")\n",
    "concentration_resultsfile = os.path.join(workdir, \"concentration.bp\")\n",
    "current_resultsfile = os.path.join(workdir, \"current.bp\")"
   ]
  },
  {
   "cell_type": "code",
   "execution_count": 4,
   "id": "5400d476-1b5c-422f-a49a-00aca9bdce89",
   "metadata": {},
   "outputs": [],
   "source": [
    "markers = commons.Markers()"
   ]
  },
  {
   "cell_type": "markdown",
   "id": "9abc1aa5-ecfd-4075-ad01-5d64f8f0ee8b",
   "metadata": {},
   "source": [
    "### Mesh for 2D"
   ]
  },
  {
   "cell_type": "code",
   "execution_count": 5,
   "id": "f9582641-ccd3-4baf-8add-f10ff3f1f95b",
   "metadata": {},
   "outputs": [
    {
     "name": "stdout",
     "output_type": "stream",
     "text": [
      "Info    : Meshing 1D...\n",
      "Info    : [  0%] Meshing curve 1 (Line)\n",
      "Info    : [ 10%] Meshing curve 2 (Line)\n",
      "Info    : [ 20%] Meshing curve 3 (Line)\n",
      "Info    : [ 30%] Meshing curve 4 (Line)\n",
      "Info    : [ 40%] Meshing curve 5 (Line)\n",
      "Info    : [ 50%] Meshing curve 6 (Line)\n",
      "Info    : [ 60%] Meshing curve 7 (Line)\n",
      "Info    : [ 70%] Meshing curve 8 (Line)\n",
      "Info    : [ 80%] Meshing curve 9 (Line)\n",
      "Info    : [ 90%] Meshing curve 10 (Line)\n",
      "Info    : [100%] Meshing curve 11 (Line)\n",
      "Info    : Done meshing 1D (Wall 0.00502536s, CPU 0.004329s)\n",
      "Info    : Meshing 2D...\n",
      "Info    : [  0%] Meshing surface 1 (Plane, Frontal-Delaunay)\n",
      "Info    : [ 50%] Meshing surface 2 (Plane, Frontal-Delaunay)\n",
      "Info    : Done meshing 2D (Wall 237.339s, CPU 235.38s)\n",
      "Info    : 2498835 nodes 5000078 elements\n",
      "Info    : Writing 'output/lithium_metal_3d_cc_2d/100-100-45/1e-06/mesh.msh'...\n",
      "Info    : Done writing 'output/lithium_metal_3d_cc_2d/100-100-45/1e-06/mesh.msh'\n"
     ]
    }
   ],
   "source": [
    "!python3 lmb_3d_cc_2d_geo.py"
   ]
  },
  {
   "cell_type": "code",
   "execution_count": 6,
   "id": "e7158613-7bef-41d5-b0d7-6a1cba44ab56",
   "metadata": {},
   "outputs": [
    {
     "name": "stdout",
     "output_type": "stream",
     "text": [
      "Info    : Reading 'output/lithium_metal_3d_cc_2d/100-100-45/1e-06/mesh.msh'...\n",
      "Info    : 23 entities\n",
      "Info    : 2498835 nodes\n",
      "Info    : 5000068 elements                                              \n",
      "Info    : Done reading 'output/lithium_metal_3d_cc_2d/100-100-45/1e-06/mesh.msh'\n"
     ]
    }
   ],
   "source": [
    "partitioner = mesh.create_cell_partitioner(mesh.GhostMode.shared_facet)\n",
    "domain, ct, ft = gmshio.read_from_msh(output_meshfile, comm, partitioner=partitioner)"
   ]
  },
  {
   "cell_type": "markdown",
   "id": "3885328e-f521-4230-bcce-39092dfcebdc",
   "metadata": {},
   "source": [
    "## Binary Electrolyte - Nernst-Planck Equation\n",
    "\n",
    "We make the following assumptions\n",
    "- no bulk flow\n",
    "- diffusivity not a function of concentration\n",
    "- binary electrolyte\n",
    "\n",
    "$$\\frac{\\partial c}{\\partial t} + \\pmb{v}\\cdot\\nabla c - D\\nabla^2c=0$$"
   ]
  },
  {
   "cell_type": "markdown",
   "id": "55c2091b-e19a-4d73-abd9-74f8b067986e",
   "metadata": {},
   "source": [
    "#### read input mesh and generate tags"
   ]
  },
  {
   "cell_type": "code",
   "execution_count": 7,
   "id": "13c586f9-6185-4b02-99d5-7b53ce81b01e",
   "metadata": {},
   "outputs": [],
   "source": [
    "# with io.XDMFFile(comm, tria_meshfile, \"r\") as infile3:\n",
    "#     domain = infile3.read_mesh(cpp.mesh.GhostMode.none, 'Grid')\n",
    "#     ct = infile3.read_meshtags(domain, name=\"Grid\")\n",
    "tdim = domain.topology.dim\n",
    "fdim = tdim - 1\n",
    "domain.topology.create_connectivity(tdim, fdim)\n",
    "\n",
    "ft_imap = domain.topology.index_map(fdim)\n",
    "num_facets = ft_imap.size_local + ft_imap.num_ghosts\n",
    "indices = np.arange(0, num_facets)\n",
    "values = np.zeros(indices.shape, dtype=np.intc)  # all facets are tagged with zero\n",
    "\n",
    "# with io.XDMFFile(comm, line_meshfile, \"r\") as infile2:\n",
    "#     ft = infile2.read_meshtags(domain, name=\"Grid\")\n",
    "\n",
    "values[ft.indices] = ft.values\n",
    "meshtags = mesh.meshtags(domain, fdim, indices, values)\n",
    "domaintags = mesh.meshtags(domain, domain.topology.dim, ct.indices, ct.values)"
   ]
  },
  {
   "cell_type": "markdown",
   "id": "6fa05429-8520-43a3-933f-b2f22c490759",
   "metadata": {},
   "source": [
    "## Solve Potential Problem"
   ]
  },
  {
   "cell_type": "code",
   "execution_count": 8,
   "id": "798fd063-dc88-4a87-9d2d-8af706e20cbe",
   "metadata": {},
   "outputs": [],
   "source": [
    "dx = ufl.Measure(\"dx\", domain=domain, subdomain_data=domaintags)\n",
    "ds = ufl.Measure(\"ds\", domain=domain, subdomain_data=meshtags)\n",
    "dS = ufl.Measure(\"dS\", domain=domain, subdomain_data=meshtags)"
   ]
  },
  {
   "cell_type": "code",
   "execution_count": 9,
   "id": "cc9599d5-ac1f-4dba-909c-dfe696ab9f41",
   "metadata": {},
   "outputs": [],
   "source": [
    "V = fem.FunctionSpace(domain, (\"DG\", 1))\n",
    "u = fem.Function(V, name='potential')\n",
    "v = ufl.TestFunction(V)\n",
    "n = ufl.FacetNormal(domain)\n",
    "x = ufl.SpatialCoordinate(domain)\n",
    "h = ufl.CellDiameter(domain)\n",
    "h_avg = avg(h)"
   ]
  },
  {
   "cell_type": "markdown",
   "id": "d7fbc92a-c5cf-4d36-9de3-5637c692e0d3",
   "metadata": {},
   "source": [
    "### Solid and Solution Parameters"
   ]
  },
  {
   "cell_type": "markdown",
   "id": "358cbbec-0b0e-4005-beb7-5a28463bf3d6",
   "metadata": {},
   "source": [
    "From Chen 2020 *Journal of The Electrochemical Society, 2020 167 080534*, we can obtain parameters for use with our experiment. Here $c_e$ is concentration of $Li^+$ within the electrolyte in moles per cubic decimeter \\[$\\mathrm{mol}\\cdot dm^{-3}$\\].\n",
    "\n",
    "Electronic conductivity of the electrolyte is given by:\n",
    "$$\\sigma_e = 0.1297c_e^3 - 2.51c_e^{1.5} + 3.329c_e$$\n",
    "\n",
    "The diffusivity is given by:\n",
    "$$D_e = 8.794 \\cdot 10^{-11}c_e^2 - 3.972 \\cdot 10^{-10}c_e + 4.862 \\cdot 10^{-10}$$\n",
    "\n",
    "The lithium ion transference number is given by:\n",
    "$$t^+ = -0.1287c_e^3 + 0.4106c_e^2 - 0.4717c_e + 0.4492$$\n",
    "\n",
    "Other parameters are given by"
   ]
  },
  {
   "cell_type": "code",
   "execution_count": 10,
   "id": "b1cfcefc-09af-42c3-89f1-d5c42ae526db",
   "metadata": {},
   "outputs": [],
   "source": [
    "# Image(filename=\"figures/chen-2020-table-vii.png\")"
   ]
  },
  {
   "cell_type": "markdown",
   "id": "e3c4e75b-92d7-4929-8988-1303f007d99c",
   "metadata": {},
   "source": [
    "#### conductivity $\\kappa$ values varying in each domain"
   ]
  },
  {
   "cell_type": "code",
   "execution_count": 11,
   "id": "a0e2c2f3-35f5-483c-98fb-3ec4c4b37507",
   "metadata": {},
   "outputs": [],
   "source": [
    "cells_neg_cc = ct.find(markers.negative_cc)\n",
    "cells_sep = ct.find(markers.electrolyte)\n",
    "Q = fem.FunctionSpace(domain, (\"DG\", 0))\n",
    "kappa = fem.Function(Q)\n",
    "kappa.x.array[cells_neg_cc] = np.full_like(cells_neg_cc, 1, dtype=default_scalar_type)\n",
    "kappa.x.array[cells_sep] = np.full_like(cells_sep, 1e-4, dtype=default_scalar_type)"
   ]
  },
  {
   "cell_type": "code",
   "execution_count": 12,
   "id": "3418d851-90bf-4d6c-aa42-4f4f0b2341eb",
   "metadata": {},
   "outputs": [],
   "source": [
    "x = SpatialCoordinate(domain)\n",
    "\n",
    "f = fem.Constant(domain, PETSc.ScalarType(0))\n",
    "g = fem.Constant(domain, PETSc.ScalarType(0))\n",
    "voltage = 1000e-3\n",
    "u_left = fem.Function(V)\n",
    "with u_left.vector.localForm() as u0_loc:\n",
    "    u0_loc.set(0)\n",
    "u_right = fem.Function(V)\n",
    "with u_right.vector.localForm() as u1_loc:\n",
    "    u1_loc.set(voltage)"
   ]
  },
  {
   "cell_type": "code",
   "execution_count": 13,
   "id": "47443070-f709-4c2d-aaf5-b64b835abd13",
   "metadata": {},
   "outputs": [
    {
     "name": "stdout",
     "output_type": "stream",
     "text": [
      "0.6682191769351773\n"
     ]
    }
   ],
   "source": [
    "i0 = fem.Constant(domain, PETSc.ScalarType(1e2))\n",
    "faraday_const = fem.Constant(domain, PETSc.ScalarType(96485))\n",
    "R = fem.Constant(domain, PETSc.ScalarType(8.3145))\n",
    "T = fem.Constant(domain, PETSc.ScalarType(298))\n",
    "def ocv(sod, L=1, k=2):\n",
    "    return 2.5 + (1/k) * np.log((L - sod) / sod)\n",
    "sod = 0.975\n",
    "U = ufl.as_vector((ocv(sod), ocv(sod), ocv(sod)))\n",
    "U = ufl.as_vector((0.15, 0.15, 0.15))\n",
    "print(ocv(sod))"
   ]
  },
  {
   "cell_type": "code",
   "execution_count": 14,
   "id": "c82d5f65-6a4e-4bb5-b32e-c4378630d893",
   "metadata": {},
   "outputs": [],
   "source": [
    "alpha = 10\n",
    "gamma = 10\n",
    "gamma_factor = 1000\n",
    "\n",
    "F = kappa * inner(grad(u), grad(v)) * dx - f * v * dx - kappa * inner(grad(u), n) * v * ds\n",
    "\n",
    "# Add DG/IP terms\n",
    "F += - avg(kappa) * inner(jump(u, n), avg(grad(v))) * dS(0)\n",
    "F += - inner(jump(kappa * u, n), avg(grad(v))) * dS(0)\n",
    "F += - inner(avg(kappa * grad(u)), jump(v, n)) * dS(0)\n",
    "F += + avg(u) * inner(jump(kappa, n), avg(grad(v))) * dS(0)\n",
    "F += alpha / h_avg * inner(jump(v, n), jump(u, n)) * dS(0)\n",
    "\n",
    "# Internal boundary\n",
    "F += - avg(kappa) * dot(avg(grad(v)), (R * T / i0 / faraday_const) * (kappa * grad(u))('+') + U) * dS(markers.negative_cc_v_negative_am)\n",
    "F += (alpha / h_avg) * avg(kappa) * dot(jump(v, n), (R * T / i0 / faraday_const) * (kappa * grad(u))('+') + U) * dS(markers.negative_cc_v_negative_am)\n",
    "\n",
    "# # Symmetry\n",
    "F += - avg(kappa) * inner(jump(u, n), avg(grad(v))) * dS(markers.negative_cc_v_negative_am)\n",
    "\n",
    "# # Coercivity\n",
    "F += alpha / h_avg * avg(kappa) * inner(jump(u, n), jump(v, n)) * dS(markers.negative_cc_v_negative_am)\n",
    "\n",
    "# Nitsche Dirichlet BC terms on left and right boundaries\n",
    "F += - kappa * (u - u_left) * inner(n, grad(v)) * ds(markers.left)\n",
    "F += gamma / h * (u - u_left) * v * ds(markers.left)\n",
    "F += - kappa * (u - u_right) * inner(n, grad(v)) * ds(markers.right) \n",
    "F += gamma / h * (u - u_right) * v * ds(markers.right)\n",
    "\n",
    "# Nitsche Neumann BC terms on insulated boundary\n",
    "F += -g * v * ds(markers.insulated_electrolyte) + gamma * h * g * inner(grad(v), n) * ds(markers.insulated_electrolyte)\n",
    "F += - gamma * h * inner(inner(grad(u), n), inner(grad(v), n)) * ds(markers.insulated_electrolyte)\n",
    "F += -g * v * ds(markers.insulated_negative_cc) + gamma_factor * gamma * h * g * inner(grad(v), n) * ds(markers.insulated_negative_cc)\n",
    "F += - gamma_factor * gamma * h * inner(inner(grad(u), n), inner(grad(v), n)) * ds(markers.insulated_negative_cc)"
   ]
  },
  {
   "cell_type": "code",
   "execution_count": 15,
   "id": "81f0b064-f429-4ab4-8ca1-da38aed2d423",
   "metadata": {},
   "outputs": [
    {
     "name": "stdout",
     "output_type": "stream",
     "text": [
      "Converged in 2 iterations\n"
     ]
    }
   ],
   "source": [
    "problem = petsc.NonlinearProblem(F, u)\n",
    "solver = petsc_nls.NewtonSolver(comm, problem)\n",
    "solver.convergence_criterion = \"residual\"\n",
    "solver.maximum_iterations = 25\n",
    "solver.atol = 1e-15\n",
    "solver.rtol = 1e-14\n",
    "\n",
    "ksp = solver.krylov_solver\n",
    "opts = PETSc.Options()\n",
    "option_prefix = ksp.getOptionsPrefix()\n",
    "opts[f\"{option_prefix}ksp_type\"] = \"preonly\"\n",
    "opts[f\"{option_prefix}pc_type\"] = \"lu\"\n",
    "\n",
    "ksp.setFromOptions()\n",
    "n_iters, converged = solver.solve(u)\n",
    "if converged:\n",
    "    print(f\"Converged in {n_iters} iterations\")\n",
    "else:\n",
    "    print(f\"Failed to converge in {n_iters} iterations\")"
   ]
  },
  {
   "cell_type": "code",
   "execution_count": 16,
   "id": "88776ded-b629-444c-b898-eb417e21cf8c",
   "metadata": {},
   "outputs": [
    {
     "name": "stdout",
     "output_type": "stream",
     "text": [
      "Current at left boundary is: 1.08e-04 A\n",
      "Current at right boundary is: 1.05e-04 A\n",
      "Current at insulated boundary is: 0.00e+00 A\n",
      "Float precision is 2.220446049250313e-16\n"
     ]
    }
   ],
   "source": [
    "V_CG1 = fem.FunctionSpace(domain, (\"CG\", 1))\n",
    "u_cg = fem.Function(V_CG1)\n",
    "u_cg.name = 'potential'\n",
    "u_cg.interpolate(u)\n",
    "\n",
    "with VTXWriter(comm, potential_dg_resultsfile, [u], engine=\"BP4\") as vtx:\n",
    "    vtx.write(0.0)\n",
    "with VTXWriter(comm, potential_resultsfile, [u_cg], engine=\"BP4\") as vtx:\n",
    "    vtx.write(0.0)\n",
    "\n",
    "I_sup_l = fem.assemble_scalar(fem.form(inner(-kappa * grad(u), n) * ds(markers.left)))\n",
    "I_sup_r = fem.assemble_scalar(fem.form(inner(-kappa * grad(u), n) * ds(markers.right)))\n",
    "I_insulated = fem.assemble_scalar(fem.form(np.abs(inner(-kappa * grad(u), n)) * ds(markers.insulated)))\n",
    "area_left = fem.assemble_scalar(fem.form(1 * ds(markers.left)))\n",
    "area_right = fem.assemble_scalar(fem.form(1 * ds(markers.right)))\n",
    "print(f\"Current at left boundary is: {np.abs(I_sup_l):.2e} A\")\n",
    "print(f\"Current at right boundary is: {np.abs(I_sup_r):.2e} A\")\n",
    "print(f\"Current at insulated boundary is: {I_insulated:.2e} A\")\n",
    "print(f\"Float precision is {np.finfo(float).eps}\")"
   ]
  },
  {
   "cell_type": "code",
   "execution_count": 22,
   "id": "3c93aaec-ed2d-441b-96f1-7eaa3aef600b",
   "metadata": {},
   "outputs": [
    {
     "data": {
      "image/png": "[encoded data removed]",
      "text/plain": [
       "<Figure size 640x480 with 1 Axes>"
      ]
     },
     "metadata": {},
     "output_type": "display_data"
    }
   ],
   "source": [
    "bb_trees = bb_tree(domain, domain.topology.dim)\n",
    "n_points = 10000\n",
    "tol = 1e-8  # Avoid hitting the outside of the domain\n",
    "\n",
    "# midline in 2D\n",
    "x = np.linspace(0 + tol, 45e-6 - tol, n_points)\n",
    "y = np.ones(n_points) * 0.5 * 30e-6  # midline\n",
    "\n",
    "points = np.zeros((3, n_points))\n",
    "points[0] = x\n",
    "points[1] = y\n",
    "\n",
    "u_values = []\n",
    "cells = []\n",
    "points_on_proc = []\n",
    "# Find cells whose bounding-box collide with the the points\n",
    "cell_candidates = compute_collisions_points(bb_trees, points.T)\n",
    "# Choose one of the cells that contains the point\n",
    "colliding_cells = compute_colliding_cells(domain, cell_candidates, points.T)\n",
    "for i, point in enumerate(points.T):\n",
    "    if len(colliding_cells.links(i)) > 0:\n",
    "        points_on_proc.append(point)\n",
    "        cells.append(colliding_cells.links(i)[0])\n",
    "points_on_proc = np.array(points_on_proc, dtype=np.float64)\n",
    "u_values = u.eval(points_on_proc, cells)\n",
    "fig, ax = plt.subplots()\n",
    "ax.plot((1/micron) * points_on_proc[:, 0], u_values, \"k\", linewidth=2)\n",
    "ax.grid(True)\n",
    "ax.set_xlim([0, 45])\n",
    "ax.set_ylim([0, voltage])\n",
    "ax.set_ylabel(r'$\\phi$ [V]', rotation=0, labelpad=30, fontsize='xx-large')\n",
    "ax.set_xlabel('[$\\mu$m]')\n",
    "ax.axvline(x=5, linestyle='--', linewidth=0.5)\n",
    "ax.set_title('Potential Across Midline')\n",
    "plt.tight_layout()\n",
    "plt.savefig('figures/3d_cc/potential-dist-midline.png')\n",
    "plt.show()"
   ]
  },
  {
   "cell_type": "code",
   "execution_count": 18,
   "id": "aa1172f0-3bdb-4fc2-be04-324c6503a9a4",
   "metadata": {},
   "outputs": [
    {
     "data": {
      "image/png": "[encoded data removed]",
      "text/plain": [
       "<Figure size 640x480 with 1 Axes>"
      ]
     },
     "metadata": {},
     "output_type": "display_data"
    }
   ],
   "source": [
    "W = fem.VectorFunctionSpace(domain, (\"CG\", 1))\n",
    "current_h = fem.Function(W)\n",
    "current_h.name = 'current_density'\n",
    "current_cg_expr = fem.Expression(-grad(u), W.element.interpolation_points())\n",
    "current_h.interpolate(current_cg_expr)\n",
    "\n",
    "with VTXWriter(comm, current_resultsfile, [current_h], engine=\"BP4\") as vtx:\n",
    "    vtx.write(0.0)\n",
    "\n",
    "bb_trees = bb_tree(domain, domain.topology.dim)\n",
    "points = np.zeros((3, n_points))\n",
    "points[0] = x\n",
    "points[1] = y\n",
    "u_values = []\n",
    "cells = []\n",
    "points_on_proc = []\n",
    "cell_candidates = compute_collisions_points(bb_trees, points.T)\n",
    "colliding_cells = compute_colliding_cells(domain, cell_candidates, points.T)\n",
    "for i, point in enumerate(points.T):\n",
    "    if len(colliding_cells.links(i)) > 0:\n",
    "        points_on_proc.append(point)\n",
    "        cells.append(colliding_cells.links(i)[0])\n",
    "points_on_proc = np.array(points_on_proc, dtype=np.float64)\n",
    "current_values = current_h.eval(points_on_proc, cells)\n",
    "fig, ax = plt.subplots()\n",
    "ax.plot((1/micron) * points_on_proc[:, 0], np.linalg.norm(current_values, axis=1), \"k\", linewidth=2)\n",
    "ax.grid(True)\n",
    "ax.set_xlim([0, 45])\n",
    "ax.set_ylabel(r'$i$ [A/m$^2$]', rotation=0, labelpad=40, fontsize='xx-large')\n",
    "ax.set_xlabel(r'[$\\mu$m]')\n",
    "ax.axvline(x=5, linestyle='--', linewidth=0.5)\n",
    "ax.set_title('Current Density Across Midline')\n",
    "plt.tight_layout()\n",
    "plt.savefig('figures/3d_cc/current-dist-midline.png')\n",
    "plt.show()"
   ]
  },
  {
   "cell_type": "markdown",
   "id": "c0f4c705-5b34-409a-99b3-509968090728",
   "metadata": {},
   "source": [
    "## Concentration Problem"
   ]
  },
  {
   "cell_type": "code",
   "execution_count": 19,
   "id": "19152475-c243-4e14-9541-756229d5a236",
   "metadata": {},
   "outputs": [],
   "source": [
    "# full_mesh, cell_tags, facet_tags = dolfinx.io.gmshio.read_from_msh(output_meshfile, comm, 0)\n",
    "\n",
    "# # Create submesh for pe\n",
    "# pam_domain, entity_map, vertex_map, geom_map = dolfinx.mesh.create_submesh(full_mesh, full_mesh.topology.dim, cell_tags.indices[(cell_tags.values == mrkr.electrolyte)])\n",
    "\n",
    "# # Transfer facet tags from parent mesh to submesh\n",
    "# tdim = full_mesh.topology.dim\n",
    "# fdim = tdim - 1\n",
    "# c_to_f = full_mesh.topology.connectivity(tdim, fdim)\n",
    "# f_map = full_mesh.topology.index_map(fdim)\n",
    "# all_facets = f_map.size_local + f_map.num_ghosts\n",
    "# all_values = np.zeros(all_facets, dtype=np.int32)\n",
    "# all_values[facet_tags.indices] = facet_tags.values\n",
    "\n",
    "# pam_domain.topology.create_entities(fdim)\n",
    "# subf_map = pam_domain.topology.index_map(fdim)\n",
    "# pam_domain.topology.create_connectivity(tdim, fdim)\n",
    "# c_to_f_sub = pam_domain.topology.connectivity(tdim, fdim)\n",
    "# num_sub_facets = subf_map.size_local + subf_map.num_ghosts\n",
    "# sub_values = np.empty(num_sub_facets, dtype=np.int32)\n",
    "# for i, entity in enumerate(entity_map):\n",
    "#     parent_facets = c_to_f.links(entity)\n",
    "#     child_facets = c_to_f_sub.links(i)\n",
    "#     for child, parent in zip(child_facets, parent_facets):\n",
    "#         sub_values[child] = all_values[parent]\n",
    "# sub_meshtag = dolfinx.mesh.meshtags(pam_domain, pam_domain.topology.dim - 1, np.arange(\n",
    "#     num_sub_facets, dtype=np.int32), sub_values)\n",
    "# pam_domain.topology.create_connectivity(pam_domain.topology.dim - 1, pam_domain.topology.dim)\n",
    "\n",
    "# with dolfinx.io.XDMFFile(comm, \"submesh.xdmf\", \"w\", encoding=encoding) as xdmf:\n",
    "#     xdmf.write_mesh(pam_domain)\n",
    "#     xdmf.write_meshtags(sub_meshtag, x=pam_domain.geometry)"
   ]
  },
  {
   "cell_type": "code",
   "execution_count": 20,
   "id": "5dde68d6-843a-4549-b6b7-68592f84b201",
   "metadata": {},
   "outputs": [],
   "source": [
    "# c_init = 1000  # mol/m3\n",
    "# t = 0 # Start time\n",
    "# eps = 1e-15\n",
    "# dt = 1e-6\n",
    "# T = 500 * dt\n",
    "\n",
    "# dx = ufl.Measure(\"dx\", domain=pam_domain)\n",
    "# ds = ufl.Measure(\"ds\", domain=pam_domain, subdomain_data=sub_meshtag)\n",
    "# dS = ufl.Measure(\"dS\", domain=pam_domain, subdomain_data=sub_meshtag)\n",
    "# n = ufl.FacetNormal(pam_domain)\n",
    "# tdim = pam_domain.topology.dim\n",
    "# fdim = tdim - 1\n",
    "\n",
    "# # Create boundary condition\n",
    "# # boundary_facets = sub_meshtag.find(mrkr['middle'])\n",
    "# # bc = fem.dirichletbc(PETSc.ScalarType(0), fem.locate_dofs_topological(Q, fdim, boundary_facets), Q)\n",
    "\n",
    "# Q = fem.FunctionSpace(pam_domain, (\"CG\", 1))\n",
    "# c_n = fem.Function(Q)\n",
    "# c_n.name = \"c_n\"\n",
    "# c_n.interpolate(lambda x:  x[0] - x[0] + c_init)\n",
    "# c_n.x.scatter_forward()\n",
    "\n",
    "# potential = fem.Function(Q)\n",
    "# padding = 1e-16\n",
    "# u1_2_u2_nmm_data = \\\n",
    "#         fem.create_nonmatching_meshes_interpolation_data(\n",
    "#             potential.function_space.mesh._cpp_object,\n",
    "#             potential.function_space.element,\n",
    "#             u_cg.function_space.mesh._cpp_object, padding=padding)\n",
    "\n",
    "# potential.interpolate(u, nmm_interpolation_data=u1_2_u2_nmm_data)\n",
    "# potential.x.scatter_forward()\n",
    "\n",
    "# ch = fem.Function(Q)\n",
    "# ch.name = \"concentration\"\n",
    "# ch.interpolate(lambda x: x[0] - x[0] + c_init)\n",
    "# ch.x.scatter_forward()\n",
    "\n",
    "# c = ufl.TrialFunction(Q)\n",
    "# q = ufl.TestFunction(Q)\n",
    "\n",
    "# f = fem.Constant(pam_domain, PETSc.ScalarType(0))\n",
    "# g = fem.Constant(pam_domain, PETSc.ScalarType(0))\n",
    "# g_middle = fem.Constant(pam_domain, PETSc.ScalarType(0))\n",
    "# D_bulk = 1e-2\n",
    "# D = fem.Constant(pam_domain, PETSc.ScalarType(D_bulk))\n",
    "\n",
    "# a = c * q * dx + dt * ufl.inner(D * ufl.grad(c), ufl.grad(q)) * dx\n",
    "# L = (\n",
    "#     (c_n + dt * f) * q * dx \n",
    "#     + dt * ufl.inner(g, q) * ds(mrkr.insulated_electrolyte) \n",
    "#     + dt * ufl.inner(g, q) * ds(mrkr.right)\n",
    "#     + dt * ufl.inner(ufl.grad(potential) / 96485, n) * q * ds(mrkr.middle)\n",
    "# )\n",
    "\n",
    "# bilinear_form = fem.form(a)\n",
    "# linear_form = fem.form(L)\n",
    "\n",
    "# A = petsc.assemble_matrix(bilinear_form, bcs=[])\n",
    "# A.assemble()\n",
    "# b = fem.petsc.create_vector(linear_form)\n",
    "\n",
    "# solver = PETSc.KSP().create(comm)\n",
    "# solver.setOperators(A)\n",
    "# solver.setType(PETSc.KSP.Type.PREONLY)\n",
    "# solver.getPC().setType(PETSc.PC.Type.LU)\n",
    "\n",
    "# c_vtx = VTXWriter(comm, concentration_resultsfile, [ch], engine=\"BP4\")\n",
    "# c_vtx.write(0.0)\n",
    "\n",
    "# while t < T:\n",
    "#     t += dt\n",
    "\n",
    "#     A = fem.petsc.assemble_matrix(bilinear_form, bcs=[])\n",
    "#     A.assemble()\n",
    "#     solver.setOperators(A)\n",
    "\n",
    "#     # Update the right hand side reusing the initial vector\n",
    "#     with b.localForm() as loc_b:\n",
    "#         loc_b.set(0)\n",
    "#     fem.petsc.assemble_vector(b, linear_form)\n",
    "\n",
    "#     # Apply Dirichlet boundary condition to the vector\n",
    "#     fem.petsc.apply_lifting(b, [bilinear_form], [[]])\n",
    "#     b.ghostUpdate(addv=PETSc.InsertMode.ADD_VALUES, mode=PETSc.ScatterMode.REVERSE)\n",
    "#     fem.petsc.set_bc(b, [])\n",
    "\n",
    "#     # Solve linear problem\n",
    "#     solver.solve(b, ch.vector)\n",
    "#     ch.x.scatter_forward()\n",
    "#     # c_avg = fem.assemble_scalar(fem.form(ch * dx)) / fem.assemble_scalar(fem.form(1 * dx))\n",
    "#     # print(f\"average concentration: {c_avg}\")\n",
    "\n",
    "#     # Update solution at previous time step (c_n)\n",
    "#     if np.any(ch.x.array < 0):\n",
    "#         print(f\"Lithium depletion at {t:.2e} seconds\")\n",
    "#         break\n",
    "#     if np.any(ch.x.array == np.inf):\n",
    "#         print(f\"diverged at {t:.2e} seconds\")\n",
    "#         break\n",
    "#     c_n.x.array[:] = ch.x.array\n",
    "#     c_vtx.write(t)\n",
    "# c_vtx.close()"
   ]
  },
  {
   "cell_type": "code",
   "execution_count": 21,
   "id": "b63faa37-2217-472d-bdd4-8101885f6247",
   "metadata": {},
   "outputs": [],
   "source": [
    "# visualization\n",
    "# bb_trees = bb_tree(pam_domain, pam_domain.topology.dim)\n",
    "# n_points = 10000\n",
    "# tol = 1e-8  # Avoid hitting the outside of the domain\n",
    "\n",
    "# # midline in 2D\n",
    "# x = np.linspace(0 + tol, 45e-6 - tol, n_points)\n",
    "# y = np.ones(n_points) * 0.5 * 30e-6  # midline\n",
    "\n",
    "# points = np.zeros((3, n_points))\n",
    "# points[0] = x\n",
    "# points[1] = y\n",
    "# u_values = []\n",
    "# cells = []\n",
    "# points_on_proc = []\n",
    "# # Find cells whose bounding-box collide with the the points\n",
    "# cell_candidates = compute_collisions_points(bb_trees, points.T)\n",
    "# # Choose one of the cells that contains the point\n",
    "# colliding_cells = compute_colliding_cells(pam_domain, cell_candidates, points.T)\n",
    "# for i, point in enumerate(points.T):\n",
    "#     if len(colliding_cells.links(i)) > 0:\n",
    "#         points_on_proc.append(point)\n",
    "#         cells.append(colliding_cells.links(i)[0])\n",
    "# points_on_proc = np.array(points_on_proc, dtype=np.float64)\n",
    "# u_values = ch.eval(points_on_proc, cells)\n",
    "# fig, ax = plt.subplots()\n",
    "# ax.plot(points_on_proc[:, 0], u_values, \"k\", linewidth=2)\n",
    "# ax.grid(True)\n",
    "# ax.set_xlim([0, 45e-6])\n",
    "# # ax.set_ylim([0, c_init])\n",
    "# ax.set_ylabel(r'$c$ [mol/m$^3$]', rotation=0, labelpad=50, fontsize='xx-large');\n",
    "# ax.set_xlabel('[m]');\n",
    "# ax.set_title(f't = {t:.1e} s, and D = {D_bulk:.1e} ' + r'm$^{2}$s$^{-1}$');\n",
    "# plt.tight_layout();\n",
    "# plt.savefig(f'figures/lma-concentration-{D_bulk:.2e}.png', dpi=1500);"
   ]
  },
  {
   "cell_type": "code",
   "execution_count": null,
   "id": "26ae1a2e-c560-4651-b6f6-052967260877",
   "metadata": {},
   "outputs": [],
   "source": []
  }
 ],
 "metadata": {
  "kernelspec": {
   "display_name": "Python 3 (ipykernel)",
   "language": "python",
   "name": "python3"
  },
  "language_info": {
   "codemirror_mode": {
    "name": "ipython",
    "version": 3
   },
   "file_extension": ".py",
   "mimetype": "text/x-python",
   "name": "python",
   "nbconvert_exporter": "python",
   "pygments_lexer": "ipython3",
   "version": "3.12.1"
  }
 },
 "nbformat": 4,
 "nbformat_minor": 5
}
