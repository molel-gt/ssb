{
 "cells": [
  {
   "cell_type": "markdown",
   "id": "68456400-eed5-464b-bd8b-f11d544891b4",
   "metadata": {},
   "source": [
    "# Solving Full Cell Simulation Using the Discontinuous Galerkin Method with Interior Penalty\n",
    "Author: E Leshinka Molel\n",
    "\n",
    "In this notebook we set to solve the full cell simulation equations for a solid-state battery. The full-cell is simplified to include three domains\n",
    "- negative electrode\n",
    "- solid electrolyte (SE) separator\n",
    "- positive electrode\n",
    "\n",
    "At the interface between negative electrode and SE, and the interface between SE and positive electrode, we have charge transfer reactions. For simplicity, linear kinetics are assumed.\n",
    "\n",
    "Phase 1 is the solid active material and phase 2 is the SE.\n",
    "\n",
    "Current flowing due to charge transfer reaction is given by linear kinetics expression:\n",
    "$$i = \\frac{F i_{o}}{RT}(\\phi_1 - \\phi_2 - U)$$\n",
    "\n",
    "The above expression can be written twice, once for -ve electrode and once for +ve electrode.\n",
    "\n",
    "In our case, for simplicity, infinite kinetics are assumed at the negative electrode and SE separator."
   ]
  },
  {
   "cell_type": "markdown",
   "id": "c72a20cd-de1f-4d32-aa7b-4123e3da2460",
   "metadata": {},
   "source": [
    "## Setting Up Variational Formulation\n",
    "$$\\nabla \\cdot (-\\kappa \\nabla u) = f$$\n",
    "$$u(x=0,y) = u_0$$\n",
    "$$u(x=L_x,y) = u_{L_x}$$\n",
    "$$-\\kappa \\nabla u \\cdot \\hat{n}|_{y=0,y=L_y} = 0$$\n",
    "\n",
    "The total domain is indicated by $\\Omega$ and the external boundary of the domain by $\\partial \\Omega$.\n",
    "\n",
    "Because of the internal discontinuity in $u$, we use Discontinuous Lagrange elements. We solve the partial differential equation for each element $K_i$ then sum over all the $N$ elements. This involves multiplying by a test function $v$ and integrating over the element $K_i$.\n",
    "\n",
    "$$\\sum_i^N \\int_{K_i} -\\nabla \\cdot(\\kappa u_i) v \\mathrm{dx} = \\sum_i^N \\int_{K_i} f_i v_i \\mathrm{dx}$$\n",
    "Integrating the LHS by parts, we obtain:\n",
    "$$\\sum_i^N \\int_{K_i} -\\kappa \\nabla u_i \\cdot \\nabla v_i \\mathrm{dx} + \\sum_i^N \\int_{\\partial K_i} \\kappa \\hat{n_i} \\cdot \\nabla u_i \\cdot v_i \\mathrm{ds} = \\sum_i^N \\int_{K_i} f_i v_i \\mathrm{dx}$$\n",
    "\n",
    "We can split the second term on the LHS to have the parts of the external boundary: $\\bigcup \\partial \\Omega_i = \\partial \\Omega$ for $i=1,...,N$. Also $\\partial \\Omega_i \\bigcup \\partial \\hat{K_i} = \\partial K_i$.\n",
    "\n",
    "Therefore, we have:\n",
    "$$\\int_{\\Omega} -\\kappa \\nabla u \\cdot \\nabla v \\mathrm{dx} + \\int_{\\partial \\Omega} \\kappa \\hat{n} \\cdot \\nabla u \\cdot v \\mathrm{ds} + \\sum_i^N \\int_{\\partial \\hat{K_i}} \\kappa \\hat{n_i} \\cdot \\nabla u_i \\cdot v_i \\mathrm{ds} = \\int_{\\Omega} f v \\mathrm{dx}$$\n",
    "\n",
    "The second term on the LHS can be used to set the Neumann boundary conditions where we have those. Below, we expound further on the third term on the LHS.\n",
    "\n",
    "We note that for the third term, we have an integral for each side of the integral facet, say between cell $i$ and $j$. We can therefore write this integral as a jump integral (noting that $n_i=-n_j$) over the set of all internal facets $E_j, j=0,\\dots,N_{internal}$\n",
    "\n",
    "\\begin{align}\n",
    "\\sum_i^N \\int_{\\partial \\hat{K_i}} \\kappa \\hat{n_i} \\cdot \\nabla u_i \\cdot v_i \\mathrm{ds} = -\\sum_j^{N_{internal}} \\int_{E_j} \\kappa \\hat{n_j} \\cdot [\\nabla u_j \\cdot v_j] \\mathrm{ds}\n",
    "\\end{align}\n",
    "\n",
    "We can further expand the RHS of above using the relation $[a \\cdot b] = \\langle a\\rangle \\cdot [b] + [a] \\cdot \\langle b \\rangle$. Where $\\langle \\text{value} \\rangle$ denotes average of the value across the shared internal boundary. Therefore, we can rewrite our expression above into:\n",
    "\n",
    "\\begin{align}\n",
    "\\sum_i^N \\int_{\\partial \\hat{K_i}} \\kappa \\hat{n_i} \\cdot \\nabla u_i \\cdot v_i \\mathrm{ds} = -\\sum_j^{N_{internal}} \\int_{E_j} \\kappa \\hat{n_j} \\cdot [\\nabla u_j] \\cdot \\langle v_j\\rangle \\mathrm{ds} -\\sum_j^{N_{internal}} \\int_{E_j} \\kappa \\hat{n_j} \\cdot \\langle \\nabla u_j\\rangle \\cdot [v_j] \\mathrm{ds}\n",
    "\\end{align}\n",
    "\n",
    "Because we want our solution to be conservative, we enforce that the jump of the gradient in normal direction is zero by removing the term involving $[\\nabla u]$ from the RHS of the above expression.\n",
    "\n",
    "To maintain symmetry when $u$ and $v$ are switched, we add a term $-\\sum_j^{N_{internal}} \\int_{E_j} \\kappa \\hat{n_j} \\cdot \\langle \\nabla v_j\\rangle \\cdot [u_j] \\mathrm{ds}$ to the RHS. We also add another term to the RHS for coercivity: $\\int_{E_j}\\frac{\\gamma}{\\langle h \\rangle}[u][v]~\\mathrm{d}s$ where $h$ is the diameter of the circumscribed circle.\n",
    "\n",
    "We use Nitsche's method to impose Dirichlet and Neumann boundary conditions on the exterior boundary $\\partial \\Omega$."
   ]
  },
  {
   "cell_type": "code",
   "execution_count": 1,
   "id": "3519e4c8-0dd1-4fad-b2fd-78b4fe1fa600",
   "metadata": {},
   "outputs": [],
   "source": [
    "import os\n",
    "\n",
    "import dolfinx\n",
    "import gmsh\n",
    "import matplotlib.pyplot as plt\n",
    "import meshio\n",
    "import numpy as np\n",
    "import ufl\n",
    "import warnings\n",
    "\n",
    "from dolfinx import cpp, default_scalar_type, fem, io, mesh, nls, plot\n",
    "from dolfinx.fem import petsc\n",
    "from dolfinx.io import VTXWriter\n",
    "from dolfinx.nls import petsc as petsc_nls\n",
    "from dolfinx.geometry import bb_tree, compute_collisions_points, compute_colliding_cells\n",
    "from mpi4py import MPI\n",
    "from petsc4py import PETSc\n",
    "from ufl import (Circumradius, FacetNormal, SpatialCoordinate, TrialFunction, TestFunction,\n",
    "                 dot, div, dx, ds, dS, grad, inner, grad, avg, jump)\n",
    "\n",
    "import commons, geometry, utils\n",
    "\n",
    "warnings.simplefilter('ignore')"
   ]
  },
  {
   "cell_type": "code",
   "execution_count": 2,
   "id": "d2c29962-feed-4b9f-a883-9eaf22bbdc51",
   "metadata": {},
   "outputs": [],
   "source": [
    "!rm -r ~/.cache/fenics"
   ]
  },
  {
   "cell_type": "code",
   "execution_count": 3,
   "id": "ba0b3c95-e149-4247-82ed-b480255a3129",
   "metadata": {},
   "outputs": [],
   "source": [
    "encoding = io.XDMFFile.Encoding.HDF5\n",
    "micron = 1e-6\n",
    "markers = commons.Markers()\n",
    "LX = 200 * micron\n",
    "LY = 250 * micron\n",
    "points = [\n",
    "    (0, 0, 0),\n",
    "    (0.5 * LX, 0, 0),\n",
    "    (LX, 0, 0),\n",
    "    (LX, LY, 0),\n",
    "    (0.5 * LX, LY, 0),\n",
    "    (0, LY, 0),\n",
    "]\n",
    "gpoints = []\n",
    "lines = []\n",
    "# workdir = \"output/full_cell/165-825-0/1/\" \n",
    "workdir = \"output/subdomains_dg\"\n",
    "utils.make_dir_if_missing(workdir)\n",
    "output_meshfile = os.path.join(workdir, 'mesh.msh')\n",
    "tria_meshfile = os.path.join(workdir, \"tria.xdmf\")\n",
    "line_meshfile = os.path.join(workdir, \"line.xdmf\")\n",
    "potential_resultsfile = os.path.join(workdir, \"potential.bp\")\n",
    "potential_dg_resultsfile = os.path.join(workdir, \"potential_dg.bp\")\n",
    "concentration_resultsfile = os.path.join(workdir, \"concentration.bp\")\n",
    "current_resultsfile = os.path.join(workdir, \"current.bp\")"
   ]
  },
  {
   "cell_type": "code",
   "execution_count": 4,
   "id": "04401152-4d1d-49dc-a1b4-071261223ed7",
   "metadata": {},
   "outputs": [],
   "source": [
    "!python3 two_subdomains_2d.py"
   ]
  },
  {
   "cell_type": "code",
   "execution_count": 5,
   "id": "5be21f13-6dec-429c-8e41-2afc1c05895b",
   "metadata": {},
   "outputs": [],
   "source": [
    "comm = MPI.COMM_WORLD\n",
    "with io.XDMFFile(comm, tria_meshfile, \"r\") as infile3:\n",
    "    domain = infile3.read_mesh(cpp.mesh.GhostMode.none, 'Grid')\n",
    "    ct = infile3.read_meshtags(domain, name=\"Grid\")\n",
    "tdim = domain.topology.dim\n",
    "fdim = tdim - 1\n",
    "domain.topology.create_connectivity(tdim, fdim)\n",
    "\n",
    "ft_imap = domain.topology.index_map(fdim)\n",
    "num_facets = ft_imap.size_local + ft_imap.num_ghosts\n",
    "indices = np.arange(0, num_facets)\n",
    "values = np.zeros(indices.shape, dtype=np.intc)  # all facets are tagged with zero\n",
    "\n",
    "with io.XDMFFile(comm, line_meshfile, \"r\") as infile2:\n",
    "    ft = infile2.read_meshtags(domain, name=\"Grid\")\n",
    "\n",
    "values[ft.indices] = ft.values\n",
    "meshtags = mesh.meshtags(domain, fdim, indices, values)\n",
    "domaintags = mesh.meshtags(domain, domain.topology.dim, ct.indices, ct.values)"
   ]
  },
  {
   "cell_type": "code",
   "execution_count": 6,
   "id": "f0c9c038-53b2-4ab4-894f-b253452aace7",
   "metadata": {},
   "outputs": [],
   "source": [
    "dx = ufl.Measure(\"dx\", domain=domain, subdomain_data=domaintags)\n",
    "ds = ufl.Measure(\"ds\", domain=domain, subdomain_data=meshtags)\n",
    "dS = ufl.Measure(\"dS\", domain=domain, subdomain_data=meshtags)"
   ]
  },
  {
   "cell_type": "code",
   "execution_count": 7,
   "id": "48640b77-72cc-4afc-983f-4b5eb3c4df7f",
   "metadata": {},
   "outputs": [],
   "source": [
    "V = fem.FunctionSpace(domain, (\"DG\", 1))\n",
    "Q = fem.FunctionSpace(domain, (\"DG\", 0))\n",
    "u = fem.Function(V)\n",
    "v = ufl.TestFunction(V)\n",
    "n = ufl.FacetNormal(domain)\n",
    "x = ufl.SpatialCoordinate(domain)\n",
    "\n",
    "h = ufl.CellDiameter(domain)\n",
    "h_avg = avg(h)"
   ]
  },
  {
   "cell_type": "code",
   "execution_count": 8,
   "id": "2b00790b-eaab-40ad-8895-011abe31fb61",
   "metadata": {},
   "outputs": [],
   "source": [
    "f = fem.Constant(domain, PETSc.ScalarType(0))\n",
    "g = fem.Constant(domain, PETSc.ScalarType(0))\n",
    "voltage = 1000e-3\n",
    "u_left = fem.Function(V)\n",
    "with u_left.vector.localForm() as u0_loc:\n",
    "    u0_loc.set(0)\n",
    "u_right = fem.Function(V)\n",
    "with u_right.vector.localForm() as u1_loc:\n",
    "    u1_loc.set(voltage)"
   ]
  },
  {
   "cell_type": "code",
   "execution_count": 9,
   "id": "f25fd870-4685-4417-bc16-34387de4080b",
   "metadata": {},
   "outputs": [],
   "source": [
    "i0 = fem.Constant(domain, PETSc.ScalarType(1e2))\n",
    "faraday_const = fem.Constant(domain, PETSc.ScalarType(96485))\n",
    "R = fem.Constant(domain, PETSc.ScalarType(8.3145))\n",
    "T = fem.Constant(domain, PETSc.ScalarType(298))\n",
    "\n",
    "def ocv(sod, L=1, k=2):\n",
    "    return 2.5 + (1/k) * np.log((L - sod) / sod)\n",
    "\n",
    "U = ufl.as_vector((ocv(0.975), ocv(0.975), ocv(0.975)))\n",
    "U = ufl.as_vector((0.15, 0.15, 15))"
   ]
  },
  {
   "cell_type": "code",
   "execution_count": 10,
   "id": "cf5770e9-1ce0-438a-94c6-fb15f4318475",
   "metadata": {},
   "outputs": [],
   "source": [
    "kappa = fem.Function(Q)\n",
    "cells_electrolyte = ct.find(markers.electrolyte)\n",
    "cells_pos_am = ct.find(markers.positive_am)\n",
    "kappa.x.array[cells_electrolyte] = np.full_like(cells_electrolyte, 0.1, dtype=default_scalar_type)\n",
    "kappa.x.array[cells_pos_am] = np.full_like(cells_pos_am, 1, dtype=default_scalar_type)"
   ]
  },
  {
   "cell_type": "code",
   "execution_count": 11,
   "id": "5e4220b5-3f63-48aa-9911-f39e118c2483",
   "metadata": {},
   "outputs": [],
   "source": [
    "alpha = 10\n",
    "gamma = 10\n",
    "\n",
    "F = kappa * inner(grad(u), grad(v)) * dx - f * v * dx - kappa * inner(grad(u), n) * v * ds\n",
    "\n",
    "# Add DG/IP terms\n",
    "F += - avg(kappa) * inner(jump(u, n), avg(grad(v))) * dS(0)\n",
    "F += - inner(jump(kappa * u, n), avg(grad(v))) * dS(0)\n",
    "F += - inner(avg(kappa * grad(u)), jump(v, n)) * dS(0)\n",
    "F += + avg(u) * inner(jump(kappa, n), avg(grad(v))) * dS(0)\n",
    "F += gamma / h_avg * inner(jump(v, n), jump(u, n)) * dS(0)\n",
    "\n",
    "# Internal boundary\n",
    "F += - avg(kappa) * dot(avg(grad(v)), (R * T / i0 / faraday_const) * (kappa * grad(u))('+') + U) * dS(markers.electrolyte_v_positive_am)\n",
    "F += (gamma / h_avg) * avg(kappa) * dot(jump(v, n), (R * T / i0 / faraday_const) * (kappa * grad(u))('+') + U) * dS(markers.electrolyte_v_positive_am)\n",
    "\n",
    "# # Symmetry\n",
    "F += - avg(kappa) * inner(jump(u, n), avg(grad(v))) * dS(markers.electrolyte_v_positive_am)\n",
    "\n",
    "# # Coercivity\n",
    "F += gamma / h_avg * avg(kappa) * inner(jump(u, n), jump(v, n)) * dS(markers.electrolyte_v_positive_am)\n",
    "\n",
    "# Nitsche Dirichlet BC terms on left and right boundaries\n",
    "F += - kappa * inner(u * n, grad(v)) * ds(markers.left)\n",
    "F += kappa * u_left * inner(n, grad(v)) * ds(markers.left)\n",
    "F += - alpha / h * u_left * v * ds(markers.left)\n",
    "F += - kappa * inner(u * n, grad(v)) * ds(markers.right)\n",
    "F += kappa * u_right * inner(n, grad(v)) * ds(markers.right) \n",
    "F += - alpha / h * u_right * v * ds(markers.right)\n",
    "F += alpha / h * u * v * ds (markers.insulated)\n",
    "F += alpha / h * v * u * ds(markers.left) \n",
    "F += alpha / h * v * u * ds(markers.right)\n",
    "\n",
    "# Nitsche Neumann BC terms on insulated boundary\n",
    "F += -h / alpha * inner(u * n, grad(v)) * ds(markers.insulated)\n",
    "F += -g * v * ds(markers.insulated)"
   ]
  },
  {
   "cell_type": "code",
   "execution_count": 12,
   "id": "6636264d-a1e9-4fe4-b2bb-c1a153c64b51",
   "metadata": {},
   "outputs": [
    {
     "name": "stdout",
     "output_type": "stream",
     "text": [
      "Converged in 1 iterations\n"
     ]
    }
   ],
   "source": [
    "problem = petsc.NonlinearProblem(F, u)\n",
    "solver = petsc_nls.NewtonSolver(comm, problem)\n",
    "solver.convergence_criterion = \"residual\"\n",
    "solver.maximum_iterations = 5\n",
    "\n",
    "ksp = solver.krylov_solver\n",
    "opts = PETSc.Options()\n",
    "option_prefix = ksp.getOptionsPrefix()\n",
    "opts[f\"{option_prefix}ksp_type\"] = \"preonly\"\n",
    "opts[f\"{option_prefix}pc_type\"] = \"lu\"\n",
    "ksp.setFromOptions()\n",
    "n_iters, converged = solver.solve(u)\n",
    "if not converged:\n",
    "    print(f\"Not converged in {n_iters} iterations\")\n",
    "else:\n",
    "    print(f\"Converged in {n_iters} iterations\")\n",
    "u.name = 'potential'"
   ]
  },
  {
   "cell_type": "code",
   "execution_count": 13,
   "id": "15bb399c-b73e-43f6-8449-062f24b452bf",
   "metadata": {},
   "outputs": [],
   "source": [
    "V_CG1 = fem.FunctionSpace(domain, (\"CG\", 1))\n",
    "\n",
    "u_cg = fem.Function(V_CG1)\n",
    "u_cg.name = 'potential'\n",
    "u_cg.interpolate(u)\n",
    "\n",
    "with VTXWriter(comm, potential_dg_resultsfile, [u], engine=\"BP4\") as vtx:\n",
    "    vtx.write(0.0)\n",
    "with VTXWriter(comm, potential_resultsfile, [u_cg], engine=\"BP4\") as vtx:\n",
    "    vtx.write(0.0)"
   ]
  },
  {
   "cell_type": "code",
   "execution_count": 14,
   "id": "c048e260-c5fb-4ae7-b02f-78e31a5c45da",
   "metadata": {},
   "outputs": [
    {
     "name": "stdout",
     "output_type": "stream",
     "text": [
      "out: 1.58e-01 A, in: 1.59e-01 A\n"
     ]
    }
   ],
   "source": [
    "W = fem.VectorFunctionSpace(domain, (\"DG\", 0))\n",
    "current_expr = fem.Expression(-kappa * grad(u), W.element.interpolation_points())\n",
    "current_h = fem.Function(W)\n",
    "current_h.name = 'current_density'\n",
    "current_h.interpolate(current_expr)\n",
    "\n",
    "V_CG0 = fem.VectorFunctionSpace(domain, (\"CG\", 1))\n",
    "current_cg = fem.Function(V_CG0)\n",
    "current_cg.name = 'current_density'\n",
    "current_cg_expr = fem.Expression(-kappa * grad(u_cg), V_CG0.element.interpolation_points())\n",
    "current_cg.interpolate(current_cg_expr)\n",
    "\n",
    "with VTXWriter(comm, current_resultsfile, [current_cg], engine=\"BP4\") as vtx:\n",
    "    vtx.write(0.0)\n",
    "\n",
    "I_left = fem.assemble_scalar(fem.form(inner(current_h, n) * ds(markers.left)))\n",
    "I_right = fem.assemble_scalar(fem.form(inner(current_h, n) * ds(markers.right)))\n",
    "print(f\"out: {I_left:.2e} A, in: {abs(I_right):.2e} A\")"
   ]
  },
  {
   "cell_type": "code",
   "execution_count": 15,
   "id": "147210cf-6ff6-4bab-a1e7-082f7a264f69",
   "metadata": {},
   "outputs": [
    {
     "data": {
      "image/png": "[encoded data removed]",
      "text/plain": [
       "<Figure size 640x480 with 1 Axes>"
      ]
     },
     "metadata": {},
     "output_type": "display_data"
    }
   ],
   "source": [
    "bb_trees = bb_tree(domain, domain.topology.dim)\n",
    "n_points = 10000\n",
    "tol = 1e-12  # Avoid hitting the outside of the domain\n",
    "x = np.linspace(tol, LX - tol, n_points)\n",
    "y = np.ones(n_points) * 0.5 * LY  # midline\n",
    "points = np.zeros((3, n_points))\n",
    "points[0] = x\n",
    "points[1] = y\n",
    "u_values = []\n",
    "cells = []\n",
    "points_on_proc = []\n",
    "# Find cells whose bounding-box collide with the the points\n",
    "cell_candidates = compute_collisions_points(bb_trees, points.T)\n",
    "# Choose one of the cells that contains the point\n",
    "colliding_cells = compute_colliding_cells(domain, cell_candidates, points.T)\n",
    "for i, point in enumerate(points.T):\n",
    "    if len(colliding_cells.links(i)) > 0:\n",
    "        points_on_proc.append(point)\n",
    "        cells.append(colliding_cells.links(i)[0])\n",
    "points_on_proc = np.array(points_on_proc, dtype=np.float64)\n",
    "u_values = u.eval(points_on_proc, cells)\n",
    "fig, ax = plt.subplots()\n",
    "ax.plot(points_on_proc[:, 0] / micron, u_values, \"k\", linewidth=2)\n",
    "ax.axhline(y=10/11, color='k', linestyle='--', linewidth=0.5)\n",
    "ax.axvline(x=100, color='k', linestyle='--', linewidth=0.5)\n",
    "# ax.grid(True)\n",
    "ax.set_xlim([0, LX / micron])\n",
    "ax.set_ylim([0, voltage])\n",
    "ax.set_ylabel(r'$\\phi$ [V]', rotation=0, labelpad=30, fontsize='xx-large')\n",
    "ax.set_xlabel(r'[$\\mu$m]')\n",
    "ax.set_title('Potential Across Midline')\n",
    "ax.set_box_aspect(1)\n",
    "ax.minorticks_on();\n",
    "plt.tight_layout()\n",
    "plt.show()"
   ]
  },
  {
   "cell_type": "code",
   "execution_count": 16,
   "id": "b22ed79f-2c28-409c-9691-fc58baf48754",
   "metadata": {},
   "outputs": [
    {
     "data": {
      "image/png": "[encoded data removed]",
      "text/plain": [
       "<Figure size 640x480 with 1 Axes>"
      ]
     },
     "metadata": {},
     "output_type": "display_data"
    }
   ],
   "source": [
    "bb_trees = bb_tree(domain, domain.topology.dim)\n",
    "x = np.linspace(tol, LX - tol, n_points)\n",
    "y = np.ones(n_points) * 0.5 * LY  # midline\n",
    "points = np.zeros((3, n_points))\n",
    "points[0] = x\n",
    "points[1] = y\n",
    "u_values = []\n",
    "cells = []\n",
    "points_on_proc = []\n",
    "# Find cells whose bounding-box collide with the the points\n",
    "cell_candidates = compute_collisions_points(bb_trees, points.T)\n",
    "# Choose one of the cells that contains the point\n",
    "colliding_cells = compute_colliding_cells(domain, cell_candidates, points.T)\n",
    "for i, point in enumerate(points.T):\n",
    "    if len(colliding_cells.links(i)) > 0:\n",
    "        points_on_proc.append(point)\n",
    "        cells.append(colliding_cells.links(i)[0])\n",
    "points_on_proc = np.array(points_on_proc, dtype=np.float64)\n",
    "current_values = current_h.eval(points_on_proc, cells)\n",
    "fig, ax = plt.subplots()\n",
    "ax.plot(points_on_proc[:, 0] / micron, np.linalg.norm(current_values, axis=1), \"k\", linewidth=2)\n",
    "ax.grid(True)\n",
    "ax.set_xlim([0, LX / micron])\n",
    "# ax.set_ylim([0, voltage])\n",
    "ax.set_ylabel(r'$i$ [A/m$^2$]', rotation=0, labelpad=40, fontsize='xx-large')\n",
    "ax.set_xlabel(r'[$\\mu$m]')\n",
    "ax.set_title('Current Density Across Midline')\n",
    "plt.tight_layout()\n",
    "plt.show()"
   ]
  },
  {
   "cell_type": "code",
   "execution_count": null,
   "id": "4501d3c9-d587-4301-9821-aa3e377c5384",
   "metadata": {},
   "outputs": [],
   "source": []
  }
 ],
 "metadata": {
  "kernelspec": {
   "display_name": "Finite Element Analysis",
   "language": "python",
   "name": "fea"
  },
  "language_info": {
   "codemirror_mode": {
    "name": "ipython",
    "version": 3
   },
   "file_extension": ".py",
   "mimetype": "text/x-python",
   "name": "python",
   "nbconvert_exporter": "python",
   "pygments_lexer": "ipython3",
   "version": "3.12.1"
  }
 },
 "nbformat": 4,
 "nbformat_minor": 5
}
