{
 "cells": [
  {
   "cell_type": "code",
   "execution_count": 49,
   "metadata": {},
   "outputs": [
    {
     "name": "stderr",
     "output_type": "stream",
     "text": [
      "Warning : Gmsh has aleady been initialized\n"
     ]
    }
   ],
   "source": [
    "import warnings\n",
    "warnings.filterwarnings(\"ignore\")\n",
    "import gmsh\n",
    "import meshio\n",
    "import numpy as np\n",
    "gmsh.initialize()"
   ]
  },
  {
   "cell_type": "code",
   "execution_count": 50,
   "metadata": {},
   "outputs": [],
   "source": [
    "gmsh.model.add(\"3D\")\n",
    "L, B, H = 10, 10, 10\n",
    "r = 1\n",
    "channel = gmsh.model.occ.addBox(0, 0, 0, L, B, H)\n",
    "resolution = 0.1"
   ]
  },
  {
   "cell_type": "code",
   "execution_count": 51,
   "metadata": {},
   "outputs": [],
   "source": [
    "sphere = gmsh.model.occ.addSphere(5, 5, 5, r)"
   ]
  },
  {
   "cell_type": "code",
   "execution_count": 52,
   "metadata": {},
   "outputs": [],
   "source": [
    "fluid = gmsh.model.occ.cut([(3, channel)], [(3, sphere)])"
   ]
  },
  {
   "cell_type": "code",
   "execution_count": 53,
   "metadata": {},
   "outputs": [],
   "source": [
    "gmsh.model.occ.synchronize()\n",
    "volumes = gmsh.model.getEntities(dim=3)"
   ]
  },
  {
   "cell_type": "code",
   "execution_count": 54,
   "metadata": {},
   "outputs": [],
   "source": [
    "marker = 11\n",
    "gmsh.model.addPhysicalGroup(volumes[0][0], [volumes[0][1]], marker)\n",
    "gmsh.model.setPhysicalName(volumes[0][0], marker, \"conductor\")"
   ]
  },
  {
   "cell_type": "code",
   "execution_count": 55,
   "metadata": {},
   "outputs": [],
   "source": [
    "surfaces = gmsh.model.occ.getEntities(dim=2)\n",
    "left_marker = 1\n",
    "right_marker = 3\n",
    "sphere_marker = 5\n",
    "spheres = []\n",
    "walls = []\n",
    "for surface in surfaces:\n",
    "    com = gmsh.model.occ.getCenterOfMass(surface[0], surface[1])\n",
    "    if np.allclose(com, [0, B/2, H/2]):\n",
    "        gmsh.model.addPhysicalGroup(surface[0], [surface[1]], left_marker)\n",
    "        left = surface[1]\n",
    "        gmsh.model.setPhysicalName(surface[0], left_marker, \"left\")\n",
    "    elif np.allclose(com, [L, B/2, H/2]):\n",
    "        gmsh.model.addPhysicalGroup(surface[0], [surface[1]], right_marker)\n",
    "        gmsh.model.setPhysicalName(surface[0], right_marker, \"right\")\n",
    "        right = surface[1]\n",
    "    elif np.isclose(com[2], 0) or np.isclose(com[1], B) or np.isclose(com[2], H) or np.isclose(com[1],0):\n",
    "        walls.append(surface[1])\n",
    "    else:\n",
    "        spheres.append(surface[1])\n",
    "gmsh.model.addPhysicalGroup(2, spheres, sphere_marker)\n",
    "gmsh.model.setPhysicalName(2, sphere_marker, \"sphere\")\n",
    "\n",
    "gmsh.model.mesh.field.add(\"Distance\", 1)\n",
    "gmsh.model.mesh.field.setNumbers(1, \"FacesList\", spheres)\n",
    "\n",
    "gmsh.model.mesh.field.add(\"Threshold\", 2)\n",
    "gmsh.model.mesh.field.setNumber(2, \"IField\", 1)\n",
    "gmsh.model.mesh.field.setNumber(2, \"LcMin\", resolution)\n",
    "gmsh.model.mesh.field.setNumber(2, \"LcMax\", 20*resolution)\n",
    "gmsh.model.mesh.field.setNumber(2, \"DistMin\", 0.5*r)\n",
    "gmsh.model.mesh.field.setNumber(2, \"DistMax\", r)\n",
    "\n",
    "gmsh.model.mesh.field.add(\"Distance\", 3)\n",
    "gmsh.model.mesh.field.setNumbers(3, \"FacesList\", [left])\n",
    "gmsh.model.mesh.field.add(\"Threshold\", 4)\n",
    "gmsh.model.mesh.field.setNumber(4, \"IField\", 3)\n",
    "gmsh.model.mesh.field.setNumber(4, \"LcMin\", 5*resolution)\n",
    "gmsh.model.mesh.field.setNumber(4, \"LcMax\", 10*resolution)\n",
    "gmsh.model.mesh.field.setNumber(4, \"DistMin\", 0.1)\n",
    "gmsh.model.mesh.field.setNumber(4, \"DistMax\", 0.5)\n",
    "\n",
    "gmsh.model.mesh.field.add(\"Min\", 5)\n",
    "gmsh.model.mesh.field.setNumbers(5, \"FieldsList\", [2, 4])\n",
    "gmsh.model.mesh.field.setAsBackgroundMesh(5)"
   ]
  },
  {
   "cell_type": "code",
   "execution_count": 56,
   "metadata": {},
   "outputs": [
    {
     "name": "stdout",
     "output_type": "stream",
     "text": [
      "Info    : Meshing 1D...\n",
      "Info    : [ 10%] Meshing curve 14 (Circle)\n",
      "Info    : [ 20%] Meshing curve 16 (Line)\n",
      "Info    : [ 30%] Meshing curve 17 (Line)\n",
      "Info    : [ 40%] Meshing curve 18 (Line)\n",
      "Info    : [ 40%] Meshing curve 19 (Line)\n",
      "Info    : [ 50%] Meshing curve 20 (Line)\n",
      "Info    : [ 60%] Meshing curve 21 (Line)\n",
      "Info    : [ 60%] Meshing curve 22 (Line)\n",
      "Info    : [ 70%] Meshing curve 23 (Line)\n",
      "Info    : [ 80%] Meshing curve 24 (Line)\n",
      "Info    : [ 80%] Meshing curve 25 (Line)\n",
      "Info    : [ 90%] Meshing curve 26 (Line)\n",
      "Info    : [100%] Meshing curve 27 (Line)\n",
      "Info    : Done meshing 1D (Wall 0.148027s, CPU 0.150462s)\n",
      "Info    : Meshing 2D...\n",
      "Info    : [  0%] Meshing surface 7 (Sphere, Frontal-Delaunay)\n",
      "Info    : [ 20%] Meshing surface 8 (Plane, Frontal-Delaunay)\n",
      "Info    : [ 30%] Meshing surface 9 (Plane, Frontal-Delaunay)\n",
      "Info    : [ 50%] Meshing surface 10 (Plane, Frontal-Delaunay)\n",
      "Info    : [ 60%] Meshing surface 11 (Plane, Frontal-Delaunay)\n",
      "Info    : [ 80%] Meshing surface 12 (Plane, Frontal-Delaunay)\n",
      "Info    : [ 90%] Meshing surface 13 (Plane, Frontal-Delaunay)\n",
      "Info    : Done meshing 2D (Wall 0.132794s, CPU 0.128075s)\n",
      "Info    : Meshing 3D...\n",
      "Info    : 3D Meshing 1 volume with 1 connected component\n",
      "Info    : Tetrahedrizing 2939 nodes...\n",
      "Info    : Done tetrahedrizing 2947 nodes (Wall 0.0338387s, CPU 0.030452s)\n",
      "Info    : Reconstructing mesh...\n",
      "Info    :  - Creating surface mesh\n",
      "Info    :  - Identifying boundary edges\n",
      "Info    :  - Recovering boundary\n",
      "Info    : Done reconstructing mesh (Wall 0.0800921s, CPU 0.07477s)\n",
      "Info    : Found volume 1\n",
      "Info    : Found void region\n",
      "Info    : It. 0 - 0 nodes created - worst tet radius 13.935 (nodes removed 0 0)\n",
      "Info    : It. 500 - 497 nodes created - worst tet radius 2.67802 (nodes removed 0 3)\n",
      "Info    : It. 1000 - 997 nodes created - worst tet radius 2.50305 (nodes removed 0 3)\n",
      "Info    : It. 1500 - 1497 nodes created - worst tet radius 1.83825 (nodes removed 0 3)\n",
      "Info    : It. 2000 - 1997 nodes created - worst tet radius 1.67914 (nodes removed 0 3)\n",
      "Info    : It. 2500 - 2497 nodes created - worst tet radius 1.56484 (nodes removed 0 3)\n",
      "Info    : It. 3000 - 2997 nodes created - worst tet radius 1.4768 (nodes removed 0 3)\n",
      "Info    : It. 3500 - 3497 nodes created - worst tet radius 1.39978 (nodes removed 0 3)\n",
      "Info    : It. 4000 - 3997 nodes created - worst tet radius 1.34631 (nodes removed 0 3)\n",
      "Info    : It. 4500 - 4497 nodes created - worst tet radius 1.29327 (nodes removed 0 3)\n",
      "Info    : It. 5000 - 4997 nodes created - worst tet radius 1.24581 (nodes removed 0 3)\n",
      "Info    : It. 5500 - 5497 nodes created - worst tet radius 1.20873 (nodes removed 0 3)\n",
      "Info    : It. 6000 - 5997 nodes created - worst tet radius 1.17491 (nodes removed 0 3)\n",
      "Info    : It. 6500 - 6497 nodes created - worst tet radius 1.15436 (nodes removed 0 3)\n",
      "Info    : It. 7000 - 6997 nodes created - worst tet radius 1.11801 (nodes removed 0 3)\n",
      "Info    : It. 7500 - 7497 nodes created - worst tet radius 1.09267 (nodes removed 0 3)\n",
      "Info    : It. 8000 - 7997 nodes created - worst tet radius 1.07079 (nodes removed 0 3)\n",
      "Info    : It. 8500 - 8497 nodes created - worst tet radius 1.04984 (nodes removed 0 3)\n",
      "Info    : It. 9000 - 8997 nodes created - worst tet radius 1.03108 (nodes removed 0 3)\n",
      "Info    : It. 9500 - 9497 nodes created - worst tet radius 1.01139 (nodes removed 0 3)\n",
      "Info    : 3D refinement terminated (12761 nodes total):\n",
      "Info    :  - 0 Delaunay cavities modified for star shapeness\n",
      "Info    :  - 3 nodes could not be inserted\n",
      "Info    :  - 71333 tetrahedra created in 0.733113 sec. (97301 tets/s)\n",
      "Info    : Done meshing 3D (Wall 1.03957s, CPU 1.04611s)\n",
      "Info    : Optimizing mesh...\n",
      "Info    : Optimizing volume 1\n",
      "Info    : Optimization starts (volume = 995.826) with worst = 0.00113241 / average = 0.763279:\n",
      "Info    : 0.00 < quality < 0.10 :       174 elements\n",
      "Info    : 0.10 < quality < 0.20 :       468 elements\n",
      "Info    : 0.20 < quality < 0.30 :       880 elements\n",
      "Info    : 0.30 < quality < 0.40 :      1571 elements\n",
      "Info    : 0.40 < quality < 0.50 :      2682 elements\n",
      "Info    : 0.50 < quality < 0.60 :      4472 elements\n",
      "Info    : 0.60 < quality < 0.70 :      8204 elements\n",
      "Info    : 0.70 < quality < 0.80 :     16163 elements\n",
      "Info    : 0.80 < quality < 0.90 :     24148 elements\n",
      "Info    : 0.90 < quality < 1.00 :     12571 elements\n",
      "Info    : 1480 edge swaps, 74 node relocations (volume = 995.826): worst = 0.212654 / average = 0.775343 (Wall 0.0531163s, CPU 0.053637s)\n",
      "Info    : 1501 edge swaps, 77 node relocations (volume = 995.826): worst = 0.259196 / average = 0.775501 (Wall 0.0732279s, CPU 0.074063s)\n",
      "Info    : No ill-shaped tets in the mesh :-)\n",
      "Info    : 0.00 < quality < 0.10 :         0 elements\n",
      "Info    : 0.10 < quality < 0.20 :         0 elements\n",
      "Info    : 0.20 < quality < 0.30 :         4 elements\n",
      "Info    : 0.30 < quality < 0.40 :      1552 elements\n",
      "Info    : 0.40 < quality < 0.50 :      2666 elements\n",
      "Info    : 0.50 < quality < 0.60 :      4473 elements\n",
      "Info    : 0.60 < quality < 0.70 :      8195 elements\n",
      "Info    : 0.70 < quality < 0.80 :     16366 elements\n",
      "Info    : 0.80 < quality < 0.90 :     24314 elements\n",
      "Info    : 0.90 < quality < 1.00 :     12474 elements\n",
      "Info    : Done optimizing mesh (Wall 0.236959s, CPU 0.237466s)\n",
      "Info    : 12761 nodes 76118 elements\n"
     ]
    }
   ],
   "source": [
    "gmsh.model.occ.synchronize()\n",
    "gmsh.model.mesh.generate(3)"
   ]
  },
  {
   "cell_type": "code",
   "execution_count": 57,
   "metadata": {},
   "outputs": [
    {
     "name": "stdout",
     "output_type": "stream",
     "text": [
      "Info    : Writing 'mesh3D.msh'...\n",
      "Info    : Done writing 'mesh3D.msh'\n"
     ]
    }
   ],
   "source": [
    "gmsh.write(\"mesh3D.msh\")"
   ]
  },
  {
   "cell_type": "code",
   "execution_count": 58,
   "metadata": {},
   "outputs": [],
   "source": [
    "def create_mesh(mesh, cell_type, prune_z=False):\n",
    "    cells = mesh.get_cells_type(cell_type)\n",
    "    cell_data = mesh.get_cell_data(\"gmsh:physical\", cell_type)\n",
    "    points = mesh.points[:,:2] if prune_z else mesh.points\n",
    "    out_mesh = meshio.Mesh(points=points, cells={cell_type: cells}, cell_data={\"name_to_read\":[cell_data]})\n",
    "    return out_mesh"
   ]
  },
  {
   "cell_type": "code",
   "execution_count": 59,
   "metadata": {},
   "outputs": [],
   "source": [
    "mesh_3d = meshio.read(\"mesh3D.msh\")\n",
    "tetrahedral_mesh = create_mesh(mesh_3d, \"tetra\")\n",
    "meshio.write(\"mesh/10_0_10/mesh_tetr.xdmf\", tetrahedral_mesh)"
   ]
  },
  {
   "cell_type": "code",
   "execution_count": 64,
   "metadata": {},
   "outputs": [
    {
     "name": "stdout",
     "output_type": "stream",
     "text": [
      "done loading tetrahedral mesh\n",
      "done loading tetrahedral mesh\n",
      "setting problem..\n",
      "setting problem..\n",
      "solving problem..\n",
      "solving problem..\n"
     ]
    }
   ],
   "source": [
    "cmd_3d = 'mpirun -n 2 python3 ion_transport.py --working_dir=/home/leshinka/dev/ssb/ --grid_info=10_0_10 --file_shape=10_10'\n",
    "!{cmd_3d}"
   ]
  }
 ],
 "metadata": {
  "interpreter": {
   "hash": "916dbcbb3f70747c44a77c7bcd40155683ae19c65e1c03b4aa3499c5328201f1"
  },
  "kernelspec": {
   "display_name": "Python 3.8.10 64-bit",
   "language": "python",
   "name": "python3"
  },
  "language_info": {
   "codemirror_mode": {
    "name": "ipython",
    "version": 3
   },
   "file_extension": ".py",
   "mimetype": "text/x-python",
   "name": "python",
   "nbconvert_exporter": "python",
   "pygments_lexer": "ipython3",
   "version": "3.8.10"
  },
  "orig_nbformat": 4
 },
 "nbformat": 4,
 "nbformat_minor": 2
}
