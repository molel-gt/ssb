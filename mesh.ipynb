{
 "cells": [
  {
   "cell_type": "code",
   "execution_count": 25,
   "metadata": {},
   "outputs": [
    {
     "name": "stderr",
     "output_type": "stream",
     "text": [
      "Warning : Gmsh has aleady been initialized\n"
     ]
    }
   ],
   "source": [
    "import warnings\n",
    "warnings.filterwarnings(\"ignore\")\n",
    "import gmsh\n",
    "import meshio\n",
    "import numpy as np\n",
    "gmsh.initialize()"
   ]
  },
  {
   "cell_type": "code",
   "execution_count": 26,
   "metadata": {},
   "outputs": [],
   "source": [
    "def read_spheres_position_file(spheres_position_path):\n",
    "    \"\"\"\n",
    "    Reads file input that contains the centers of spheres. The path is assumed to have\n",
    "    been generated using code from Skoge et al.\n",
    "    \"\"\"\n",
    "    centers = []\n",
    "    radius = 0\n",
    "    n = 0\n",
    "    with open(spheres_position_path) as fp:\n",
    "        for i, row in enumerate(fp.readlines()):\n",
    "            if i < 2:\n",
    "                continue\n",
    "            if i == 2:\n",
    "                n = int(row)\n",
    "            if i == 3:\n",
    "                radius = float(row)\n",
    "            if i < 6:\n",
    "                continue\n",
    "            x, y, z, _ = row.split(' ')\n",
    "            centers.append((float(x), float(y), float(z)))\n",
    "    return centers, float(radius)/2, n\n"
   ]
  },
  {
   "cell_type": "code",
   "execution_count": 27,
   "metadata": {},
   "outputs": [],
   "source": [
    "gmsh.model.add(\"3D\")\n",
    "Lx, Ly, Lz = 1, 1, 1\n",
    "resolution = 0.05\n",
    "channel = gmsh.model.occ.addBox(0, 0, 0, Lx, Ly, Lz)"
   ]
  },
  {
   "cell_type": "code",
   "execution_count": 28,
   "metadata": {},
   "outputs": [],
   "source": [
    "spheres_ = []\n",
    "centers, r, n_spheres = read_spheres_position_file(\"/home/leshinka/spheres/write.dat\")\n",
    "for center in centers:\n",
    "    x, y, z = center\n",
    "    sphere = gmsh.model.occ.addSphere(*center, r)\n",
    "    spheres_.append(sphere)\n",
    "channel = gmsh.model.occ.cut([(3, channel)], [(3, sphere) for sphere in spheres_])"
   ]
  },
  {
   "cell_type": "code",
   "execution_count": 29,
   "metadata": {},
   "outputs": [],
   "source": [
    "gmsh.model.occ.synchronize()\n",
    "volumes = gmsh.model.getEntities(dim=3)"
   ]
  },
  {
   "cell_type": "code",
   "execution_count": 30,
   "metadata": {},
   "outputs": [],
   "source": [
    "marker = 11\n",
    "gmsh.model.addPhysicalGroup(volumes[0][0], [volumes[0][1]], marker)\n",
    "gmsh.model.setPhysicalName(volumes[0][0], marker, \"conductor\")"
   ]
  },
  {
   "cell_type": "code",
   "execution_count": 31,
   "metadata": {},
   "outputs": [],
   "source": [
    "surfaces = gmsh.model.occ.getEntities(dim=2)\n",
    "left_marker = 1\n",
    "right_marker = 3\n",
    "sphere_marker = 5\n",
    "spheres = []\n",
    "walls = []\n",
    "for surface in surfaces:\n",
    "    com = gmsh.model.occ.getCenterOfMass(surface[0], surface[1])\n",
    "    if np.allclose(com, [0, Ly/2, Lz/2]):\n",
    "        gmsh.model.addPhysicalGroup(surface[0], [surface[1]], left_marker)\n",
    "        left = surface[1]\n",
    "        gmsh.model.setPhysicalName(surface[0], left_marker, \"left\")\n",
    "    elif np.allclose(com, [Lx, Ly/2, Lz/2]):\n",
    "        gmsh.model.addPhysicalGroup(surface[0], [surface[1]], right_marker)\n",
    "        gmsh.model.setPhysicalName(surface[0], right_marker, \"right\")\n",
    "        right = surface[1]\n",
    "    elif np.isclose(com[2], 0) or np.isclose(com[1], Ly) or np.isclose(com[2], Lz) or np.isclose(com[1], 0):\n",
    "        walls.append(surface[1])\n",
    "    else:\n",
    "        spheres.append(surface[1])\n",
    "gmsh.model.addPhysicalGroup(2, spheres, sphere_marker)\n",
    "gmsh.model.setPhysicalName(2, sphere_marker, \"sphere\")\n",
    "\n",
    "gmsh.model.mesh.field.add(\"Distance\", 1)\n",
    "gmsh.model.mesh.field.setNumbers(1, \"FacesList\", spheres)\n",
    "\n",
    "gmsh.model.mesh.field.add(\"Threshold\", 2)\n",
    "gmsh.model.mesh.field.setNumber(2, \"IField\", 1)\n",
    "gmsh.model.mesh.field.setNumber(2, \"LcMin\", resolution)\n",
    "gmsh.model.mesh.field.setNumber(2, \"LcMax\", 20*resolution)\n",
    "gmsh.model.mesh.field.setNumber(2, \"DistMin\", 0.5*r)\n",
    "gmsh.model.mesh.field.setNumber(2, \"DistMax\", r)\n",
    "\n",
    "gmsh.model.mesh.field.add(\"Min\", 5)\n",
    "gmsh.model.mesh.field.setNumbers(5, \"FieldsList\", [2])\n",
    "gmsh.model.mesh.field.setAsBackgroundMesh(5)"
   ]
  },
  {
   "cell_type": "code",
   "execution_count": 32,
   "metadata": {},
   "outputs": [
    {
     "name": "stdout",
     "output_type": "stream",
     "text": [
      "Info    : Meshing 1D...\n",
      "Info    : [  0%] Meshing curve 1 (Line)\n",
      "Info    : [ 10%] Meshing curve 2 (Circle)\n",
      "Info    : [ 10%] Meshing curve 3 (Line)\n",
      "Info    : [ 10%] Meshing curve 4 (Line)\n",
      "Info    : [ 20%] Meshing curve 5 (Line)\n",
      "Info    : [ 20%] Meshing curve 6 (Line)\n",
      "Info    : [ 20%] Meshing curve 7 (Circle)\n",
      "Info    : [ 30%] Meshing curve 8 (Line)\n",
      "Info    : [ 30%] Meshing curve 9 (Line)\n",
      "Info    : [ 30%] Meshing curve 10 (Line)\n",
      "Info    : [ 30%] Meshing curve 11 (Circle)\n",
      "Info    : [ 40%] Meshing curve 12 (Line)\n",
      "Info    : [ 40%] Meshing curve 13 (Circle)\n",
      "Info    : [ 40%] Meshing curve 14 (Circle)\n",
      "Info    : [ 50%] Meshing curve 17 (Line)\n",
      "Info    : [ 50%] Meshing curve 18 (Line)\n",
      "Info    : [ 60%] Meshing curve 19 (Line)\n",
      "Info    : [ 60%] Meshing curve 20 (Line)\n",
      "Info    : [ 60%] Meshing curve 21 (Circle)\n",
      "Info    : [ 70%] Meshing curve 22 (Circle)\n",
      "Info    : [ 70%] Meshing curve 23 (Line)\n",
      "Info    : [ 70%] Meshing curve 24 (Circle)\n",
      "Info    : [ 80%] Meshing curve 25 (Circle)\n",
      "Info    : [ 80%] Meshing curve 27 (Circle)\n",
      "Info    : [ 90%] Meshing curve 30 (Circle)\n",
      "Info    : [100%] Meshing curve 33 (Circle)\n",
      "Info    : Done meshing 1D (Wall 0.0327983s, CPU 0.019361s)\n",
      "Info    : Meshing 2D...\n",
      "Info    : [  0%] Meshing surface 1 (Plane, Frontal-Delaunay)\n",
      "Info    : [ 10%] Meshing surface 2 (Plane, Frontal-Delaunay)\n",
      "Info    : [ 20%] Meshing surface 3 (Sphere, Frontal-Delaunay)\n",
      "Info    : [ 30%] Meshing surface 4 (Plane, Frontal-Delaunay)\n",
      "Info    : [ 40%] Meshing surface 5 (Plane, Frontal-Delaunay)\n",
      "Info    : [ 50%] Meshing surface 6 (Plane, Frontal-Delaunay)\n",
      "Info    : [ 60%] Meshing surface 7 (Sphere, Frontal-Delaunay)\n",
      "Info    : [ 70%] Meshing surface 8 (Plane, Frontal-Delaunay)\n",
      "Info    : [ 80%] Meshing surface 9 (Sphere, Frontal-Delaunay)\n",
      "Info    : [ 90%] Meshing surface 10 (Sphere, Frontal-Delaunay)\n",
      "Info    : [100%] Meshing surface 11 (Sphere, Frontal-Delaunay)\n",
      "Info    : Done meshing 2D (Wall 1.04427s, CPU 0.182742s)\n",
      "Info    : Meshing 3D...\n",
      "Info    : 3D Meshing 1 volume with 1 connected component\n",
      "Info    : Tetrahedrizing 2852 nodes...\n",
      "Info    : Done tetrahedrizing 2860 nodes (Wall 0.333438s, CPU 0.038649s)\n",
      "Info    : Reconstructing mesh...\n",
      "Info    :  - Creating surface mesh\n",
      "Info    :  - Identifying boundary edges\n",
      "Info    :  - Recovering boundary\n",
      "Info    : Done reconstructing mesh (Wall 0.618647s, CPU 0.090646s)\n",
      "Info    : Found void region\n",
      "Info    : Found volume 1\n",
      "Info    : It. 0 - 0 nodes created - worst tet radius 4.1718 (nodes removed 0 0)\n",
      "Info    : It. 500 - 495 nodes created - worst tet radius 1.37169 (nodes removed 0 5)\n",
      "Info    : It. 1000 - 993 nodes created - worst tet radius 1.15618 (nodes removed 0 7)\n",
      "Info    : It. 1500 - 1488 nodes created - worst tet radius 1.03742 (nodes removed 0 12)\n",
      "Info    : 3D refinement terminated (4543 nodes total):\n",
      "Info    :  - 0 Delaunay cavities modified for star shapeness\n",
      "Info    :  - 16 nodes could not be inserted\n",
      "Info    :  - 19577 tetrahedra created in 1.45767 sec. (13430 tets/s)\n",
      "Info    : Done meshing 3D (Wall 3.02403s, CPU 0.570654s)\n",
      "Info    : Optimizing mesh...\n",
      "Info    : Optimizing volume 1\n",
      "Info    : Optimization starts (volume = 0.713383) with worst = 0.0022575 / average = 0.754689:\n",
      "Info    : 0.00 < quality < 0.10 :        60 elements\n",
      "Info    : 0.10 < quality < 0.20 :       160 elements\n",
      "Info    : 0.20 < quality < 0.30 :       228 elements\n",
      "Info    : 0.30 < quality < 0.40 :       372 elements\n",
      "Info    : 0.40 < quality < 0.50 :       647 elements\n",
      "Info    : 0.50 < quality < 0.60 :      1193 elements\n",
      "Info    : 0.60 < quality < 0.70 :      2764 elements\n",
      "Info    : 0.70 < quality < 0.80 :      5125 elements\n",
      "Info    : 0.80 < quality < 0.90 :      6069 elements\n",
      "Info    : 0.90 < quality < 1.00 :      2959 elements\n",
      "Info    : 427 edge swaps, 11 node relocations (volume = 0.713383): worst = 0.119815 / average = 0.767465 (Wall 0.0230998s, CPU 0.015715s)\n",
      "Info    : 432 edge swaps, 12 node relocations (volume = 0.713383): worst = 0.119815 / average = 0.767531 (Wall 0.0284636s, CPU 0.021593s)\n",
      "Info    : No ill-shaped tets in the mesh :-)\n",
      "Info    : 0.00 < quality < 0.10 :         0 elements\n",
      "Info    : 0.10 < quality < 0.20 :         5 elements\n",
      "Info    : 0.20 < quality < 0.30 :        12 elements\n",
      "Info    : 0.30 < quality < 0.40 :       371 elements\n",
      "Info    : 0.40 < quality < 0.50 :       622 elements\n",
      "Info    : 0.50 < quality < 0.60 :      1222 elements\n",
      "Info    : 0.60 < quality < 0.70 :      2761 elements\n",
      "Info    : 0.70 < quality < 0.80 :      5144 elements\n",
      "Info    : 0.80 < quality < 0.90 :      6128 elements\n",
      "Info    : 0.90 < quality < 1.00 :      2935 elements\n",
      "Info    : Done optimizing mesh (Wall 0.160814s, CPU 0.052265s)\n",
      "Info    : 4543 nodes 25284 elements\n"
     ]
    }
   ],
   "source": [
    "gmsh.model.occ.synchronize()\n",
    "gmsh.model.mesh.generate(3)"
   ]
  },
  {
   "cell_type": "code",
   "execution_count": 33,
   "metadata": {},
   "outputs": [
    {
     "name": "stdout",
     "output_type": "stream",
     "text": [
      "Info    : Writing 'mesh3D.msh'...\n",
      "Info    : Done writing 'mesh3D.msh'\n"
     ]
    }
   ],
   "source": [
    "gmsh.write(\"mesh3D.msh\")"
   ]
  },
  {
   "cell_type": "code",
   "execution_count": 34,
   "metadata": {},
   "outputs": [],
   "source": [
    "def create_mesh(mesh, cell_type, prune_z=False):\n",
    "    cells = mesh.get_cells_type(cell_type)\n",
    "    cell_data = mesh.get_cell_data(\"gmsh:physical\", cell_type)\n",
    "    points = mesh.points[:,:2] if prune_z else mesh.points\n",
    "    out_mesh = meshio.Mesh(points=points, cells={cell_type: cells}, cell_data={\"name_to_read\":[cell_data]})\n",
    "    return out_mesh"
   ]
  },
  {
   "cell_type": "code",
   "execution_count": 35,
   "metadata": {},
   "outputs": [],
   "source": [
    "mesh_3d = meshio.read(\"mesh3D.msh\")\n",
    "tetrahedral_mesh = create_mesh(mesh_3d, \"tetra\")\n",
    "meshio.write(\"mesh/1_0_1/mesh_tetr.xdmf\", tetrahedral_mesh)"
   ]
  },
  {
   "cell_type": "code",
   "execution_count": 36,
   "metadata": {},
   "outputs": [
    {
     "name": "stdout",
     "output_type": "stream",
     "text": [
      "done loading tetrahedral mesh\n",
      "done loading tetrahedral mesh\n",
      "setting problem..\n",
      "setting problem..\n",
      "solving problem..\n",
      "solving problem..\n"
     ]
    }
   ],
   "source": [
    "cmd_3d = 'mpirun -n 2 python3 ion_transport.py --working_dir=/home/leshinka/dev/ssb/ --grid_info=1_0_1 --file_shape=1_1'\n",
    "!{cmd_3d}"
   ]
  }
 ],
 "metadata": {
  "interpreter": {
   "hash": "916dbcbb3f70747c44a77c7bcd40155683ae19c65e1c03b4aa3499c5328201f1"
  },
  "kernelspec": {
   "display_name": "Python 3.8.10 64-bit",
   "language": "python",
   "name": "python3"
  },
  "language_info": {
   "codemirror_mode": {
    "name": "ipython",
    "version": 3
   },
   "file_extension": ".py",
   "mimetype": "text/x-python",
   "name": "python",
   "nbconvert_exporter": "python",
   "pygments_lexer": "ipython3",
   "version": "3.8.10"
  },
  "orig_nbformat": 4
 },
 "nbformat": 4,
 "nbformat_minor": 2
}
