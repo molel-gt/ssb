{
 "cells": [
  {
   "cell_type": "code",
   "execution_count": 1,
   "metadata": {},
   "outputs": [],
   "source": [
    "import warnings\n",
    "warnings.filterwarnings(\"ignore\")\n",
    "import gmsh\n",
    "import meshio\n",
    "import numpy as np\n",
    "gmsh.initialize()"
   ]
  },
  {
   "cell_type": "code",
   "execution_count": 2,
   "metadata": {},
   "outputs": [],
   "source": [
    "def read_spheres_position_file(spheres_position_path):\n",
    "    \"\"\"\n",
    "    Reads file input that contains the centers of spheres. The path is assumed to have\n",
    "    been generated using code from Skoge et al.\n",
    "    \"\"\"\n",
    "    centers = []\n",
    "    radius = 0\n",
    "    n = 0\n",
    "    with open(spheres_position_path) as fp:\n",
    "        for i, row in enumerate(fp.readlines()):\n",
    "            if i < 2:\n",
    "                continue\n",
    "            if i == 2:\n",
    "                n = int(row)\n",
    "            if i == 3:\n",
    "                radius = float(row)\n",
    "            if i < 6:\n",
    "                continue\n",
    "            x, y, z, _ = row.split(' ')\n",
    "            centers.append((float(x), float(y), float(z)))\n",
    "    return centers, float(radius)/2, n\n"
   ]
  },
  {
   "cell_type": "code",
   "execution_count": 3,
   "metadata": {},
   "outputs": [],
   "source": [
    "gmsh.model.add(\"3D\")\n",
    "Lx, Ly, Lz = 1, 1, 1\n",
    "resolution = 0.001\n",
    "channel = gmsh.model.occ.addBox(0, 0, 0, Lx, Ly, Lz)"
   ]
  },
  {
   "cell_type": "code",
   "execution_count": 4,
   "metadata": {},
   "outputs": [],
   "source": [
    "spheres_ = []\n",
    "centers, r, n_spheres = read_spheres_position_file(\"/home/leshinka/spheres/write.dat\")\n",
    "for center in centers:\n",
    "    x, y, z = center\n",
    "    sphere = gmsh.model.occ.addSphere(*center, r)\n",
    "    spheres_.append(sphere)\n",
    "channel = gmsh.model.occ.cut([(3, channel)], [(3, sphere) for sphere in spheres_])"
   ]
  },
  {
   "cell_type": "code",
   "execution_count": 5,
   "metadata": {},
   "outputs": [],
   "source": [
    "gmsh.model.occ.synchronize()\n",
    "volumes = gmsh.model.getEntities(dim=3)"
   ]
  },
  {
   "cell_type": "code",
   "execution_count": 6,
   "metadata": {},
   "outputs": [],
   "source": [
    "marker = 11\n",
    "gmsh.model.addPhysicalGroup(volumes[0][0], [volumes[0][1]], marker)\n",
    "gmsh.model.setPhysicalName(volumes[0][0], marker, \"conductor\")"
   ]
  },
  {
   "cell_type": "code",
   "execution_count": 7,
   "metadata": {},
   "outputs": [],
   "source": [
    "surfaces = gmsh.model.occ.getEntities(dim=2)\n",
    "left_marker = 1\n",
    "right_marker = 3\n",
    "sphere_marker = 5\n",
    "spheres = []\n",
    "walls = []\n",
    "for surface in surfaces:\n",
    "    com = gmsh.model.occ.getCenterOfMass(surface[0], surface[1])\n",
    "    if np.allclose(com, [0, Ly/2, Lz/2]):\n",
    "        gmsh.model.addPhysicalGroup(surface[0], [surface[1]], left_marker)\n",
    "        left = surface[1]\n",
    "        gmsh.model.setPhysicalName(surface[0], left_marker, \"left\")\n",
    "    elif np.allclose(com, [Lx, Ly/2, Lz/2]):\n",
    "        gmsh.model.addPhysicalGroup(surface[0], [surface[1]], right_marker)\n",
    "        gmsh.model.setPhysicalName(surface[0], right_marker, \"right\")\n",
    "        right = surface[1]\n",
    "    elif np.isclose(com[2], 0) or np.isclose(com[1], Ly) or np.isclose(com[2], Lz) or np.isclose(com[1], 0):\n",
    "        walls.append(surface[1])\n",
    "    else:\n",
    "        spheres.append(surface[1])\n",
    "gmsh.model.addPhysicalGroup(2, spheres, sphere_marker)\n",
    "gmsh.model.setPhysicalName(2, sphere_marker, \"sphere\")\n",
    "\n",
    "gmsh.model.mesh.field.add(\"Distance\", 1)\n",
    "gmsh.model.mesh.field.setNumbers(1, \"FacesList\", spheres)\n",
    "\n",
    "gmsh.model.mesh.field.add(\"Threshold\", 2)\n",
    "gmsh.model.mesh.field.setNumber(2, \"IField\", 1)\n",
    "gmsh.model.mesh.field.setNumber(2, \"LcMin\", resolution)\n",
    "gmsh.model.mesh.field.setNumber(2, \"LcMax\", 20*resolution)\n",
    "gmsh.model.mesh.field.setNumber(2, \"DistMin\", 0.5*r)\n",
    "gmsh.model.mesh.field.setNumber(2, \"DistMax\", r)\n",
    "\n",
    "# gmsh.model.mesh.field.add(\"Distance\", 3)\n",
    "# gmsh.model.mesh.field.setNumbers(3, \"FacesList\", [left])\n",
    "# gmsh.model.mesh.field.add(\"Threshold\", 4)\n",
    "# gmsh.model.mesh.field.setNumber(4, \"IField\", 3)\n",
    "# gmsh.model.mesh.field.setNumber(4, \"LcMin\", 5*resolution)\n",
    "# gmsh.model.mesh.field.setNumber(4, \"LcMax\", 10*resolution)\n",
    "# gmsh.model.mesh.field.setNumber(4, \"DistMin\", 0.1)\n",
    "# gmsh.model.mesh.field.setNumber(4, \"DistMax\", 0.5)\n",
    "\n",
    "gmsh.model.mesh.field.add(\"Min\", 5)\n",
    "gmsh.model.mesh.field.setNumbers(5, \"FieldsList\", [2])\n",
    "gmsh.model.mesh.field.setAsBackgroundMesh(5)"
   ]
  },
  {
   "cell_type": "code",
   "execution_count": 8,
   "metadata": {},
   "outputs": [
    {
     "name": "stdout",
     "output_type": "stream",
     "text": [
      "Info    : Meshing 1D...\n",
      "Info    : [ 10%] Meshing curve 20 (Circle)\n",
      "Info    : [ 10%] Meshing curve 23 (Circle)\n",
      "Info    : [ 10%] Meshing curve 32 (Circle)\n",
      "Info    : [ 10%] Meshing curve 38 (Circle)\n",
      "Info    : [ 10%] Meshing curve 44 (Circle)\n",
      "Info    : [ 10%] Meshing curve 47 (Circle)\n",
      "Info    : [ 10%] Meshing curve 59 (Circle)\n",
      "Info    : [ 20%] Meshing curve 62 (Circle)\n",
      "Info    : [ 20%] Meshing curve 74 (Circle)\n",
      "Info    : [ 20%] Meshing curve 77 (Circle)\n",
      "Info    : [ 20%] Meshing curve 86 (Circle)\n",
      "Info    : [ 20%] Meshing curve 95 (Circle)\n",
      "Info    : [ 20%] Meshing curve 101 (Circle)\n",
      "Info    : [ 20%] Meshing curve 128 (Circle)\n",
      "Info    : [ 30%] Meshing curve 131 (Circle)\n",
      "Info    : [ 30%] Meshing curve 140 (Circle)\n",
      "Info    : [ 30%] Meshing curve 146 (Circle)\n",
      "Info    : [ 30%] Meshing curve 149 (Circle)\n",
      "Info    : [ 30%] Meshing curve 151 (Line)\n",
      "Info    : [ 30%] Meshing curve 152 (Line)\n",
      "Info    : [ 30%] Meshing curve 153 (Line)\n",
      "Info    : [ 30%] Meshing curve 154 (Circle)\n",
      "Info    : [ 30%] Meshing curve 155 (Line)\n",
      "Info    : [ 30%] Meshing curve 156 (Line)\n",
      "Info    : [ 30%] Meshing curve 157 (Circle)\n",
      "Info    : [ 30%] Meshing curve 158 (Circle)\n",
      "Info    : [ 30%] Meshing curve 159 (Circle)\n",
      "Info    : [ 30%] Meshing curve 160 (Circle)\n",
      "Info    : [ 40%] Meshing curve 161 (Circle)\n",
      "Info    : [ 40%] Meshing curve 162 (Line)\n",
      "Info    : [ 40%] Meshing curve 163 (Circle)\n",
      "Info    : [ 40%] Meshing curve 164 (Circle)\n",
      "Info    : [ 40%] Meshing curve 165 (Line)\n",
      "Info    : [ 40%] Meshing curve 166 (Line)\n",
      "Info    : [ 40%] Meshing curve 167 (Circle)\n",
      "Info    : [ 40%] Meshing curve 168 (Line)\n",
      "Info    : [ 40%] Meshing curve 169 (Line)\n",
      "Info    : [ 40%] Meshing curve 170 (Circle)\n",
      "Info    : [ 40%] Meshing curve 171 (Circle)\n",
      "Info    : [ 40%] Meshing curve 172 (Line)\n",
      "Info    : [ 40%] Meshing curve 173 (Circle)\n",
      "Info    : [ 40%] Meshing curve 174 (Circle)\n",
      "Info    : [ 40%] Meshing curve 175 (Circle)\n",
      "Info    : [ 40%] Meshing curve 176 (Circle)\n",
      "Info    : [ 40%] Meshing curve 177 (Circle)\n",
      "Info    : [ 40%] Meshing curve 178 (Line)\n",
      "Info    : [ 40%] Meshing curve 179 (Circle)\n",
      "Info    : [ 40%] Meshing curve 180 (Line)\n",
      "Info    : [ 40%] Meshing curve 181 (Circle)\n",
      "Info    : [ 50%] Meshing curve 182 (Line)\n",
      "Info    : [ 50%] Meshing curve 183 (Circle)\n",
      "Info    : [ 50%] Meshing curve 184 (Circle)\n",
      "Info    : [ 50%] Meshing curve 185 (Circle)\n",
      "Info    : [ 50%] Meshing curve 186 (Circle)\n",
      "Info    : [ 50%] Meshing curve 187 (Circle)\n",
      "Info    : [ 50%] Meshing curve 188 (Line)\n",
      "Info    : [ 50%] Meshing curve 189 (Circle)\n",
      "Info    : [ 50%] Meshing curve 190 (Line)\n",
      "Info    : [ 50%] Meshing curve 191 (Circle)\n",
      "Info    : [ 50%] Meshing curve 192 (Circle)\n",
      "Info    : [ 50%] Meshing curve 193 (Circle)\n",
      "Info    : [ 50%] Meshing curve 194 (Circle)\n",
      "Info    : [ 50%] Meshing curve 195 (Circle)\n",
      "Info    : [ 50%] Meshing curve 196 (Circle)\n",
      "Info    : [ 50%] Meshing curve 198 (Circle)\n",
      "Info    : [ 50%] Meshing curve 199 (Line)\n",
      "Info    : [ 50%] Meshing curve 200 (Circle)\n",
      "Info    : [ 50%] Meshing curve 201 (Line)\n",
      "Info    : [ 50%] Meshing curve 202 (Circle)\n",
      "Info    : [ 60%] Meshing curve 203 (Circle)\n",
      "Info    : [ 60%] Meshing curve 204 (Circle)\n",
      "Info    : [ 60%] Meshing curve 205 (Circle)\n",
      "Info    : [ 60%] Meshing curve 206 (Circle)\n",
      "Info    : [ 60%] Meshing curve 207 (Circle)\n",
      "Info    : [ 60%] Meshing curve 208 (Circle)\n",
      "Info    : [ 60%] Meshing curve 211 (Circle)\n",
      "Info    : [ 60%] Meshing curve 214 (Circle)\n",
      "Info    : [ 60%] Meshing curve 217 (Circle)\n",
      "Info    : [ 60%] Meshing curve 219 (Circle)\n",
      "Info    : [ 60%] Meshing curve 222 (Circle)\n",
      "Info    : [ 70%] Meshing curve 224 (Circle)\n",
      "Info    : [ 70%] Meshing curve 225 (Circle)\n",
      "Info    : [ 70%] Meshing curve 226 (Circle)\n",
      "Info    : [ 70%] Meshing curve 227 (Circle)\n",
      "Info    : [ 70%] Meshing curve 228 (Circle)\n",
      "Info    : [ 70%] Meshing curve 229 (Circle)\n",
      "Info    : [ 70%] Meshing curve 230 (Circle)\n",
      "Info    : [ 70%] Meshing curve 231 (Circle)\n",
      "Info    : [ 70%] Meshing curve 232 (Circle)\n",
      "Info    : [ 70%] Meshing curve 233 (Circle)\n",
      "Info    : [ 70%] Meshing curve 234 (Circle)\n",
      "Info    : [ 70%] Meshing curve 235 (Circle)\n",
      "Info    : [ 70%] Meshing curve 236 (Circle)\n",
      "Info    : [ 70%] Meshing curve 237 (Circle)\n",
      "Info    : [ 70%] Meshing curve 238 (Circle)\n",
      "Info    : [ 70%] Meshing curve 239 (Circle)\n",
      "Info    : [ 70%] Meshing curve 240 (Circle)\n",
      "Info    : [ 70%] Meshing curve 242 (Circle)\n",
      "Info    : [ 70%] Meshing curve 244 (Circle)\n",
      "Info    : [ 80%] Meshing curve 246 (Circle)\n",
      "Info    : [ 80%] Meshing curve 248 (Circle)\n",
      "Info    : [ 80%] Meshing curve 250 (Circle)\n",
      "Info    : [ 80%] Meshing curve 252 (Circle)\n",
      "Info    : [ 80%] Meshing curve 253 (Circle)\n",
      "Info    : [ 80%] Meshing curve 256 (Circle)\n",
      "Info    : [ 80%] Meshing curve 259 (Circle)\n",
      "Info    : [ 80%] Meshing curve 262 (Circle)\n",
      "Info    : [ 80%] Meshing curve 264 (Circle)\n",
      "Info    : [ 90%] Meshing curve 266 (Circle)\n",
      "Info    : [ 90%] Meshing curve 268 (Circle)\n",
      "Info    : [ 90%] Meshing curve 270 (Circle)\n",
      "Info    : [ 90%] Meshing curve 272 (Circle)\n",
      "Info    : [ 90%] Meshing curve 274 (Circle)\n",
      "Info    : [ 90%] Meshing curve 275 (Circle)\n",
      "Info    : [ 90%] Meshing curve 278 (Circle)\n",
      "Info    : [ 90%] Meshing curve 281 (Circle)\n",
      "Info    : [ 90%] Meshing curve 284 (Circle)\n",
      "Info    : [100%] Meshing curve 287 (Circle)\n",
      "Info    : [100%] Meshing curve 290 (Circle)\n",
      "Info    : [100%] Meshing curve 293 (Circle)\n",
      "Info    : [100%] Meshing curve 294 (Circle)\n",
      "Info    : [100%] Meshing curve 297 (Circle)\n",
      "Info    : [100%] Meshing curve 298 (Circle)\n",
      "Info    : [100%] Meshing curve 301 (Circle)\n",
      "Info    : [100%] Meshing curve 302 (Circle)\n",
      "Info    : [100%] Meshing curve 306 (Circle)\n",
      "Info    : Done meshing 1D (Wall 0.223882s, CPU 0.244741s)\n",
      "Info    : Meshing 2D...\n",
      "Info    : [  0%] Meshing surface 9 (Sphere, Frontal-Delaunay)\n",
      "Info    : [ 10%] Meshing surface 10 (Sphere, Frontal-Delaunay)\n",
      "Info    : [ 10%] Meshing surface 13 (Sphere, Frontal-Delaunay)\n"
     ]
    }
   ],
   "source": [
    "gmsh.model.occ.synchronize()\n",
    "gmsh.model.mesh.generate(3)"
   ]
  },
  {
   "cell_type": "code",
   "execution_count": null,
   "metadata": {},
   "outputs": [
    {
     "name": "stdout",
     "output_type": "stream",
     "text": [
      "Info    : Writing 'mesh3D.msh'...\n",
      "Info    : Done writing 'mesh3D.msh'\n"
     ]
    }
   ],
   "source": [
    "gmsh.write(\"mesh3D.msh\")"
   ]
  },
  {
   "cell_type": "code",
   "execution_count": null,
   "metadata": {},
   "outputs": [],
   "source": [
    "def create_mesh(mesh, cell_type, prune_z=False):\n",
    "    cells = mesh.get_cells_type(cell_type)\n",
    "    cell_data = mesh.get_cell_data(\"gmsh:physical\", cell_type)\n",
    "    points = mesh.points[:,:2] if prune_z else mesh.points\n",
    "    out_mesh = meshio.Mesh(points=points, cells={cell_type: cells}, cell_data={\"name_to_read\":[cell_data]})\n",
    "    return out_mesh"
   ]
  },
  {
   "cell_type": "code",
   "execution_count": null,
   "metadata": {},
   "outputs": [],
   "source": [
    "mesh_3d = meshio.read(\"mesh3D.msh\")\n",
    "tetrahedral_mesh = create_mesh(mesh_3d, \"tetra\")\n",
    "meshio.write(\"mesh/1_0_1/mesh_tetr.xdmf\", tetrahedral_mesh)"
   ]
  },
  {
   "cell_type": "code",
   "execution_count": null,
   "metadata": {},
   "outputs": [
    {
     "name": "stdout",
     "output_type": "stream",
     "text": [
      "done loading tetrahedral mesh\n",
      "done loading tetrahedral mesh\n",
      "setting problem..\n",
      "setting problem..\n",
      "solving problem..\n",
      "solving problem..\n",
      "--------------------------------------------------------------------------\n",
      "Primary job  terminated normally, but 1 process returned\n",
      "a non-zero exit code. Per user-direction, the job has been aborted.\n",
      "--------------------------------------------------------------------------\n",
      "--------------------------------------------------------------------------\n",
      "mpirun noticed that process rank 0 with PID 0 on node leshinka-ThinkPad-T15-Gen-2i exited on signal 9 (Killed).\n",
      "--------------------------------------------------------------------------\n"
     ]
    }
   ],
   "source": [
    "cmd_3d = 'mpirun -n 2 python3 ion_transport.py --working_dir=/home/leshinka/dev/ssb/ --grid_info=1_0_1 --file_shape=1_1'\n",
    "!{cmd_3d}"
   ]
  }
 ],
 "metadata": {
  "interpreter": {
   "hash": "916dbcbb3f70747c44a77c7bcd40155683ae19c65e1c03b4aa3499c5328201f1"
  },
  "kernelspec": {
   "display_name": "Python 3.8.10 64-bit",
   "language": "python",
   "name": "python3"
  },
  "language_info": {
   "codemirror_mode": {
    "name": "ipython",
    "version": 3
   },
   "file_extension": ".py",
   "mimetype": "text/x-python",
   "name": "python",
   "nbconvert_exporter": "python",
   "pygments_lexer": "ipython3",
   "version": "3.8.10"
  },
  "orig_nbformat": 4
 },
 "nbformat": 4,
 "nbformat_minor": 2
}
