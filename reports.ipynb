{
 "cells": [
  {
   "cell_type": "code",
   "execution_count": 1,
   "id": "2fbbb34b",
   "metadata": {},
   "outputs": [],
   "source": [
    "import csv\n",
    "import os\n",
    "import timeit\n",
    "\n",
    "import argparse\n",
    "import h5py\n",
    "import logging\n",
    "import matplotlib.pyplot as plt\n",
    "import numpy as np\n",
    "import pandas as pd\n",
    "import ufl\n",
    "\n",
    "from dolfinx import cpp, fem, io, mesh\n",
    "from mpi4py import MPI\n",
    "from petsc4py import PETSc\n",
    "from scipy import interpolate\n",
    "\n",
    "import commons, configs, constants\n",
    "\n",
    "markers = commons.SurfaceMarkers()"
   ]
  },
  {
   "cell_type": "code",
   "execution_count": 2,
   "id": "8654a940",
   "metadata": {},
   "outputs": [],
   "source": [
    "Lz = 5\n",
    "areas = {\n",
    "    1: 100,\n",
    "    6: 98.41,\n",
    "    11: 36.38,\n",
    "    16: 6.30,\n",
    "    22: 0.45,\n",
    "}\n",
    "data_dir = f\"mesh/study_2/test6/470-470-{Lz}_000-000-000/\""
   ]
  },
  {
   "cell_type": "markdown",
   "id": "e64dbca7",
   "metadata": {},
   "source": [
    "## Left Boundary"
   ]
  },
  {
   "cell_type": "code",
   "execution_count": 3,
   "id": "2b5fab64",
   "metadata": {},
   "outputs": [
    {
     "ename": "FileNotFoundError",
     "evalue": "[Errno 2] No such file or directory: 'mesh/study_2/test6/470-470-1_000-000-000/cdf.csv'",
     "output_type": "error",
     "traceback": [
      "\u001b[0;31m---------------------------------------------------------------------------\u001b[0m",
      "\u001b[0;31mFileNotFoundError\u001b[0m                         Traceback (most recent call last)",
      "Cell \u001b[0;32mIn[3], line 12\u001b[0m\n\u001b[1;32m     10\u001b[0m \u001b[38;5;28;01mfor\u001b[39;00m img_id \u001b[38;5;129;01min\u001b[39;00m [\u001b[38;5;241m6\u001b[39m, \u001b[38;5;241m11\u001b[39m, \u001b[38;5;241m16\u001b[39m, \u001b[38;5;241m22\u001b[39m]:\n\u001b[1;32m     11\u001b[0m     data_path \u001b[38;5;241m=\u001b[39m os\u001b[38;5;241m.\u001b[39mpath\u001b[38;5;241m.\u001b[39mjoin(\u001b[38;5;124mf\u001b[39m\u001b[38;5;124m\"\u001b[39m\u001b[38;5;124mmesh/study_2/test\u001b[39m\u001b[38;5;132;01m{\u001b[39;00mimg_id\u001b[38;5;132;01m}\u001b[39;00m\u001b[38;5;124m/470-470-\u001b[39m\u001b[38;5;132;01m{\u001b[39;00mLz\u001b[38;5;132;01m}\u001b[39;00m\u001b[38;5;124m_000-000-000/\u001b[39m\u001b[38;5;124m\"\u001b[39m, \u001b[38;5;124m\"\u001b[39m\u001b[38;5;124mcdf.csv\u001b[39m\u001b[38;5;124m\"\u001b[39m)\n\u001b[0;32m---> 12\u001b[0m     df \u001b[38;5;241m=\u001b[39m \u001b[43mpd\u001b[49m\u001b[38;5;241;43m.\u001b[39;49m\u001b[43mread_csv\u001b[49m\u001b[43m(\u001b[49m\u001b[43mdata_path\u001b[49m\u001b[43m)\u001b[49m\n\u001b[1;32m     13\u001b[0m     ax\u001b[38;5;241m.\u001b[39mplot(np\u001b[38;5;241m.\u001b[39mabs(df[\u001b[38;5;124m'\u001b[39m\u001b[38;5;124mi [A/m2]\u001b[39m\u001b[38;5;124m'\u001b[39m]), df[\u001b[38;5;124m'\u001b[39m\u001b[38;5;124mp_left\u001b[39m\u001b[38;5;124m'\u001b[39m], label\u001b[38;5;241m=\u001b[39m\u001b[38;5;124mf\u001b[39m\u001b[38;5;124m'\u001b[39m\u001b[38;5;132;01m{\u001b[39;00mareas[img_id]\u001b[38;5;132;01m}\u001b[39;00m\u001b[38;5;124m %\u001b[39m\u001b[38;5;124m'\u001b[39m, linewidth\u001b[38;5;241m=\u001b[39m\u001b[38;5;241m1\u001b[39m)\n\u001b[1;32m     15\u001b[0m ax\u001b[38;5;241m.\u001b[39mset_xlabel(\u001b[38;5;124m'\u001b[39m\u001b[38;5;124m$i$ $[Am^\u001b[39m\u001b[38;5;124m{\u001b[39m\u001b[38;5;124m-2}]$\u001b[39m\u001b[38;5;124m'\u001b[39m, fontdict\u001b[38;5;241m=\u001b[39m{\u001b[38;5;124m'\u001b[39m\u001b[38;5;124mfontsize\u001b[39m\u001b[38;5;124m'\u001b[39m: \u001b[38;5;124m'\u001b[39m\u001b[38;5;124mxx-large\u001b[39m\u001b[38;5;124m'\u001b[39m})\n",
      "File \u001b[0;32m~/.conda/envs/fea-env/lib/python3.11/site-packages/pandas/io/parsers/readers.py:948\u001b[0m, in \u001b[0;36mread_csv\u001b[0;34m(filepath_or_buffer, sep, delimiter, header, names, index_col, usecols, dtype, engine, converters, true_values, false_values, skipinitialspace, skiprows, skipfooter, nrows, na_values, keep_default_na, na_filter, verbose, skip_blank_lines, parse_dates, infer_datetime_format, keep_date_col, date_parser, date_format, dayfirst, cache_dates, iterator, chunksize, compression, thousands, decimal, lineterminator, quotechar, quoting, doublequote, escapechar, comment, encoding, encoding_errors, dialect, on_bad_lines, delim_whitespace, low_memory, memory_map, float_precision, storage_options, dtype_backend)\u001b[0m\n\u001b[1;32m    935\u001b[0m kwds_defaults \u001b[38;5;241m=\u001b[39m _refine_defaults_read(\n\u001b[1;32m    936\u001b[0m     dialect,\n\u001b[1;32m    937\u001b[0m     delimiter,\n\u001b[0;32m   (...)\u001b[0m\n\u001b[1;32m    944\u001b[0m     dtype_backend\u001b[38;5;241m=\u001b[39mdtype_backend,\n\u001b[1;32m    945\u001b[0m )\n\u001b[1;32m    946\u001b[0m kwds\u001b[38;5;241m.\u001b[39mupdate(kwds_defaults)\n\u001b[0;32m--> 948\u001b[0m \u001b[38;5;28;01mreturn\u001b[39;00m \u001b[43m_read\u001b[49m\u001b[43m(\u001b[49m\u001b[43mfilepath_or_buffer\u001b[49m\u001b[43m,\u001b[49m\u001b[43m \u001b[49m\u001b[43mkwds\u001b[49m\u001b[43m)\u001b[49m\n",
      "File \u001b[0;32m~/.conda/envs/fea-env/lib/python3.11/site-packages/pandas/io/parsers/readers.py:611\u001b[0m, in \u001b[0;36m_read\u001b[0;34m(filepath_or_buffer, kwds)\u001b[0m\n\u001b[1;32m    608\u001b[0m _validate_names(kwds\u001b[38;5;241m.\u001b[39mget(\u001b[38;5;124m\"\u001b[39m\u001b[38;5;124mnames\u001b[39m\u001b[38;5;124m\"\u001b[39m, \u001b[38;5;28;01mNone\u001b[39;00m))\n\u001b[1;32m    610\u001b[0m \u001b[38;5;66;03m# Create the parser.\u001b[39;00m\n\u001b[0;32m--> 611\u001b[0m parser \u001b[38;5;241m=\u001b[39m \u001b[43mTextFileReader\u001b[49m\u001b[43m(\u001b[49m\u001b[43mfilepath_or_buffer\u001b[49m\u001b[43m,\u001b[49m\u001b[43m \u001b[49m\u001b[38;5;241;43m*\u001b[39;49m\u001b[38;5;241;43m*\u001b[39;49m\u001b[43mkwds\u001b[49m\u001b[43m)\u001b[49m\n\u001b[1;32m    613\u001b[0m \u001b[38;5;28;01mif\u001b[39;00m chunksize \u001b[38;5;129;01mor\u001b[39;00m iterator:\n\u001b[1;32m    614\u001b[0m     \u001b[38;5;28;01mreturn\u001b[39;00m parser\n",
      "File \u001b[0;32m~/.conda/envs/fea-env/lib/python3.11/site-packages/pandas/io/parsers/readers.py:1448\u001b[0m, in \u001b[0;36mTextFileReader.__init__\u001b[0;34m(self, f, engine, **kwds)\u001b[0m\n\u001b[1;32m   1445\u001b[0m     \u001b[38;5;28mself\u001b[39m\u001b[38;5;241m.\u001b[39moptions[\u001b[38;5;124m\"\u001b[39m\u001b[38;5;124mhas_index_names\u001b[39m\u001b[38;5;124m\"\u001b[39m] \u001b[38;5;241m=\u001b[39m kwds[\u001b[38;5;124m\"\u001b[39m\u001b[38;5;124mhas_index_names\u001b[39m\u001b[38;5;124m\"\u001b[39m]\n\u001b[1;32m   1447\u001b[0m \u001b[38;5;28mself\u001b[39m\u001b[38;5;241m.\u001b[39mhandles: IOHandles \u001b[38;5;241m|\u001b[39m \u001b[38;5;28;01mNone\u001b[39;00m \u001b[38;5;241m=\u001b[39m \u001b[38;5;28;01mNone\u001b[39;00m\n\u001b[0;32m-> 1448\u001b[0m \u001b[38;5;28mself\u001b[39m\u001b[38;5;241m.\u001b[39m_engine \u001b[38;5;241m=\u001b[39m \u001b[38;5;28;43mself\u001b[39;49m\u001b[38;5;241;43m.\u001b[39;49m\u001b[43m_make_engine\u001b[49m\u001b[43m(\u001b[49m\u001b[43mf\u001b[49m\u001b[43m,\u001b[49m\u001b[43m \u001b[49m\u001b[38;5;28;43mself\u001b[39;49m\u001b[38;5;241;43m.\u001b[39;49m\u001b[43mengine\u001b[49m\u001b[43m)\u001b[49m\n",
      "File \u001b[0;32m~/.conda/envs/fea-env/lib/python3.11/site-packages/pandas/io/parsers/readers.py:1705\u001b[0m, in \u001b[0;36mTextFileReader._make_engine\u001b[0;34m(self, f, engine)\u001b[0m\n\u001b[1;32m   1703\u001b[0m     \u001b[38;5;28;01mif\u001b[39;00m \u001b[38;5;124m\"\u001b[39m\u001b[38;5;124mb\u001b[39m\u001b[38;5;124m\"\u001b[39m \u001b[38;5;129;01mnot\u001b[39;00m \u001b[38;5;129;01min\u001b[39;00m mode:\n\u001b[1;32m   1704\u001b[0m         mode \u001b[38;5;241m+\u001b[39m\u001b[38;5;241m=\u001b[39m \u001b[38;5;124m\"\u001b[39m\u001b[38;5;124mb\u001b[39m\u001b[38;5;124m\"\u001b[39m\n\u001b[0;32m-> 1705\u001b[0m \u001b[38;5;28mself\u001b[39m\u001b[38;5;241m.\u001b[39mhandles \u001b[38;5;241m=\u001b[39m \u001b[43mget_handle\u001b[49m\u001b[43m(\u001b[49m\n\u001b[1;32m   1706\u001b[0m \u001b[43m    \u001b[49m\u001b[43mf\u001b[49m\u001b[43m,\u001b[49m\n\u001b[1;32m   1707\u001b[0m \u001b[43m    \u001b[49m\u001b[43mmode\u001b[49m\u001b[43m,\u001b[49m\n\u001b[1;32m   1708\u001b[0m \u001b[43m    \u001b[49m\u001b[43mencoding\u001b[49m\u001b[38;5;241;43m=\u001b[39;49m\u001b[38;5;28;43mself\u001b[39;49m\u001b[38;5;241;43m.\u001b[39;49m\u001b[43moptions\u001b[49m\u001b[38;5;241;43m.\u001b[39;49m\u001b[43mget\u001b[49m\u001b[43m(\u001b[49m\u001b[38;5;124;43m\"\u001b[39;49m\u001b[38;5;124;43mencoding\u001b[39;49m\u001b[38;5;124;43m\"\u001b[39;49m\u001b[43m,\u001b[49m\u001b[43m \u001b[49m\u001b[38;5;28;43;01mNone\u001b[39;49;00m\u001b[43m)\u001b[49m\u001b[43m,\u001b[49m\n\u001b[1;32m   1709\u001b[0m \u001b[43m    \u001b[49m\u001b[43mcompression\u001b[49m\u001b[38;5;241;43m=\u001b[39;49m\u001b[38;5;28;43mself\u001b[39;49m\u001b[38;5;241;43m.\u001b[39;49m\u001b[43moptions\u001b[49m\u001b[38;5;241;43m.\u001b[39;49m\u001b[43mget\u001b[49m\u001b[43m(\u001b[49m\u001b[38;5;124;43m\"\u001b[39;49m\u001b[38;5;124;43mcompression\u001b[39;49m\u001b[38;5;124;43m\"\u001b[39;49m\u001b[43m,\u001b[49m\u001b[43m \u001b[49m\u001b[38;5;28;43;01mNone\u001b[39;49;00m\u001b[43m)\u001b[49m\u001b[43m,\u001b[49m\n\u001b[1;32m   1710\u001b[0m \u001b[43m    \u001b[49m\u001b[43mmemory_map\u001b[49m\u001b[38;5;241;43m=\u001b[39;49m\u001b[38;5;28;43mself\u001b[39;49m\u001b[38;5;241;43m.\u001b[39;49m\u001b[43moptions\u001b[49m\u001b[38;5;241;43m.\u001b[39;49m\u001b[43mget\u001b[49m\u001b[43m(\u001b[49m\u001b[38;5;124;43m\"\u001b[39;49m\u001b[38;5;124;43mmemory_map\u001b[39;49m\u001b[38;5;124;43m\"\u001b[39;49m\u001b[43m,\u001b[49m\u001b[43m \u001b[49m\u001b[38;5;28;43;01mFalse\u001b[39;49;00m\u001b[43m)\u001b[49m\u001b[43m,\u001b[49m\n\u001b[1;32m   1711\u001b[0m \u001b[43m    \u001b[49m\u001b[43mis_text\u001b[49m\u001b[38;5;241;43m=\u001b[39;49m\u001b[43mis_text\u001b[49m\u001b[43m,\u001b[49m\n\u001b[1;32m   1712\u001b[0m \u001b[43m    \u001b[49m\u001b[43merrors\u001b[49m\u001b[38;5;241;43m=\u001b[39;49m\u001b[38;5;28;43mself\u001b[39;49m\u001b[38;5;241;43m.\u001b[39;49m\u001b[43moptions\u001b[49m\u001b[38;5;241;43m.\u001b[39;49m\u001b[43mget\u001b[49m\u001b[43m(\u001b[49m\u001b[38;5;124;43m\"\u001b[39;49m\u001b[38;5;124;43mencoding_errors\u001b[39;49m\u001b[38;5;124;43m\"\u001b[39;49m\u001b[43m,\u001b[49m\u001b[43m \u001b[49m\u001b[38;5;124;43m\"\u001b[39;49m\u001b[38;5;124;43mstrict\u001b[39;49m\u001b[38;5;124;43m\"\u001b[39;49m\u001b[43m)\u001b[49m\u001b[43m,\u001b[49m\n\u001b[1;32m   1713\u001b[0m \u001b[43m    \u001b[49m\u001b[43mstorage_options\u001b[49m\u001b[38;5;241;43m=\u001b[39;49m\u001b[38;5;28;43mself\u001b[39;49m\u001b[38;5;241;43m.\u001b[39;49m\u001b[43moptions\u001b[49m\u001b[38;5;241;43m.\u001b[39;49m\u001b[43mget\u001b[49m\u001b[43m(\u001b[49m\u001b[38;5;124;43m\"\u001b[39;49m\u001b[38;5;124;43mstorage_options\u001b[39;49m\u001b[38;5;124;43m\"\u001b[39;49m\u001b[43m,\u001b[49m\u001b[43m \u001b[49m\u001b[38;5;28;43;01mNone\u001b[39;49;00m\u001b[43m)\u001b[49m\u001b[43m,\u001b[49m\n\u001b[1;32m   1714\u001b[0m \u001b[43m\u001b[49m\u001b[43m)\u001b[49m\n\u001b[1;32m   1715\u001b[0m \u001b[38;5;28;01massert\u001b[39;00m \u001b[38;5;28mself\u001b[39m\u001b[38;5;241m.\u001b[39mhandles \u001b[38;5;129;01mis\u001b[39;00m \u001b[38;5;129;01mnot\u001b[39;00m \u001b[38;5;28;01mNone\u001b[39;00m\n\u001b[1;32m   1716\u001b[0m f \u001b[38;5;241m=\u001b[39m \u001b[38;5;28mself\u001b[39m\u001b[38;5;241m.\u001b[39mhandles\u001b[38;5;241m.\u001b[39mhandle\n",
      "File \u001b[0;32m~/.conda/envs/fea-env/lib/python3.11/site-packages/pandas/io/common.py:863\u001b[0m, in \u001b[0;36mget_handle\u001b[0;34m(path_or_buf, mode, encoding, compression, memory_map, is_text, errors, storage_options)\u001b[0m\n\u001b[1;32m    858\u001b[0m \u001b[38;5;28;01melif\u001b[39;00m \u001b[38;5;28misinstance\u001b[39m(handle, \u001b[38;5;28mstr\u001b[39m):\n\u001b[1;32m    859\u001b[0m     \u001b[38;5;66;03m# Check whether the filename is to be opened in binary mode.\u001b[39;00m\n\u001b[1;32m    860\u001b[0m     \u001b[38;5;66;03m# Binary mode does not support 'encoding' and 'newline'.\u001b[39;00m\n\u001b[1;32m    861\u001b[0m     \u001b[38;5;28;01mif\u001b[39;00m ioargs\u001b[38;5;241m.\u001b[39mencoding \u001b[38;5;129;01mand\u001b[39;00m \u001b[38;5;124m\"\u001b[39m\u001b[38;5;124mb\u001b[39m\u001b[38;5;124m\"\u001b[39m \u001b[38;5;129;01mnot\u001b[39;00m \u001b[38;5;129;01min\u001b[39;00m ioargs\u001b[38;5;241m.\u001b[39mmode:\n\u001b[1;32m    862\u001b[0m         \u001b[38;5;66;03m# Encoding\u001b[39;00m\n\u001b[0;32m--> 863\u001b[0m         handle \u001b[38;5;241m=\u001b[39m \u001b[38;5;28;43mopen\u001b[39;49m\u001b[43m(\u001b[49m\n\u001b[1;32m    864\u001b[0m \u001b[43m            \u001b[49m\u001b[43mhandle\u001b[49m\u001b[43m,\u001b[49m\n\u001b[1;32m    865\u001b[0m \u001b[43m            \u001b[49m\u001b[43mioargs\u001b[49m\u001b[38;5;241;43m.\u001b[39;49m\u001b[43mmode\u001b[49m\u001b[43m,\u001b[49m\n\u001b[1;32m    866\u001b[0m \u001b[43m            \u001b[49m\u001b[43mencoding\u001b[49m\u001b[38;5;241;43m=\u001b[39;49m\u001b[43mioargs\u001b[49m\u001b[38;5;241;43m.\u001b[39;49m\u001b[43mencoding\u001b[49m\u001b[43m,\u001b[49m\n\u001b[1;32m    867\u001b[0m \u001b[43m            \u001b[49m\u001b[43merrors\u001b[49m\u001b[38;5;241;43m=\u001b[39;49m\u001b[43merrors\u001b[49m\u001b[43m,\u001b[49m\n\u001b[1;32m    868\u001b[0m \u001b[43m            \u001b[49m\u001b[43mnewline\u001b[49m\u001b[38;5;241;43m=\u001b[39;49m\u001b[38;5;124;43m\"\u001b[39;49m\u001b[38;5;124;43m\"\u001b[39;49m\u001b[43m,\u001b[49m\n\u001b[1;32m    869\u001b[0m \u001b[43m        \u001b[49m\u001b[43m)\u001b[49m\n\u001b[1;32m    870\u001b[0m     \u001b[38;5;28;01melse\u001b[39;00m:\n\u001b[1;32m    871\u001b[0m         \u001b[38;5;66;03m# Binary mode\u001b[39;00m\n\u001b[1;32m    872\u001b[0m         handle \u001b[38;5;241m=\u001b[39m \u001b[38;5;28mopen\u001b[39m(handle, ioargs\u001b[38;5;241m.\u001b[39mmode)\n",
      "\u001b[0;31mFileNotFoundError\u001b[0m: [Errno 2] No such file or directory: 'mesh/study_2/test6/470-470-1_000-000-000/cdf.csv'"
     ]
    },
    {
     "data": {
      "image/png": "[encoded data removed]",
      "text/plain": [
       "<Figure size 640x480 with 1 Axes>"
      ]
     },
     "metadata": {},
     "output_type": "display_data"
    }
   ],
   "source": [
    "limits = {\n",
    "    1: [58.8, 59],\n",
    "    5: [11, 15],\n",
    "    50: [0, 15],\n",
    "    100: [0, 10],\n",
    "    200: [0, 25],\n",
    "}\n",
    "for Lz in [1, 5, 50, 100]:\n",
    "    fig, ax = plt.subplots()\n",
    "    for img_id in [6, 11, 16, 22]:\n",
    "        data_path = os.path.join(f\"mesh/study_2/test{img_id}/470-470-{Lz}_000-000-000/\", \"cdf.csv\")\n",
    "        df = pd.read_csv(data_path)\n",
    "        ax.plot(np.abs(df['i [A/m2]']), df['p_left'], label=f'{areas[img_id]} %', linewidth=1)\n",
    "    \n",
    "    ax.set_xlabel('$i$ $[Am^{-2}]$', fontdict={'fontsize': 'xx-large'})\n",
    "    ax.set_ylabel('active area', fontdict={'fontsize': 'xx-large'})\n",
    "    ax.set_title(f'$L_z$ = {800/470 * Lz:.1f} $\\mu$m')\n",
    "    ax.set_box_aspect(1)\n",
    "    ax.set_ylim([0, 1])\n",
    "    ax.set_xlim(limits[Lz])\n",
    "    ax.legend()\n",
    "    plt.tight_layout()\n",
    "    plt.savefig(f'figures/study_2_cdf_{Lz}.png', dpi=1200)\n",
    "    plt.close()"
   ]
  },
  {
   "cell_type": "code",
   "execution_count": null,
   "id": "e852785a",
   "metadata": {},
   "outputs": [],
   "source": [
    "ll = 0\n",
    "ul = 75\n",
    "\n",
    "for img_id in [6, 11, 16, 22]:\n",
    "    fig, ax = plt.subplots()\n",
    "    for Lz in [1, 5, 50, 100]:\n",
    "        data_path = os.path.join(f\"mesh/study_2/test{img_id}/470-470-{Lz}_000-000-000/\", \"cdf.csv\")\n",
    "        df = pd.read_csv(data_path)\n",
    "        ax.plot(np.abs(df['i [A/m2]']), df['p_left'], label=f'{800/470*Lz:.1f} $\\mu$m')\n",
    "\n",
    "    ax.set_xlabel('$i$ $[Am^{-2}]$', fontdict={'fontsize': 'xx-large'})\n",
    "    ax.set_ylabel('active area', fontdict={'fontsize': 'xx-large'})\n",
    "    ax.set_title(r\"$\\frac{A}{A_0}$ = \" + f\"{areas[img_id]} %\")\n",
    "    ax.set_box_aspect(1)\n",
    "    ax.set_ylim([0, 1])\n",
    "    ax.set_xlim([ll, ul])\n",
    "    ax.legend(loc='upper center')\n",
    "    plt.tight_layout()\n",
    "    plt.savefig(f'figures/study_2_cdf-id{img_id}.png', dpi=1200)\n",
    "    plt.close()"
   ]
  },
  {
   "cell_type": "markdown",
   "id": "f271bc45",
   "metadata": {},
   "source": [
    "### Derivative of Current Density at Electrode/Solid Electrolyte Interface"
   ]
  },
  {
   "cell_type": "code",
   "execution_count": null,
   "id": "050fea59-754d-404a-a24e-ca1b59a7f588",
   "metadata": {},
   "outputs": [],
   "source": [
    "rho_li = 534  # [kg/m3]\n",
    "MW_li = 6.94e-3  # [kg/mol]\n",
    "E_shear = 2.83e9  # [N/m2]\n",
    "E_young = 7.82e9  # [N/m2]\n",
    "F_farad = 96485  # [C/mol]\n",
    "L0 = 1e-6  # initial lithium thickness [m]"
   ]
  },
  {
   "cell_type": "code",
   "execution_count": null,
   "id": "338e4fdb-e8d5-40b7-a6a4-d8d8fd077bb1",
   "metadata": {},
   "outputs": [],
   "source": [
    "limits = {\n",
    "    1: [-59, -58.8],\n",
    "    5: [-15, -11],\n",
    "    50: [-15, 0],\n",
    "    100: [-10, 0],\n",
    "    200: [0, 1e7],\n",
    "}\n",
    "Lz = 100\n",
    "fig, ax = plt.subplots()\n",
    "for img_id in [6, 11, 16, 22]:\n",
    "    data_path = os.path.join(f\"mesh/study_2/test{img_id}/470-470-{Lz}_000-000-000/\", \"cdf_grad_cd.csv\")\n",
    "    df = pd.read_csv(data_path)\n",
    "    ax.plot(df['i [A/m2]'], df['p_left'], label=f'{areas[img_id]} %', linewidth=1)\n",
    "\n",
    "ax.set_xlabel('derivative of $i$ $[Am^{-3}]$', fontdict={'fontsize': 'xx-large'})\n",
    "ax.set_ylabel('active area', fontdict={'fontsize': 'xx-large'})\n",
    "ax.set_title(f'$L_z$ = {800/470 * Lz:.1f} $\\mu$m')\n",
    "ax.set_box_aspect(1)\n",
    "ax.set_ylim([0, 1])\n",
    "ax.set_xlim([0, 1e7])\n",
    "ax.minorticks_on();\n",
    "ax.legend()\n",
    "plt.tight_layout()\n",
    "plt.savefig(f'figures/study_2_grad_cd_cdf_{Lz}.png', dpi=1200)"
   ]
  },
  {
   "cell_type": "code",
   "execution_count": null,
   "id": "390107af-4d67-4e30-b60f-72a030443081",
   "metadata": {},
   "outputs": [],
   "source": [
    "limits = {\n",
    "    1: [-59, -58.8],\n",
    "    5: [-15, -11],\n",
    "    50: [-15, 0],\n",
    "    100: [-10, 0],\n",
    "    200: [0, 1e7],\n",
    "}\n",
    "Lz = 100\n",
    "fig, ax = plt.subplots()\n",
    "for img_id in [6, 11, 16, 22]:\n",
    "    data_path = os.path.join(f\"mesh/study_2/test{img_id}/470-470-{Lz}_000-000-000/\", \"cdf_grad_cd.csv\")\n",
    "    df = pd.read_csv(data_path)\n",
    "    ax.plot(df['i [A/m2]'] * (MW_li) / (F_farad * rho_li * L0), df['p_left'], label=f'{areas[img_id]} %', linewidth=1)\n",
    "\n",
    "ax.set_xlabel(' $\\dot{\\epsilon}$ [$s^{-1}$]', fontdict={'fontsize': 'xx-large'})\n",
    "ax.set_ylabel('active area', fontdict={'fontsize': 'xx-large'})\n",
    "ax.set_title(f'Strain Rate: $L_0$ = {L0 * 1e6:.0f} $\\mu$m')\n",
    "ax.set_box_aspect(1)\n",
    "ax.set_ylim([0, 1])\n",
    "# ax.set_xlim([0, 1e7])\n",
    "ax.minorticks_on();\n",
    "ax.legend()\n",
    "plt.tight_layout()\n",
    "plt.savefig(f'figures/study_2_strain_rate_{Lz}.png', dpi=1200)"
   ]
  },
  {
   "cell_type": "code",
   "execution_count": null,
   "id": "d1b51a3d-4faa-4eaf-ad1d-fb84243fd22c",
   "metadata": {},
   "outputs": [],
   "source": [
    "ul = 0\n",
    "ll = -75\n",
    "img_id = 22\n",
    "\n",
    "fig, ax = plt.subplots()\n",
    "for Lz in [1, 5, 50, 100, 200]:\n",
    "    data_path = os.path.join(f\"mesh/study_2/test{img_id}/470-470-{Lz}_000-000-000/\", \"cdf_grad_cd.csv\")\n",
    "    df = pd.read_csv(data_path)\n",
    "    ax.plot(df['i [A/m2]'], df['p_left'], label=f'{800/470*Lz:.1f} $\\mu$m')\n",
    "\n",
    "ax.set_xlabel('$i$ $[Am^{-2}]$', fontdict={'fontsize': 'xx-large'})\n",
    "ax.set_ylabel('active area', fontdict={'fontsize': 'xx-large'})\n",
    "ax.set_title(r\"$\\frac{A}{A_0}$ = \" + f\"{areas[img_id]} %\")\n",
    "ax.set_box_aspect(1)\n",
    "ax.set_ylim([0, 1])\n",
    "# ax.set_xlim([ll, ul])\n",
    "ax.legend(loc='upper center')\n",
    "ax.minorticks_on();\n",
    "plt.tight_layout()\n",
    "plt.savefig(f'figures/study_2_grad_cd_cdf-id{img_id}.png', dpi=1200)"
   ]
  },
  {
   "cell_type": "markdown",
   "id": "d81185a4",
   "metadata": {},
   "source": [
    "## Right Boundary"
   ]
  },
  {
   "cell_type": "code",
   "execution_count": null,
   "id": "21a9e078",
   "metadata": {},
   "outputs": [],
   "source": [
    "limits = {\n",
    "    1: [40, 65],\n",
    "    5: [0, 15],\n",
    "    50: [0, 1.5],\n",
    "    100: [0, 1.0],\n",
    "    200: [0, 1.0],\n",
    "}\n",
    "for Lz in [1, 5, 50, 100]:\n",
    "    fig, ax = plt.subplots()\n",
    "    for img_id in [6, 11, 16, 22]:\n",
    "        data_path = os.path.join(f\"mesh/study_2/test{img_id}/470-470-{Lz}_000-000-000/\", \"cdf.csv\")\n",
    "        df = pd.read_csv(data_path)\n",
    "        ax.plot(df['i [A/m2]'], df['p_right'], label=f'{areas[img_id]} %', linewidth=1)\n",
    "    \n",
    "    ax.set_xlabel(r'$i$ $[Am^{-2}]$', fontdict={'fontsize': 'xx-large'})\n",
    "    ax.set_ylabel('active area', fontdict={'fontsize': 'xx-large'})\n",
    "    ax.set_title(f'$L_z$ = {800/470 * Lz:.1f} $\\mu$m')\n",
    "    ax.set_box_aspect(1)\n",
    "    ax.set_ylim([0, 1])\n",
    "    ax.set_xlim(limits[Lz])\n",
    "    ax.legend()\n",
    "    plt.tight_layout()\n",
    "    plt.savefig(f'figures/study_2_cdf_{Lz}r.png', dpi=1200)\n",
    "    plt.close()"
   ]
  },
  {
   "cell_type": "code",
   "execution_count": null,
   "id": "d87e4954",
   "metadata": {},
   "outputs": [],
   "source": [
    "limits_id = {\n",
    "    6: [0, 20],\n",
    "    11: [0, 20],\n",
    "    16: [0, 10],\n",
    "    22: [0, 1.5],\n",
    "}\n",
    "\n",
    "for img_id in [6, 11, 16, 22]:\n",
    "    fig, ax = plt.subplots()\n",
    "    for Lz in [1, 5, 50, 100]:\n",
    "        data_path = os.path.join(f\"mesh/study_2/test{img_id}/470-470-{Lz}_000-000-000/\", \"cdf.csv\")\n",
    "        df = pd.read_csv(data_path)\n",
    "        ax.plot(df['i [A/m2]'], df['p_right'], label=f'{800/470*Lz:.1f} $\\mu$m')\n",
    "\n",
    "    ax.set_xlabel('$i [Am^{-2}]$', fontdict={'fontsize': 'xx-large'})\n",
    "    ax.set_ylabel('active area', fontdict={'fontsize': 'xx-large'})\n",
    "    ax.set_title(r\"$\\frac{A}{A_0}$ = \" + f\"{areas[img_id]} %\")\n",
    "    ax.set_box_aspect(1)\n",
    "    ax.set_ylim([0, 1])\n",
    "    ax.set_xlim(limits_id[img_id])\n",
    "    ax.legend(loc='upper center')\n",
    "    plt.tight_layout()\n",
    "    plt.savefig(f'figures/study_2_cdf-id{img_id}r.png', dpi=1200)\n",
    "    plt.close()"
   ]
  },
  {
   "cell_type": "code",
   "execution_count": null,
   "id": "b1832862",
   "metadata": {},
   "outputs": [],
   "source": [
    "fig, ax = plt.subplots()\n",
    "img = plt.imread('/home/molel/OneDrive/PhD/Data/Current_constriction/test6.tif')\n",
    "ax.imshow(img[:, :, 0])\n",
    "ax.set_box_aspect(1)\n",
    "plt.tight_layout()\n",
    "plt.savefig('figures/test6.png', dpi=1200)"
   ]
  },
  {
   "cell_type": "markdown",
   "id": "5934bf85",
   "metadata": {},
   "source": [
    "## Contact Resistance"
   ]
  },
  {
   "cell_type": "code",
   "execution_count": 5,
   "id": "67a972bc",
   "metadata": {},
   "outputs": [],
   "source": [
    "A0 = 800e-6 ** 2  # m2\n",
    "kappa = 0.1  # S/m\n",
    "\n",
    "df = pd.read_excel('data/study_2_scaled.xlsx', sheet_name=['hi-res'])['hi-res']\n",
    "df['area_fraction'] = np.around(df['area_fraction'], 4)\n",
    "df['resistance [ohm]'] = (df['Lz [um]'] * 1e-6 / A0 / kappa) / df['effective_conductivity_ratio']\n",
    "lengths = [1.702128, 8.5106, 85.1064, 170.2128, 340.4256]"
   ]
  },
  {
   "cell_type": "code",
   "execution_count": 8,
   "id": "9722a929",
   "metadata": {},
   "outputs": [],
   "source": [
    "area_fractions = [0.0045, 0.0630, 0.3638, 1.0000]"
   ]
  },
  {
   "cell_type": "code",
   "execution_count": 9,
   "id": "db717653",
   "metadata": {},
   "outputs": [
    {
     "data": {
      "image/png": "[encoded data removed]",
      "text/plain": [
       "<Figure size 500x450 with 1 Axes>"
      ]
     },
     "metadata": {},
     "output_type": "display_data"
    }
   ],
   "source": [
    "fig, ax = plt.subplots(figsize=(5, 4.5))\n",
    "for af in area_fractions:\n",
    "    df2 = df.loc[np.isclose(df['area_fraction'], af), :]\n",
    "    ax.plot(df2['Lz [um]'], df2['resistance [ohm]'] * 0.64e-2, label=r\"$\\frac{A}{A_0}$\" + f\" = {100 * af:.2f}%\")\n",
    "ax.legend();\n",
    "ax.set_xlabel(f'$L_z$ [$\\mu$m]', fontdict={'fontsize': 'xx-large'});\n",
    "ax.set_ylabel(r'R [$\\Omega \\mathrm{cm}^2$]', fontdict={'fontsize': 'xx-large'});\n",
    "ax.minorticks_on();\n",
    "ax.set_box_aspect(1);\n",
    "plt.tight_layout();\n",
    "plt.savefig('figures/variable-length-comparison.png', dpi=1200)"
   ]
  },
  {
   "cell_type": "code",
   "execution_count": null,
   "id": "79825c04-c5c0-4643-b534-75fa3b9b9c60",
   "metadata": {},
   "outputs": [],
   "source": [
    "fig, ax = plt.subplots(figsize=(5, 4.5))\n",
    "for lt in lengths:\n",
    "    df2 = df.loc[np.isclose(df['Lz [um]'], lt), :]\n",
    "    ax.plot(df2['area_fraction'], df2['resistance [ohm]'] * 0.64e-2, label=r\"$L_z$\" + f\" = {lt:.1f} $\\mu$m\")\n",
    "ax.legend();\n",
    "ax.set_xlabel(r'$\\frac{A}{A_0}$', fontdict={'fontsize': 'xx-large'});\n",
    "ax.set_ylabel(r'R [$\\Omega \\mathrm{cm}^2$]', fontdict={'fontsize': 'xx-large'});\n",
    "ax.set_xlim([0, 1]);\n",
    "ax.set_box_aspect(1);\n",
    "ax.minorticks_on();\n",
    "plt.tight_layout();\n",
    "plt.savefig('figures/variable-area-comparison.png', dpi=1200)"
   ]
  },
  {
   "cell_type": "code",
   "execution_count": null,
   "id": "d8a3264a-0e53-40c9-842d-136769657d6a",
   "metadata": {},
   "outputs": [],
   "source": [
    "fig, ax = plt.subplots(figsize=(5, 4.5))\n",
    "for lt in lengths:\n",
    "    df2 = df.loc[np.isclose(df['Lz [um]'], lt), :]\n",
    "    ax.semilogy(df2['area_fraction'], df2['resistance [ohm]'] * 0.64e-2, label=r\"$L_z$\" + f\" = {lt:.1f} $\\mu$m\")\n",
    "ax.legend();\n",
    "ax.set_xlabel(r'$\\frac{A}{A_0}$', fontdict={'fontsize': 'xx-large'});\n",
    "ax.set_ylabel(r'R [$\\Omega \\mathrm{cm}^2$]', fontdict={'fontsize': 'xx-large'});\n",
    "ax.set_xlim([0, 1]);\n",
    "ax.set_ylim([1e-1, 1e3]);\n",
    "ax.set_box_aspect(1);\n",
    "ax.minorticks_on();\n",
    "plt.tight_layout();\n",
    "plt.savefig('figures/variable-area-comparison-semilog.png', dpi=1200)"
   ]
  },
  {
   "cell_type": "code",
   "execution_count": null,
   "id": "3c14973e",
   "metadata": {},
   "outputs": [],
   "source": [
    "df.tail()"
   ]
  },
  {
   "cell_type": "code",
   "execution_count": null,
   "id": "be82934a",
   "metadata": {},
   "outputs": [],
   "source": [
    "fig, ax = plt.subplots(2, 2)\n",
    "for i, idx in enumerate([6, 11, 16, 22]):\n",
    "    img = plt.imread(f'data/current_constriction/test{idx}.tif')[:, :, 0]\n",
    "    ax[int(i/2), i % 2].imshow(img, cmap='gray')\n",
    "    ax[int(i/2), i % 2].title.set_text(r\"$\\frac{A}{A_0}$ = \" + f\"{areas[idx]} %\")\n",
    "    ax[int(i/2), i % 2].title.set_color('blue')\n",
    "    ax[int(i/2), i % 2].set_xticks([])\n",
    "    ax[int(i/2), i % 2].set_yticks([])\n",
    "plt.tight_layout()\n",
    "fig.suptitle(\"black \" + r\"$\\to$\" + \" contact lost\", color='red')\n",
    "plt.savefig('figures/contact-area-maps.png', dpi=1200)"
   ]
  },
  {
   "cell_type": "code",
   "execution_count": null,
   "id": "9058f380",
   "metadata": {},
   "outputs": [],
   "source": [
    "df2 = df.loc[np.isclose(df['Lz [um]'], 1.702128)]\n",
    "df3 = df.loc[np.isclose(df['Lz [um]'], 170.212766)]"
   ]
  },
  {
   "cell_type": "code",
   "execution_count": null,
   "id": "bab5baf0",
   "metadata": {},
   "outputs": [],
   "source": [
    "fig, ax = plt.subplots()\n",
    "ax.plot(df2['area_fraction'], df2['effective_conductivity_ratio'], label='Lz = 1.7$\\mu$m');\n",
    "ax.plot(df3['area_fraction'], df3['effective_conductivity_ratio'], label='Lz = 170.2$\\mu$m');\n",
    "ax.set_xlim([0, 1]);\n",
    "ax.set_ylim([0, 1]);\n",
    "ax.set_box_aspect(1);\n",
    "ax.plot([0, 1], [0, 1], '--', color='k', label='45$^{\\circ}$ Line');\n",
    "ax.legend();\n",
    "ax.set_xlabel(r'$\\frac{A}{A_0}$', fontdict={'fontsize': 'xx-large'});\n",
    "ax.set_ylabel(r'$\\frac{\\kappa_{eff}}{\\kappa_{bulk}}$', fontdict={'fontsize': 'xx-large'});\n",
    "plt.tight_layout();\n",
    "plt.savefig('figures/short-limit-effective-conductivity-ratio.png', dpi=1200);"
   ]
  },
  {
   "cell_type": "code",
   "execution_count": null,
   "id": "8a7439bd",
   "metadata": {},
   "outputs": [],
   "source": [
    "fig, ax = plt.subplots()\n",
    "ax.plot(df3['area_fraction'], df3['effective_conductivity_ratio'], label='Lz = 170.2$\\mu$m');\n",
    "ax.set_xlim([0, 1]);\n",
    "ax.set_ylim([0, 1]);\n",
    "ax.set_box_aspect(1);\n",
    "ax.plot([0, 1], [0, 1], '--', color='k', label='45$^{\\circ}$ Line');\n",
    "ax.legend()\n",
    "ax.set_xlabel(r'$\\frac{A}{A_0}$', fontdict={'fontsize': 'xx-large'})\n",
    "ax.set_ylabel(r'$\\frac{\\kappa_{eff}}{\\kappa_{bulk}}$', fontdict={'fontsize': 'xx-large'})\n",
    "plt.tight_layout();\n",
    "plt.savefig('figures/long-limit-effective-conductivity-ratio.png', dpi=1200)"
   ]
  },
  {
   "cell_type": "code",
   "execution_count": null,
   "id": "37e69a62",
   "metadata": {},
   "outputs": [],
   "source": [
    "1/(4 * 0.1 * 27e-6)"
   ]
  }
 ],
 "metadata": {
  "kernelspec": {
   "display_name": "Python [conda env:.conda-fea-env] *",
   "language": "python",
   "name": "conda-env-.conda-fea-env-py"
  },
  "language_info": {
   "codemirror_mode": {
    "name": "ipython",
    "version": 3
   },
   "file_extension": ".py",
   "mimetype": "text/x-python",
   "name": "python",
   "nbconvert_exporter": "python",
   "pygments_lexer": "ipython3",
   "version": "3.11.6"
  }
 },
 "nbformat": 4,
 "nbformat_minor": 5
}
