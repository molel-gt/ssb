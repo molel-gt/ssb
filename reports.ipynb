{
 "cells": [
  {
   "cell_type": "code",
   "execution_count": 1,
   "id": "2fbbb34b",
   "metadata": {},
   "outputs": [],
   "source": [
    "\n",
    "import csv\n",
    "import os\n",
    "import timeit\n",
    "\n",
    "import argparse\n",
    "import h5py\n",
    "import logging\n",
    "import matplotlib.pyplot as plt\n",
    "import numpy as np\n",
    "import pandas as pd\n",
    "import ufl\n",
    "\n",
    "from dolfinx import cpp, fem, io, mesh\n",
    "from mpi4py import MPI\n",
    "from petsc4py import PETSc\n",
    "from scipy import interpolate\n",
    "\n",
    "import commons, configs, constants\n",
    "\n",
    "markers = commons.SurfaceMarkers()"
   ]
  },
  {
   "cell_type": "code",
   "execution_count": 8,
   "id": "8654a940",
   "metadata": {},
   "outputs": [],
   "source": [
    "Lz = 1\n",
    "data_dir = f\"mesh/study_2/test6/470-470-{Lz}_000-000-000/\"\n",
    "tetpath = os.path.join(data_dir, \"tetr.h5\")\n",
    "tripath = os.path.join(data_dir, \"tria.h5\")"
   ]
  },
  {
   "cell_type": "code",
   "execution_count": 3,
   "id": "70644ada",
   "metadata": {},
   "outputs": [],
   "source": [
    "geo2d = h5py.File(tripath, \"r\")\n",
    "geo3d = h5py.File(tetpath, \"r\")"
   ]
  },
  {
   "cell_type": "code",
   "execution_count": 4,
   "id": "e230ba98",
   "metadata": {},
   "outputs": [
    {
     "data": {
      "text/plain": [
       "(<KeysViewHDF5 ['data0', 'data1', 'data2']>,\n",
       " <KeysViewHDF5 ['data0', 'data1', 'data2']>)"
      ]
     },
     "execution_count": 4,
     "metadata": {},
     "output_type": "execute_result"
    }
   ],
   "source": [
    "geo2d.keys(), geo3d.keys()"
   ]
  },
  {
   "cell_type": "code",
   "execution_count": 5,
   "id": "9b2f29da",
   "metadata": {},
   "outputs": [
    {
     "data": {
      "text/plain": [
       "((738423, 3), (799126, 3), (799126,))"
      ]
     },
     "execution_count": 5,
     "metadata": {},
     "output_type": "execute_result"
    }
   ],
   "source": [
    "geo2d['data0'].shape, geo2d['data1'].shape, geo2d['data2'].shape"
   ]
  },
  {
   "cell_type": "code",
   "execution_count": 6,
   "id": "fb87d4e1",
   "metadata": {},
   "outputs": [
    {
     "data": {
      "text/plain": [
       "((738423, 3), (3360033, 4), (3360033,))"
      ]
     },
     "execution_count": 6,
     "metadata": {},
     "output_type": "execute_result"
    }
   ],
   "source": [
    "geo3d['data0'].shape, geo3d['data1'].shape, geo3d['data2'].shape"
   ]
  },
  {
   "cell_type": "code",
   "execution_count": 7,
   "id": "5bbd5351",
   "metadata": {},
   "outputs": [
    {
     "ename": "FileNotFoundError",
     "evalue": "[Errno 2] Unable to open file (unable to open file: name = 'mesh/study_2/test6/470-470-5_000-000-000/current.h5', errno = 2, error message = 'No such file or directory', flags = 0, o_flags = 0)",
     "output_type": "error",
     "traceback": [
      "\u001b[0;31m---------------------------------------------------------------------------\u001b[0m",
      "\u001b[0;31mFileNotFoundError\u001b[0m                         Traceback (most recent call last)",
      "Cell \u001b[0;32mIn[7], line 1\u001b[0m\n\u001b[0;32m----> 1\u001b[0m current3d \u001b[38;5;241m=\u001b[39m \u001b[43mh5py\u001b[49m\u001b[38;5;241;43m.\u001b[39;49m\u001b[43mFile\u001b[49m\u001b[43m(\u001b[49m\u001b[43mos\u001b[49m\u001b[38;5;241;43m.\u001b[39;49m\u001b[43mpath\u001b[49m\u001b[38;5;241;43m.\u001b[39;49m\u001b[43mjoin\u001b[49m\u001b[43m(\u001b[49m\u001b[43mdata_dir\u001b[49m\u001b[43m,\u001b[49m\u001b[43m \u001b[49m\u001b[38;5;124;43m\"\u001b[39;49m\u001b[38;5;124;43mcurrent.h5\u001b[39;49m\u001b[38;5;124;43m\"\u001b[39;49m\u001b[43m)\u001b[49m\u001b[43m,\u001b[49m\u001b[43m \u001b[49m\u001b[38;5;124;43m\"\u001b[39;49m\u001b[38;5;124;43mr\u001b[39;49m\u001b[38;5;124;43m\"\u001b[39;49m\u001b[43m)\u001b[49m\n",
      "File \u001b[0;32m~/.conda/envs/fenicsx/lib/python3.10/site-packages/h5py/_hl/files.py:567\u001b[0m, in \u001b[0;36mFile.__init__\u001b[0;34m(self, name, mode, driver, libver, userblock_size, swmr, rdcc_nslots, rdcc_nbytes, rdcc_w0, track_order, fs_strategy, fs_persist, fs_threshold, fs_page_size, page_buf_size, min_meta_keep, min_raw_keep, locking, alignment_threshold, alignment_interval, meta_block_size, **kwds)\u001b[0m\n\u001b[1;32m    558\u001b[0m     fapl \u001b[38;5;241m=\u001b[39m make_fapl(driver, libver, rdcc_nslots, rdcc_nbytes, rdcc_w0,\n\u001b[1;32m    559\u001b[0m                      locking, page_buf_size, min_meta_keep, min_raw_keep,\n\u001b[1;32m    560\u001b[0m                      alignment_threshold\u001b[38;5;241m=\u001b[39malignment_threshold,\n\u001b[1;32m    561\u001b[0m                      alignment_interval\u001b[38;5;241m=\u001b[39malignment_interval,\n\u001b[1;32m    562\u001b[0m                      meta_block_size\u001b[38;5;241m=\u001b[39mmeta_block_size,\n\u001b[1;32m    563\u001b[0m                      \u001b[38;5;241m*\u001b[39m\u001b[38;5;241m*\u001b[39mkwds)\n\u001b[1;32m    564\u001b[0m     fcpl \u001b[38;5;241m=\u001b[39m make_fcpl(track_order\u001b[38;5;241m=\u001b[39mtrack_order, fs_strategy\u001b[38;5;241m=\u001b[39mfs_strategy,\n\u001b[1;32m    565\u001b[0m                      fs_persist\u001b[38;5;241m=\u001b[39mfs_persist, fs_threshold\u001b[38;5;241m=\u001b[39mfs_threshold,\n\u001b[1;32m    566\u001b[0m                      fs_page_size\u001b[38;5;241m=\u001b[39mfs_page_size)\n\u001b[0;32m--> 567\u001b[0m     fid \u001b[38;5;241m=\u001b[39m \u001b[43mmake_fid\u001b[49m\u001b[43m(\u001b[49m\u001b[43mname\u001b[49m\u001b[43m,\u001b[49m\u001b[43m \u001b[49m\u001b[43mmode\u001b[49m\u001b[43m,\u001b[49m\u001b[43m \u001b[49m\u001b[43muserblock_size\u001b[49m\u001b[43m,\u001b[49m\u001b[43m \u001b[49m\u001b[43mfapl\u001b[49m\u001b[43m,\u001b[49m\u001b[43m \u001b[49m\u001b[43mfcpl\u001b[49m\u001b[43m,\u001b[49m\u001b[43m \u001b[49m\u001b[43mswmr\u001b[49m\u001b[38;5;241;43m=\u001b[39;49m\u001b[43mswmr\u001b[49m\u001b[43m)\u001b[49m\n\u001b[1;32m    569\u001b[0m \u001b[38;5;28;01mif\u001b[39;00m \u001b[38;5;28misinstance\u001b[39m(libver, \u001b[38;5;28mtuple\u001b[39m):\n\u001b[1;32m    570\u001b[0m     \u001b[38;5;28mself\u001b[39m\u001b[38;5;241m.\u001b[39m_libver \u001b[38;5;241m=\u001b[39m libver\n",
      "File \u001b[0;32m~/.conda/envs/fenicsx/lib/python3.10/site-packages/h5py/_hl/files.py:231\u001b[0m, in \u001b[0;36mmake_fid\u001b[0;34m(name, mode, userblock_size, fapl, fcpl, swmr)\u001b[0m\n\u001b[1;32m    229\u001b[0m     \u001b[38;5;28;01mif\u001b[39;00m swmr \u001b[38;5;129;01mand\u001b[39;00m swmr_support:\n\u001b[1;32m    230\u001b[0m         flags \u001b[38;5;241m|\u001b[39m\u001b[38;5;241m=\u001b[39m h5f\u001b[38;5;241m.\u001b[39mACC_SWMR_READ\n\u001b[0;32m--> 231\u001b[0m     fid \u001b[38;5;241m=\u001b[39m \u001b[43mh5f\u001b[49m\u001b[38;5;241;43m.\u001b[39;49m\u001b[43mopen\u001b[49m\u001b[43m(\u001b[49m\u001b[43mname\u001b[49m\u001b[43m,\u001b[49m\u001b[43m \u001b[49m\u001b[43mflags\u001b[49m\u001b[43m,\u001b[49m\u001b[43m \u001b[49m\u001b[43mfapl\u001b[49m\u001b[38;5;241;43m=\u001b[39;49m\u001b[43mfapl\u001b[49m\u001b[43m)\u001b[49m\n\u001b[1;32m    232\u001b[0m \u001b[38;5;28;01melif\u001b[39;00m mode \u001b[38;5;241m==\u001b[39m \u001b[38;5;124m'\u001b[39m\u001b[38;5;124mr+\u001b[39m\u001b[38;5;124m'\u001b[39m:\n\u001b[1;32m    233\u001b[0m     fid \u001b[38;5;241m=\u001b[39m h5f\u001b[38;5;241m.\u001b[39mopen(name, h5f\u001b[38;5;241m.\u001b[39mACC_RDWR, fapl\u001b[38;5;241m=\u001b[39mfapl)\n",
      "File \u001b[0;32mh5py/_objects.pyx:54\u001b[0m, in \u001b[0;36mh5py._objects.with_phil.wrapper\u001b[0;34m()\u001b[0m\n",
      "File \u001b[0;32mh5py/_objects.pyx:55\u001b[0m, in \u001b[0;36mh5py._objects.with_phil.wrapper\u001b[0;34m()\u001b[0m\n",
      "File \u001b[0;32mh5py/h5f.pyx:106\u001b[0m, in \u001b[0;36mh5py.h5f.open\u001b[0;34m()\u001b[0m\n",
      "\u001b[0;31mFileNotFoundError\u001b[0m: [Errno 2] Unable to open file (unable to open file: name = 'mesh/study_2/test6/470-470-5_000-000-000/current.h5', errno = 2, error message = 'No such file or directory', flags = 0, o_flags = 0)"
     ]
    }
   ],
   "source": [
    "current3d = h5py.File(os.path.join(data_dir, \"current.h5\"), \"r\")"
   ]
  },
  {
   "cell_type": "code",
   "execution_count": null,
   "id": "211d7efd",
   "metadata": {},
   "outputs": [],
   "source": [
    "values = current3d['Function']['f']['0']"
   ]
  },
  {
   "cell_type": "code",
   "execution_count": null,
   "id": "9c879843",
   "metadata": {},
   "outputs": [],
   "source": [
    "comm = MPI.COMM_WORLD\n",
    "with io.XDMFFile(comm, tetpath.replace(\".h5\", \".xdmf\"), \"r\") as infile3:\n",
    "    domain = infile3.read_mesh(cpp.mesh.GhostMode.none, 'Grid')\n",
    "domain.topology.create_connectivity(domain.topology.dim, domain.topology.dim - 1)\n",
    "with io.XDMFFile(comm, tripath.replace(\".h5\", \".xdmf\"), \"r\") as infile2:\n",
    "    domain2 = infile2.read_mesh(cpp.mesh.GhostMode.none, 'Grid')\n",
    "    ft = infile2.read_meshtags(domain, name=\"Grid\")\n",
    "meshtags = mesh.meshtags(domain, 2, ft.indices, ft.values)"
   ]
  },
  {
   "cell_type": "code",
   "execution_count": null,
   "id": "b6ca5657",
   "metadata": {},
   "outputs": [],
   "source": [
    "W = fem.FunctionSpace(domain, (\"Lagrange\", 1))\n",
    "current = fem.Function(W)\n",
    "current2 = fem.Function(W)\n",
    "cdf_fun = fem.Function(W)\n",
    "cdf_fun2 = fem.Function(W)"
   ]
  },
  {
   "cell_type": "code",
   "execution_count": null,
   "id": "ea8dfe70",
   "metadata": {},
   "outputs": [],
   "source": [
    "ds = ufl.Measure('ds', domain=domain, subdomain_data=meshtags)\n",
    "area_left_cc = fem.assemble_scalar(fem.form(1 * ds(markers.left_cc)))\n",
    "area_right_cc = fem.assemble_scalar(fem.form(1 * ds(markers.right_cc)))"
   ]
  },
  {
   "cell_type": "code",
   "execution_count": null,
   "id": "023b6623",
   "metadata": {},
   "outputs": [],
   "source": [
    "valz = set(np.asarray(geo2d['data1']).flatten())\n",
    "for dof in valz:\n",
    "    current2.vector.setValueLocal(dof, values[dof][2])\n",
    "current.interpolate(current2)"
   ]
  },
  {
   "cell_type": "code",
   "execution_count": null,
   "id": "d5ff2f33",
   "metadata": {},
   "outputs": [],
   "source": [
    "min_cd = np.min(current.sub(2).x.array)\n",
    "max_cd = np.max(current.sub(2).x.array)\n",
    "cd_space = np.linspace(min_cd, max_cd, num=100)\n",
    "cdf_values = []\n",
    "\n",
    "EPS = 1e-30\n",
    "\n",
    "\n",
    "def check_condition(v1, check_value=1):\n",
    "    v2 = lambda x: check_value * (x[0] + EPS) / (x[0] + EPS)\n",
    "    cdf_fun.interpolate(v2)\n",
    "    return ufl.conditional(ufl.le(v1, cdf_fun), 1, 0)\n",
    "\n",
    "for v in cd_space:\n",
    "    new_v = fem.Expression(check_condition(current, v), W.element.interpolation_points())\n",
    "    cdf_fun2.interpolate(new_v)\n",
    "    lpvalue = fem.assemble_scalar(fem.form(cdf_fun2 * ds(markers.left_cc))) / area_left_cc\n",
    "    rpvalue = fem.assemble_scalar(fem.form(cdf_fun2 * ds(markers.right_cc))) / area_right_cc\n",
    "    cdf_values.append({'i [A/m2]': v, \"p_left\": lpvalue, \"p_right\": rpvalue})\n",
    "stats_path = os.path.join(data_dir, 'cdf.csv')\n",
    "with open(stats_path, 'w') as fp:\n",
    "    writer = csv.DictWriter(fp, fieldnames=['i [A/m2]', 'p_left', 'p_right'])\n",
    "    writer.writeheader()\n",
    "    for row in cdf_values:\n",
    "        writer.writerow(row)"
   ]
  },
  {
   "cell_type": "code",
   "execution_count": 14,
   "id": "2b5fab64",
   "metadata": {},
   "outputs": [
    {
     "data": {
      "image/png": "[encoded data removed]",
      "text/plain": [
       "<Figure size 640x480 with 1 Axes>"
      ]
     },
     "metadata": {},
     "output_type": "display_data"
    }
   ],
   "source": [
    "fig, ax = plt.subplots()\n",
    "\n",
    "ul = 0\n",
    "ll = -100\n",
    "\n",
    "for img_id in [1, 6, 11, 16, 22]:\n",
    "    data_path = os.path.join(f\"mesh/study_2/test{img_id}/470-470-{Lz}_000-000-000/\", \"cdf.csv\")\n",
    "    df = pd.read_csv(data_path)\n",
    "    ax.plot(df['i [A/m2]'], df['p_left'], label=f'{img_id}')\n",
    "\n",
    "ax.set_xlabel('$i [Am^{-2}]$')\n",
    "ax.set_ylabel('active area')\n",
    "ax.set_title('distribution of current density, $z=0$; $\\kappa$ = 0.1 S/m')\n",
    "ax.set_box_aspect(1)\n",
    "ax.set_ylim([0, 1])\n",
    "ax.set_xlim([ll, ul])\n",
    "ax.legend()\n",
    "plt.tight_layout()\n",
    "plt.savefig('figures/study_2_cdf.png', dpi=1200)"
   ]
  },
  {
   "cell_type": "code",
   "execution_count": 15,
   "id": "e852785a",
   "metadata": {},
   "outputs": [],
   "source": [
    "# fig, ax = plt.subplots()\n",
    "# ax.plot(df['i [A/m2]'], df['p_right'])\n",
    "# ax.set_xlabel('$i [Am^{-2}]$')\n",
    "# ax.set_ylabel('active area')\n",
    "# ax.set_title('distribution of current density, $z=L_z$')\n",
    "# ax.set_box_aspect(1)\n",
    "# plt.tight_layout()"
   ]
  },
  {
   "cell_type": "code",
   "execution_count": null,
   "id": "b1832862",
   "metadata": {},
   "outputs": [],
   "source": [
    "fig, ax = plt.subplots()\n",
    "img = plt.imread('/home/molel/OneDrive/PhD/Data/Current_constriction/test6.tif')\n",
    "ax.imshow(img[:, :, 0])\n",
    "ax.set_box_aspect(1)\n",
    "plt.tight_layout()\n",
    "plt.savefig('figures/test6.png', dpi=1200)"
   ]
  },
  {
   "cell_type": "code",
   "execution_count": null,
   "id": "67a972bc",
   "metadata": {},
   "outputs": [],
   "source": []
  },
  {
   "cell_type": "code",
   "execution_count": null,
   "id": "ef56a9cc",
   "metadata": {},
   "outputs": [],
   "source": []
  }
 ],
 "metadata": {
  "kernelspec": {
   "display_name": "Python [conda env:.conda-fenicsx] *",
   "language": "python",
   "name": "conda-env-.conda-fenicsx-py"
  },
  "language_info": {
   "codemirror_mode": {
    "name": "ipython",
    "version": 3
   },
   "file_extension": ".py",
   "mimetype": "text/x-python",
   "name": "python",
   "nbconvert_exporter": "python",
   "pygments_lexer": "ipython3",
   "version": "3.10.9"
  }
 },
 "nbformat": 4,
 "nbformat_minor": 5
}
