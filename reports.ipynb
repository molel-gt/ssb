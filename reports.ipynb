{
 "cells": [
  {
   "cell_type": "code",
   "execution_count": 73,
   "id": "c3fa48b5",
   "metadata": {},
   "outputs": [],
   "source": [
    "\n",
    "import csv\n",
    "import os\n",
    "import timeit\n",
    "\n",
    "import argparse\n",
    "import h5py\n",
    "import logging\n",
    "import numpy as np\n",
    "import ufl\n",
    "\n",
    "from dolfinx import cpp, fem, io, mesh\n",
    "from mpi4py import MPI\n",
    "from petsc4py import PETSc\n",
    "\n",
    "import commons, configs, constants\n",
    "\n",
    "markers = commons.SurfaceMarkers()"
   ]
  },
  {
   "cell_type": "code",
   "execution_count": 74,
   "id": "c534823c",
   "metadata": {},
   "outputs": [],
   "source": [
    "data_dir = \"mesh/study_2/test6/470-470-5_000-000-000/\"\n",
    "tetpath = os.path.join(data_dir, \"tetr.h5\")\n",
    "tripath = os.path.join(data_dir, \"tria.h5\")"
   ]
  },
  {
   "cell_type": "code",
   "execution_count": 75,
   "id": "747ec0f6",
   "metadata": {},
   "outputs": [],
   "source": [
    "geo2d = h5py.File(tripath, \"r\")\n",
    "geo3d = h5py.File(tetpath, \"r\")"
   ]
  },
  {
   "cell_type": "code",
   "execution_count": 76,
   "id": "e8a4e79a",
   "metadata": {},
   "outputs": [
    {
     "data": {
      "text/plain": [
       "(<KeysViewHDF5 ['data0', 'data1', 'data2']>,\n",
       " <KeysViewHDF5 ['data0', 'data1', 'data2']>)"
      ]
     },
     "execution_count": 76,
     "metadata": {},
     "output_type": "execute_result"
    }
   ],
   "source": [
    "geo2d.keys(), geo3d.keys()"
   ]
  },
  {
   "cell_type": "code",
   "execution_count": 77,
   "id": "80cbcfdd",
   "metadata": {},
   "outputs": [
    {
     "data": {
      "text/plain": [
       "((420670, 3), (547158, 3), (547158,))"
      ]
     },
     "execution_count": 77,
     "metadata": {},
     "output_type": "execute_result"
    }
   ],
   "source": [
    "geo2d['data0'].shape, geo2d['data1'].shape, geo2d['data2'].shape"
   ]
  },
  {
   "cell_type": "code",
   "execution_count": 78,
   "id": "47cd21ce",
   "metadata": {},
   "outputs": [
    {
     "data": {
      "text/plain": [
       "((420670, 3), (1738202, 4), (1738202,))"
      ]
     },
     "execution_count": 78,
     "metadata": {},
     "output_type": "execute_result"
    }
   ],
   "source": [
    "geo3d['data0'].shape, geo3d['data1'].shape, geo3d['data2'].shape"
   ]
  },
  {
   "cell_type": "code",
   "execution_count": 79,
   "id": "7addbacc",
   "metadata": {},
   "outputs": [],
   "source": [
    "current3d = h5py.File(\"mesh/study_2/test6/470-470-5_000-000-000/current.h5\", \"r\")"
   ]
  },
  {
   "cell_type": "code",
   "execution_count": 80,
   "id": "41f31580",
   "metadata": {},
   "outputs": [],
   "source": [
    "values = current3d['Function']['f']['0']"
   ]
  },
  {
   "cell_type": "code",
   "execution_count": 90,
   "id": "0aad2639",
   "metadata": {},
   "outputs": [],
   "source": [
    "comm = MPI.COMM_WORLD\n",
    "with io.XDMFFile(comm, tetpath.replace(\".h5\", \".xdmf\"), \"r\") as infile3:\n",
    "    domain = infile3.read_mesh(cpp.mesh.GhostMode.none, 'Grid')\n",
    "domain.topology.create_connectivity(domain.topology.dim, domain.topology.dim - 1)\n",
    "with io.XDMFFile(comm, tripath.replace(\".h5\", \".xdmf\"), \"r\") as infile2:\n",
    "    domain2 = infile2.read_mesh(cpp.mesh.GhostMode.none, 'Grid')\n",
    "    ft = infile2.read_meshtags(domain, name=\"Grid\")\n",
    "meshtags = mesh.meshtags(domain, 2, ft.indices, ft.values)"
   ]
  },
  {
   "cell_type": "code",
   "execution_count": 91,
   "id": "8168f8b2",
   "metadata": {},
   "outputs": [],
   "source": [
    "W = fem.FunctionSpace(domain, (\"Lagrange\", 1))\n",
    "current = fem.Function(W)\n",
    "cdf_fun = fem.Function(W)\n",
    "cdf_fun2 = fem.Function(W)"
   ]
  },
  {
   "cell_type": "code",
   "execution_count": 93,
   "id": "86d5b182",
   "metadata": {},
   "outputs": [],
   "source": [
    "ds = ufl.Measure('ds', domain=domain, subdomain_data=meshtags)\n",
    "area_left_cc = fem.assemble_scalar(fem.form(1 * ds(markers.left_cc)))\n",
    "area_right_cc = fem.assemble_scalar(fem.form(1 * ds(markers.right_cc)))"
   ]
  },
  {
   "cell_type": "code",
   "execution_count": 94,
   "id": "faa698dd",
   "metadata": {},
   "outputs": [],
   "source": [
    "valz = set(np.asarray(geo2d['data1']).flatten())\n",
    "for dof in valz:\n",
    "    current.vector.setValueLocal(dof, values[dof][2])"
   ]
  },
  {
   "cell_type": "code",
   "execution_count": null,
   "id": "219dc965",
   "metadata": {},
   "outputs": [],
   "source": [
    "min_cd = np.min(current.x.array)\n",
    "max_cd = np.max(current.x.array)\n",
    "cd_space = np.linspace(min_cd, max_cd, num=1000)\n",
    "cdf_values = []\n",
    "Id = ufl.Identity(3)\n",
    "EPS = 1e-30\n",
    "\n",
    "\n",
    "def check_condition(v1, check_value=1):\n",
    "    v2 = lambda x: check_value * (x[0] + EPS) / (x[0] + EPS)\n",
    "    cdf_fun.interpolate(v2)\n",
    "    return ufl.conditional(ufl.le(v1, cdf_fun), 1, 0)\n",
    "\n",
    "for v in cd_space:\n",
    "    new_v = fem.Expression(check_condition(current, v), W.element.interpolation_points())\n",
    "    cdf_fun2.interpolate(new_v)\n",
    "    lpvalue = fem.assemble_scalar(fem.form(cdf_fun2 * ds(markers.left_cc))) / area_left_cc\n",
    "    rpvalue = fem.assemble_scalar(fem.form(cdf_fun2 * ds(markers.right_cc))) / area_right_cc\n",
    "    cdf_values.append({'i [A/m2]': v, \"p_left\": lpvalue, \"p_right\": rpvalue})\n",
    "stats_path = os.path.join(data_dir, 'cdf.csv')\n",
    "with open(stats_path, 'w') as fp:\n",
    "    writer = csv.DictWriter(fp, fieldnames=['i [A/m2]', 'p_left', 'p_right'])\n",
    "    writer.writeheader()\n",
    "    for row in cdf_values:\n",
    "        writer.writerow(row)"
   ]
  },
  {
   "cell_type": "code",
   "execution_count": null,
   "id": "3b8e2c1a",
   "metadata": {},
   "outputs": [],
   "source": []
  }
 ],
 "metadata": {
  "kernelspec": {
   "display_name": "fenicsx-env",
   "language": "python",
   "name": "fenicsx-env"
  },
  "language_info": {
   "codemirror_mode": {
    "name": "ipython",
    "version": 3
   },
   "file_extension": ".py",
   "mimetype": "text/x-python",
   "name": "python",
   "nbconvert_exporter": "python",
   "pygments_lexer": "ipython3",
   "version": "3.10.11"
  }
 },
 "nbformat": 4,
 "nbformat_minor": 5
}
