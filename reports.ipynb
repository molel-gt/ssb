{
 "cells": [
  {
   "cell_type": "code",
   "execution_count": 73,
   "id": "71b876d2",
   "metadata": {},
   "outputs": [],
   "source": [
    "\n",
    "import csv\n",
    "import os\n",
    "import timeit\n",
    "\n",
    "import argparse\n",
    "import h5py\n",
    "import logging\n",
    "import numpy as np\n",
    "import ufl\n",
    "\n",
    "from dolfinx import cpp, fem, io, mesh\n",
    "from mpi4py import MPI\n",
    "from petsc4py import PETSc\n",
    "\n",
    "import commons, configs, constants\n",
    "\n",
    "markers = commons.SurfaceMarkers()"
   ]
  },
  {
   "cell_type": "code",
   "execution_count": 74,
   "id": "6423b364",
   "metadata": {},
   "outputs": [],
   "source": [
    "data_dir = \"mesh/study_2/test6/470-470-5_000-000-000/\"\n",
    "tetpath = os.path.join(data_dir, \"tetr.h5\")\n",
    "tripath = os.path.join(data_dir, \"tria.h5\")"
   ]
  },
  {
   "cell_type": "code",
   "execution_count": 75,
   "id": "8b005427",
   "metadata": {},
   "outputs": [],
   "source": [
    "geo2d = h5py.File(tripath, \"r\")\n",
    "geo3d = h5py.File(tetpath, \"r\")"
   ]
  },
  {
   "cell_type": "code",
   "execution_count": 76,
   "id": "f7d2566e",
   "metadata": {},
   "outputs": [
    {
     "data": {
      "text/plain": [
       "(<KeysViewHDF5 ['data0', 'data1', 'data2']>,\n",
       " <KeysViewHDF5 ['data0', 'data1', 'data2']>)"
      ]
     },
     "execution_count": 76,
     "metadata": {},
     "output_type": "execute_result"
    }
   ],
   "source": [
    "geo2d.keys(), geo3d.keys()"
   ]
  },
  {
   "cell_type": "code",
   "execution_count": 77,
   "id": "2ae4b03a",
   "metadata": {},
   "outputs": [
    {
     "data": {
      "text/plain": [
       "((420670, 3), (547158, 3), (547158,))"
      ]
     },
     "execution_count": 77,
     "metadata": {},
     "output_type": "execute_result"
    }
   ],
   "source": [
    "geo2d['data0'].shape, geo2d['data1'].shape, geo2d['data2'].shape"
   ]
  },
  {
   "cell_type": "code",
   "execution_count": 78,
   "id": "d2c9dd4a",
   "metadata": {},
   "outputs": [
    {
     "data": {
      "text/plain": [
       "((420670, 3), (1738202, 4), (1738202,))"
      ]
     },
     "execution_count": 78,
     "metadata": {},
     "output_type": "execute_result"
    }
   ],
   "source": [
    "geo3d['data0'].shape, geo3d['data1'].shape, geo3d['data2'].shape"
   ]
  },
  {
   "cell_type": "code",
   "execution_count": 79,
   "id": "527fcaa5",
   "metadata": {},
   "outputs": [],
   "source": [
    "current3d = h5py.File(\"mesh/study_2/test6/470-470-5_000-000-000/current.h5\", \"r\")"
   ]
  },
  {
   "cell_type": "code",
   "execution_count": 80,
   "id": "01aff12f",
   "metadata": {},
   "outputs": [],
   "source": [
    "values = current3d['Function']['f']['0']"
   ]
  },
  {
   "cell_type": "code",
   "execution_count": 81,
   "id": "e5d505f9",
   "metadata": {},
   "outputs": [],
   "source": [
    "comm = MPI.COMM_WORLD\n",
    "with io.XDMFFile(comm, tripath.replace(\".h5\", \".xdmf\"), \"r\") as infile2:\n",
    "    domain2 = infile2.read_mesh(cpp.mesh.GhostMode.none, 'Grid')\n",
    "    ft = infile2.read_meshtags(domain2, name=\"Grid\")\n",
    "meshtags = mesh.meshtags(domain2, 2, ft.indices, ft.values)"
   ]
  },
  {
   "cell_type": "code",
   "execution_count": 82,
   "id": "b05fae46",
   "metadata": {},
   "outputs": [],
   "source": [
    "W = fem.FunctionSpace(domain2, (\"Lagrange\", 1))\n",
    "current = fem.Function(W)"
   ]
  },
  {
   "cell_type": "code",
   "execution_count": 83,
   "id": "0df296ed",
   "metadata": {},
   "outputs": [],
   "source": [
    "valz = set(np.asarray(geo2d['data1']).flatten())\n",
    "for dof in valz:\n",
    "    current.vector.setValueLocal(dof, values[dof][2])"
   ]
  },
  {
   "cell_type": "code",
   "execution_count": null,
   "id": "78b9edcd",
   "metadata": {},
   "outputs": [],
   "source": []
  },
  {
   "cell_type": "code",
   "execution_count": null,
   "id": "a74df85d",
   "metadata": {},
   "outputs": [],
   "source": []
  },
  {
   "cell_type": "code",
   "execution_count": null,
   "id": "279f9ad5",
   "metadata": {},
   "outputs": [],
   "source": []
  },
  {
   "cell_type": "code",
   "execution_count": null,
   "id": "a359233d",
   "metadata": {},
   "outputs": [],
   "source": []
  },
  {
   "cell_type": "code",
   "execution_count": null,
   "id": "86ee265f",
   "metadata": {},
   "outputs": [],
   "source": []
  }
 ],
 "metadata": {
  "kernelspec": {
   "display_name": "fenicsx-env",
   "language": "python",
   "name": "fenicsx-env"
  },
  "language_info": {
   "codemirror_mode": {
    "name": "ipython",
    "version": 3
   },
   "file_extension": ".py",
   "mimetype": "text/x-python",
   "name": "python",
   "nbconvert_exporter": "python",
   "pygments_lexer": "ipython3",
   "version": "3.10.11"
  }
 },
 "nbformat": 4,
 "nbformat_minor": 5
}
