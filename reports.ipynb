{
 "cells": [
  {
   "cell_type": "code",
   "execution_count": 73,
   "id": "f704a672",
   "metadata": {},
   "outputs": [],
   "source": [
    "\n",
    "import csv\n",
    "import os\n",
    "import timeit\n",
    "\n",
    "import argparse\n",
    "import h5py\n",
    "import logging\n",
    "import numpy as np\n",
    "import ufl\n",
    "\n",
    "from dolfinx import cpp, fem, io, mesh\n",
    "from mpi4py import MPI\n",
    "from petsc4py import PETSc\n",
    "\n",
    "import commons, configs, constants\n",
    "\n",
    "markers = commons.SurfaceMarkers()"
   ]
  },
  {
   "cell_type": "code",
   "execution_count": 74,
   "id": "8316629a",
   "metadata": {},
   "outputs": [],
   "source": [
    "data_dir = \"mesh/study_2/test6/470-470-5_000-000-000/\"\n",
    "tetpath = os.path.join(data_dir, \"tetr.h5\")\n",
    "tripath = os.path.join(data_dir, \"tria.h5\")"
   ]
  },
  {
   "cell_type": "code",
   "execution_count": 75,
   "id": "249a6383",
   "metadata": {},
   "outputs": [],
   "source": [
    "geo2d = h5py.File(tripath, \"r\")\n",
    "geo3d = h5py.File(tetpath, \"r\")"
   ]
  },
  {
   "cell_type": "code",
   "execution_count": 76,
   "id": "4848ac46",
   "metadata": {},
   "outputs": [
    {
     "data": {
      "text/plain": [
       "(<KeysViewHDF5 ['data0', 'data1', 'data2']>,\n",
       " <KeysViewHDF5 ['data0', 'data1', 'data2']>)"
      ]
     },
     "execution_count": 76,
     "metadata": {},
     "output_type": "execute_result"
    }
   ],
   "source": [
    "geo2d.keys(), geo3d.keys()"
   ]
  },
  {
   "cell_type": "code",
   "execution_count": 77,
   "id": "60ca11a6",
   "metadata": {},
   "outputs": [
    {
     "data": {
      "text/plain": [
       "((420670, 3), (547158, 3), (547158,))"
      ]
     },
     "execution_count": 77,
     "metadata": {},
     "output_type": "execute_result"
    }
   ],
   "source": [
    "geo2d['data0'].shape, geo2d['data1'].shape, geo2d['data2'].shape"
   ]
  },
  {
   "cell_type": "code",
   "execution_count": 78,
   "id": "7fa5856e",
   "metadata": {},
   "outputs": [
    {
     "data": {
      "text/plain": [
       "((420670, 3), (1738202, 4), (1738202,))"
      ]
     },
     "execution_count": 78,
     "metadata": {},
     "output_type": "execute_result"
    }
   ],
   "source": [
    "geo3d['data0'].shape, geo3d['data1'].shape, geo3d['data2'].shape"
   ]
  },
  {
   "cell_type": "code",
   "execution_count": 79,
   "id": "3ea203b8",
   "metadata": {},
   "outputs": [],
   "source": [
    "current3d = h5py.File(\"mesh/study_2/test6/470-470-5_000-000-000/current.h5\", \"r\")"
   ]
  },
  {
   "cell_type": "code",
   "execution_count": 80,
   "id": "fb5dc00a",
   "metadata": {},
   "outputs": [],
   "source": [
    "values = current3d['Function']['f']['0']"
   ]
  },
  {
   "cell_type": "code",
   "execution_count": 90,
   "id": "5133d28a",
   "metadata": {},
   "outputs": [],
   "source": [
    "comm = MPI.COMM_WORLD\n",
    "with io.XDMFFile(comm, tetpath.replace(\".h5\", \".xdmf\"), \"r\") as infile3:\n",
    "    domain = infile3.read_mesh(cpp.mesh.GhostMode.none, 'Grid')\n",
    "domain.topology.create_connectivity(domain.topology.dim, domain.topology.dim - 1)\n",
    "with io.XDMFFile(comm, tripath.replace(\".h5\", \".xdmf\"), \"r\") as infile2:\n",
    "    domain2 = infile2.read_mesh(cpp.mesh.GhostMode.none, 'Grid')\n",
    "    ft = infile2.read_meshtags(domain, name=\"Grid\")\n",
    "meshtags = mesh.meshtags(domain, 2, ft.indices, ft.values)"
   ]
  },
  {
   "cell_type": "code",
   "execution_count": 91,
   "id": "3219b5cd",
   "metadata": {},
   "outputs": [],
   "source": [
    "W = fem.FunctionSpace(domain, (\"Lagrange\", 1))\n",
    "current = fem.Function(W)\n",
    "cdf_fun = fem.Function(W)\n",
    "cdf_fun2 = fem.Function(W)"
   ]
  },
  {
   "cell_type": "code",
   "execution_count": 93,
   "id": "d57246ae",
   "metadata": {},
   "outputs": [],
   "source": [
    "ds = ufl.Measure('ds', domain=domain, subdomain_data=meshtags)\n",
    "area_left_cc = fem.assemble_scalar(fem.form(1 * ds(markers.left_cc)))\n",
    "area_right_cc = fem.assemble_scalar(fem.form(1 * ds(markers.right_cc)))"
   ]
  },
  {
   "cell_type": "code",
   "execution_count": 94,
   "id": "54fab0ad",
   "metadata": {},
   "outputs": [],
   "source": [
    "valz = set(np.asarray(geo2d['data1']).flatten())\n",
    "for dof in valz:\n",
    "    current.vector.setValueLocal(dof, values[dof][2])"
   ]
  },
  {
   "cell_type": "code",
   "execution_count": 97,
   "id": "30b3d8cf",
   "metadata": {},
   "outputs": [
    {
     "name": "stdout",
     "output_type": "stream",
     "text": [
      "-4529.621434439466\n"
     ]
    },
    {
     "name": "stderr",
     "output_type": "stream",
     "text": [
      "INFO:root:running build_ext\n",
      "INFO:root:building 'libffcx_expressions_0975ebfdd3aa4da6930f2aed2f6dd1067251a3cd' extension\n",
      "INFO:root:/home/molel/.conda/envs/fenicsx-env/bin/x86_64-conda-linux-gnu-cc -Wno-unused-result -Wsign-compare -DNDEBUG -fwrapv -O2 -Wall -fPIC -O2 -isystem /home/molel/.conda/envs/fenicsx-env/include -fPIC -O2 -isystem /home/molel/.conda/envs/fenicsx-env/include -march=nocona -mtune=haswell -ftree-vectorize -fPIC -fstack-protector-strong -fno-plt -O2 -ffunction-sections -pipe -isystem /home/molel/.conda/envs/fenicsx-env/include -DNDEBUG -D_FORTIFY_SOURCE=2 -O2 -isystem /home/molel/.conda/envs/fenicsx-env/include -fPIC -I/home/molel/.conda/envs/fenicsx-env/lib/python3.10/site-packages/ffcx/codegeneration -I/home/molel/.conda/envs/fenicsx-env/include/python3.10 -c libffcx_expressions_0975ebfdd3aa4da6930f2aed2f6dd1067251a3cd.c -o ./libffcx_expressions_0975ebfdd3aa4da6930f2aed2f6dd1067251a3cd.o -O2 -g0\n",
      "INFO:root:/home/molel/.conda/envs/fenicsx-env/bin/x86_64-conda-linux-gnu-cc -shared -Wl,--allow-shlib-undefined -Wl,-rpath,/home/molel/.conda/envs/fenicsx-env/lib -Wl,-rpath-link,/home/molel/.conda/envs/fenicsx-env/lib -L/home/molel/.conda/envs/fenicsx-env/lib -Wl,--allow-shlib-undefined -Wl,-rpath,/home/molel/.conda/envs/fenicsx-env/lib -Wl,-rpath-link,/home/molel/.conda/envs/fenicsx-env/lib -L/home/molel/.conda/envs/fenicsx-env/lib -Wl,-O2 -Wl,--sort-common -Wl,--as-needed -Wl,-z,relro -Wl,-z,now -Wl,--disable-new-dtags -Wl,--gc-sections -Wl,--allow-shlib-undefined -Wl,-rpath,/home/molel/.conda/envs/fenicsx-env/lib -Wl,-rpath-link,/home/molel/.conda/envs/fenicsx-env/lib -L/home/molel/.conda/envs/fenicsx-env/lib -march=nocona -mtune=haswell -ftree-vectorize -fPIC -fstack-protector-strong -fno-plt -O2 -ffunction-sections -pipe -isystem /home/molel/.conda/envs/fenicsx-env/include -DNDEBUG -D_FORTIFY_SOURCE=2 -O2 -isystem /home/molel/.conda/envs/fenicsx-env/include ./libffcx_expressions_0975ebfdd3aa4da6930f2aed2f6dd1067251a3cd.o -o ./libffcx_expressions_0975ebfdd3aa4da6930f2aed2f6dd1067251a3cd.cpython-310-x86_64-linux-gnu.so\n",
      "INFO:root:running build_ext\n",
      "INFO:root:building 'libffcx_forms_e6b39d37804d27729f5197d5dfed946a709eeeb4' extension\n",
      "INFO:root:/home/molel/.conda/envs/fenicsx-env/bin/x86_64-conda-linux-gnu-cc -Wno-unused-result -Wsign-compare -DNDEBUG -fwrapv -O2 -Wall -fPIC -O2 -isystem /home/molel/.conda/envs/fenicsx-env/include -fPIC -O2 -isystem /home/molel/.conda/envs/fenicsx-env/include -march=nocona -mtune=haswell -ftree-vectorize -fPIC -fstack-protector-strong -fno-plt -O2 -ffunction-sections -pipe -isystem /home/molel/.conda/envs/fenicsx-env/include -DNDEBUG -D_FORTIFY_SOURCE=2 -O2 -isystem /home/molel/.conda/envs/fenicsx-env/include -fPIC -I/home/molel/.conda/envs/fenicsx-env/lib/python3.10/site-packages/ffcx/codegeneration -I/home/molel/.conda/envs/fenicsx-env/include/python3.10 -c libffcx_forms_e6b39d37804d27729f5197d5dfed946a709eeeb4.c -o ./libffcx_forms_e6b39d37804d27729f5197d5dfed946a709eeeb4.o -O2 -g0\n",
      "INFO:root:/home/molel/.conda/envs/fenicsx-env/bin/x86_64-conda-linux-gnu-cc -shared -Wl,--allow-shlib-undefined -Wl,-rpath,/home/molel/.conda/envs/fenicsx-env/lib -Wl,-rpath-link,/home/molel/.conda/envs/fenicsx-env/lib -L/home/molel/.conda/envs/fenicsx-env/lib -Wl,--allow-shlib-undefined -Wl,-rpath,/home/molel/.conda/envs/fenicsx-env/lib -Wl,-rpath-link,/home/molel/.conda/envs/fenicsx-env/lib -L/home/molel/.conda/envs/fenicsx-env/lib -Wl,-O2 -Wl,--sort-common -Wl,--as-needed -Wl,-z,relro -Wl,-z,now -Wl,--disable-new-dtags -Wl,--gc-sections -Wl,--allow-shlib-undefined -Wl,-rpath,/home/molel/.conda/envs/fenicsx-env/lib -Wl,-rpath-link,/home/molel/.conda/envs/fenicsx-env/lib -L/home/molel/.conda/envs/fenicsx-env/lib -march=nocona -mtune=haswell -ftree-vectorize -fPIC -fstack-protector-strong -fno-plt -O2 -ffunction-sections -pipe -isystem /home/molel/.conda/envs/fenicsx-env/include -DNDEBUG -D_FORTIFY_SOURCE=2 -O2 -isystem /home/molel/.conda/envs/fenicsx-env/include ./libffcx_forms_e6b39d37804d27729f5197d5dfed946a709eeeb4.o -o ./libffcx_forms_e6b39d37804d27729f5197d5dfed946a709eeeb4.cpython-310-x86_64-linux-gnu.so\n",
      "INFO:root:running build_ext\n",
      "INFO:root:building 'libffcx_forms_3469c63da5c6bb8a461ce31689a7ebf3a4724fe4' extension\n",
      "INFO:root:/home/molel/.conda/envs/fenicsx-env/bin/x86_64-conda-linux-gnu-cc -Wno-unused-result -Wsign-compare -DNDEBUG -fwrapv -O2 -Wall -fPIC -O2 -isystem /home/molel/.conda/envs/fenicsx-env/include -fPIC -O2 -isystem /home/molel/.conda/envs/fenicsx-env/include -march=nocona -mtune=haswell -ftree-vectorize -fPIC -fstack-protector-strong -fno-plt -O2 -ffunction-sections -pipe -isystem /home/molel/.conda/envs/fenicsx-env/include -DNDEBUG -D_FORTIFY_SOURCE=2 -O2 -isystem /home/molel/.conda/envs/fenicsx-env/include -fPIC -I/home/molel/.conda/envs/fenicsx-env/lib/python3.10/site-packages/ffcx/codegeneration -I/home/molel/.conda/envs/fenicsx-env/include/python3.10 -c libffcx_forms_3469c63da5c6bb8a461ce31689a7ebf3a4724fe4.c -o ./libffcx_forms_3469c63da5c6bb8a461ce31689a7ebf3a4724fe4.o -O2 -g0\n",
      "INFO:root:/home/molel/.conda/envs/fenicsx-env/bin/x86_64-conda-linux-gnu-cc -shared -Wl,--allow-shlib-undefined -Wl,-rpath,/home/molel/.conda/envs/fenicsx-env/lib -Wl,-rpath-link,/home/molel/.conda/envs/fenicsx-env/lib -L/home/molel/.conda/envs/fenicsx-env/lib -Wl,--allow-shlib-undefined -Wl,-rpath,/home/molel/.conda/envs/fenicsx-env/lib -Wl,-rpath-link,/home/molel/.conda/envs/fenicsx-env/lib -L/home/molel/.conda/envs/fenicsx-env/lib -Wl,-O2 -Wl,--sort-common -Wl,--as-needed -Wl,-z,relro -Wl,-z,now -Wl,--disable-new-dtags -Wl,--gc-sections -Wl,--allow-shlib-undefined -Wl,-rpath,/home/molel/.conda/envs/fenicsx-env/lib -Wl,-rpath-link,/home/molel/.conda/envs/fenicsx-env/lib -L/home/molel/.conda/envs/fenicsx-env/lib -march=nocona -mtune=haswell -ftree-vectorize -fPIC -fstack-protector-strong -fno-plt -O2 -ffunction-sections -pipe -isystem /home/molel/.conda/envs/fenicsx-env/include -DNDEBUG -D_FORTIFY_SOURCE=2 -O2 -isystem /home/molel/.conda/envs/fenicsx-env/include ./libffcx_forms_3469c63da5c6bb8a461ce31689a7ebf3a4724fe4.o -o ./libffcx_forms_3469c63da5c6bb8a461ce31689a7ebf3a4724fe4.cpython-310-x86_64-linux-gnu.so\n",
      "INFO:root:running build_ext\n",
      "INFO:root:building 'libffcx_expressions_159a446e64f32ec960d386e92f9c109804e722a8' extension\n",
      "INFO:root:/home/molel/.conda/envs/fenicsx-env/bin/x86_64-conda-linux-gnu-cc -Wno-unused-result -Wsign-compare -DNDEBUG -fwrapv -O2 -Wall -fPIC -O2 -isystem /home/molel/.conda/envs/fenicsx-env/include -fPIC -O2 -isystem /home/molel/.conda/envs/fenicsx-env/include -march=nocona -mtune=haswell -ftree-vectorize -fPIC -fstack-protector-strong -fno-plt -O2 -ffunction-sections -pipe -isystem /home/molel/.conda/envs/fenicsx-env/include -DNDEBUG -D_FORTIFY_SOURCE=2 -O2 -isystem /home/molel/.conda/envs/fenicsx-env/include -fPIC -I/home/molel/.conda/envs/fenicsx-env/lib/python3.10/site-packages/ffcx/codegeneration -I/home/molel/.conda/envs/fenicsx-env/include/python3.10 -c libffcx_expressions_159a446e64f32ec960d386e92f9c109804e722a8.c -o ./libffcx_expressions_159a446e64f32ec960d386e92f9c109804e722a8.o -O2 -g0\n"
     ]
    },
    {
     "name": "stdout",
     "output_type": "stream",
     "text": [
      "-4490.825799163008\n"
     ]
    },
    {
     "name": "stderr",
     "output_type": "stream",
     "text": [
      "INFO:root:/home/molel/.conda/envs/fenicsx-env/bin/x86_64-conda-linux-gnu-cc -shared -Wl,--allow-shlib-undefined -Wl,-rpath,/home/molel/.conda/envs/fenicsx-env/lib -Wl,-rpath-link,/home/molel/.conda/envs/fenicsx-env/lib -L/home/molel/.conda/envs/fenicsx-env/lib -Wl,--allow-shlib-undefined -Wl,-rpath,/home/molel/.conda/envs/fenicsx-env/lib -Wl,-rpath-link,/home/molel/.conda/envs/fenicsx-env/lib -L/home/molel/.conda/envs/fenicsx-env/lib -Wl,-O2 -Wl,--sort-common -Wl,--as-needed -Wl,-z,relro -Wl,-z,now -Wl,--disable-new-dtags -Wl,--gc-sections -Wl,--allow-shlib-undefined -Wl,-rpath,/home/molel/.conda/envs/fenicsx-env/lib -Wl,-rpath-link,/home/molel/.conda/envs/fenicsx-env/lib -L/home/molel/.conda/envs/fenicsx-env/lib -march=nocona -mtune=haswell -ftree-vectorize -fPIC -fstack-protector-strong -fno-plt -O2 -ffunction-sections -pipe -isystem /home/molel/.conda/envs/fenicsx-env/include -DNDEBUG -D_FORTIFY_SOURCE=2 -O2 -isystem /home/molel/.conda/envs/fenicsx-env/include ./libffcx_expressions_159a446e64f32ec960d386e92f9c109804e722a8.o -o ./libffcx_expressions_159a446e64f32ec960d386e92f9c109804e722a8.cpython-310-x86_64-linux-gnu.so\n",
      "INFO:root:running build_ext\n",
      "INFO:root:building 'libffcx_forms_fd1d6b441223ea585e6b0ca0ffcd958a17400e4b' extension\n",
      "INFO:root:/home/molel/.conda/envs/fenicsx-env/bin/x86_64-conda-linux-gnu-cc -Wno-unused-result -Wsign-compare -DNDEBUG -fwrapv -O2 -Wall -fPIC -O2 -isystem /home/molel/.conda/envs/fenicsx-env/include -fPIC -O2 -isystem /home/molel/.conda/envs/fenicsx-env/include -march=nocona -mtune=haswell -ftree-vectorize -fPIC -fstack-protector-strong -fno-plt -O2 -ffunction-sections -pipe -isystem /home/molel/.conda/envs/fenicsx-env/include -DNDEBUG -D_FORTIFY_SOURCE=2 -O2 -isystem /home/molel/.conda/envs/fenicsx-env/include -fPIC -I/home/molel/.conda/envs/fenicsx-env/lib/python3.10/site-packages/ffcx/codegeneration -I/home/molel/.conda/envs/fenicsx-env/include/python3.10 -c libffcx_forms_fd1d6b441223ea585e6b0ca0ffcd958a17400e4b.c -o ./libffcx_forms_fd1d6b441223ea585e6b0ca0ffcd958a17400e4b.o -O2 -g0\n",
      "INFO:root:/home/molel/.conda/envs/fenicsx-env/bin/x86_64-conda-linux-gnu-cc -shared -Wl,--allow-shlib-undefined -Wl,-rpath,/home/molel/.conda/envs/fenicsx-env/lib -Wl,-rpath-link,/home/molel/.conda/envs/fenicsx-env/lib -L/home/molel/.conda/envs/fenicsx-env/lib -Wl,--allow-shlib-undefined -Wl,-rpath,/home/molel/.conda/envs/fenicsx-env/lib -Wl,-rpath-link,/home/molel/.conda/envs/fenicsx-env/lib -L/home/molel/.conda/envs/fenicsx-env/lib -Wl,-O2 -Wl,--sort-common -Wl,--as-needed -Wl,-z,relro -Wl,-z,now -Wl,--disable-new-dtags -Wl,--gc-sections -Wl,--allow-shlib-undefined -Wl,-rpath,/home/molel/.conda/envs/fenicsx-env/lib -Wl,-rpath-link,/home/molel/.conda/envs/fenicsx-env/lib -L/home/molel/.conda/envs/fenicsx-env/lib -march=nocona -mtune=haswell -ftree-vectorize -fPIC -fstack-protector-strong -fno-plt -O2 -ffunction-sections -pipe -isystem /home/molel/.conda/envs/fenicsx-env/include -DNDEBUG -D_FORTIFY_SOURCE=2 -O2 -isystem /home/molel/.conda/envs/fenicsx-env/include ./libffcx_forms_fd1d6b441223ea585e6b0ca0ffcd958a17400e4b.o -o ./libffcx_forms_fd1d6b441223ea585e6b0ca0ffcd958a17400e4b.cpython-310-x86_64-linux-gnu.so\n"
     ]
    },
    {
     "name": "stdout",
     "output_type": "stream",
     "text": [
      "-4452.03016388655\n",
      "-4413.234528610093\n",
      "-4374.438893333635\n",
      "-4335.643258057177\n",
      "-4296.84762278072\n",
      "-4258.051987504262\n",
      "-4219.256352227804\n",
      "-4180.4607169513465\n",
      "-4141.66508167489\n",
      "-4102.869446398432\n",
      "-4064.073811121974\n",
      "-4025.278175845516\n",
      "-3986.4825405690585\n",
      "-3947.6869052926013\n",
      "-3908.8912700161436\n",
      "-3870.095634739686\n",
      "-3831.2999994632282\n",
      "-3792.5043641867705\n",
      "-3753.708728910313\n",
      "-3714.913093633855\n",
      "-3676.1174583573975\n",
      "-3637.32182308094\n",
      "-3598.526187804482\n",
      "-3559.7305525280244\n",
      "-3520.9349172515667\n",
      "-3482.139281975109\n",
      "-3443.3436466986514\n",
      "-3404.5480114221937\n",
      "-3365.7523761457364\n",
      "-3326.9567408692787\n",
      "-3288.161105592821\n",
      "-3249.3654703163634\n",
      "-3210.5698350399057\n",
      "-3171.7741997634485\n",
      "-3132.9785644869908\n",
      "-3094.182929210533\n",
      "-3055.3872939340754\n",
      "-3016.5916586576177\n",
      "-2977.79602338116\n",
      "-2939.0003881047023\n",
      "-2900.2047528282446\n",
      "-2861.409117551787\n",
      "-2822.6134822753293\n",
      "-2783.8178469988716\n",
      "-2745.022211722414\n",
      "-2706.226576445956\n",
      "-2667.4309411694985\n"
     ]
    },
    {
     "ename": "KeyboardInterrupt",
     "evalue": "",
     "output_type": "error",
     "traceback": [
      "\u001b[0;31m---------------------------------------------------------------------------\u001b[0m",
      "\u001b[0;31mKeyboardInterrupt\u001b[0m                         Traceback (most recent call last)",
      "Cell \u001b[0;32mIn [97], line 18\u001b[0m\n\u001b[1;32m     16\u001b[0m new_v \u001b[38;5;241m=\u001b[39m fem\u001b[38;5;241m.\u001b[39mExpression(check_condition(current, v), W\u001b[38;5;241m.\u001b[39melement\u001b[38;5;241m.\u001b[39minterpolation_points())\n\u001b[1;32m     17\u001b[0m cdf_fun2\u001b[38;5;241m.\u001b[39minterpolate(new_v)\n\u001b[0;32m---> 18\u001b[0m lpvalue \u001b[38;5;241m=\u001b[39m fem\u001b[38;5;241m.\u001b[39massemble_scalar(fem\u001b[38;5;241m.\u001b[39mform(cdf_fun2 \u001b[38;5;241m*\u001b[39m ds(markers\u001b[38;5;241m.\u001b[39mleft_cc))) \u001b[38;5;241m/\u001b[39m area_left_cc\n\u001b[1;32m     19\u001b[0m rpvalue \u001b[38;5;241m=\u001b[39m fem\u001b[38;5;241m.\u001b[39massemble_scalar(fem\u001b[38;5;241m.\u001b[39mform(cdf_fun2 \u001b[38;5;241m*\u001b[39m ds(markers\u001b[38;5;241m.\u001b[39mright_cc))) \u001b[38;5;241m/\u001b[39m area_right_cc\n\u001b[1;32m     20\u001b[0m cdf_values\u001b[38;5;241m.\u001b[39mappend({\u001b[38;5;124m'\u001b[39m\u001b[38;5;124mi [A/m2]\u001b[39m\u001b[38;5;124m'\u001b[39m: v, \u001b[38;5;124m\"\u001b[39m\u001b[38;5;124mp_left\u001b[39m\u001b[38;5;124m\"\u001b[39m: lpvalue, \u001b[38;5;124m\"\u001b[39m\u001b[38;5;124mp_right\u001b[39m\u001b[38;5;124m\"\u001b[39m: rpvalue})\n",
      "File \u001b[0;32m~/.conda/envs/fenicsx-env/lib/python3.10/site-packages/dolfinx/fem/forms.py:166\u001b[0m, in \u001b[0;36mform\u001b[0;34m(form, dtype, form_compiler_params, jit_params)\u001b[0m\n\u001b[1;32m    163\u001b[0m         \u001b[38;5;28;01mreturn\u001b[39;00m \u001b[38;5;28mlist\u001b[39m(\u001b[38;5;28mmap\u001b[39m(\u001b[38;5;28;01mlambda\u001b[39;00m sub_form: _create_form(sub_form), form))\n\u001b[1;32m    164\u001b[0m     \u001b[38;5;28;01mreturn\u001b[39;00m form\n\u001b[0;32m--> 166\u001b[0m \u001b[38;5;28;01mreturn\u001b[39;00m \u001b[43m_create_form\u001b[49m\u001b[43m(\u001b[49m\u001b[43mform\u001b[49m\u001b[43m)\u001b[49m\n",
      "File \u001b[0;32m~/.conda/envs/fenicsx-env/lib/python3.10/site-packages/dolfinx/fem/forms.py:161\u001b[0m, in \u001b[0;36mform.<locals>._create_form\u001b[0;34m(form)\u001b[0m\n\u001b[1;32m    158\u001b[0m \u001b[38;5;250m\u001b[39m\u001b[38;5;124;03m\"\"\"Recursively convert ufl.Forms to dolfinx.fem.Form, otherwise\u001b[39;00m\n\u001b[1;32m    159\u001b[0m \u001b[38;5;124;03mreturn form argument\"\"\"\u001b[39;00m\n\u001b[1;32m    160\u001b[0m \u001b[38;5;28;01mif\u001b[39;00m \u001b[38;5;28misinstance\u001b[39m(form, ufl\u001b[38;5;241m.\u001b[39mForm):\n\u001b[0;32m--> 161\u001b[0m     \u001b[38;5;28;01mreturn\u001b[39;00m \u001b[43m_form\u001b[49m\u001b[43m(\u001b[49m\u001b[43mform\u001b[49m\u001b[43m)\u001b[49m\n\u001b[1;32m    162\u001b[0m \u001b[38;5;28;01melif\u001b[39;00m \u001b[38;5;28misinstance\u001b[39m(form, collections\u001b[38;5;241m.\u001b[39mabc\u001b[38;5;241m.\u001b[39mIterable):\n\u001b[1;32m    163\u001b[0m     \u001b[38;5;28;01mreturn\u001b[39;00m \u001b[38;5;28mlist\u001b[39m(\u001b[38;5;28mmap\u001b[39m(\u001b[38;5;28;01mlambda\u001b[39;00m sub_form: _create_form(sub_form), form))\n",
      "File \u001b[0;32m~/.conda/envs/fenicsx-env/lib/python3.10/site-packages/dolfinx/fem/forms.py:155\u001b[0m, in \u001b[0;36mform.<locals>._form\u001b[0;34m(form)\u001b[0m\n\u001b[1;32m    149\u001b[0m \u001b[38;5;66;03m# Subdomain markers (possibly None for some dimensions)\u001b[39;00m\n\u001b[1;32m    150\u001b[0m subdomains \u001b[38;5;241m=\u001b[39m {_cpp\u001b[38;5;241m.\u001b[39mfem\u001b[38;5;241m.\u001b[39mIntegralType\u001b[38;5;241m.\u001b[39mcell: subdomains\u001b[38;5;241m.\u001b[39mget(\u001b[38;5;124m\"\u001b[39m\u001b[38;5;124mcell\u001b[39m\u001b[38;5;124m\"\u001b[39m),\n\u001b[1;32m    151\u001b[0m               _cpp\u001b[38;5;241m.\u001b[39mfem\u001b[38;5;241m.\u001b[39mIntegralType\u001b[38;5;241m.\u001b[39mexterior_facet: subdomains\u001b[38;5;241m.\u001b[39mget(\u001b[38;5;124m\"\u001b[39m\u001b[38;5;124mexterior_facet\u001b[39m\u001b[38;5;124m\"\u001b[39m),\n\u001b[1;32m    152\u001b[0m               _cpp\u001b[38;5;241m.\u001b[39mfem\u001b[38;5;241m.\u001b[39mIntegralType\u001b[38;5;241m.\u001b[39minterior_facet: subdomains\u001b[38;5;241m.\u001b[39mget(\u001b[38;5;124m\"\u001b[39m\u001b[38;5;124minterior_facet\u001b[39m\u001b[38;5;124m\"\u001b[39m),\n\u001b[1;32m    153\u001b[0m               _cpp\u001b[38;5;241m.\u001b[39mfem\u001b[38;5;241m.\u001b[39mIntegralType\u001b[38;5;241m.\u001b[39mvertex: subdomains\u001b[38;5;241m.\u001b[39mget(\u001b[38;5;124m\"\u001b[39m\u001b[38;5;124mvertex\u001b[39m\u001b[38;5;124m\"\u001b[39m)}\n\u001b[0;32m--> 155\u001b[0m \u001b[38;5;28;01mreturn\u001b[39;00m \u001b[43mformcls\u001b[49m\u001b[43m(\u001b[49m\u001b[43mufcx_form\u001b[49m\u001b[43m,\u001b[49m\u001b[43m \u001b[49m\u001b[43mV\u001b[49m\u001b[43m,\u001b[49m\u001b[43m \u001b[49m\u001b[43mcoeffs\u001b[49m\u001b[43m,\u001b[49m\u001b[43m \u001b[49m\u001b[43mconstants\u001b[49m\u001b[43m,\u001b[49m\u001b[43m \u001b[49m\u001b[43msubdomains\u001b[49m\u001b[43m,\u001b[49m\u001b[43m \u001b[49m\u001b[43mmesh\u001b[49m\u001b[43m,\u001b[49m\u001b[43m \u001b[49m\u001b[43mmodule\u001b[49m\u001b[38;5;241;43m.\u001b[39;49m\u001b[43mffi\u001b[49m\u001b[43m,\u001b[49m\u001b[43m \u001b[49m\u001b[43mcode\u001b[49m\u001b[43m)\u001b[49m\n",
      "File \u001b[0;32m~/.conda/envs/fenicsx-env/lib/python3.10/site-packages/dolfinx/fem/forms.py:51\u001b[0m, in \u001b[0;36mFormMetaClass.__init__\u001b[0;34m(self, form, V, coeffs, constants, subdomains, mesh, ffi, code)\u001b[0m\n\u001b[1;32m     49\u001b[0m \u001b[38;5;28mself\u001b[39m\u001b[38;5;241m.\u001b[39m_code \u001b[38;5;241m=\u001b[39m code\n\u001b[1;32m     50\u001b[0m \u001b[38;5;28mself\u001b[39m\u001b[38;5;241m.\u001b[39m_ufcx_form \u001b[38;5;241m=\u001b[39m form\n\u001b[0;32m---> 51\u001b[0m \u001b[38;5;28;43msuper\u001b[39;49m\u001b[43m(\u001b[49m\u001b[43m)\u001b[49m\u001b[38;5;241;43m.\u001b[39;49m\u001b[38;5;21;43m__init__\u001b[39;49m\u001b[43m(\u001b[49m\u001b[43mffi\u001b[49m\u001b[38;5;241;43m.\u001b[39;49m\u001b[43mcast\u001b[49m\u001b[43m(\u001b[49m\u001b[38;5;124;43m\"\u001b[39;49m\u001b[38;5;124;43muintptr_t\u001b[39;49m\u001b[38;5;124;43m\"\u001b[39;49m\u001b[43m,\u001b[49m\u001b[43m \u001b[49m\u001b[43mffi\u001b[49m\u001b[38;5;241;43m.\u001b[39;49m\u001b[43maddressof\u001b[49m\u001b[43m(\u001b[49m\u001b[38;5;28;43mself\u001b[39;49m\u001b[38;5;241;43m.\u001b[39;49m\u001b[43m_ufcx_form\u001b[49m\u001b[43m)\u001b[49m\u001b[43m)\u001b[49m\u001b[43m,\u001b[49m\n\u001b[1;32m     52\u001b[0m \u001b[43m                 \u001b[49m\u001b[43mV\u001b[49m\u001b[43m,\u001b[49m\u001b[43m \u001b[49m\u001b[43mcoeffs\u001b[49m\u001b[43m,\u001b[49m\u001b[43m \u001b[49m\u001b[43mconstants\u001b[49m\u001b[43m,\u001b[49m\u001b[43m \u001b[49m\u001b[43msubdomains\u001b[49m\u001b[43m,\u001b[49m\u001b[43m \u001b[49m\u001b[43mmesh\u001b[49m\u001b[43m)\u001b[49m\n",
      "\u001b[0;31mKeyboardInterrupt\u001b[0m: "
     ]
    }
   ],
   "source": [
    "min_cd = np.min(current.x.array)\n",
    "max_cd = np.max(current.x.array)\n",
    "cd_space = np.linspace(min_cd, max_cd, num=1000)\n",
    "cdf_values = []\n",
    "Id = ufl.Identity(3)\n",
    "EPS = 1e-30\n",
    "\n",
    "\n",
    "def check_condition(v1, check_value=1):\n",
    "    v2 = lambda x: check_value * (x[0] + EPS) / (x[0] + EPS)\n",
    "    cdf_fun.interpolate(v2)\n",
    "    return ufl.conditional(ufl.le(v1, cdf_fun), 1, 0)\n",
    "\n",
    "for v in cd_space:\n",
    "    new_v = fem.Expression(check_condition(current, v), W.element.interpolation_points())\n",
    "    cdf_fun2.interpolate(new_v)\n",
    "    lpvalue = fem.assemble_scalar(fem.form(cdf_fun2 * ds(markers.left_cc))) / area_left_cc\n",
    "    rpvalue = fem.assemble_scalar(fem.form(cdf_fun2 * ds(markers.right_cc))) / area_right_cc\n",
    "    cdf_values.append({'i [A/m2]': v, \"p_left\": lpvalue, \"p_right\": rpvalue})\n",
    "stats_path = os.path.join(data_dir, 'cdf.csv')\n",
    "with open(stats_path, 'w') as fp:\n",
    "    writer = csv.DictWriter(fp, fieldnames=['i [A/m2]', 'p_left', 'p_right'])\n",
    "    writer.writeheader()\n",
    "    for row in cdf_values:\n",
    "        writer.writerow(row)"
   ]
  },
  {
   "cell_type": "code",
   "execution_count": null,
   "id": "34efd503",
   "metadata": {},
   "outputs": [],
   "source": []
  },
  {
   "cell_type": "code",
   "execution_count": null,
   "id": "e34d90ed",
   "metadata": {},
   "outputs": [],
   "source": []
  },
  {
   "cell_type": "code",
   "execution_count": null,
   "id": "bd2a1bf2",
   "metadata": {},
   "outputs": [],
   "source": []
  },
  {
   "cell_type": "code",
   "execution_count": null,
   "id": "d042ac5c",
   "metadata": {},
   "outputs": [],
   "source": []
  }
 ],
 "metadata": {
  "kernelspec": {
   "display_name": "fenicsx-env",
   "language": "python",
   "name": "fenicsx-env"
  },
  "language_info": {
   "codemirror_mode": {
    "name": "ipython",
    "version": 3
   },
   "file_extension": ".py",
   "mimetype": "text/x-python",
   "name": "python",
   "nbconvert_exporter": "python",
   "pygments_lexer": "ipython3",
   "version": "3.10.11"
  }
 },
 "nbformat": 4,
 "nbformat_minor": 5
}
