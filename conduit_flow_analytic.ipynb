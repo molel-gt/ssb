{
 "cells": [
  {
   "cell_type": "code",
   "execution_count": 1,
   "id": "6a2c73f8-2d4d-4dfe-9f69-06f2d256259e",
   "metadata": {},
   "outputs": [],
   "source": [
    "import os\n",
    "import matplotlib.pyplot as plt\n",
    "import numpy as np\n",
    "import pandas as pd\n",
    "import scipy.special as sp\n",
    "import sympy\n",
    "from IPython.display import Image\n",
    "from matplotlib import rc\n",
    "\n",
    "import warnings\n",
    "\n",
    "import utils\n",
    "\n",
    "warnings.simplefilter(\"ignore\")"
   ]
  },
  {
   "cell_type": "code",
   "execution_count": 2,
   "id": "f61301a2-e3f1-4ec5-a74c-4257cd6d2696",
   "metadata": {},
   "outputs": [],
   "source": [
    "workdir = 'figures/conduit_flow'\n",
    "utils.make_dir_if_missing(workdir)"
   ]
  },
  {
   "cell_type": "code",
   "execution_count": 3,
   "id": "23dc48c2-71a4-40df-ba42-9af13425e789",
   "metadata": {},
   "outputs": [],
   "source": [
    "labelsize = 14\n",
    "figsize = (5, 4.5)\n",
    "ext = \"eps\"\n",
    "rc('font', **{'family': 'serif', 'serif': ['Computer Modern']})\n",
    "rc('text', usetex=True)\n",
    "params = {\n",
    "    'figure.figsize': figsize,\n",
    "    # 'text.usetex' : True,\n",
    "    'font.size' : 12,\n",
    "    # 'font.family' : 'iopams',\n",
    "    'axes.labelsize': labelsize,\n",
    "    'legend.fontsize': 12,\n",
    "    # 'text.latex.unicode': True,\n",
    "}\n",
    "plt.rcParams.update(params)"
   ]
  },
  {
   "cell_type": "code",
   "execution_count": 4,
   "id": "a452843f-e06e-4106-a301-8af16fababc2",
   "metadata": {},
   "outputs": [],
   "source": [
    "# PATH = os.path.join(\"/home/lmolel/OneDrive/PhD/Figures/\")"
   ]
  },
  {
   "cell_type": "code",
   "execution_count": 5,
   "id": "56a897f7-9eec-4db3-9c39-1319f5cdc251",
   "metadata": {},
   "outputs": [],
   "source": [
    "# Image(filename=os.path.join(PATH, \"conduit.png\"))#, width=100, height=100)"
   ]
  },
  {
   "cell_type": "code",
   "execution_count": 6,
   "id": "8bc8da8d-7c30-4419-bb7f-b0a7a4f90dc1",
   "metadata": {},
   "outputs": [],
   "source": [
    "# Image(filename=os.path.join(PATH, \"conduit-mapping.png\"))#, width=100, height=100)"
   ]
  },
  {
   "cell_type": "code",
   "execution_count": 7,
   "id": "53568023-2cea-471c-a777-9f821a3704db",
   "metadata": {},
   "outputs": [],
   "source": [
    "# Image(filename=os.path.join(PATH, \"conduit-2.png\"))#, width=100, height=100)"
   ]
  },
  {
   "cell_type": "markdown",
   "id": "3ed164da-339e-4b30-b4b5-2d23bfc078cd",
   "metadata": {},
   "source": [
    "## First Mapping\n",
    "\n",
    "In the first mapping, we have:\n",
    "\n",
    "\\begin{equation*}\n",
    "w = \\int_{z_0}^z \\frac{1}{(s + b)^{\\frac{1}{2}} (s + 1)^{\\frac{1}{2}} (s - b)^{\\frac{1}{2}} (s - 1)^{\\frac{1}{2}}}\\mathrm{ds}\n",
    "\\end{equation*}\n",
    "\n",
    "In the second mapping, we have:\n",
    "\\begin{equation*}\n",
    "w = \\int_{z_0}^z \\frac{1}{(s + b)^{\\frac{1}{2}} (s + a)^{\\frac{1}{2}} (s - b)^{\\frac{1}{2}} (s - a)^{\\frac{1}{2}}}\\mathrm{ds}\n",
    "\\end{equation*}\n",
    "\n",
    "### Geometric ratios\n",
    "\\begin{equation*}\n",
    "b = \\frac{2H}{L}\n",
    "\\end{equation*}\n",
    "\n",
    "\\begin{equation*}\n",
    "a = 1 - \\frac{2w}{L}\n",
    "\\end{equation*}"
   ]
  },
  {
   "cell_type": "code",
   "execution_count": 8,
   "id": "a7e641f1-7c6c-403c-8500-606759d7f85c",
   "metadata": {},
   "outputs": [],
   "source": [
    "def get_half_chi_re(a):\n",
    "    lb = 0.5 * (1 + a)\n",
    "    ub = 1\n",
    "    x = sympy.Symbol('x', real=True)\n",
    "    integ = sympy.Integral(1/((1 - x**2) * (x**2 - a**2)) ** 0.5, (x, lb, ub)).evalf()\n",
    "    re = sympy.re(integ)\n",
    "    im = sympy.im(integ)\n",
    "\n",
    "    return re\n",
    "\n",
    "def get_chi_im_max(a):\n",
    "    x = sympy.Symbol('x', real=True)\n",
    "    integ = sympy.Integral(1/((x**2 - 1) * (x**2 - a**2)) ** 0.5, (x, -1, 1)).evalf()\n",
    "    re = sympy.re(integ)\n",
    "    im = sympy.im(integ)\n",
    "\n",
    "    return re"
   ]
  },
  {
   "cell_type": "code",
   "execution_count": 9,
   "id": "e8d45700-6d90-495d-b3be-6707902d181b",
   "metadata": {},
   "outputs": [],
   "source": [
    "def Q(a, b):\n",
    "    \"\"\"\n",
    "    Dimensionless flow rate\n",
    "    \"\"\"\n",
    "    chi_im_max = get_chi_im_max(a)\n",
    "    x = sympy.Symbol('x', real=True)\n",
    "    integ = sympy.Integral((b**2 - x**2) ** 0.5 / (x**2 - a ** 2) ** 0.5, (x, a, 1)).evalf()\n",
    "    re = sympy.re(integ)\n",
    "    im = sympy.im(integ)\n",
    "\n",
    "    return re / chi_im_max"
   ]
  },
  {
   "cell_type": "code",
   "execution_count": 10,
   "id": "ebd61b76-e261-489f-b4e3-d826ca5121d1",
   "metadata": {},
   "outputs": [],
   "source": [
    "def q(a, b, x):\n",
    "    chi_im_max = get_chi_im_max(a)\n",
    "    return (b**2 - x**2) ** 0.5 / (x**2 - a ** 2) ** 0.5 / chi_im_max"
   ]
  },
  {
   "cell_type": "code",
   "execution_count": 11,
   "id": "6eaf07ce-1555-4c69-a1d9-3e5af51463b8",
   "metadata": {},
   "outputs": [
    {
     "name": "stderr",
     "output_type": "stream",
     "text": [
      "The PostScript backend does not support transparency; partially transparent artists will be rendered opaque.\n"
     ]
    },
    {
     "data": {
      "image/png": "[encoded data removed]",
      "text/plain": [
       "<Figure size 500x450 with 1 Axes>"
      ]
     },
     "metadata": {},
     "output_type": "display_data"
    }
   ],
   "source": [
    "df = pd.read_csv(\"experimental/geometric-factors.csv\")\n",
    "fig, ax = plt.subplots()\n",
    "df_seg = df[np.isclose(df['h_over_L'], 0.5)]\n",
    "df_seg1 = df[np.isclose(df['h_over_L'], 0.25)]\n",
    "df_seg2 = df[np.isclose(df['h_over_L'], 0.075)]\n",
    "ax.plot(df_seg['w_over_L'], 1 - df_seg['a'], label='0.500');\n",
    "ax.plot(df_seg1['w_over_L'], 1 - df_seg1['a'], label='0.250');\n",
    "ax.plot(df_seg2['w_over_L'], 1 - df_seg2['a'], label='0.075');\n",
    "ax.legend(title=r'$\\frac{h}{L}$');\n",
    "ax.set_box_aspect(1);\n",
    "ax.set_xlabel(r'$\\frac{w}{L}$');\n",
    "ax.set_ylabel(r'$1 - a$');\n",
    "ax.set_ylim([-0.01, 1.01]);\n",
    "ax.minorticks_on();\n",
    "plt.tight_layout();\n",
    "plt.savefig(f'{workdir}/a-values.{ext}', format=ext)"
   ]
  },
  {
   "cell_type": "code",
   "execution_count": 16,
   "id": "6d9e9e62-cbbc-4f54-a5df-1f939e80ad70",
   "metadata": {},
   "outputs": [
    {
     "name": "stderr",
     "output_type": "stream",
     "text": [
      "The PostScript backend does not support transparency; partially transparent artists will be rendered opaque.\n"
     ]
    },
    {
     "data": {
      "image/png": "[encoded data removed]",
      "text/plain": [
       "<Figure size 500x450 with 1 Axes>"
      ]
     },
     "metadata": {},
     "output_type": "display_data"
    }
   ],
   "source": [
    "fig, ax = plt.subplots()\n",
    "b_values = df_seg['b'].to_numpy()\n",
    "h_over_L = df_seg['h_over_L'].to_numpy()\n",
    "w_over_L = df_seg['w_over_L'].to_numpy()\n",
    "a_values = df_seg['a'].to_numpy()\n",
    "k_values = df_seg['k'].to_numpy()\n",
    "\n",
    "q_values = []\n",
    "k = k_values[0]\n",
    "b = b_values[0]\n",
    "s_over_w = []\n",
    "for a in a_values:\n",
    "    phi = np.arcsin(a)\n",
    "    L = 2 * sp.ellipk(k**2)\n",
    "    w = sp.ellipk(k**2) - sp.ellipkinc(phi, k**2)\n",
    "    qbar = Q(a, b)/w\n",
    "    q_values.append(qbar)\n",
    "    s_over_w.append(L/w - 2)\n",
    "ax.plot(s_over_w, q_values, label=f'{h_over_L[0]}');\n",
    "\n",
    "# new plot\n",
    "b_values = df_seg1['b'].to_numpy()\n",
    "h_over_L = df_seg1['h_over_L'].to_numpy()\n",
    "w_over_L = df_seg1['w_over_L'].to_numpy()\n",
    "a_values = df_seg1['a'].to_numpy()\n",
    "k_values = df_seg1['k'].to_numpy()\n",
    "\n",
    "q_values = []\n",
    "k = k_values[0]\n",
    "b = b_values[0]\n",
    "s_over_w = []\n",
    "for a in a_values:\n",
    "    phi = np.arcsin(a)\n",
    "    L = 2 * sp.ellipk(k**2)\n",
    "    w = sp.ellipk(k**2) - sp.ellipkinc(phi, k**2)\n",
    "    qbar = Q(a, b)/w\n",
    "    q_values.append(qbar)\n",
    "    s_over_w.append(L/w - 2)\n",
    "ax.plot(s_over_w, q_values, label=f'{h_over_L[0]}');\n",
    "\n",
    "# new plot\n",
    "b_values = df_seg2['b'].to_numpy()\n",
    "h_over_L = df_seg2['h_over_L'].to_numpy()\n",
    "w_over_L = df_seg2['w_over_L'].to_numpy()\n",
    "a_values = df_seg2['a'].to_numpy()\n",
    "k_values = df_seg2['k'].to_numpy()\n",
    "\n",
    "q_values = []\n",
    "k = k_values[0]\n",
    "b = b_values[0]\n",
    "s_over_w = []\n",
    "for a in a_values:\n",
    "    phi = np.arcsin(a)\n",
    "    L = 2 * sp.ellipk(k**2)\n",
    "    w = sp.ellipk(k**2) - sp.ellipkinc(phi, k**2)\n",
    "    qbar = Q(a, b)/w\n",
    "    q_values.append(qbar)\n",
    "    s_over_w.append(L/w - 2)\n",
    "ax.plot(s_over_w, q_values, label=f'{h_over_L[0]}');\n",
    "\n",
    "# formatting\n",
    "ax.legend(title=r'$\\frac{h}{L}$');\n",
    "ax.set_box_aspect(1);\n",
    "ax.set_xlabel(r'$\\frac{s}{w}$');\n",
    "ax.set_ylabel(r'$\\tilde{q}$');\n",
    "ax.minorticks_on();\n",
    "ax.semilogx();\n",
    "ax.semilogy();\n",
    "plt.tight_layout();\n",
    "plt.savefig(f'{workdir}/qtilde.{ext}', format=ext);"
   ]
  },
  {
   "cell_type": "code",
   "execution_count": 13,
   "id": "6ad2e85f-9c55-422a-860e-aec876656639",
   "metadata": {},
   "outputs": [
    {
     "name": "stderr",
     "output_type": "stream",
     "text": [
      "The PostScript backend does not support transparency; partially transparent artists will be rendered opaque.\n"
     ]
    },
    {
     "data": {
      "image/png": "[encoded data removed]",
      "text/plain": [
       "<Figure size 500x450 with 1 Axes>"
      ]
     },
     "metadata": {},
     "output_type": "display_data"
    }
   ],
   "source": [
    "fig, ax = plt.subplots()\n",
    "b_values = df_seg['b'].to_numpy()\n",
    "h_over_L = df_seg['h_over_L'].to_numpy()\n",
    "w_over_L = df_seg['w_over_L'].to_numpy()\n",
    "a_values = df_seg['a'].to_numpy()\n",
    "k_values = df_seg['k'].to_numpy()\n",
    "s_over_w = []\n",
    "r_values = []\n",
    "k = k_values[0]\n",
    "b = b_values[0]\n",
    "for a in a_values:\n",
    "    phi = np.arcsin(a)\n",
    "    L = 2 * sp.ellipk(k**2)\n",
    "    L_2w = 2 * sp.ellipkinc(phi, k**2)\n",
    "    w = sp.ellipk(k**2) - sp.ellipkinc(phi, k**2)\n",
    "    qtilde = Q(a, b)/w * L_2w\n",
    "    r_values.append(1/qtilde)\n",
    "    s_over_w.append(L/w - 2)\n",
    "ax.plot(s_over_w, q_values, label=f'{h_over_L[0]}');\n",
    "\n",
    "# new plot\n",
    "b_values = df_seg1['b'].to_numpy()\n",
    "h_over_L = df_seg1['h_over_L'].to_numpy()\n",
    "w_over_L = df_seg1['w_over_L'].to_numpy()\n",
    "a_values = df_seg1['a'].to_numpy()\n",
    "k_values = df_seg1['k'].to_numpy()\n",
    "s_over_w = []\n",
    "\n",
    "r_values = []\n",
    "k = k_values[0]\n",
    "b = b_values[0]\n",
    "for a in a_values:\n",
    "    phi = np.arcsin(a)\n",
    "    L = 2 * sp.ellipk(k**2)\n",
    "    L_2w = 2 * sp.ellipkinc(phi, k**2)\n",
    "    w = sp.ellipk(k**2) - sp.ellipkinc(phi, k**2)\n",
    "    qtilde = Q(a, b)/w * L_2w\n",
    "    r_values.append(1/qtilde)\n",
    "    s_over_w.append(L/w - 2)\n",
    "ax.plot(s_over_w, r_values, label=f'{h_over_L[0]}');\n",
    "\n",
    "# new plot\n",
    "b_values = df_seg2['b'].to_numpy()\n",
    "h_over_L = df_seg2['h_over_L'].to_numpy()\n",
    "w_over_L = df_seg2['w_over_L'].to_numpy()\n",
    "a_values = df_seg2['a'].to_numpy()\n",
    "k_values = df_seg2['k'].to_numpy()\n",
    "s_over_w = []\n",
    "\n",
    "r_values = []\n",
    "k = k_values[0]\n",
    "b = b_values[0]\n",
    "for a in a_values:\n",
    "    phi = np.arcsin(a)\n",
    "    L = 2 * sp.ellipk(k**2)\n",
    "    L_2w = 2 * sp.ellipkinc(phi, k**2)\n",
    "    w = sp.ellipk(k**2) - sp.ellipkinc(phi, k**2)\n",
    "    qtilde = Q(a, b)/w * L_2w\n",
    "    r_values.append(1/qtilde)\n",
    "    s_over_w.append(L/w - 2)\n",
    "ax.plot(s_over_w, r_values, label=f'{h_over_L[0]}');\n",
    "\n",
    "# formatting\n",
    "ax.legend(title=r'$\\frac{h}{L}$');\n",
    "ax.set_box_aspect(1);\n",
    "ax.set_xlabel(r'$\\frac{s}{w}$');\n",
    "ax.set_ylabel(r'$\\tilde{R}$');\n",
    "ax.minorticks_on();\n",
    "ax.semilogx();\n",
    "ax.semilogy();\n",
    "plt.tight_layout();\n",
    "plt.savefig(f'{workdir}/rtilde.{ext}', format=ext);"
   ]
  },
  {
   "cell_type": "code",
   "execution_count": 14,
   "id": "b721a2a2-af47-449a-9ef9-b2c38b983f8f",
   "metadata": {},
   "outputs": [],
   "source": [
    "# eps = 1e-9\n",
    "# z_dist = np.linspace(a_values[0] - eps, 1, num=10001)\n",
    "# q_loc = [q(a_values[0], b_values[0], z) for z in z_dist]"
   ]
  },
  {
   "cell_type": "code",
   "execution_count": 15,
   "id": "822c556b-4671-4af2-93e5-13ea91876f90",
   "metadata": {},
   "outputs": [],
   "source": [
    "# fig, ax = plt.subplots()\n",
    "# ax.plot(z_dist - a_values[0], q_loc);\n",
    "# # ax.legend();\n",
    "# ax.set_box_aspect(1);\n",
    "# ax.set_xlabel(r'$\\Vert z - z*\\Vert$');\n",
    "# ax.semilogx();\n",
    "# # ax.semilogy();\n",
    "# ax.minorticks_on()\n",
    "# ax.set_ylabel(r'$\\tilde{q}$');\n",
    "# plt.tight_layout();"
   ]
  },
  {
   "cell_type": "code",
   "execution_count": null,
   "id": "030c218f-6877-4c8f-8bf9-7d8165cf1c2b",
   "metadata": {},
   "outputs": [],
   "source": []
  }
 ],
 "metadata": {
  "kernelspec": {
   "display_name": "Python [conda env:fea-env] *",
   "language": "python",
   "name": "conda-env-fea-env-py"
  },
  "language_info": {
   "codemirror_mode": {
    "name": "ipython",
    "version": 3
   },
   "file_extension": ".py",
   "mimetype": "text/x-python",
   "name": "python",
   "nbconvert_exporter": "python",
   "pygments_lexer": "ipython3",
   "version": "3.12.4"
  }
 },
 "nbformat": 4,
 "nbformat_minor": 5
}
