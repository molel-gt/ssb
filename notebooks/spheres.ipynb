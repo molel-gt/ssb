{
 "cells": [
  {
   "cell_type": "code",
   "execution_count": 14,
   "metadata": {},
   "outputs": [
    {
     "name": "stderr",
     "output_type": "stream",
     "text": [
      "Warning : Gmsh has aleady been initialized\n"
     ]
    }
   ],
   "source": [
    "import os\n",
    "import warnings\n",
    "warnings.filterwarnings(\"ignore\")\n",
    "import gmsh\n",
    "import meshio\n",
    "import numpy as np\n",
    "gmsh.initialize()"
   ]
  },
  {
   "cell_type": "code",
   "execution_count": 15,
   "metadata": {},
   "outputs": [],
   "source": [
    "def read_spheres_position_file(spheres_position_path):\n",
    "    \"\"\"\n",
    "    Reads file input that contains the centers of spheres. The path is assumed to have\n",
    "    been generated using code from Skoge et al.\n",
    "    \"\"\"\n",
    "    centers = []\n",
    "    radius = 0\n",
    "    n = 0\n",
    "    with open(spheres_position_path) as fp:\n",
    "        for i, row in enumerate(fp.readlines()):\n",
    "            if i < 2:\n",
    "                continue\n",
    "            if i == 2:\n",
    "                n = int(row)\n",
    "            if i == 3:\n",
    "                radius = float(row)\n",
    "            if i < 6:\n",
    "                continue\n",
    "            x, y, z, _ = row.split(' ')\n",
    "            centers.append((float(x), float(y), float(z)))\n",
    "    return centers, float(radius)/2, n\n"
   ]
  },
  {
   "cell_type": "code",
   "execution_count": 16,
   "metadata": {},
   "outputs": [],
   "source": [
    "gmsh.model.add(\"3D\")\n",
    "Lx, Ly, Lz = 1, 1, 1\n",
    "resolution = 0.025\n",
    "channel = gmsh.model.occ.addBox(0, 0, 0, Lx, Ly, Lz)"
   ]
  },
  {
   "cell_type": "code",
   "execution_count": 17,
   "metadata": {},
   "outputs": [],
   "source": [
    "spheres_ = []\n",
    "centers, r, n_spheres = read_spheres_position_file(\"/home/leshinka/spheres/write.dat\")\n",
    "for center in centers:\n",
    "    x, y, z = center\n",
    "    sphere = gmsh.model.occ.addSphere(*center, r)\n",
    "    spheres_.append(sphere)\n",
    "channel = gmsh.model.occ.cut([(3, channel)], [(3, sphere) for sphere in spheres_])"
   ]
  },
  {
   "cell_type": "code",
   "execution_count": 18,
   "metadata": {},
   "outputs": [],
   "source": [
    "gmsh.model.occ.synchronize()\n",
    "volumes = gmsh.model.getEntities(dim=3)"
   ]
  },
  {
   "cell_type": "code",
   "execution_count": 19,
   "metadata": {},
   "outputs": [],
   "source": [
    "marker = 11\n",
    "gmsh.model.addPhysicalGroup(volumes[0][0], [volumes[0][1]], marker)\n",
    "gmsh.model.setPhysicalName(volumes[0][0], marker, \"conductor\")"
   ]
  },
  {
   "cell_type": "code",
   "execution_count": 20,
   "metadata": {},
   "outputs": [],
   "source": [
    "surfaces = gmsh.model.occ.getEntities(dim=2)\n",
    "left_marker = 1\n",
    "right_marker = 3\n",
    "sphere_marker = 5\n",
    "spheres = []\n",
    "walls = []\n",
    "for surface in surfaces:\n",
    "    com = gmsh.model.occ.getCenterOfMass(surface[0], surface[1])\n",
    "    if np.allclose(com, [0, Ly/2, Lz/2]):\n",
    "        gmsh.model.addPhysicalGroup(surface[0], [surface[1]], left_marker)\n",
    "        left = surface[1]\n",
    "        gmsh.model.setPhysicalName(surface[0], left_marker, \"left\")\n",
    "    elif np.allclose(com, [Lx, Ly/2, Lz/2]):\n",
    "        gmsh.model.addPhysicalGroup(surface[0], [surface[1]], right_marker)\n",
    "        gmsh.model.setPhysicalName(surface[0], right_marker, \"right\")\n",
    "        right = surface[1]\n",
    "    elif np.isclose(com[2], 0) or np.isclose(com[1], Ly) or np.isclose(com[2], Lz) or np.isclose(com[1], 0):\n",
    "        walls.append(surface[1])\n",
    "    else:\n",
    "        spheres.append(surface[1])\n",
    "gmsh.model.addPhysicalGroup(2, spheres, sphere_marker)\n",
    "gmsh.model.setPhysicalName(2, sphere_marker, \"sphere\")\n",
    "\n",
    "gmsh.model.mesh.field.add(\"Distance\", 1)\n",
    "gmsh.model.mesh.field.setNumbers(1, \"FacesList\", spheres)\n",
    "\n",
    "gmsh.model.mesh.field.add(\"Threshold\", 2)\n",
    "gmsh.model.mesh.field.setNumber(2, \"IField\", 1)\n",
    "gmsh.model.mesh.field.setNumber(2, \"LcMin\", resolution)\n",
    "gmsh.model.mesh.field.setNumber(2, \"LcMax\", 20*resolution)\n",
    "gmsh.model.mesh.field.setNumber(2, \"DistMin\", 0.5*r)\n",
    "gmsh.model.mesh.field.setNumber(2, \"DistMax\", r)\n",
    "\n",
    "gmsh.model.mesh.field.add(\"Min\", 5)\n",
    "gmsh.model.mesh.field.setNumbers(5, \"FieldsList\", [2])\n",
    "gmsh.model.mesh.field.setAsBackgroundMesh(5)"
   ]
  },
  {
   "cell_type": "code",
   "execution_count": 21,
   "metadata": {},
   "outputs": [
    {
     "name": "stdout",
     "output_type": "stream",
     "text": [
      "Info    : Meshing 1D...\n",
      "Info    : [ 10%] Meshing curve 17 (Circle)\n",
      "Info    : [ 10%] Meshing curve 26 (Circle)\n",
      "Info    : [ 20%] Meshing curve 35 (Circle)\n",
      "Info    : [ 20%] Meshing curve 37 (Line)\n",
      "Info    : [ 20%] Meshing curve 38 (Circle)\n",
      "Info    : [ 20%] Meshing curve 39 (Line)\n",
      "Info    : [ 20%] Meshing curve 40 (Line)\n",
      "Info    : [ 30%] Meshing curve 41 (Circle)\n",
      "Info    : [ 30%] Meshing curve 42 (Line)\n",
      "Info    : [ 30%] Meshing curve 43 (Line)\n",
      "Info    : [ 30%] Meshing curve 44 (Line)\n",
      "Info    : [ 30%] Meshing curve 45 (Circle)\n",
      "Info    : [ 30%] Meshing curve 46 (Circle)\n",
      "Info    : [ 40%] Meshing curve 47 (Line)\n",
      "Info    : [ 40%] Meshing curve 48 (Line)\n",
      "Info    : [ 40%] Meshing curve 49 (Circle)\n",
      "Info    : [ 40%] Meshing curve 50 (Line)\n",
      "Info    : [ 40%] Meshing curve 51 (Circle)\n",
      "Info    : [ 40%] Meshing curve 52 (Circle)\n",
      "Info    : [ 50%] Meshing curve 55 (Circle)\n",
      "Info    : [ 50%] Meshing curve 56 (Circle)\n",
      "Info    : [ 50%] Meshing curve 57 (Line)\n",
      "Info    : [ 50%] Meshing curve 58 (Circle)\n",
      "Info    : [ 60%] Meshing curve 59 (Circle)\n",
      "Info    : [ 60%] Meshing curve 60 (Line)\n",
      "Info    : [ 60%] Meshing curve 61 (Line)\n",
      "Info    : [ 60%] Meshing curve 62 (Circle)\n",
      "Info    : [ 60%] Meshing curve 64 (Line)\n",
      "Info    : [ 70%] Meshing curve 65 (Circle)\n",
      "Info    : [ 70%] Meshing curve 66 (Line)\n",
      "Info    : [ 70%] Meshing curve 67 (Circle)\n",
      "Info    : [ 70%] Meshing curve 68 (Line)\n",
      "Info    : [ 70%] Meshing curve 69 (Circle)\n",
      "Info    : [ 70%] Meshing curve 70 (Circle)\n",
      "Info    : [ 80%] Meshing curve 75 (Circle)\n",
      "Info    : [ 80%] Meshing curve 76 (Circle)\n",
      "Info    : [ 90%] Meshing curve 77 (Circle)\n",
      "Info    : [ 90%] Meshing curve 78 (Circle)\n",
      "Info    : [ 90%] Meshing curve 81 (Circle)\n",
      "Info    : [100%] Meshing curve 83 (Circle)\n",
      "Info    : [100%] Meshing curve 86 (Circle)\n",
      "Info    : Done meshing 1D (Wall 0.0196796s, CPU 0.020234s)\n",
      "Info    : Meshing 2D...\n",
      "Info    : [  0%] Meshing surface 8 (Sphere, Frontal-Delaunay)\n",
      "Info    : [ 10%] Meshing surface 11 (Sphere, Frontal-Delaunay)\n",
      "Info    : [ 20%] Meshing surface 14 (Sphere, Frontal-Delaunay)\n",
      "Info    : [ 20%] Meshing surface 15 (Plane, Frontal-Delaunay)\n",
      "Info    : [ 30%] Meshing surface 16 (Plane, Frontal-Delaunay)\n",
      "Info    : [ 30%] Meshing surface 17 (Sphere, Frontal-Delaunay)\n",
      "Info    : [ 40%] Meshing surface 18 (Plane, Frontal-Delaunay)\n",
      "Info    : [ 50%] Meshing surface 19 (Sphere, Frontal-Delaunay)\n",
      "Info    : [ 50%] Meshing surface 20 (Plane, Frontal-Delaunay)\n",
      "Info    : [ 60%] Meshing surface 21 (Plane, Frontal-Delaunay)\n",
      "Info    : [ 60%] Meshing surface 22 (Sphere, Frontal-Delaunay)\n",
      "Info    : [ 70%] Meshing surface 23 (Sphere, Frontal-Delaunay)\n",
      "Info    : [ 80%] Meshing surface 24 (Plane, Frontal-Delaunay)\n",
      "Info    : [ 80%] Meshing surface 25 (Sphere, Frontal-Delaunay)\n",
      "Info    : [ 90%] Meshing surface 26 (Sphere, Frontal-Delaunay)\n",
      "Info    : [ 90%] Meshing surface 27 (Sphere, Frontal-Delaunay)\n",
      "Info    : [100%] Meshing surface 28 (Sphere, Frontal-Delaunay)\n",
      "Info    : Done meshing 2D (Wall 0.676045s, CPU 0.68323s)\n",
      "Info    : Meshing 3D...\n",
      "Info    : 3D Meshing 1 volume with 1 connected component\n",
      "Info    : Tetrahedrizing 14759 nodes...\n",
      "Info    : Done tetrahedrizing 14767 nodes (Wall 0.178136s, CPU 0.175544s)\n",
      "Info    : Reconstructing mesh...\n",
      "Info    :  - Creating surface mesh\n",
      "Info    :  - Identifying boundary edges\n",
      "Info    :  - Recovering boundary\n",
      "Info    : Done reconstructing mesh (Wall 0.509704s, CPU 0.506269s)\n",
      "Info    : Found volume 1\n",
      "Info    : Found void region\n",
      "Info    : Found void region\n",
      "Info    : Found void region\n",
      "Info    : It. 0 - 0 nodes created - worst tet radius 11.2788 (nodes removed 0 0)\n",
      "Info    : It. 500 - 490 nodes created - worst tet radius 3.01302 (nodes removed 0 10)\n",
      "Info    : It. 1000 - 990 nodes created - worst tet radius 2.48847 (nodes removed 0 10)\n",
      "Info    : It. 1500 - 1490 nodes created - worst tet radius 2.22294 (nodes removed 0 10)\n",
      "Info    : It. 2000 - 1990 nodes created - worst tet radius 2.06295 (nodes removed 0 10)\n",
      "Info    : It. 2500 - 2490 nodes created - worst tet radius 1.93843 (nodes removed 0 10)\n",
      "Info    : It. 3000 - 2990 nodes created - worst tet radius 1.84104 (nodes removed 0 10)\n",
      "Info    : It. 3500 - 3490 nodes created - worst tet radius 1.75517 (nodes removed 0 10)\n",
      "Info    : It. 4000 - 3990 nodes created - worst tet radius 1.68439 (nodes removed 0 10)\n",
      "Info    : It. 4500 - 4490 nodes created - worst tet radius 1.62695 (nodes removed 0 10)\n",
      "Info    : It. 5000 - 4990 nodes created - worst tet radius 1.5782 (nodes removed 0 10)\n",
      "Info    : It. 5500 - 5490 nodes created - worst tet radius 1.63716 (nodes removed 0 10)\n",
      "Info    : It. 6000 - 5990 nodes created - worst tet radius 1.49563 (nodes removed 0 10)\n",
      "Info    : It. 6500 - 6490 nodes created - worst tet radius 1.45949 (nodes removed 0 10)\n",
      "Info    : It. 7000 - 6990 nodes created - worst tet radius 1.44597 (nodes removed 0 10)\n",
      "Info    : It. 7500 - 7490 nodes created - worst tet radius 1.40321 (nodes removed 0 10)\n",
      "Info    : It. 8000 - 7989 nodes created - worst tet radius 1.37744 (nodes removed 0 11)\n",
      "Info    : It. 8500 - 8489 nodes created - worst tet radius 1.35252 (nodes removed 0 11)\n",
      "Info    : It. 9000 - 8989 nodes created - worst tet radius 1.3291 (nodes removed 0 11)\n",
      "Info    : It. 9500 - 9489 nodes created - worst tet radius 1.30896 (nodes removed 0 11)\n",
      "Info    : It. 10000 - 9989 nodes created - worst tet radius 1.28962 (nodes removed 0 11)\n",
      "Info    : It. 10500 - 10489 nodes created - worst tet radius 1.27172 (nodes removed 0 11)\n",
      "Info    : It. 11000 - 10989 nodes created - worst tet radius 1.25502 (nodes removed 0 11)\n",
      "Info    : It. 11500 - 11489 nodes created - worst tet radius 1.238 (nodes removed 0 11)\n",
      "Info    : It. 12000 - 11989 nodes created - worst tet radius 1.22056 (nodes removed 0 11)\n",
      "Info    : It. 12500 - 12489 nodes created - worst tet radius 1.20445 (nodes removed 0 11)\n",
      "Info    : It. 13000 - 12989 nodes created - worst tet radius 1.18998 (nodes removed 0 11)\n",
      "Info    : It. 13500 - 13489 nodes created - worst tet radius 1.17622 (nodes removed 0 11)\n",
      "Info    : It. 14000 - 13989 nodes created - worst tet radius 1.16425 (nodes removed 0 11)\n",
      "Info    : It. 14500 - 14489 nodes created - worst tet radius 1.15164 (nodes removed 0 11)\n",
      "Info    : It. 15000 - 14989 nodes created - worst tet radius 1.13962 (nodes removed 0 11)\n",
      "Info    : It. 15500 - 15489 nodes created - worst tet radius 1.12835 (nodes removed 0 11)\n",
      "Info    : It. 16000 - 15989 nodes created - worst tet radius 1.1186 (nodes removed 0 11)\n",
      "Info    : It. 16500 - 16489 nodes created - worst tet radius 1.10863 (nodes removed 0 11)\n",
      "Info    : It. 17000 - 16989 nodes created - worst tet radius 1.0986 (nodes removed 0 11)\n",
      "Info    : It. 17500 - 17489 nodes created - worst tet radius 1.08861 (nodes removed 0 11)\n",
      "Info    : It. 18000 - 17989 nodes created - worst tet radius 1.07993 (nodes removed 0 11)\n",
      "Info    : It. 18500 - 18489 nodes created - worst tet radius 1.07108 (nodes removed 0 11)\n",
      "Info    : It. 19000 - 18989 nodes created - worst tet radius 1.06221 (nodes removed 0 11)\n",
      "Info    : It. 19500 - 19489 nodes created - worst tet radius 1.05398 (nodes removed 0 11)\n",
      "Info    : It. 20000 - 19989 nodes created - worst tet radius 1.04585 (nodes removed 0 11)\n",
      "Info    : It. 20500 - 20489 nodes created - worst tet radius 1.04401 (nodes removed 0 11)\n",
      "Info    : It. 21000 - 20989 nodes created - worst tet radius 1.03084 (nodes removed 0 11)\n",
      "Info    : It. 21500 - 21489 nodes created - worst tet radius 1.02294 (nodes removed 0 11)\n",
      "Info    : It. 22000 - 21989 nodes created - worst tet radius 1.01566 (nodes removed 0 11)\n",
      "Info    : It. 22500 - 22489 nodes created - worst tet radius 1.00878 (nodes removed 0 11)\n",
      "Info    : It. 23000 - 22989 nodes created - worst tet radius 1.00195 (nodes removed 0 11)\n",
      "Info    : 3D refinement terminated (37906 nodes total):\n",
      "Info    :  - 4 Delaunay cavities modified for star shapeness\n",
      "Info    :  - 11 nodes could not be inserted\n",
      "Info    :  - 194245 tetrahedra created in 2.15336 sec. (90205 tets/s)\n",
      "Info    : Done meshing 3D (Wall 3.60489s, CPU 3.62314s)\n",
      "Info    : Optimizing mesh...\n",
      "Info    : Optimizing volume 1\n",
      "Info    : Optimization starts (volume = 0.771584) with worst = 0.00135921 / average = 0.773689:\n",
      "Info    : 0.00 < quality < 0.10 :       417 elements\n",
      "Info    : 0.10 < quality < 0.20 :      1272 elements\n",
      "Info    : 0.20 < quality < 0.30 :      2206 elements\n",
      "Info    : 0.30 < quality < 0.40 :      3456 elements\n",
      "Info    : 0.40 < quality < 0.50 :      5506 elements\n",
      "Info    : 0.50 < quality < 0.60 :      9647 elements\n",
      "Info    : 0.60 < quality < 0.70 :     21488 elements\n",
      "Info    : 0.70 < quality < 0.80 :     46343 elements\n",
      "Info    : 0.80 < quality < 0.90 :     69357 elements\n",
      "Info    : 0.90 < quality < 1.00 :     34553 elements\n",
      "Info    : 3827 edge swaps, 112 node relocations (volume = 0.771584): worst = 0.00210093 / average = 0.785783 (Wall 0.134785s, CPU 0.135237s)\n",
      "Info    : 3859 edge swaps, 112 node relocations (volume = 0.771584): worst = 0.00210093 / average = 0.78586 (Wall 0.184103s, CPU 0.184926s)\n",
      "Info    : No ill-shaped tets in the mesh :-)\n",
      "Info    : 0.00 < quality < 0.10 :         1 elements\n",
      "Info    : 0.10 < quality < 0.20 :         2 elements\n",
      "Info    : 0.20 < quality < 0.30 :         4 elements\n",
      "Info    : 0.30 < quality < 0.40 :      3450 elements\n",
      "Info    : 0.40 < quality < 0.50 :      5321 elements\n",
      "Info    : 0.50 < quality < 0.60 :      9448 elements\n",
      "Info    : 0.60 < quality < 0.70 :     21478 elements\n",
      "Info    : 0.70 < quality < 0.80 :     46854 elements\n",
      "Info    : 0.80 < quality < 0.90 :     69858 elements\n",
      "Info    : 0.90 < quality < 1.00 :     34410 elements\n",
      "Info    : Done optimizing mesh (Wall 0.560602s, CPU 0.547168s)\n",
      "Info    : 37906 nodes 221347 elements\n"
     ]
    }
   ],
   "source": [
    "gmsh.model.occ.synchronize()\n",
    "gmsh.model.mesh.generate(3)"
   ]
  },
  {
   "cell_type": "code",
   "execution_count": 24,
   "metadata": {},
   "outputs": [
    {
     "name": "stdout",
     "output_type": "stream",
     "text": [
      "Info    : Writing '/home/leshinka/dev/ssb/mesh/spheres.msh'...\n",
      "Info    : Done writing '/home/leshinka/dev/ssb/mesh/spheres.msh'\n"
     ]
    }
   ],
   "source": [
    "file_dir = \"/home/leshinka/dev/ssb/\"\n",
    "gmsh.write(os.path.join(file_dir, \"mesh/spheres.msh\"))"
   ]
  },
  {
   "cell_type": "code",
   "execution_count": 25,
   "metadata": {},
   "outputs": [],
   "source": [
    "def create_mesh(mesh, cell_type, prune_z=False):\n",
    "    cells = mesh.get_cells_type(cell_type)\n",
    "    cell_data = mesh.get_cell_data(\"gmsh:physical\", cell_type)\n",
    "    points = mesh.points[:,:2] if prune_z else mesh.points\n",
    "    out_mesh = meshio.Mesh(points=points, cells={cell_type: cells}, cell_data={\"name_to_read\":[cell_data]})\n",
    "    return out_mesh"
   ]
  },
  {
   "cell_type": "code",
   "execution_count": 26,
   "metadata": {},
   "outputs": [],
   "source": [
    "mesh_3d = meshio.read(os.path.join(file_dir, \"mesh/spheres.msh\"))\n",
    "tetrahedral_mesh = create_mesh(mesh_3d, \"tetra\")\n",
    "meshio.write(os.path.join(file_dir, \"mesh/mesh_tetr.xdmf\"), tetrahedral_mesh)"
   ]
  },
  {
   "cell_type": "code",
   "execution_count": 27,
   "metadata": {},
   "outputs": [
    {
     "name": "stdout",
     "output_type": "stream",
     "text": [
      "done loading tetrahedral mesh\n",
      "done loading tetrahedral mesh\n",
      "setting problem..\n",
      "setting problem..\n",
      "solving problem..\n",
      "solving problem..\n"
     ]
    }
   ],
   "source": [
    "cmd_3d = 'mpirun -n 2 python3 ../transport.py --working_dir=/home/leshinka/dev/ssb/ --grid_info=2-1-1'\n",
    "!{cmd_3d}"
   ]
  }
 ],
 "metadata": {
  "interpreter": {
   "hash": "916dbcbb3f70747c44a77c7bcd40155683ae19c65e1c03b4aa3499c5328201f1"
  },
  "kernelspec": {
   "display_name": "Python 3.8.10 64-bit",
   "language": "python",
   "name": "python3"
  },
  "language_info": {
   "codemirror_mode": {
    "name": "ipython",
    "version": 3
   },
   "file_extension": ".py",
   "mimetype": "text/x-python",
   "name": "python",
   "nbconvert_exporter": "python",
   "pygments_lexer": "ipython3",
   "version": "3.8.10"
  },
  "orig_nbformat": 4
 },
 "nbformat": 4,
 "nbformat_minor": 2
}
