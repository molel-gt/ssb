{
 "cells": [
  {
   "cell_type": "code",
   "execution_count": null,
   "metadata": {},
   "outputs": [],
   "source": [
    "import os\n",
    "import warnings\n",
    "warnings.filterwarnings(\"ignore\")\n",
    "import gmsh\n",
    "import meshio\n",
    "import numpy as np\n",
    "import subprocess\n",
    "gmsh.initialize()"
   ]
  },
  {
   "cell_type": "code",
   "execution_count": null,
   "metadata": {},
   "outputs": [],
   "source": [
    "def read_spheres_position_file(spheres_position_path):\n",
    "    \"\"\"\n",
    "    Reads file input that contains the centers of spheres. The path is assumed to have\n",
    "    been generated using code from Skoge et al.\n",
    "    \"\"\"\n",
    "    centers = []\n",
    "    radius = 0\n",
    "    n = 0\n",
    "    with open(spheres_position_path) as fp:\n",
    "        for i, row in enumerate(fp.readlines()):\n",
    "            if i < 2:\n",
    "                continue\n",
    "            if i == 2:\n",
    "                n = int(row)\n",
    "            if i == 3:\n",
    "                radius = float(row)\n",
    "            if i < 6:\n",
    "                continue\n",
    "            x, y, z, _ = row.split(' ')\n",
    "            centers.append((float(x), float(y), float(z)))\n",
    "    return centers, float(radius)/2, n\n"
   ]
  },
  {
   "cell_type": "code",
   "execution_count": null,
   "metadata": {},
   "outputs": [],
   "source": [
    "def build_packed_spheres_mesh(output_mesh_file, spheres_locations_file):\n",
    "    gmsh.model.add(\"3D\")\n",
    "    Lx, Ly, Lz = 1, 1, 1\n",
    "    resolution = 0.025\n",
    "    channel = gmsh.model.occ.addBox(0, 0, 0, Lx, Ly, Lz)\n",
    "    spheres_ = []\n",
    "    centers, r, n_spheres = read_spheres_position_file(spheres_locations_file)\n",
    "    for center in centers:\n",
    "        x, y, z = center\n",
    "        sphere = gmsh.model.occ.addSphere(*center, r)\n",
    "        spheres_.append(sphere)\n",
    "    channel = gmsh.model.occ.cut([(3, channel)], [(3, sphere) for sphere in spheres_])\n",
    "    gmsh.model.occ.synchronize()\n",
    "    volumes = gmsh.model.getEntities(dim=3)\n",
    "    marker = 11\n",
    "    gmsh.model.addPhysicalGroup(volumes[0][0], [volumes[0][1]], marker)\n",
    "    gmsh.model.setPhysicalName(volumes[0][0], marker, \"conductor\")\n",
    "    surfaces = gmsh.model.occ.getEntities(dim=2)\n",
    "    left_marker = 1\n",
    "    right_marker = 3\n",
    "    sphere_marker = 5\n",
    "    spheres = []\n",
    "    walls = []\n",
    "    for surface in surfaces:\n",
    "        com = gmsh.model.occ.getCenterOfMass(surface[0], surface[1])\n",
    "        if np.allclose(com, [0, Ly/2, Lz/2]):\n",
    "            gmsh.model.addPhysicalGroup(surface[0], [surface[1]], left_marker)\n",
    "            left = surface[1]\n",
    "            gmsh.model.setPhysicalName(surface[0], left_marker, \"left\")\n",
    "        elif np.allclose(com, [Lx, Ly/2, Lz/2]):\n",
    "            gmsh.model.addPhysicalGroup(surface[0], [surface[1]], right_marker)\n",
    "            gmsh.model.setPhysicalName(surface[0], right_marker, \"right\")\n",
    "            right = surface[1]\n",
    "        elif np.isclose(com[2], 0) or np.isclose(com[1], Ly) or np.isclose(com[2], Lz) or np.isclose(com[1], 0):\n",
    "            walls.append(surface[1])\n",
    "        else:\n",
    "            spheres.append(surface[1])\n",
    "    gmsh.model.addPhysicalGroup(2, spheres, sphere_marker)\n",
    "    gmsh.model.setPhysicalName(2, sphere_marker, \"sphere\")\n",
    "\n",
    "    gmsh.model.mesh.field.add(\"Distance\", 1)\n",
    "    gmsh.model.mesh.field.setNumbers(1, \"FacesList\", spheres)\n",
    "\n",
    "    gmsh.model.mesh.field.add(\"Threshold\", 2)\n",
    "    gmsh.model.mesh.field.setNumber(2, \"IField\", 1)\n",
    "    gmsh.model.mesh.field.setNumber(2, \"LcMin\", resolution)\n",
    "    gmsh.model.mesh.field.setNumber(2, \"LcMax\", 20*resolution)\n",
    "    gmsh.model.mesh.field.setNumber(2, \"DistMin\", 0.5*r)\n",
    "    gmsh.model.mesh.field.setNumber(2, \"DistMax\", r)\n",
    "\n",
    "    gmsh.model.mesh.field.add(\"Min\", 5)\n",
    "    gmsh.model.mesh.field.setNumbers(5, \"FieldsList\", [2])\n",
    "    gmsh.model.mesh.field.setAsBackgroundMesh(5)\n",
    "    gmsh.model.occ.synchronize()\n",
    "    gmsh.model.mesh.generate(3)\n",
    "    \n",
    "    gmsh.write(output_mesh_file)\n",
    "    \n",
    "    return"
   ]
  },
  {
   "cell_type": "code",
   "execution_count": null,
   "metadata": {},
   "outputs": [],
   "source": [
    "def create_mesh(mesh, cell_type, prune_z=False):\n",
    "    cells = mesh.get_cells_type(cell_type)\n",
    "    cell_data = mesh.get_cell_data(\"gmsh:physical\", cell_type)\n",
    "    points = mesh.points[:,:2] if prune_z else mesh.points\n",
    "    out_mesh = meshio.Mesh(points=points, cells={cell_type: cells}, cell_data={\"name_to_read\":[cell_data]})\n",
    "    return out_mesh"
   ]
  },
  {
   "cell_type": "code",
   "execution_count": null,
   "metadata": {},
   "outputs": [],
   "source": [
    "if __name__ == '__main__':\n",
    "    spheres_locations_file = \"/home/leshinka/spheres/write.dat\"\n",
    "    task_dir = '/home/leshinka/dev/ssb/'\n",
    "    output_mesh_file = os.path.join(task_dir, \"mesh/spheres.msh\")\n",
    "    build_packed_spheres_mesh(output_mesh_file, spheres_locations_file)\n",
    "    mesh_3d = meshio.read(output_mesh_file)\n",
    "    tetrahedral_mesh = create_mesh(mesh_3d, \"tetra\")\n",
    "    meshio.write(os.path.join(task_dir, \"mesh/mesh_tetr.xdmf\"), tetrahedral_mesh)\n",
    "    val = subprocess.check_call('mpirun -n 2 python3 ../transport.py --working_dir=/home/leshinka/dev/ssb/ --grid_info=2-1-1', shell=True)"
   ]
  }
 ],
 "metadata": {
  "interpreter": {
   "hash": "916dbcbb3f70747c44a77c7bcd40155683ae19c65e1c03b4aa3499c5328201f1"
  },
  "kernelspec": {
   "display_name": "Python 3.8.10 64-bit",
   "language": "python",
   "name": "python3"
  },
  "language_info": {
   "codemirror_mode": {
    "name": "ipython",
    "version": 3
   },
   "file_extension": ".py",
   "mimetype": "text/x-python",
   "name": "python",
   "nbconvert_exporter": "python",
   "pygments_lexer": "ipython3",
   "version": "3.8.10"
  },
  "orig_nbformat": 4
 },
 "nbformat": 4,
 "nbformat_minor": 2
}
