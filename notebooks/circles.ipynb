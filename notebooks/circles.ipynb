{
 "cells": [
  {
   "cell_type": "code",
   "execution_count": 25,
   "metadata": {
    "id": "kQr50QI-VryO"
   },
   "outputs": [],
   "source": [
    "import gmsh\n",
    "import meshio\n",
    "import pygmsh"
   ]
  },
  {
   "cell_type": "markdown",
   "metadata": {},
   "source": [
    "# Initialize Circles in 2D Domain (X, Y)"
   ]
  },
  {
   "cell_type": "code",
   "execution_count": 26,
   "metadata": {
    "id": "NeA3IdhbV1Tu"
   },
   "outputs": [],
   "source": [
    "resolution = 0.005\n",
    "Lx = 10\n",
    "Ly = 10\n",
    "radius = 0.90\n",
    "point0 = (0, 0, 0)\n",
    "point1 = (Lx, 0, 0)\n",
    "point2 = (Lx, Ly, 0)\n",
    "point3 = (0, Ly, 0)\n",
    "\n",
    "centers = [\n",
    "           (1, 1, 0),\n",
    "           (3, 1, 0),\n",
    "           (5, 1, 0),\n",
    "           (7, 1, 0),\n",
    "           (9, 1, 0),\n",
    "           (2, 2.5, 0),\n",
    "           (4, 2.5, 0),\n",
    "           (6, 2.5, 0),\n",
    "           (8, 2.5, 0),\n",
    "           (1, 4.10, 0),\n",
    "           (3, 4.10, 0),\n",
    "           (5, 4.10, 0),\n",
    "           (7, 4.10, 0),\n",
    "           (9, 4.10, 0),\n",
    "           (1, 6, 0),\n",
    "           (3, 6, 0),\n",
    "           (5, 6, 0),\n",
    "           (7, 6, 0),\n",
    "           (9, 6, 0),\n",
    "           (2, 7.5, 0),\n",
    "           (4, 7.5, 0),\n",
    "           (6, 7.5, 0),\n",
    "           (8, 7.5, 0),\n",
    "           (1, 9.10, 0),\n",
    "           (3, 9.10, 0),\n",
    "           (5, 9.10, 0),\n",
    "           (7, 9.10, 0),\n",
    "           (9, 9.10, 0),\n",
    "\n",
    "]\n",
    "r = radius"
   ]
  },
  {
   "cell_type": "markdown",
   "metadata": {},
   "source": [
    "# Generate Mesh"
   ]
  },
  {
   "cell_type": "code",
   "execution_count": 27,
   "metadata": {
    "id": "DegikNTqWONQ"
   },
   "outputs": [],
   "source": [
    "geometry = pygmsh.geo.Geometry()\n",
    "model = geometry.__enter__()"
   ]
  },
  {
   "cell_type": "code",
   "execution_count": 28,
   "metadata": {
    "id": "qAncOyftWbWY"
   },
   "outputs": [],
   "source": [
    "points = [model.add_point(point0, mesh_size=resolution),\n",
    "          model.add_point(point1, mesh_size=resolution),\n",
    "          model.add_point(point2, mesh_size=resolution),\n",
    "          model.add_point(point3, mesh_size=resolution),\n",
    "          ]"
   ]
  },
  {
   "cell_type": "code",
   "execution_count": 29,
   "metadata": {
    "id": "LUHI-NZAWvJm"
   },
   "outputs": [],
   "source": [
    "channel_lines = [model.add_line(points[i], points[i+1])\n",
    "  for i in range(-1, len(points)-1)]\n",
    "channel_loop = model.add_curve_loop(channel_lines)\n",
    "circles = [model.add_circle(c, r, mesh_size=resolution) for c in centers]\n",
    "holes = [circle.curve_loop for circle in circles]\n",
    "plane_surface = model.add_plane_surface(channel_loop, holes=holes)\n",
    "model.synchronize()"
   ]
  },
  {
   "cell_type": "code",
   "execution_count": 30,
   "metadata": {
    "id": "l5iyNdH_XJ6w"
   },
   "outputs": [],
   "source": [
    "volume_marker = 6\n",
    "model.add_physical([plane_surface], \"Volume\")\n",
    "model.add_physical([channel_lines[0]], \"Left\")\n",
    "model.add_physical([channel_lines[2]], \"Right\")\n",
    "model.add_physical([channel_lines[1], channel_lines[3]], \"Insulated\")\n",
    "for i, c in enumerate(circles):\n",
    "    model.add_physical(c.curve_loop.curves, \"void%d\" % i)"
   ]
  },
  {
   "cell_type": "code",
   "execution_count": 31,
   "metadata": {
    "id": "VRS_VNj5XomP"
   },
   "outputs": [],
   "source": [
    "geometry.generate_mesh(dim=2)\n",
    "gmsh.write(\"packed-circles.msh\")\n",
    "gmsh.clear()\n",
    "geometry.__exit__()"
   ]
  },
  {
   "cell_type": "code",
   "execution_count": 32,
   "metadata": {
    "id": "QFzjwE-KYBN4"
   },
   "outputs": [
    {
     "name": "stdout",
     "output_type": "stream",
     "text": [
      "\n"
     ]
    }
   ],
   "source": [
    "mesh_from_file = meshio.read(\"packed-circles.msh\")"
   ]
  },
  {
   "cell_type": "code",
   "execution_count": 33,
   "metadata": {
    "id": "moqlcUkyYP6j"
   },
   "outputs": [],
   "source": [
    "def create_mesh(mesh, cell_type, prune_z=False):\n",
    "    cells = mesh.get_cells_type(cell_type)\n",
    "    cell_data = mesh.get_cell_data(\"gmsh:physical\", cell_type)\n",
    "    points = mesh.points[:,:2] if prune_z else mesh.points\n",
    "    out_mesh = meshio.Mesh(points=points, cells={cell_type: cells}, cell_data={\"name_to_read\":[cell_data]})\n",
    "    return out_mesh"
   ]
  },
  {
   "cell_type": "code",
   "execution_count": 34,
   "metadata": {
    "id": "Nj3cUUnTYTBr"
   },
   "outputs": [],
   "source": [
    "line_mesh = create_mesh(mesh_from_file, \"line\", prune_z=False)\n",
    "meshio.write(\"packed-circles-facets.xdmf\", line_mesh)\n",
    "\n",
    "triangle_mesh = create_mesh(mesh_from_file, \"triangle\", prune_z=False)\n",
    "meshio.write(\"packed-circles.xdmf\", triangle_mesh)\n"
   ]
  },
  {
   "cell_type": "markdown",
   "metadata": {},
   "source": [
    "# Run Fenics Model"
   ]
  },
  {
   "cell_type": "code",
   "execution_count": 35,
   "metadata": {},
   "outputs": [],
   "source": [
    "cmd = 'mpirun -n 2 python3 transport_2d.py %d %s %f %d' % (Ly, 'packed-circles', 0.3, Lx)\n",
    "!{cmd}"
   ]
  }
 ],
 "metadata": {
  "colab": {
   "collapsed_sections": [],
   "name": "transport-ion.ipynb",
   "provenance": []
  },
  "kernelspec": {
   "display_name": "Python 3.8.10 64-bit",
   "language": "python",
   "name": "python3"
  },
  "language_info": {
   "codemirror_mode": {
    "name": "ipython",
    "version": 3
   },
   "file_extension": ".py",
   "mimetype": "text/x-python",
   "name": "python",
   "nbconvert_exporter": "python",
   "pygments_lexer": "ipython3",
   "version": "3.8.10"
  },
  "vscode": {
   "interpreter": {
    "hash": "916dbcbb3f70747c44a77c7bcd40155683ae19c65e1c03b4aa3499c5328201f1"
   }
  }
 },
 "nbformat": 4,
 "nbformat_minor": 1
}
