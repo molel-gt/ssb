{
 "cells": [
  {
   "cell_type": "code",
   "execution_count": 1,
   "id": "d9cbeb3b-db04-4513-b1a3-15ed1274ebfc",
   "metadata": {},
   "outputs": [],
   "source": [
    "import json\n",
    "import os\n",
    "\n",
    "import numpy as np\n",
    "import numpy as np\n",
    "import pandas as pd"
   ]
  },
  {
   "cell_type": "code",
   "execution_count": 2,
   "id": "bb144221-17f2-4385-abce-7f76f5cab60e",
   "metadata": {},
   "outputs": [],
   "source": [
    "def get_simulation_metafile_path(img_id, eps_am, resolution, Wa_n=1e-3, Wa_p=1, kr=1, gamma=15, refined=False):\n",
    "    if refined:\n",
    "        return os.path.join(\"output/reaction_distribution/470-470-45/15-30/\", str(int(img_id)), str(eps_am), str(resolution), f\"{Wa_n}-{Wa_p}-{kr}\", str(gamma), \"simulation.json\")\n",
    "    else:\n",
    "        return os.path.join(\"output/reaction_distribution/470-470-45/15-30/\", str(int(img_id)), str(eps_am), \"unrefined\", str(resolution), f\"{Wa_n}-{Wa_p}-{kr}\", str(gamma), \"simulation.json\")"
   ]
  },
  {
   "cell_type": "code",
   "execution_count": 3,
   "id": "3ddc448b-54c2-414e-8916-57c052f4bb41",
   "metadata": {},
   "outputs": [],
   "source": [
    "def read_simulation_metafile(metafile_path):\n",
    "    with open(metafile_path, \"r\") as fp:\n",
    "        return json.load(fp)"
   ]
  },
  {
   "cell_type": "code",
   "execution_count": 4,
   "id": "ba8a1374-4890-4878-8895-d36070cb98d7",
   "metadata": {},
   "outputs": [
    {
     "ename": "FileNotFoundError",
     "evalue": "[Errno 2] No such file or directory: 'output/reaction_distribution/470-470-45/15-30/1/0.1/unrefined/5.0/0.01-1-1/15/simulation.json'",
     "output_type": "error",
     "traceback": [
      "\u001b[0;31m---------------------------------------------------------------------------\u001b[0m",
      "\u001b[0;31mFileNotFoundError\u001b[0m                         Traceback (most recent call last)",
      "Cell \u001b[0;32mIn[4], line 12\u001b[0m\n\u001b[1;32m     10\u001b[0m \u001b[38;5;28;01mfor\u001b[39;00m kr \u001b[38;5;129;01min\u001b[39;00m krs:\n\u001b[1;32m     11\u001b[0m     sim_metafile \u001b[38;5;241m=\u001b[39m get_simulation_metafile_path(img_id, eps_am, \u001b[38;5;241m5.0\u001b[39m, kr)\n\u001b[0;32m---> 12\u001b[0m     row_data \u001b[38;5;241m=\u001b[39m \u001b[43mread_simulation_metafile\u001b[49m\u001b[43m(\u001b[49m\u001b[43msim_metafile\u001b[49m\u001b[43m)\u001b[49m\n\u001b[1;32m     13\u001b[0m     row_data[\u001b[38;5;124m\"\u001b[39m\u001b[38;5;124meps_am\u001b[39m\u001b[38;5;124m\"\u001b[39m] \u001b[38;5;241m=\u001b[39m eps_am\n\u001b[1;32m     14\u001b[0m     df_rows\u001b[38;5;241m.\u001b[39mappend(row_data)\n",
      "Cell \u001b[0;32mIn[3], line 2\u001b[0m, in \u001b[0;36mread_simulation_metafile\u001b[0;34m(metafile_path)\u001b[0m\n\u001b[1;32m      1\u001b[0m \u001b[38;5;28;01mdef\u001b[39;00m \u001b[38;5;21mread_simulation_metafile\u001b[39m(metafile_path):\n\u001b[0;32m----> 2\u001b[0m     \u001b[38;5;28;01mwith\u001b[39;00m \u001b[38;5;28;43mopen\u001b[39;49m\u001b[43m(\u001b[49m\u001b[43mmetafile_path\u001b[49m\u001b[43m,\u001b[49m\u001b[43m \u001b[49m\u001b[38;5;124;43m\"\u001b[39;49m\u001b[38;5;124;43mr\u001b[39;49m\u001b[38;5;124;43m\"\u001b[39;49m\u001b[43m)\u001b[49m \u001b[38;5;28;01mas\u001b[39;00m fp:\n\u001b[1;32m      3\u001b[0m         \u001b[38;5;28;01mreturn\u001b[39;00m json\u001b[38;5;241m.\u001b[39mload(fp)\n",
      "File \u001b[0;32m~/miniforge3/envs/fea-env/lib/python3.12/site-packages/IPython/core/interactiveshell.py:324\u001b[0m, in \u001b[0;36m_modified_open\u001b[0;34m(file, *args, **kwargs)\u001b[0m\n\u001b[1;32m    317\u001b[0m \u001b[38;5;28;01mif\u001b[39;00m file \u001b[38;5;129;01min\u001b[39;00m {\u001b[38;5;241m0\u001b[39m, \u001b[38;5;241m1\u001b[39m, \u001b[38;5;241m2\u001b[39m}:\n\u001b[1;32m    318\u001b[0m     \u001b[38;5;28;01mraise\u001b[39;00m \u001b[38;5;167;01mValueError\u001b[39;00m(\n\u001b[1;32m    319\u001b[0m         \u001b[38;5;124mf\u001b[39m\u001b[38;5;124m\"\u001b[39m\u001b[38;5;124mIPython won\u001b[39m\u001b[38;5;124m'\u001b[39m\u001b[38;5;124mt let you open fd=\u001b[39m\u001b[38;5;132;01m{\u001b[39;00mfile\u001b[38;5;132;01m}\u001b[39;00m\u001b[38;5;124m by default \u001b[39m\u001b[38;5;124m\"\u001b[39m\n\u001b[1;32m    320\u001b[0m         \u001b[38;5;124m\"\u001b[39m\u001b[38;5;124mas it is likely to crash IPython. If you know what you are doing, \u001b[39m\u001b[38;5;124m\"\u001b[39m\n\u001b[1;32m    321\u001b[0m         \u001b[38;5;124m\"\u001b[39m\u001b[38;5;124myou can use builtins\u001b[39m\u001b[38;5;124m'\u001b[39m\u001b[38;5;124m open.\u001b[39m\u001b[38;5;124m\"\u001b[39m\n\u001b[1;32m    322\u001b[0m     )\n\u001b[0;32m--> 324\u001b[0m \u001b[38;5;28;01mreturn\u001b[39;00m \u001b[43mio_open\u001b[49m\u001b[43m(\u001b[49m\u001b[43mfile\u001b[49m\u001b[43m,\u001b[49m\u001b[43m \u001b[49m\u001b[38;5;241;43m*\u001b[39;49m\u001b[43margs\u001b[49m\u001b[43m,\u001b[49m\u001b[43m \u001b[49m\u001b[38;5;241;43m*\u001b[39;49m\u001b[38;5;241;43m*\u001b[39;49m\u001b[43mkwargs\u001b[49m\u001b[43m)\u001b[49m\n",
      "\u001b[0;31mFileNotFoundError\u001b[0m: [Errno 2] No such file or directory: 'output/reaction_distribution/470-470-45/15-30/1/0.1/unrefined/5.0/0.01-1-1/15/simulation.json'"
     ]
    }
   ],
   "source": [
    "df_rows = []\n",
    "vol_fracs = np.linspace(0.1, 0.6, num=6, dtype=np.float16)\n",
    "image_ids = [1, 11, 16, 22]\n",
    "wagner_nums = [0.1, 1, 10]\n",
    "krs = [0.01, 1, 100]\n",
    "\n",
    "for eps_am in vol_fracs:\n",
    "    for Wa_p in wagner_nums:\n",
    "        for img_id in image_ids:\n",
    "            for kr in krs:\n",
    "                sim_metafile = get_simulation_metafile_path(img_id, eps_am, 5.0, kr)\n",
    "                row_data = read_simulation_metafile(sim_metafile)\n",
    "                row_data[\"eps_am\"] = eps_am\n",
    "                df_rows.append(row_data)\n",
    "\n",
    "data = pd.DataFrame(df_rows, dtype=np.float)"
   ]
  },
  {
   "cell_type": "markdown",
   "id": "e9b6aed5-bc1a-42aa-9090-d26a6a70fe63",
   "metadata": {},
   "source": [
    "### $\\frac{\\kappa}{\\sigma}$ = 0.01"
   ]
  },
  {
   "cell_type": "code",
   "execution_count": null,
   "id": "265eaa0b-b543-4833-a7db-a4f074e2ca2c",
   "metadata": {},
   "outputs": [],
   "source": [
    "df_001 = df[np.isclose(df[\"kr\"], 0.01)]\n",
    "fig, ax = plt.subplots(figsize=(5, 4.5))\n",
    "ax.plot(df_001['eps_am'], df_001['Total resistance [Ω.cm2]'])\n",
    "ax.set_box_aspect(1)\n",
    "ax.set_ylabel(r'R [$\\Omega\\mathrm{cm}^2$]', fontdict={'fontsize': 'xx-large'})\n",
    "ax.set_xlabel(r'$\\varepsilon_{\\mathrm{+ve\\ AM}}$', fontdict={'fontsize': 'xx-large'})\n",
    "plt.tight_layout()"
   ]
  },
  {
   "cell_type": "markdown",
   "id": "71030cc4-4d87-40dc-906e-1c6a0ec8492a",
   "metadata": {},
   "source": [
    "### $\\frac{\\kappa}{\\sigma}$ = 1"
   ]
  },
  {
   "cell_type": "code",
   "execution_count": null,
   "id": "1e2ecf0c-a357-433c-a06e-a6a974bc83f2",
   "metadata": {},
   "outputs": [],
   "source": [
    "df_1 = df[np.isclose(df[\"kr\"], 1)]\n",
    "fig, ax = plt.subplots(figsize=(5, 4.5))\n",
    "ax.plot(df_1['eps_am'], df_1['Total resistance [Ω.cm2]'])\n",
    "ax.set_box_aspect(1)\n",
    "ax.set_ylabel(r'R [$\\Omega\\mathrm{cm}^2$]', fontdict={'fontsize': 'xx-large'})\n",
    "ax.set_xlabel(r'$\\varepsilon_{\\mathrm{+ve\\ AM}}$', fontdict={'fontsize': 'xx-large'})\n",
    "plt.tight_layout()"
   ]
  },
  {
   "cell_type": "markdown",
   "id": "c0b823fa-83fd-405d-ba2f-f8dc1056d833",
   "metadata": {},
   "source": [
    "### $\\frac{\\kappa}{\\sigma}$ = 100"
   ]
  },
  {
   "cell_type": "code",
   "execution_count": 5,
   "id": "6afa16b4-f2ed-4db4-a67a-43c31cf1b707",
   "metadata": {},
   "outputs": [
    {
     "ename": "NameError",
     "evalue": "name 'df' is not defined",
     "output_type": "error",
     "traceback": [
      "\u001b[0;31m---------------------------------------------------------------------------\u001b[0m",
      "\u001b[0;31mNameError\u001b[0m                                 Traceback (most recent call last)",
      "Cell \u001b[0;32mIn[5], line 1\u001b[0m\n\u001b[0;32m----> 1\u001b[0m df_100 \u001b[38;5;241m=\u001b[39m \u001b[43mdf\u001b[49m[np\u001b[38;5;241m.\u001b[39misclose(df[\u001b[38;5;124m\"\u001b[39m\u001b[38;5;124mkr\u001b[39m\u001b[38;5;124m\"\u001b[39m], \u001b[38;5;241m100\u001b[39m)]\n\u001b[1;32m      2\u001b[0m fig, ax \u001b[38;5;241m=\u001b[39m plt\u001b[38;5;241m.\u001b[39msubplots(figsize\u001b[38;5;241m=\u001b[39m(\u001b[38;5;241m5\u001b[39m, \u001b[38;5;241m4.5\u001b[39m))\n\u001b[1;32m      3\u001b[0m ax\u001b[38;5;241m.\u001b[39mplot(df_100[\u001b[38;5;124m'\u001b[39m\u001b[38;5;124meps_am\u001b[39m\u001b[38;5;124m'\u001b[39m], df_100[\u001b[38;5;124m'\u001b[39m\u001b[38;5;124mTotal resistance [Ω.cm2]\u001b[39m\u001b[38;5;124m'\u001b[39m])\n",
      "\u001b[0;31mNameError\u001b[0m: name 'df' is not defined"
     ]
    }
   ],
   "source": [
    "df_100 = df[np.isclose(df[\"kr\"], 100)]\n",
    "fig, ax = plt.subplots(figsize=(5, 4.5))\n",
    "ax.plot(df_100['eps_am'], df_100['Total resistance [Ω.cm2]'])\n",
    "ax.set_box_aspect(1)\n",
    "ax.set_ylabel(r'R [$\\Omega\\mathrm{cm}^2$]', fontdict={'fontsize': 'xx-large'})\n",
    "ax.set_xlabel(r'$\\varepsilon_{\\mathrm{+ve\\ AM}}$', fontdict={'fontsize': 'xx-large'})\n",
    "plt.tight_layout()"
   ]
  },
  {
   "cell_type": "code",
   "execution_count": null,
   "id": "4c590556-b406-4e82-a69d-69d1e6c606d1",
   "metadata": {},
   "outputs": [],
   "source": []
  },
  {
   "cell_type": "code",
   "execution_count": null,
   "id": "e1de8993-254b-47d4-9752-c1e6bb523874",
   "metadata": {},
   "outputs": [],
   "source": []
  },
  {
   "cell_type": "code",
   "execution_count": null,
   "id": "5dba4887-a7bb-4b03-ac07-a7b3be9580fe",
   "metadata": {},
   "outputs": [],
   "source": []
  }
 ],
 "metadata": {
  "kernelspec": {
   "display_name": "FEA",
   "language": "python",
   "name": "fea-env"
  },
  "language_info": {
   "codemirror_mode": {
    "name": "ipython",
    "version": 3
   },
   "file_extension": ".py",
   "mimetype": "text/x-python",
   "name": "python",
   "nbconvert_exporter": "python",
   "pygments_lexer": "ipython3",
   "version": "3.12.3"
  }
 },
 "nbformat": 4,
 "nbformat_minor": 5
}
