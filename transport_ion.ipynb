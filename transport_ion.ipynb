{
 "cells": [
  {
   "cell_type": "code",
   "execution_count": 23,
   "metadata": {
    "colab": {
     "base_uri": "https://localhost:8080/"
    },
    "id": "ZiyWgyFDVAJh",
    "outputId": "05afc3cc-80e4-45c1-b5c2-8c2db2ccfe0f"
   },
   "outputs": [
    {
     "name": "stdout",
     "output_type": "stream",
     "text": [
      "Requirement already up-to-date: meshio in /home/lesh/.local/lib/python3.8/site-packages (5.2.2)\n",
      "Requirement already satisfied, skipping upgrade: rich in /home/lesh/.local/lib/python3.8/site-packages (from meshio) (10.16.1)\n",
      "Requirement already satisfied, skipping upgrade: numpy in /home/lesh/.local/lib/python3.8/site-packages (from meshio) (1.21.5)\n",
      "Requirement already satisfied, skipping upgrade: pygments<3.0.0,>=2.6.0 in /home/lesh/.local/lib/python3.8/site-packages (from rich->meshio) (2.10.0)\n",
      "Requirement already satisfied, skipping upgrade: commonmark<0.10.0,>=0.9.0 in /home/lesh/.local/lib/python3.8/site-packages (from rich->meshio) (0.9.1)\n",
      "Requirement already satisfied, skipping upgrade: colorama<0.5.0,>=0.4.0 in /usr/lib/python3/dist-packages (from rich->meshio) (0.4.3)\n",
      "Requirement already up-to-date: numpy in /home/lesh/.local/lib/python3.8/site-packages (1.21.5)\n",
      "Requirement already up-to-date: gmsh in /home/lesh/.local/lib/python3.8/site-packages (4.9.1)\n",
      "Requirement already up-to-date: pygmsh in /home/lesh/.local/lib/python3.8/site-packages (7.1.14)\n",
      "Requirement already satisfied, skipping upgrade: numpy>=1.20.0 in /home/lesh/.local/lib/python3.8/site-packages (from pygmsh) (1.21.5)\n",
      "Requirement already satisfied, skipping upgrade: gmsh in /home/lesh/.local/lib/python3.8/site-packages (from pygmsh) (4.9.1)\n",
      "Requirement already satisfied, skipping upgrade: meshio<6,>=4.3.2 in /home/lesh/.local/lib/python3.8/site-packages (from pygmsh) (5.2.2)\n",
      "Requirement already satisfied, skipping upgrade: rich in /home/lesh/.local/lib/python3.8/site-packages (from meshio<6,>=4.3.2->pygmsh) (10.16.1)\n",
      "Requirement already satisfied, skipping upgrade: pygments<3.0.0,>=2.6.0 in /home/lesh/.local/lib/python3.8/site-packages (from rich->meshio<6,>=4.3.2->pygmsh) (2.10.0)\n",
      "Requirement already satisfied, skipping upgrade: commonmark<0.10.0,>=0.9.0 in /home/lesh/.local/lib/python3.8/site-packages (from rich->meshio<6,>=4.3.2->pygmsh) (0.9.1)\n",
      "Requirement already satisfied, skipping upgrade: colorama<0.5.0,>=0.4.0 in /usr/lib/python3/dist-packages (from rich->meshio<6,>=4.3.2->pygmsh) (0.4.3)\n"
     ]
    }
   ],
   "source": [
    "!pip3 install -U meshio\n",
    "!pip3 install -U numpy\n",
    "!pip3 install -U gmsh\n",
    "!pip3 install -U pygmsh"
   ]
  },
  {
   "cell_type": "code",
   "execution_count": 24,
   "metadata": {
    "id": "kQr50QI-VryO"
   },
   "outputs": [],
   "source": [
    "import gmsh\n",
    "import meshio\n",
    "import numpy\n",
    "import pygmsh"
   ]
  },
  {
   "cell_type": "code",
   "execution_count": 25,
   "metadata": {
    "id": "NeA3IdhbV1Tu"
   },
   "outputs": [],
   "source": [
    "resolution = 0.01\n",
    "LT = 10\n",
    "LB = 10\n",
    "W = 5\n",
    "\n",
    "point0 = (0, 0, 0)\n",
    "point1 = (LB, 0, 0)\n",
    "point2 = (LT, W, 0)\n",
    "point3 = (0, W, 0)\n",
    "c = (2.5, 2.5, 0)\n",
    "r = 0.5"
   ]
  },
  {
   "cell_type": "code",
   "execution_count": 26,
   "metadata": {
    "id": "DegikNTqWONQ"
   },
   "outputs": [],
   "source": [
    "geometry = pygmsh.geo.Geometry()\n",
    "model = geometry.__enter__()"
   ]
  },
  {
   "cell_type": "code",
   "execution_count": 27,
   "metadata": {
    "id": "qAncOyftWbWY"
   },
   "outputs": [],
   "source": [
    "points = [model.add_point(point0, mesh_size=resolution),\n",
    "          model.add_point(point1, mesh_size=resolution),\n",
    "          model.add_point(point2, mesh_size=resolution),\n",
    "          model.add_point(point3, mesh_size=resolution),\n",
    "          ]"
   ]
  },
  {
   "cell_type": "code",
   "execution_count": 28,
   "metadata": {
    "id": "LUHI-NZAWvJm"
   },
   "outputs": [],
   "source": [
    "channel_lines = [model.add_line(points[i], points[i+1])\n",
    "  for i in range(-1, len(points)-1)]\n",
    "channel_loop = model.add_curve_loop(channel_lines)\n",
    "circle = model.add_circle(c, r, mesh_size=resolution)\n",
    "plane_surface = model.add_plane_surface(channel_loop, holes=[circle.curve_loop])\n",
    "model.synchronize()"
   ]
  },
  {
   "cell_type": "code",
   "execution_count": 29,
   "metadata": {
    "id": "l5iyNdH_XJ6w"
   },
   "outputs": [],
   "source": [
    "volume_marker = 6\n",
    "model.add_physical([plane_surface], \"Volume\")\n",
    "model.add_physical([channel_lines[0]], \"Left\")\n",
    "model.add_physical([channel_lines[2]], \"Right\")\n",
    "model.add_physical([channel_lines[1], channel_lines[3]], \"Insulated\")\n",
    "model.add_physical(circle.curve_loop.curves, \"void\")"
   ]
  },
  {
   "cell_type": "code",
   "execution_count": 30,
   "metadata": {
    "id": "VRS_VNj5XomP"
   },
   "outputs": [],
   "source": [
    "geometry.generate_mesh(dim=2)\n",
    "gmsh.write(\"mesh.msh\")\n",
    "gmsh.clear()\n",
    "geometry.__exit__()"
   ]
  },
  {
   "cell_type": "code",
   "execution_count": 31,
   "metadata": {
    "id": "QFzjwE-KYBN4"
   },
   "outputs": [],
   "source": [
    "mesh_from_file = meshio.read(\"mesh.msh\")"
   ]
  },
  {
   "cell_type": "code",
   "execution_count": 32,
   "metadata": {
    "id": "moqlcUkyYP6j"
   },
   "outputs": [],
   "source": [
    "def create_mesh(mesh, cell_type, prune_z=False):\n",
    "    cells = mesh.get_cells_type(cell_type)\n",
    "    cell_data = mesh.get_cell_data(\"gmsh:physical\", cell_type)\n",
    "    points = mesh.points[:,:2] if prune_z else mesh.points\n",
    "    out_mesh = meshio.Mesh(points=points, cells={cell_type: cells}, cell_data={\"name_to_read\":[cell_data]})\n",
    "    return out_mesh"
   ]
  },
  {
   "cell_type": "code",
   "execution_count": 33,
   "metadata": {
    "id": "Nj3cUUnTYTBr"
   },
   "outputs": [],
   "source": [
    "line_mesh = create_mesh(mesh_from_file, \"line\", prune_z=True)\n",
    "meshio.write(\"facet_mesh.xdmf\", line_mesh)\n",
    "\n",
    "triangle_mesh = create_mesh(mesh_from_file, \"triangle\", prune_z=True)\n",
    "meshio.write(\"mesh.xdmf\", triangle_mesh)\n"
   ]
  }
 ],
 "metadata": {
  "colab": {
   "collapsed_sections": [],
   "name": "transport-ion.ipynb",
   "provenance": []
  },
  "kernelspec": {
   "display_name": "Python 3",
   "language": "python",
   "name": "python3"
  },
  "language_info": {
   "codemirror_mode": {
    "name": "ipython",
    "version": 3
   },
   "file_extension": ".py",
   "mimetype": "text/x-python",
   "name": "python",
   "nbconvert_exporter": "python",
   "pygments_lexer": "ipython3",
   "version": "3.8.10"
  }
 },
 "nbformat": 4,
 "nbformat_minor": 1
}
