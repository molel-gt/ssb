{
 "cells": [
  {
   "cell_type": "code",
   "execution_count": 1,
   "metadata": {
    "id": "kQr50QI-VryO"
   },
   "outputs": [],
   "source": [
    "import gmsh\n",
    "import meshio\n",
    "import pygmsh\n",
    "import h5py\n",
    "import matplotlib.pyplot as plt\n",
    "import numpy as np\n",
    "import pandas as pd\n",
    "import csv"
   ]
  },
  {
   "cell_type": "markdown",
   "metadata": {},
   "source": [
    "# Initialize Circles in 2D Domain (X, Y)"
   ]
  },
  {
   "cell_type": "code",
   "execution_count": 2,
   "metadata": {
    "id": "NeA3IdhbV1Tu"
   },
   "outputs": [],
   "source": [
    "resolution = 0.01\n",
    "Lx = 10\n",
    "Ly = 10\n",
    "radius = 0.90\n",
    "point0 = (0, 0, 0)\n",
    "point1 = (Lx, 0, 0)\n",
    "point2 = (Lx, Ly, 0)\n",
    "point3 = (0, Ly, 0)\n",
    "\n",
    "centers = [\n",
    "           (1, 1, 0),\n",
    "           (3, 1, 0),\n",
    "           (5, 1, 0),\n",
    "           (7, 1, 0),\n",
    "           (9, 1, 0),\n",
    "           (2, 2.5, 0),\n",
    "           (4, 2.5, 0),\n",
    "           (6, 2.5, 0),\n",
    "           (8, 2.5, 0),\n",
    "           (1, 4.10, 0),\n",
    "           (3, 4.10, 0),\n",
    "           (5, 4.10, 0),\n",
    "           (7, 4.10, 0),\n",
    "           (9, 4.10, 0),\n",
    "           (1, 6, 0),\n",
    "           (3, 6, 0),\n",
    "           (5, 6, 0),\n",
    "           (7, 6, 0),\n",
    "           (9, 6, 0),\n",
    "           (2, 7.5, 0),\n",
    "           (4, 7.5, 0),\n",
    "           (6, 7.5, 0),\n",
    "           (8, 7.5, 0),\n",
    "           (1, 9.10, 0),\n",
    "           (3, 9.10, 0),\n",
    "           (5, 9.10, 0),\n",
    "           (7, 9.10, 0),\n",
    "           (9, 9.10, 0),\n",
    "\n",
    "]\n",
    "r = radius"
   ]
  },
  {
   "cell_type": "markdown",
   "metadata": {},
   "source": [
    "# Generate Mesh"
   ]
  },
  {
   "cell_type": "code",
   "execution_count": 3,
   "metadata": {
    "id": "DegikNTqWONQ"
   },
   "outputs": [],
   "source": [
    "geometry = pygmsh.geo.Geometry()\n",
    "model = geometry.__enter__()"
   ]
  },
  {
   "cell_type": "code",
   "execution_count": 4,
   "metadata": {
    "id": "qAncOyftWbWY"
   },
   "outputs": [],
   "source": [
    "points = [model.add_point(point0, mesh_size=resolution),\n",
    "          model.add_point(point1, mesh_size=resolution),\n",
    "          model.add_point(point2, mesh_size=resolution),\n",
    "          model.add_point(point3, mesh_size=resolution),\n",
    "          ]"
   ]
  },
  {
   "cell_type": "code",
   "execution_count": 5,
   "metadata": {
    "id": "LUHI-NZAWvJm"
   },
   "outputs": [],
   "source": [
    "channel_lines = [model.add_line(points[i], points[i+1])\n",
    "  for i in range(-1, len(points)-1)]\n",
    "channel_loop = model.add_curve_loop(channel_lines)\n",
    "circles = [model.add_circle(c, r, mesh_size=resolution) for c in centers]\n",
    "holes = [circle.curve_loop for circle in circles]\n",
    "plane_surface = model.add_plane_surface(channel_loop, holes=holes)\n",
    "model.synchronize()"
   ]
  },
  {
   "cell_type": "code",
   "execution_count": 6,
   "metadata": {
    "id": "l5iyNdH_XJ6w"
   },
   "outputs": [],
   "source": [
    "volume_marker = 6\n",
    "model.add_physical([plane_surface], \"Volume\")\n",
    "model.add_physical([channel_lines[0]], \"Left\")\n",
    "model.add_physical([channel_lines[2]], \"Right\")\n",
    "model.add_physical([channel_lines[1], channel_lines[3]], \"Insulated\")\n",
    "for i, c in enumerate(circles):\n",
    "    model.add_physical(c.curve_loop.curves, \"void%d\" % i)"
   ]
  },
  {
   "cell_type": "code",
   "execution_count": 7,
   "metadata": {
    "id": "VRS_VNj5XomP"
   },
   "outputs": [],
   "source": [
    "geometry.generate_mesh(dim=2)\n",
    "gmsh.write(\"mesh.msh\")\n",
    "gmsh.clear()\n",
    "geometry.__exit__()"
   ]
  },
  {
   "cell_type": "code",
   "execution_count": 8,
   "metadata": {
    "id": "QFzjwE-KYBN4"
   },
   "outputs": [],
   "source": [
    "mesh_from_file = meshio.read(\"mesh.msh\")"
   ]
  },
  {
   "cell_type": "code",
   "execution_count": 9,
   "metadata": {
    "id": "moqlcUkyYP6j"
   },
   "outputs": [],
   "source": [
    "def create_mesh(mesh, cell_type, prune_z=False):\n",
    "    cells = mesh.get_cells_type(cell_type)\n",
    "    cell_data = mesh.get_cell_data(\"gmsh:physical\", cell_type)\n",
    "    points = mesh.points[:,:2] if prune_z else mesh.points\n",
    "    out_mesh = meshio.Mesh(points=points, cells={cell_type: cells}, cell_data={\"name_to_read\":[cell_data]})\n",
    "    return out_mesh"
   ]
  },
  {
   "cell_type": "code",
   "execution_count": 10,
   "metadata": {
    "id": "Nj3cUUnTYTBr"
   },
   "outputs": [],
   "source": [
    "line_mesh = create_mesh(mesh_from_file, \"line\", prune_z=True)\n",
    "meshio.write(\"facet_mesh.xdmf\", line_mesh)\n",
    "\n",
    "triangle_mesh = create_mesh(mesh_from_file, \"triangle\", prune_z=True)\n",
    "meshio.write(\"mesh.xdmf\", triangle_mesh)\n"
   ]
  },
  {
   "cell_type": "markdown",
   "metadata": {},
   "source": [
    "# Run Fenics Model"
   ]
  },
  {
   "cell_type": "code",
   "execution_count": 13,
   "metadata": {},
   "outputs": [
    {
     "name": "stdout",
     "output_type": "stream",
     "text": [
      "done loading triangular mesh\n",
      "done loading triangular mesh\n"
     ]
    }
   ],
   "source": [
    "cmd = 'mpirun -n 2 python3 demo_poisson.py'\n",
    "!{cmd}"
   ]
  },
  {
   "cell_type": "code",
   "execution_count": 19,
   "metadata": {},
   "outputs": [],
   "source": [
    "# load simulation results\n",
    "with h5py.File(\"poisson.h5\", 'r') as hf:\n",
    "    values = hf.get(\"Function/f_4/0\")[:]\n",
    "    positions = hf.get(\"Mesh/Grid/geometry\")[:]\n",
    "\n",
    "positions = np.around(positions, 2)\n",
    "results = np.hstack((positions, values))"
   ]
  },
  {
   "cell_type": "code",
   "execution_count": 20,
   "metadata": {},
   "outputs": [],
   "source": [
    "idx = np.lexsort((results[:, 0], results[:, 1]))\n",
    "results = results[idx]\n",
    "results = pd.DataFrame(results, columns=['x', 'y', 'u'])\n",
    "results = results.groupby(['x', 'y']).mean('u')\n",
    "results.reset_index(inplace=True)\n",
    "results.head(5)\n",
    "results = results.to_numpy()"
   ]
  },
  {
   "cell_type": "code",
   "execution_count": 21,
   "metadata": {},
   "outputs": [],
   "source": [
    "\n",
    "x_series = np.arange(0, Lx + resolution, resolution)\n",
    "y_series = np.arange(0, Ly + resolution, resolution)\n",
    "\n",
    "grad_data = np.zeros(results.shape)\n",
    "avg_cond = []\n",
    "for y_val in y_series:\n",
    "    results_slice = results[np.where(np.isclose(results[:, 1], y_val))]\n",
    "    results_slice = results_slice[np.argsort(results_slice[:, 0])]\n",
    "    x_vals = results_slice[:, 0] / Lx\n",
    "    u_vals = results_slice[:, 2]\n",
    "    grad = -np.divide(u_vals[1:] - u_vals[:-1], x_vals[1:] - x_vals[:-1])\n",
    "    avg_cond.append(np.average(grad))\n",
    "porosity = 1 - len(centers) * np.pi * (radius ** 2) / (Lx * Ly)"
   ]
  },
  {
   "cell_type": "markdown",
   "metadata": {},
   "source": [
    "# Visualize Results"
   ]
  },
  {
   "cell_type": "code",
   "execution_count": 22,
   "metadata": {},
   "outputs": [
    {
     "data": {
      "image/png": "[encoded data removed]",
      "text/plain": [
       "<Figure size 432x288 with 1 Axes>"
      ]
     },
     "metadata": {
      "needs_background": "light"
     },
     "output_type": "display_data"
    },
    {
     "data": {
      "text/plain": [
       "{'Lx': 10,\n",
       " 'Ly': 10,\n",
       " 'radius': 0.9,\n",
       " 'n spheres': 28,\n",
       " 'porosity': 0.2874867861658349,\n",
       " 'model eff. conductivity': 0.22731251620708626,\n",
       " 'bruggeman eff. conductivity': 0.15414407354048432}"
      ]
     },
     "execution_count": 22,
     "metadata": {},
     "output_type": "execute_result"
    }
   ],
   "source": [
    "plt.scatter(y_series, avg_cond)\n",
    "plt.xlabel(r'y')\n",
    "plt.ylabel(r'$\\frac{\\kappa_{eff}}{\\kappa_{bulk}}$')\n",
    "plt.show()\n",
    "results_summary = {\n",
    "    'Lx': Lx,\n",
    "    'Ly': Ly,\n",
    "    'radius': radius,\n",
    "    'n spheres': len(centers),\n",
    "    \"porosity\": porosity,\n",
    "    \"model eff. conductivity\": np.average(avg_cond),\n",
    "    \"bruggeman eff. conductivity\": porosity ** 1.5\n",
    "}\n",
    "with open(\"results-summary.txt\", \"a+\") as fp:\n",
    "    writer = csv.DictWriter(fp, fieldnames=['Lx', 'Ly', 'radius', 'n spheres','porosity', 'model eff. conductivity', 'bruggeman eff. conductivity'])\n",
    "    writer.writerow(results_summary)\n",
    "results_summary"
   ]
  }
 ],
 "metadata": {
  "colab": {
   "collapsed_sections": [],
   "name": "transport-ion.ipynb",
   "provenance": []
  },
  "kernelspec": {
   "display_name": "Python 3",
   "language": "python",
   "name": "python3"
  },
  "language_info": {
   "codemirror_mode": {
    "name": "ipython",
    "version": 3
   },
   "file_extension": ".py",
   "mimetype": "text/x-python",
   "name": "python",
   "nbconvert_exporter": "python",
   "pygments_lexer": "ipython3",
   "version": "3.8.10"
  }
 },
 "nbformat": 4,
 "nbformat_minor": 1
}
