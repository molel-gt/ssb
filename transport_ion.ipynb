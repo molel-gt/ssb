{
 "cells": [
  {
   "cell_type": "code",
   "execution_count": 177,
   "metadata": {
    "id": "kQr50QI-VryO"
   },
   "outputs": [],
   "source": [
    "import gmsh\n",
    "import meshio\n",
    "import numpy\n",
    "import pygmsh\n",
    "import h5py\n",
    "import matplotlib.pyplot as plt\n",
    "import numpy as np\n",
    "import subprocess"
   ]
  },
  {
   "cell_type": "code",
   "execution_count": 178,
   "metadata": {
    "id": "NeA3IdhbV1Tu"
   },
   "outputs": [],
   "source": [
    "resolution = 0.01\n",
    "LT = 10\n",
    "LB = 10\n",
    "W = 5\n",
    "\n",
    "point0 = (0, 0, 0)\n",
    "point1 = (LB, 0, 0)\n",
    "point2 = (LT, W, 0)\n",
    "point3 = (0, W, 0)\n",
    "# c = (2.5, 2.5, 0)\n",
    "centers = [\n",
    "           (1, 1, 0),\n",
    "           (3, 1, 0),\n",
    "           (5, 1, 0),\n",
    "           (7, 1, 0),\n",
    "           (9, 1, 0),\n",
    "           (2, 2.5, 0),\n",
    "           (4, 2.5, 0),\n",
    "           (6, 2.5, 0),\n",
    "           (8, 2.5, 0),\n",
    "           (1, 4.10, 0),\n",
    "           (3, 4.10, 0),\n",
    "           (5, 4.10, 0),\n",
    "           (7, 4.10, 0),\n",
    "           (9, 4.10, 0),\n",
    "\n",
    "]\n",
    "r = 0.85"
   ]
  },
  {
   "cell_type": "code",
   "execution_count": 179,
   "metadata": {
    "id": "DegikNTqWONQ"
   },
   "outputs": [],
   "source": [
    "geometry = pygmsh.geo.Geometry()\n",
    "model = geometry.__enter__()"
   ]
  },
  {
   "cell_type": "code",
   "execution_count": 180,
   "metadata": {
    "id": "qAncOyftWbWY"
   },
   "outputs": [],
   "source": [
    "points = [model.add_point(point0, mesh_size=resolution),\n",
    "          model.add_point(point1, mesh_size=resolution),\n",
    "          model.add_point(point2, mesh_size=resolution),\n",
    "          model.add_point(point3, mesh_size=resolution),\n",
    "          ]"
   ]
  },
  {
   "cell_type": "code",
   "execution_count": 181,
   "metadata": {
    "id": "LUHI-NZAWvJm"
   },
   "outputs": [],
   "source": [
    "channel_lines = [model.add_line(points[i], points[i+1])\n",
    "  for i in range(-1, len(points)-1)]\n",
    "channel_loop = model.add_curve_loop(channel_lines)\n",
    "circles = [model.add_circle(c, r, mesh_size=resolution) for c in centers]\n",
    "holes = [circle.curve_loop for circle in circles]\n",
    "plane_surface = model.add_plane_surface(channel_loop, holes=holes)\n",
    "model.synchronize()"
   ]
  },
  {
   "cell_type": "code",
   "execution_count": 182,
   "metadata": {
    "id": "l5iyNdH_XJ6w"
   },
   "outputs": [],
   "source": [
    "volume_marker = 6\n",
    "model.add_physical([plane_surface], \"Volume\")\n",
    "model.add_physical([channel_lines[0]], \"Left\")\n",
    "model.add_physical([channel_lines[2]], \"Right\")\n",
    "model.add_physical([channel_lines[1], channel_lines[3]], \"Insulated\")\n",
    "for i, c in enumerate(circles):\n",
    "    model.add_physical(c.curve_loop.curves, \"void%d\" % i)"
   ]
  },
  {
   "cell_type": "code",
   "execution_count": 183,
   "metadata": {
    "id": "VRS_VNj5XomP"
   },
   "outputs": [],
   "source": [
    "geometry.generate_mesh(dim=2)\n",
    "gmsh.write(\"mesh.msh\")\n",
    "gmsh.clear()\n",
    "geometry.__exit__()"
   ]
  },
  {
   "cell_type": "code",
   "execution_count": 184,
   "metadata": {
    "id": "QFzjwE-KYBN4"
   },
   "outputs": [],
   "source": [
    "mesh_from_file = meshio.read(\"mesh.msh\")"
   ]
  },
  {
   "cell_type": "code",
   "execution_count": 185,
   "metadata": {
    "id": "moqlcUkyYP6j"
   },
   "outputs": [],
   "source": [
    "def create_mesh(mesh, cell_type, prune_z=False):\n",
    "    cells = mesh.get_cells_type(cell_type)\n",
    "    cell_data = mesh.get_cell_data(\"gmsh:physical\", cell_type)\n",
    "    points = mesh.points[:,:2] if prune_z else mesh.points\n",
    "    out_mesh = meshio.Mesh(points=points, cells={cell_type: cells}, cell_data={\"name_to_read\":[cell_data]})\n",
    "    return out_mesh"
   ]
  },
  {
   "cell_type": "code",
   "execution_count": 186,
   "metadata": {
    "id": "Nj3cUUnTYTBr"
   },
   "outputs": [],
   "source": [
    "line_mesh = create_mesh(mesh_from_file, \"line\", prune_z=True)\n",
    "meshio.write(\"facet_mesh.xdmf\", line_mesh)\n",
    "\n",
    "triangle_mesh = create_mesh(mesh_from_file, \"triangle\", prune_z=True)\n",
    "meshio.write(\"mesh.xdmf\", triangle_mesh)\n"
   ]
  },
  {
   "cell_type": "code",
   "execution_count": 187,
   "metadata": {},
   "outputs": [
    {
     "data": {
      "text/plain": [
       "<subprocess.Popen at 0x7f74098a6dc0>"
      ]
     },
     "execution_count": 187,
     "metadata": {},
     "output_type": "execute_result"
    }
   ],
   "source": [
    "subprocess.Popen([\"mpirun\", \"-n\", \"2\", \"python3 demo_poisson.py\"])"
   ]
  },
  {
   "cell_type": "code",
   "execution_count": 191,
   "metadata": {},
   "outputs": [],
   "source": [
    "# load simulation results\n",
    "with h5py.File(\"poisson.h5\", 'r') as hf:\n",
    "    values = np.asarray(hf.get(\"Function\").get(\"f_4\").get(\"0\"))\n",
    "    positions = np.asarray(hf.get(\"Mesh\").get(\"Grid\").get(\"geometry\"))\n",
    "\n",
    "results = np.hstack((positions, values))"
   ]
  },
  {
   "cell_type": "code",
   "execution_count": 192,
   "metadata": {},
   "outputs": [],
   "source": [
    "idx = np.lexsort((results[:, 0], results[:, 1]))\n",
    "results = results[idx]"
   ]
  },
  {
   "cell_type": "code",
   "execution_count": 193,
   "metadata": {},
   "outputs": [
    {
     "data": {
      "text/plain": [
       "['model: ', 0.8211497157787293, 'bruggeman: ', 0.216]"
      ]
     },
     "execution_count": 193,
     "metadata": {},
     "output_type": "execute_result"
    }
   ],
   "source": [
    "x_series = np.arange(0, 10.01, 0.01)\n",
    "y_series = np.arange(0, 5.01, 0.01)\n",
    "\n",
    "grad_data = np.zeros(results.shape)\n",
    "avg_cond = []\n",
    "for y_val in y_series:\n",
    "    results_slice = results[np.where(np.isclose(results[:, 1], y_val))]\n",
    "    results_slice = results_slice[np.argsort(results_slice[:, 0])]\n",
    "    x_vals = results_slice[:, 0]\n",
    "    u_vals = results_slice[:, 2]\n",
    "    grad = -np.divide(u_vals[1:] - u_vals[:-1], x_vals[1:] - x_vals[:-1])\n",
    "    avg_cond.append(np.average(grad))\n",
    "[\"model: \", np.average(avg_cond), \"bruggeman: \", 0.36**1.5]\n",
    "# plt.scatter(x_vals[:-1], grad)\n",
    "# plt.show()"
   ]
  }
 ],
 "metadata": {
  "colab": {
   "collapsed_sections": [],
   "name": "transport-ion.ipynb",
   "provenance": []
  },
  "kernelspec": {
   "display_name": "Python 3",
   "language": "python",
   "name": "python3"
  },
  "language_info": {
   "codemirror_mode": {
    "name": "ipython",
    "version": 3
   },
   "file_extension": ".py",
   "mimetype": "text/x-python",
   "name": "python",
   "nbconvert_exporter": "python",
   "pygments_lexer": "ipython3",
   "version": "3.8.10"
  }
 },
 "nbformat": 4,
 "nbformat_minor": 1
}
