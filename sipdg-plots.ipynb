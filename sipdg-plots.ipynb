{
 "cells": [
  {
   "cell_type": "code",
   "execution_count": 64,
   "id": "c3dfb014-6b65-496e-a547-622d25e3d405",
   "metadata": {},
   "outputs": [],
   "source": [
    "import itertools\n",
    "import json\n",
    "import os\n",
    "\n",
    "import h5py\n",
    "import matplotlib.pyplot as plt\n",
    "import meshio\n",
    "import numpy as np\n",
    "\n",
    "from adios2 import FileReader, Stream\n",
    "from mpi4py import MPI\n",
    "\n",
    "import commons, geometry, utils"
   ]
  },
  {
   "cell_type": "code",
   "execution_count": 52,
   "id": "65d137e1-280e-4484-a911-20cb06d9bf8a",
   "metadata": {},
   "outputs": [],
   "source": [
    "markers = commons.Markers()"
   ]
  },
  {
   "cell_type": "code",
   "execution_count": 3,
   "id": "a8845f6e-32b4-481f-aca9-6e233bdef19d",
   "metadata": {},
   "outputs": [],
   "source": [
    "def fetch_simulation_metadata(workdir, Wa_n=1e-3, Wa_p=1e-3, gamma=25.0):\n",
    "    metadata_file = os.path.join(workdir, f\"{str(float(Wa_n))}-{str(float(Wa_p))}\", f\"{str(float(gamma))}\", \"simulation.json\")\n",
    "    with open(metadata_file) as f:\n",
    "        data = json.load(f)#[0]\n",
    "    return data\n",
    "\n",
    "def read_node_ids_for_marker(h5_file_obj, marker):\n",
    "    line_ids = np.where(np.asarray(h5_file_obj['data2']) == marker)[0]\n",
    "    lines = np.asarray(h5_file_obj['data1'])[line_ids, :]\n",
    "    nodes = set(list(itertools.chain.from_iterable(lines[line_ids, :].reshape(-1, 1).tolist())))\n",
    "    return nodes"
   ]
  },
  {
   "cell_type": "code",
   "execution_count": 4,
   "id": "4b4610e1-c8a7-4e99-897d-ee0ee05efba5",
   "metadata": {},
   "outputs": [
    {
     "ename": "FileNotFoundError",
     "evalue": "[Errno 2] No such file or directory: 'output/ssb_planar/150-40-0/20-55-20/5.0e-07/0.001-0.001/10.0/simulation.json'",
     "output_type": "error",
     "traceback": [
      "\u001b[0;31m---------------------------------------------------------------------------\u001b[0m",
      "\u001b[0;31mFileNotFoundError\u001b[0m                         Traceback (most recent call last)",
      "Cell \u001b[0;32mIn[4], line 9\u001b[0m\n\u001b[1;32m      6\u001b[0m \u001b[38;5;66;03m# norm_stdev_i_pos_am = []\u001b[39;00m\n\u001b[1;32m      8\u001b[0m \u001b[38;5;28;01mfor\u001b[39;00m Wa_p \u001b[38;5;129;01min\u001b[39;00m positive_wa:\n\u001b[0;32m----> 9\u001b[0m     data \u001b[38;5;241m=\u001b[39m \u001b[43mfetch_simulation_metadata\u001b[49m\u001b[43m(\u001b[49m\u001b[43mssb_planar_workdir\u001b[49m\u001b[43m,\u001b[49m\u001b[43m \u001b[49m\u001b[43mWa_p\u001b[49m\u001b[38;5;241;43m=\u001b[39;49m\u001b[43mWa_p\u001b[49m\u001b[43m,\u001b[49m\u001b[43m \u001b[49m\u001b[43mgamma\u001b[49m\u001b[38;5;241;43m=\u001b[39;49m\u001b[38;5;241;43m10\u001b[39;49m\u001b[43m)\u001b[49m\n\u001b[1;32m     10\u001b[0m     I_left\u001b[38;5;241m.\u001b[39mappend(\u001b[38;5;28mfloat\u001b[39m(data[\u001b[38;5;124m\"\u001b[39m\u001b[38;5;124mCurrent at negative am - electrolyte boundary\u001b[39m\u001b[38;5;124m\"\u001b[39m]\u001b[38;5;241m.\u001b[39mstrip(\u001b[38;5;124m\"\u001b[39m\u001b[38;5;124m A\u001b[39m\u001b[38;5;124m\"\u001b[39m)))\n\u001b[1;32m     11\u001b[0m     I_mid\u001b[38;5;241m.\u001b[39mappend(\u001b[38;5;28mfloat\u001b[39m(data[\u001b[38;5;124m\"\u001b[39m\u001b[38;5;124mCurrent at electrolyte - positive am boundary\u001b[39m\u001b[38;5;124m\"\u001b[39m]\u001b[38;5;241m.\u001b[39mstrip(\u001b[38;5;124m\"\u001b[39m\u001b[38;5;124m A\u001b[39m\u001b[38;5;124m\"\u001b[39m)))\n",
      "Cell \u001b[0;32mIn[3], line 3\u001b[0m, in \u001b[0;36mfetch_simulation_metadata\u001b[0;34m(workdir, Wa_n, Wa_p, gamma)\u001b[0m\n\u001b[1;32m      1\u001b[0m \u001b[38;5;28;01mdef\u001b[39;00m \u001b[38;5;21mfetch_simulation_metadata\u001b[39m(workdir, Wa_n\u001b[38;5;241m=\u001b[39m\u001b[38;5;241m1e-3\u001b[39m, Wa_p\u001b[38;5;241m=\u001b[39m\u001b[38;5;241m1e-3\u001b[39m, gamma\u001b[38;5;241m=\u001b[39m\u001b[38;5;241m25.0\u001b[39m):\n\u001b[1;32m      2\u001b[0m     metadata_file \u001b[38;5;241m=\u001b[39m os\u001b[38;5;241m.\u001b[39mpath\u001b[38;5;241m.\u001b[39mjoin(workdir, \u001b[38;5;124mf\u001b[39m\u001b[38;5;124m\"\u001b[39m\u001b[38;5;132;01m{\u001b[39;00m\u001b[38;5;28mstr\u001b[39m(\u001b[38;5;28mfloat\u001b[39m(Wa_n))\u001b[38;5;132;01m}\u001b[39;00m\u001b[38;5;124m-\u001b[39m\u001b[38;5;132;01m{\u001b[39;00m\u001b[38;5;28mstr\u001b[39m(\u001b[38;5;28mfloat\u001b[39m(Wa_p))\u001b[38;5;132;01m}\u001b[39;00m\u001b[38;5;124m\"\u001b[39m, \u001b[38;5;124mf\u001b[39m\u001b[38;5;124m\"\u001b[39m\u001b[38;5;132;01m{\u001b[39;00m\u001b[38;5;28mstr\u001b[39m(\u001b[38;5;28mfloat\u001b[39m(gamma))\u001b[38;5;132;01m}\u001b[39;00m\u001b[38;5;124m\"\u001b[39m, \u001b[38;5;124m\"\u001b[39m\u001b[38;5;124msimulation.json\u001b[39m\u001b[38;5;124m\"\u001b[39m)\n\u001b[0;32m----> 3\u001b[0m     \u001b[38;5;28;01mwith\u001b[39;00m \u001b[38;5;28;43mopen\u001b[39;49m\u001b[43m(\u001b[49m\u001b[43mmetadata_file\u001b[49m\u001b[43m)\u001b[49m \u001b[38;5;28;01mas\u001b[39;00m f:\n\u001b[1;32m      4\u001b[0m         data \u001b[38;5;241m=\u001b[39m json\u001b[38;5;241m.\u001b[39mload(f)\u001b[38;5;66;03m#[0]\u001b[39;00m\n\u001b[1;32m      5\u001b[0m     \u001b[38;5;28;01mreturn\u001b[39;00m data\n",
      "File \u001b[0;32m~/.conda/envs/fea-env/lib/python3.11/site-packages/IPython/core/interactiveshell.py:308\u001b[0m, in \u001b[0;36m_modified_open\u001b[0;34m(file, *args, **kwargs)\u001b[0m\n\u001b[1;32m    301\u001b[0m \u001b[38;5;28;01mif\u001b[39;00m file \u001b[38;5;129;01min\u001b[39;00m {\u001b[38;5;241m0\u001b[39m, \u001b[38;5;241m1\u001b[39m, \u001b[38;5;241m2\u001b[39m}:\n\u001b[1;32m    302\u001b[0m     \u001b[38;5;28;01mraise\u001b[39;00m \u001b[38;5;167;01mValueError\u001b[39;00m(\n\u001b[1;32m    303\u001b[0m         \u001b[38;5;124mf\u001b[39m\u001b[38;5;124m\"\u001b[39m\u001b[38;5;124mIPython won\u001b[39m\u001b[38;5;124m'\u001b[39m\u001b[38;5;124mt let you open fd=\u001b[39m\u001b[38;5;132;01m{\u001b[39;00mfile\u001b[38;5;132;01m}\u001b[39;00m\u001b[38;5;124m by default \u001b[39m\u001b[38;5;124m\"\u001b[39m\n\u001b[1;32m    304\u001b[0m         \u001b[38;5;124m\"\u001b[39m\u001b[38;5;124mas it is likely to crash IPython. If you know what you are doing, \u001b[39m\u001b[38;5;124m\"\u001b[39m\n\u001b[1;32m    305\u001b[0m         \u001b[38;5;124m\"\u001b[39m\u001b[38;5;124myou can use builtins\u001b[39m\u001b[38;5;124m'\u001b[39m\u001b[38;5;124m open.\u001b[39m\u001b[38;5;124m\"\u001b[39m\n\u001b[1;32m    306\u001b[0m     )\n\u001b[0;32m--> 308\u001b[0m \u001b[38;5;28;01mreturn\u001b[39;00m \u001b[43mio_open\u001b[49m\u001b[43m(\u001b[49m\u001b[43mfile\u001b[49m\u001b[43m,\u001b[49m\u001b[43m \u001b[49m\u001b[38;5;241;43m*\u001b[39;49m\u001b[43margs\u001b[49m\u001b[43m,\u001b[49m\u001b[43m \u001b[49m\u001b[38;5;241;43m*\u001b[39;49m\u001b[38;5;241;43m*\u001b[39;49m\u001b[43mkwargs\u001b[49m\u001b[43m)\u001b[49m\n",
      "\u001b[0;31mFileNotFoundError\u001b[0m: [Errno 2] No such file or directory: 'output/ssb_planar/150-40-0/20-55-20/5.0e-07/0.001-0.001/10.0/simulation.json'"
     ]
    }
   ],
   "source": [
    "I_left = []\n",
    "I_mid = []\n",
    "I_right = []\n",
    "I_insulated = []\n",
    "positive_wa = [0.001, 0.01, 0.1, 1, 10, 100, 1000]\n",
    "# norm_stdev_i_pos_am = []\n",
    "ssb_planar_workdir = \"output/ssb_planar/150-40-0/20-55-20/5.0e-06/\"\n",
    "for Wa_p in positive_wa:\n",
    "    data = fetch_simulation_metadata(ssb_planar_workdir, Wa_p=Wa_p, gamma=10)\n",
    "    I_left.append(float(data[\"Current at negative am - electrolyte boundary\"].strip(\" A\")))\n",
    "    I_mid.append(float(data[\"Current at electrolyte - positive am boundary\"].strip(\" A\")))\n",
    "    I_right.append(float(data[\"Current at right boundary\"].strip(\" A\")))\n",
    "    I_insulated.append(float(data[\"Current at insulated boundary\"].strip(\" A\")))\n",
    "    # norm_stdev_i_pos_am.append(float(data[\"stdev i positive charge transfer (normalized)\"]))\n",
    "\n",
    "fig, ax = plt.subplots()\n",
    "ax.semilogx(positive_wa, I_left, 'r+', label='Left')\n",
    "ax.semilogx(positive_wa, I_mid, 'bo', label='Middle')\n",
    "ax.semilogx(positive_wa, I_right, 'k-', label='Right')\n",
    "ax.set_ylabel('current [A]')\n",
    "# ax.set_ylim([0, 0.025])\n",
    "ax.set_xlabel('Wa')\n",
    "ax.legend()\n",
    "plt.tight_layout()\n",
    "plt.savefig('figures/sipdg/planar/planar-current-interfaces.png')\n",
    "\n",
    "fig, ax = plt.subplots()\n",
    "ax.semilogx(positive_wa, I_insulated, 'r', label='Left')\n",
    "ax.set_ylabel('current [A]')\n",
    "ax.set_xlabel('Wa')\n",
    "# ax.legend()\n",
    "plt.tight_layout()\n",
    "plt.savefig('figures/sipdg/planar/planar-current-insulated.png')"
   ]
  },
  {
   "cell_type": "code",
   "execution_count": null,
   "id": "3492469d-da38-4ba7-9d57-f2203f13556a",
   "metadata": {},
   "outputs": [],
   "source": [
    "I_left = []\n",
    "I_mid = []\n",
    "I_right = []\n",
    "I_insulated = []\n",
    "positive_wa = [0.001, 0.01, 0.1, 1, 10, 100, 1000]\n",
    "norm_stdev_i_pos_am = []\n",
    "ssb_unstructured_workdir = \"output/ssb_unstructured/150-40-0/20-55-20/5.0e-07/\"\n",
    "\n",
    "for Wa_p in positive_wa:\n",
    "    data = fetch_simulation_metadata(ssb_unstructured_workdir, Wa_p=Wa_p, gamma=10)\n",
    "    I_left.append(float(data[\"Current at negative am - electrolyte boundary\"].strip(\" A\")))\n",
    "    I_mid.append(float(data[\"Current at electrolyte - positive am boundary\"].strip(\" A\")))\n",
    "    I_right.append(float(data[\"Current at right boundary\"].strip(\" A\")))\n",
    "    I_insulated.append(float(data[\"Current at insulated boundary\"].strip(\" A\")))\n",
    "    norm_stdev_i_pos_am.append(float(data[\"stdev i positive charge transfer (normalized)\"]))\n",
    "\n",
    "fig, ax = plt.subplots()\n",
    "ax.semilogx(positive_wa, I_left, 'r+', label='Left')\n",
    "ax.semilogx(positive_wa, I_mid, 'bo', label='Middle')\n",
    "ax.semilogx(positive_wa, I_right, 'k-', label='Right')\n",
    "ax.set_ylabel('current [A]')\n",
    "# ax.set_ylim([0, 0.025])\n",
    "ax.set_xlabel('Wa')\n",
    "ax.legend()\n",
    "plt.tight_layout()\n",
    "plt.savefig('figures/sipdg/complex/complex-current-interfaces.png')\n",
    "\n",
    "\n",
    "fig, ax = plt.subplots()\n",
    "ax.semilogx(positive_wa, I_insulated, 'r', label='Left')\n",
    "ax.set_ylabel('I [A]')\n",
    "ax.set_xlabel('Wa')\n",
    "# ax.legend()\n",
    "plt.tight_layout()\n",
    "plt.savefig('figures/sipdg/complex/complex-current-insulated.png')\n",
    "\n",
    "fig, ax = plt.subplots()\n",
    "ax.semilogx(positive_wa, norm_stdev_i_pos_am, 'r')\n",
    "ax.set_ylabel(r'$\\frac{\\sigma_{i_n}}{\\mu_{i_n}}$', fontsize='xx-large')\n",
    "ax.set_xlabel('Wa')\n",
    "# ax.legend()\n",
    "plt.tight_layout()\n",
    "plt.savefig('figures/sipdg/complex/complex-normstdev-i-pos-am.png')"
   ]
  },
  {
   "cell_type": "code",
   "execution_count": 30,
   "id": "86909430-199f-47a6-b5fc-313496ae2f4f",
   "metadata": {},
   "outputs": [
    {
     "name": "stdout",
     "output_type": "stream",
     "text": [
      "variable_name: NumberOfEntities \tAvailableStepsCount: 1\n",
      "\tMax: 15852\n",
      "\tMin: 15344\n",
      "\tShape: 8\n",
      "\tSingleValue: false\n",
      "\tType: uint32_t\n",
      "variable_name: NumberOfNodes \tAvailableStepsCount: 1\n",
      "\tMax: 47556\n",
      "\tMin: 46032\n",
      "\tShape: 8\n",
      "\tSingleValue: false\n",
      "\tType: uint32_t\n",
      "variable_name: connectivity \tAvailableStepsCount: 1\n",
      "\tMax: 47555\n",
      "\tMin: 0\n",
      "\tShape: \n",
      "\tSingleValue: false\n",
      "\tType: int64_t\n",
      "variable_name: geometry \tAvailableStepsCount: 1\n",
      "\tMax: 0.00015\n",
      "\tMin: -5.04939e-23\n",
      "\tShape: \n",
      "\tSingleValue: false\n",
      "\tType: double\n",
      "variable_name: potential \tAvailableStepsCount: 1\n",
      "\tMax: 1\n",
      "\tMin: -6.72615e-07\n",
      "\tShape: \n",
      "\tSingleValue: false\n",
      "\tType: double\n",
      "variable_name: step \tAvailableStepsCount: 1\n",
      "\tMax: 0\n",
      "\tMin: 0\n",
      "\tShape: \n",
      "\tSingleValue: true\n",
      "\tType: double\n",
      "variable_name: types \tAvailableStepsCount: 1\n",
      "\tMax: 69\n",
      "\tMin: 69\n",
      "\tShape: \n",
      "\tSingleValue: true\n",
      "\tType: uint32_t\n",
      "variable_name: vtkGhostType \tAvailableStepsCount: 1\n",
      "\tMax: 1\n",
      "\tMin: 0\n",
      "\tShape: \n",
      "\tSingleValue: false\n",
      "\tType: uint8_t\n",
      "variable_name: vtkOriginalPointIds \tAvailableStepsCount: 1\n",
      "\tMax: 371336\n",
      "\tMin: 0\n",
      "\tShape: \n",
      "\tSingleValue: false\n",
      "\tType: int64_t\n",
      "(46512, 3)\n",
      "[3] [    0     1     2 ... 46509 46510 46511]\n",
      "69\n"
     ]
    }
   ],
   "source": [
    "comm = MPI.COMM_WORLD\n",
    "data_file = \"output/ssb_unstructured/150-40-0/20-55-20/5.0e-07/0.001-1000.0-0.01/10.0/potential.bp\"\n",
    "with FileReader(data_file) as s:\n",
    "    vars = s.available_variables()\n",
    "    for name, info in vars.items():\n",
    "        print(\"variable_name: \" + name, end=\" \")\n",
    "        for key, value in info.items():\n",
    "            print(\"\\t\" + key + \": \" + value, end=\"\\n\")\n",
    "        \n",
    "    geom = s.read('geometry')\n",
    "    nodes = s.read('connectivity')\n",
    "    data = s.read('potential')\n",
    "    print(geom.shape)\n",
    "    print(np.unique(nodes[:, 0]), np.unique(nodes))\n",
    "    print(s.read('types'))"
   ]
  },
  {
   "cell_type": "code",
   "execution_count": 33,
   "id": "1d0c275f-b71b-47b7-b53b-13f5746a92c9",
   "metadata": {},
   "outputs": [
    {
     "name": "stdout",
     "output_type": "stream",
     "text": [
      "['Function', 'Mesh']\n"
     ]
    }
   ],
   "source": [
    "h5_file = \"output/ssb_unstructured/150-40-0/20-55-20/5.0e-07/0.001-0.001-0.1/10.0/current.h5\"\n",
    "f = h5py.File(h5_file, 'r')\n",
    "print(list(f.keys()))"
   ]
  },
  {
   "cell_type": "code",
   "execution_count": 79,
   "id": "b654a7f5-be62-4a45-99cc-72ca474dfda7",
   "metadata": {},
   "outputs": [],
   "source": [
    "mesh = f['Mesh']\n",
    "arr = np.asarray(mesh['mesh']['topology'])"
   ]
  },
  {
   "cell_type": "code",
   "execution_count": 39,
   "id": "738bd53c-d1b7-46fe-aafc-237bc34122c8",
   "metadata": {},
   "outputs": [],
   "source": [
    "geom = mesh['mesh']['geometry']"
   ]
  },
  {
   "cell_type": "code",
   "execution_count": 81,
   "id": "5864b34c-4618-4e37-aca7-a88ee910bf2e",
   "metadata": {},
   "outputs": [
    {
     "data": {
      "text/plain": [
       "array([[0, 1, 2],\n",
       "       [2, 1, 3],\n",
       "       [2, 3, 4],\n",
       "       [5, 1, 0],\n",
       "       [3, 1, 6]])"
      ]
     },
     "execution_count": 81,
     "metadata": {},
     "output_type": "execute_result"
    }
   ],
   "source": [
    "arr[:5, :]"
   ]
  },
  {
   "cell_type": "code",
   "execution_count": 43,
   "id": "79dfbcb3-9f5c-46c6-943b-a205c536e486",
   "metadata": {},
   "outputs": [
    {
     "name": "stdout",
     "output_type": "stream",
     "text": [
      "\n"
     ]
    }
   ],
   "source": [
    "msh = meshio.read(\"output/ssb_unstructured/150-40-0/20-55-20/5.0e-07/mesh.msh\")\n",
    "line_mesh = geometry.create_mesh(msh, \"line\")\n",
    "line_mesh.write(\"output/ssb_unstructured/150-40-0/20-55-20/5.0e-07/lines.xdmf\")"
   ]
  },
  {
   "cell_type": "code",
   "execution_count": 44,
   "id": "493b94ce-5e5d-4059-bcab-eb833aa3254e",
   "metadata": {},
   "outputs": [
    {
     "data": {
      "text/plain": [
       "<KeysViewHDF5 ['data0', 'data1', 'data2']>"
      ]
     },
     "execution_count": 44,
     "metadata": {},
     "output_type": "execute_result"
    }
   ],
   "source": [
    "f_geo = h5py.File(\"output/ssb_unstructured/150-40-0/20-55-20/5.0e-07/lines.h5\", 'r')\n",
    "f_geo.keys()"
   ]
  },
  {
   "cell_type": "code",
   "execution_count": 71,
   "id": "84b10973-4fa5-4c42-9471-763cd742d350",
   "metadata": {},
   "outputs": [],
   "source": [
    "coords = np.asarray(f_geo['data0'])"
   ]
  },
  {
   "cell_type": "code",
   "execution_count": 72,
   "id": "ccf4b0bc-1fac-4e18-9e7d-fa43a585d631",
   "metadata": {},
   "outputs": [
    {
     "data": {
      "text/plain": [
       "array([[1.5e-04, 0.0e+00, 0.0e+00],\n",
       "       [1.5e-04, 4.0e-05, 0.0e+00],\n",
       "       [3.0e-05, 0.0e+00, 0.0e+00],\n",
       "       [3.0e-05, 9.0e-06, 0.0e+00],\n",
       "       [2.9e-05, 1.0e-05, 0.0e+00]])"
      ]
     },
     "execution_count": 72,
     "metadata": {},
     "output_type": "execute_result"
    }
   ],
   "source": [
    "coords[:5, :]"
   ]
  },
  {
   "cell_type": "code",
   "execution_count": 73,
   "id": "dcde43d7-6fbb-4211-aec7-a74b5ec85af1",
   "metadata": {},
   "outputs": [
    {
     "data": {
      "text/plain": [
       "array([[1.49699351e-04, 4.00000000e-05, 0.00000000e+00],\n",
       "       [1.49749348e-04, 3.99421553e-05, 0.00000000e+00],\n",
       "       [1.49799344e-04, 4.00000000e-05, 0.00000000e+00],\n",
       "       [1.49849341e-04, 3.99134033e-05, 0.00000000e+00],\n",
       "       [1.49899338e-04, 4.00000000e-05, 0.00000000e+00]])"
      ]
     },
     "execution_count": 73,
     "metadata": {},
     "output_type": "execute_result"
    }
   ],
   "source": [
    "geom[:5, :]"
   ]
  },
  {
   "cell_type": "code",
   "execution_count": null,
   "id": "7c497f54-eeed-49e4-8814-bfcc9cd01eca",
   "metadata": {},
   "outputs": [],
   "source": []
  }
 ],
 "metadata": {
  "kernelspec": {
   "display_name": "Python [conda env:.conda-fea-env] *",
   "language": "python",
   "name": "conda-env-.conda-fea-env-py"
  },
  "language_info": {
   "codemirror_mode": {
    "name": "ipython",
    "version": 3
   },
   "file_extension": ".py",
   "mimetype": "text/x-python",
   "name": "python",
   "nbconvert_exporter": "python",
   "pygments_lexer": "ipython3",
   "version": "3.11.6"
  }
 },
 "nbformat": 4,
 "nbformat_minor": 5
}
