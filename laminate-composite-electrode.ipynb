{
 "cells": [
  {
   "cell_type": "code",
   "execution_count": 1,
   "id": "d62bf728",
   "metadata": {
    "tags": []
   },
   "outputs": [],
   "source": [
    "import os\n",
    "\n",
    "import gmsh\n",
    "import matplotlib.pyplot as plt\n",
    "import meshio\n",
    "import numpy as np\n",
    "import pandas as pd\n",
    "\n",
    "import commons, geometry, utils"
   ]
  },
  {
   "cell_type": "code",
   "execution_count": 2,
   "id": "ddcae343",
   "metadata": {
    "tags": []
   },
   "outputs": [],
   "source": [
    "Lsep = 25\n",
    "Lcat = 50\n",
    "LZ = int(Lsep + Lcat)\n",
    "R = 235\n",
    "Rp = 6\n",
    "eps_se = 0.5\n",
    "eps_am = 1 - eps_se\n",
    "markers = commons.Markers()\n",
    "phases = commons.Phases()\n",
    "CELL_TYPES = commons.CellTypes()\n",
    "start_zpos = 50\n",
    "scale = (800/470) * 1e-6\n",
    "scale_factor = [scale, scale, scale]\n",
    "dimensions = f'470-470-{LZ}'\n",
    "name_of_study = 'reaction_distribution'\n",
    "outdir = f\"output/{name_of_study}/{dimensions}/{eps_am}/\"\n",
    "utils.make_dir_if_missing(outdir)\n",
    "msh_path = os.path.join(outdir, 'laminate.msh')\n",
    "tetr_path = os.path.join(outdir, 'tetr.xdmf')\n",
    "tria_path = os.path.join(outdir, 'tria.xdmf')"
   ]
  },
  {
   "cell_type": "markdown",
   "id": "4de01c07",
   "metadata": {},
   "source": [
    "## Build Laminate Geometry of Cylindrical SE Strands"
   ]
  },
  {
   "cell_type": "code",
   "execution_count": 3,
   "id": "d06f3735",
   "metadata": {
    "tags": []
   },
   "outputs": [],
   "source": [
    "df = 470 * pd.read_csv('data/laminate.csv')"
   ]
  },
  {
   "cell_type": "code",
   "execution_count": 7,
   "id": "4b5f2e0f",
   "metadata": {
    "tags": []
   },
   "outputs": [
    {
     "name": "stdout",
     "output_type": "stream",
     "text": [
      "(235.04749217795484, 234.56446428352433, 25.0)\n",
      "(324.4324920821075, 453.33628536400306, 25.0)\n",
      "(234.48863486078474, 233.75157716886156, 50.0172236652112)\n",
      "(235.04749217795484, 234.56446428352433, 25.0)\n",
      "(322.40613526205715, 448.38923300516075, 69.0)\n",
      "(45.804107517042, 124.14119895998684, 69.0)\n",
      "(79.78982091474148, 105.2536410543392, 69.0)\n",
      "(168.79431589399096, 23.285014491063848, 69.0)\n",
      "(173.31925591406647, 66.94579935440389, 69.0)\n",
      "(213.71458400581824, 54.14123547619178, 69.0)\n",
      "(130.2911693184667, 74.13308367070672, 69.0)\n",
      "(130.44447152420543, 111.79337665021927, 69.0)\n",
      "(223.37165170684509, 101.88837550721556, 69.0)\n",
      "(105.13029496809658, 139.4998754239964, 69.0)\n",
      "(106.68909580023366, 180.0757156204236, 69.0)\n",
      "(18.229913665311695, 207.42521248345125, 69.0)\n",
      "(61.37305386225785, 242.92100872747028, 69.0)\n",
      "(140.2693073149808, 155.89270339935962, 69.0)\n",
      "(221.21234013712103, 141.9908080768383, 69.0)\n",
      "(189.7717855784309, 162.81523311033962, 69.0)\n",
      "(162.81483352111533, 189.0770154156772, 69.0)\n",
      "(130.97480887757698, 216.96696465366108, 69.0)\n",
      "(168.87343679615682, 235.98063012728437, 69.0)\n",
      "(201.73856080177842, 201.93057445286095, 69.0)\n",
      "(248.12666706358095, 26.93240324938732, 69.0)\n",
      "(282.7433289303739, 44.86861941882882, 69.0)\n",
      "(330.63220073881325, 32.88674596635219, 69.0)\n",
      "(248.81106224348932, 74.09732805058312, 69.0)\n",
      "(315.79438819411985, 81.90360286904, 69.0)\n",
      "(362.45664856778467, 55.51360995989169, 69.0)\n",
      "(386.59084418323226, 84.71126334663414, 69.0)\n",
      "(374.46120750273315, 122.1982040604359, 69.0)\n",
      "(260.52159385551465, 157.15077714454773, 69.0)\n",
      "(297.95047509441457, 150.91834141705928, 69.0)\n",
      "(336.62023754720974, 132.91523981686998, 69.0)\n",
      "(332.7741077101879, 177.94428100810433, 69.0)\n",
      "(252.90191040607976, 196.62337681427732, 69.0)\n",
      "(246.59293674612508, 236.9981766518022, 69.0)\n",
      "(291.61282537307255, 189.46898182739352, 69.0)\n",
      "(287.15692322006294, 237.77473652540652, 69.0)\n",
      "(335.1136232399153, 228.06822001138858, 69.0)\n",
      "(385.55434887977066, 160.424508224975, 69.0)\n",
      "(430.2712583777292, 149.8685423628051, 69.0)\n",
      "(371.7987048371878, 198.82007819192808, 69.0)\n",
      "(378.9922086238082, 236.6519355324021, 69.0)\n",
      "(421.99971644340934, 187.15389294965613, 69.0)\n",
      "(445.48290872356955, 218.48869569008073, 69.0)\n",
      "(20.915503130273542, 248.04540096792135, 69.0)\n",
      "(61.36973748709522, 298.24769982540414, 69.0)\n",
      "(89.34653651162213, 267.90471529369506, 69.0)\n",
      "(26.27924387387514, 314.6214968855177, 69.0)\n",
      "(62.15536324879437, 345.8746553966738, 69.0)\n",
      "(100.93757272393738, 309.82439713120476, 69.0)\n",
      "(126.74271859326464, 259.51338348140945, 69.0)\n",
      "(162.8564713054214, 273.8544811540249, 69.0)\n",
      "(204.87487633810878, 265.92075743570064, 69.0)\n",
      "(138.4336275362739, 302.37029654257714, 69.0)\n",
      "(149.31401178047932, 339.509184269358, 69.0)\n",
      "(217.37437552645005, 301.28142174168556, 69.0)\n",
      "(196.4468789614916, 332.8488579267265, 69.0)\n",
      "(230.12300232493024, 355.81156284796293, 69.0)\n",
      "(107.9077522046296, 357.4176229761634, 69.0)\n",
      "(75.06902667283038, 394.74759496771645, 69.0)\n",
      "(110.0751033296406, 408.47901091391157, 69.0)\n",
      "(150.2933703445261, 378.5157240984647, 69.0)\n",
      "(197.8652197005368, 388.6834762905557, 69.0)\n",
      "(160.83911266595075, 449.4972399442146, 69.0)\n",
      "(199.55665656087274, 429.8038397677925, 69.0)\n",
      "(223.43392062696873, 463.51422830882115, 69.0)\n",
      "(277.90467366948457, 276.3102372828491, 69.0)\n",
      "(316.8314251717616, 268.16915389489697, 69.0)\n",
      "(258.23754925486355, 330.6061157128202, 69.0)\n",
      "(328.39129373843843, 306.72495226010494, 69.0)\n",
      "(308.80432137259476, 348.9252507227036, 69.0)\n",
      "(378.78600765140334, 284.3051146060812, 69.0)\n",
      "(415.3917066831816, 249.46563452820803, 69.0)\n",
      "(352.93473804258656, 356.1184271826848, 69.0)\n",
      "(411.87133117644765, 312.5946239700102, 69.0)\n",
      "(416.8175609584362, 355.3191707507573, 69.0)\n",
      "(273.9464297148036, 367.1868320360145, 69.0)\n",
      "(242.86156685108023, 391.5374415122461, 69.0)\n",
      "(278.89530109675906, 405.1840961366326, 69.0)\n",
      "(311.8557238974686, 386.96417600991936, 69.0)\n",
      "(260.6423860432105, 447.41117518094114, 69.0)\n",
      "(347.71871376785936, 399.7209646788454, 69.0)\n",
      "(399.0528418008409, 392.235446615614, 69.0)\n",
      "(322.68649600675315, 449.0736925582123, 69.0)\n"
     ]
    },
    {
     "name": "stderr",
     "output_type": "stream",
     "text": [
      "Warning : ------------------------------\n",
      "Warning : Mesh generation error summary\n",
      "Warning :     2 warnings\n",
      "Warning :     0 errors\n",
      "Warning : Check the full log for details\n",
      "Warning : ------------------------------\n"
     ]
    }
   ],
   "source": [
    "gmsh.initialize()\n",
    "gmsh.model.add('laminate')\n",
    "gmsh.option.setNumber('General.Verbosity', 1)\n",
    "box_se = gmsh.model.occ.addCylinder(R, R, 0, 0, 0, Lsep, 235)\n",
    "gmsh.model.occ.synchronize()\n",
    "box_am = gmsh.model.occ.addCylinder(R, R, Lsep, 0, 0, Lcat, 235)\n",
    "gmsh.model.occ.synchronize()\n",
    "cylinders = []\n",
    "spheres = []\n",
    "\n",
    "for idx in range(df.shape[0]):\n",
    "    x, y, _ = df.loc[idx, :]\n",
    "    if ((235 - abs(x)) ** 2 + (235 - abs(y)) ** 2) ** 0.5 >= 235:\n",
    "        continue\n",
    "    cyl = gmsh.model.occ.addCylinder(x, y, Lsep, 0, 0, Lcat - Rp, Rp)\n",
    "    gmsh.model.occ.synchronize()\n",
    "    cylinders.append(cyl)\n",
    "    gmsh.model.occ.synchronize()\n",
    "\n",
    "se_phase = gmsh.model.occ.fuse([(3, box_se)], [(3, c) for c in cylinders], removeTool=False)\n",
    "gmsh.model.occ.synchronize()\n",
    "union = gmsh.model.occ.cut([(3, box_am)], [(3, c) for c in cylinders])\n",
    "gmsh.model.occ.synchronize()\n",
    "\n",
    "vols = gmsh.model.occ.getEntities(3)\n",
    "se_vol = gmsh.model.addPhysicalGroup(3, [vols[0][1]], markers.electrolyte)\n",
    "gmsh.model.occ.synchronize()\n",
    "gmsh.model.setPhysicalName(3, se_vol, \"electrolyte\")\n",
    "gmsh.model.occ.synchronize()\n",
    "am_vol = gmsh.model.addPhysicalGroup(3, [vols[1][1]], markers.positive_am)\n",
    "gmsh.model.occ.synchronize()\n",
    "gmsh.model.setPhysicalName(3, am_vol, \"positive_am\")\n",
    "gmsh.model.occ.synchronize()\n",
    "right = []\n",
    "left = []\n",
    "insulated = []\n",
    "insulated_se = []\n",
    "insulated_am = []\n",
    "interface = []\n",
    "for surf in gmsh.model.occ.getEntities(2):\n",
    "    com = gmsh.model.occ.getCenterOfMass(surf[0], surf[1])\n",
    "    if np.isclose(com[2], Lsep + Lcat):\n",
    "        right.append(surf[1])\n",
    "    elif np.isclose(com[2], 0):\n",
    "        left.append(surf[1])\n",
    "    elif np.isclose(com[2], 0.5 * Lsep):\n",
    "        if np.isclose(com[0], 235) or np.isclose(com[1], 235):\n",
    "            insulated_se.append(surf[1])\n",
    "        else:\n",
    "            interface.append(surf[1])\n",
    "    elif np.isclose(com[2], Lsep + 0.5 * (Lcat - Rp)):\n",
    "        if np.isclose(com[0], 235) or np.isclose(com[1], 235):\n",
    "            print(\"here\")\n",
    "            insulated_am.append(surf[1])\n",
    "        else:\n",
    "            interface.append(surf[1])\n",
    "    else:\n",
    "        print(com)\n",
    "        interface.append(surf[1])\n",
    "\n",
    "left = gmsh.model.addPhysicalGroup(2, left, markers.left)\n",
    "gmsh.model.setPhysicalName(2, left, \"left\")\n",
    "right = gmsh.model.addPhysicalGroup(2, right, markers.right)\n",
    "gmsh.model.setPhysicalName(2, right, \"right\")\n",
    "insulated_se = gmsh.model.addPhysicalGroup(2, insulated_se, markers.insulated_electrolyte)\n",
    "gmsh.model.setPhysicalName(2, insulated_se, \"insulated_electrolyte\")\n",
    "insulated_am = gmsh.model.addPhysicalGroup(2, insulated_am, markers.insulated_positive_am)\n",
    "gmsh.model.setPhysicalName(2, insulated_am, \"insulated_am\")\n",
    "insulated = gmsh.model.addPhysicalGroup(2, insulated, markers.insulated)\n",
    "gmsh.model.setPhysicalName(2, insulated, \"insulated\")\n",
    "electrolyte_v_positive_am = gmsh.model.addPhysicalGroup(2, interface, markers.electrolyte_v_positive_am)\n",
    "gmsh.model.setPhysicalName(2, electrolyte_v_positive_am, \"electrolyte_positive_am_interface\")\n",
    "gmsh.model.occ.synchronize()\n",
    "gmsh.model.mesh.generate(3)\n",
    "gmsh.write(msh_path)\n",
    "gmsh.finalize()"
   ]
  },
  {
   "cell_type": "code",
   "execution_count": 5,
   "id": "7646f000",
   "metadata": {
    "tags": []
   },
   "outputs": [
    {
     "name": "stdout",
     "output_type": "stream",
     "text": [
      "\n"
     ]
    }
   ],
   "source": [
    "msh = meshio.read(msh_path)\n",
    "tetr_unscaled = geometry.create_mesh(msh, CELL_TYPES.tetra)\n",
    "tetr_unscaled.write(tetr_path)\n",
    "tetr_scaled = geometry.scale_mesh(tetr_unscaled, CELL_TYPES.tetra, scale_factor=scale_factor)\n",
    "tetr_scaled.write(tetr_path)\n",
    "tria_unscaled = geometry.create_mesh(msh, CELL_TYPES.triangle)\n",
    "tria_unscaled.write(tria_path)\n",
    "tria_scaled = geometry.scale_mesh(tria_unscaled, CELL_TYPES.triangle, scale_factor=scale_factor)\n",
    "tria_scaled.write(tria_path)"
   ]
  },
  {
   "cell_type": "code",
   "execution_count": null,
   "id": "4716d47f-4279-499c-bc57-31aa3b0b9b9b",
   "metadata": {},
   "outputs": [],
   "source": []
  }
 ],
 "metadata": {
  "kernelspec": {
   "display_name": "Python 3 (ipykernel)",
   "language": "python",
   "name": "python3"
  },
  "language_info": {
   "codemirror_mode": {
    "name": "ipython",
    "version": 3
   },
   "file_extension": ".py",
   "mimetype": "text/x-python",
   "name": "python",
   "nbconvert_exporter": "python",
   "pygments_lexer": "ipython3",
   "version": "3.11.6"
  }
 },
 "nbformat": 4,
 "nbformat_minor": 5
}
