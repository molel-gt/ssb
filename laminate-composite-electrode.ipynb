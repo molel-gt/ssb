{
 "cells": [
  {
   "cell_type": "code",
   "execution_count": 1,
   "id": "d62bf728",
   "metadata": {
    "tags": []
   },
   "outputs": [],
   "source": [
    "import os\n",
    "\n",
    "import gmsh\n",
    "import matplotlib.pyplot as plt\n",
    "import meshio\n",
    "import numpy as np\n",
    "import pandas as pd\n",
    "\n",
    "import commons, geometry, utils"
   ]
  },
  {
   "cell_type": "code",
   "execution_count": 2,
   "id": "ddcae343",
   "metadata": {
    "tags": []
   },
   "outputs": [
    {
     "name": "stdout",
     "output_type": "stream",
     "text": [
      "470-470-75\n"
     ]
    }
   ],
   "source": [
    "scale = (800.0 / 470.0) * 1e-6\n",
    "Lsep = 25 * scale\n",
    "Lcat = 50 * scale\n",
    "LX = 470 * scale\n",
    "LY = 470 * scale\n",
    "LZ = int((Lsep + Lcat)/scale)\n",
    "Rp = 6 * scale\n",
    "eps_se = 0.5\n",
    "eps_am = 1 - eps_se\n",
    "markers = commons.Markers()\n",
    "CELL_TYPES = commons.CellTypes()\n",
    "resolution = 1\n",
    "start_zpos = 50\n",
    "scale_factor = [scale, scale, scale]\n",
    "dimensions = f'470-470-{LZ}'\n",
    "print(dimensions)\n",
    "name_of_study = 'reaction_distribution'\n",
    "outdir = f\"output/{name_of_study}/{dimensions}/{eps_am}/{resolution}\"\n",
    "utils.make_dir_if_missing(outdir)\n",
    "msh_path = os.path.join(outdir, 'mesh.msh')"
   ]
  },
  {
   "cell_type": "markdown",
   "id": "4de01c07",
   "metadata": {},
   "source": [
    "## Build Laminate Geometry of Cylindrical SE Strands"
   ]
  },
  {
   "cell_type": "code",
   "execution_count": 3,
   "id": "d06f3735",
   "metadata": {
    "tags": []
   },
   "outputs": [],
   "source": [
    "df = scale * 470 * pd.read_csv('data/laminate.csv')"
   ]
  },
  {
   "cell_type": "code",
   "execution_count": 4,
   "id": "4b5f2e0f",
   "metadata": {
    "tags": []
   },
   "outputs": [
    {
     "name": "stderr",
     "output_type": "stream",
     "text": [
      "Warning : ------------------------------\n",
      "Warning : Mesh generation error summary\n",
      "Warning :     1 warning\n",
      "Warning :     0 errors\n",
      "Warning : Check the full log for details\n",
      "Warning : ------------------------------\n"
     ]
    }
   ],
   "source": [
    "gmsh.initialize()\n",
    "gmsh.model.add('laminate')\n",
    "gmsh.option.setNumber('General.Verbosity', 1)\n",
    "box_se = gmsh.model.occ.addBox(0, 0, 0, LX, LY, Lsep + Lcat - Rp)\n",
    "gmsh.model.occ.synchronize()\n",
    "box_am = gmsh.model.occ.addBox(0, 0, Lsep + Lcat - Rp, LX, LY, Rp)\n",
    "gmsh.model.occ.synchronize()\n",
    "cylinders = []\n",
    "spheres = []\n",
    "\n",
    "for idx in range(df.shape[0]):\n",
    "    x, y, _ = df.loc[idx, :]\n",
    "    if (x + Rp) >= LX or (y + Rp) >= LY:\n",
    "        continue\n",
    "    if (x - Rp) <= 0 or (y - Rp) <= 0:\n",
    "        continue\n",
    "    cyl = gmsh.model.occ.addCylinder(x, y, Lsep, 0, 0, Lcat - Rp, Rp)\n",
    "    gmsh.model.occ.synchronize()\n",
    "    cylinders.append(cyl)\n",
    "\n",
    "union = gmsh.model.occ.fuse([(3, box_am)], [(3, c) for c in cylinders], removeTool=False)\n",
    "gmsh.model.occ.synchronize()\n",
    "se_phase = gmsh.model.occ.cut([(3, box_se)], [(3, c) for c in cylinders], removeTool=False)\n",
    "gmsh.model.occ.synchronize()\n",
    "vols = gmsh.model.occ.getEntities(3)\n",
    "se_volumes = []\n",
    "am_volumes = []\n",
    "for (_, vol) in vols:\n",
    "    com = gmsh.model.occ.getCenterOfMass(3, vol)\n",
    "    z = com[2] / scale\n",
    "    if np.isclose(z, 0.5 * (Lsep + Lcat - Rp) / scale, atol=1):\n",
    "        se_volumes.append(vol)\n",
    "    else:\n",
    "        am_volumes.append(vol)\n",
    "se_vol = gmsh.model.addPhysicalGroup(3, se_volumes, markers.electrolyte)\n",
    "gmsh.model.occ.synchronize()\n",
    "gmsh.model.setPhysicalName(3, se_vol, \"electrolyte\")\n",
    "gmsh.model.occ.synchronize()\n",
    "am_vol = gmsh.model.addPhysicalGroup(3, am_volumes, markers.positive_am)\n",
    "gmsh.model.occ.synchronize()\n",
    "gmsh.model.setPhysicalName(3, am_vol, \"positive_am\")\n",
    "gmsh.model.occ.synchronize()\n",
    "right = []\n",
    "left = []\n",
    "insulated = []\n",
    "insulated_se = []\n",
    "insulated_am = []\n",
    "interface = []\n",
    "for surf in gmsh.model.occ.getEntities(2):\n",
    "    com = gmsh.model.occ.getCenterOfMass(surf[0], surf[1])\n",
    "    x = com[0] / scale\n",
    "    y = com[1] / scale\n",
    "    z = com[2] / scale\n",
    "    if np.isclose(z, 0, atol=1):\n",
    "        left.append(surf[1])\n",
    "    elif np.isclose(z, (Lsep + Lcat)/scale, atol=1):\n",
    "        right.append(surf[1])\n",
    "    elif np.isclose(z, 0.5 * (Lsep + Lcat - Rp) / scale, atol=1):\n",
    "        if np.isclose(x, LX/scale, atol=1) or np.isclose(y, LY/scale, atol=1) or np.isclose(x, 0, atol=1) or np.isclose(y, 0, atol=1):\n",
    "            insulated_se.append(surf[1])\n",
    "        else:\n",
    "            interface.append(surf[1])\n",
    "    elif np.isclose(z, (Lsep + Lcat - 0.5 * Rp) / scale, atol=1):\n",
    "        if np.isclose(x, LX/scale, atol=1) or np.isclose(y, LY/scale, atol=1) or np.isclose(x, 0, atol=1) or np.isclose(y, 0, atol=1):\n",
    "            insulated_am.append(surf[1])\n",
    "        else:\n",
    "            interface.append(surf[1])\n",
    "    else:\n",
    "        interface.append(surf[1])\n",
    "\n",
    "left = gmsh.model.addPhysicalGroup(2, left, markers.left)\n",
    "gmsh.model.setPhysicalName(2, left, \"left\")\n",
    "right = gmsh.model.addPhysicalGroup(2, right, markers.right)\n",
    "gmsh.model.setPhysicalName(2, right, \"right\")\n",
    "insulated_se = gmsh.model.addPhysicalGroup(2, insulated_se, markers.insulated_electrolyte)\n",
    "gmsh.model.setPhysicalName(2, insulated_se, \"insulated_electrolyte\")\n",
    "insulated_am = gmsh.model.addPhysicalGroup(2, insulated_am, markers.insulated_positive_am)\n",
    "gmsh.model.setPhysicalName(2, insulated_am, \"insulated_am\")\n",
    "insulated = gmsh.model.addPhysicalGroup(2, insulated, markers.insulated)\n",
    "gmsh.model.setPhysicalName(2, insulated, \"insulated\")\n",
    "electrolyte_v_positive_am = gmsh.model.addPhysicalGroup(2, interface, markers.electrolyte_v_positive_am)\n",
    "gmsh.model.setPhysicalName(2, electrolyte_v_positive_am, \"electrolyte_positive_am_interface\")\n",
    "gmsh.model.occ.synchronize()\n",
    "gmsh.model.mesh.generate(3)\n",
    "gmsh.write(msh_path)\n",
    "gmsh.finalize()"
   ]
  },
  {
   "cell_type": "code",
   "execution_count": null,
   "id": "4716d47f-4279-499c-bc57-31aa3b0b9b9b",
   "metadata": {},
   "outputs": [],
   "source": []
  }
 ],
 "metadata": {
  "kernelspec": {
   "display_name": "Finite Element Analysis",
   "language": "python",
   "name": "fea"
  },
  "language_info": {
   "codemirror_mode": {
    "name": "ipython",
    "version": 3
   },
   "file_extension": ".py",
   "mimetype": "text/x-python",
   "name": "python",
   "nbconvert_exporter": "python",
   "pygments_lexer": "ipython3",
   "version": "3.12.1"
  }
 },
 "nbformat": 4,
 "nbformat_minor": 5
}
